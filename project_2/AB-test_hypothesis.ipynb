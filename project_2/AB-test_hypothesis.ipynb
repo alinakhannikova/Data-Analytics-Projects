{
 "cells": [
  {
   "cell_type": "markdown",
   "metadata": {},
   "source": [
    "# Проверка гипотез по увеличению выручки в интернет-магазине, оценка результатов А/В-тестирования "
   ]
  },
  {
   "cell_type": "markdown",
   "metadata": {},
   "source": [
    "\n",
    "\n",
    "# Описание данных:\n",
    "# hypothesis\n",
    "- Hypothesis — краткое описание гипотезы;\n",
    "- Reach — охват пользователей по 10-балльной шкале;\n",
    "- Impact — влияние на пользователей по 10-балльной шкале;\n",
    "- Confidence — уверенность в гипотезе по 10-балльной шкале;\n",
    "- Efforts — затраты ресурсов на проверку гипотезы по 10-балльной шкале. Чем больше значение Efforts, тем дороже проверка гипотезы.\n",
    "\n",
    "# orders\n",
    "- transactionId — идентификатор заказа;\n",
    "- visitorId — идентификатор пользователя, совершившего заказ;\n",
    "- date — дата, когда был совершён заказ;\n",
    "- revenue — выручка заказа;\n",
    "- group — группа A/B-теста, в которую попал заказ.\n",
    "\n",
    "# visitors\n",
    "- date — дата;\n",
    "- group — группа A/B-теста;\n",
    "- visitors — количество пользователей в указанную дату в указанной группе A/B-теста"
   ]
  },
  {
   "cell_type": "markdown",
   "metadata": {},
   "source": [
    "## Загрузка и изучение данных"
   ]
  },
  {
   "cell_type": "markdown",
   "metadata": {},
   "source": [
    "Загрузим нужные библиотеки, которые понадобятся при дальнейшей работе:"
   ]
  },
  {
   "cell_type": "code",
   "execution_count": 1,
   "metadata": {},
   "outputs": [],
   "source": [
    "import pandas as pd\n",
    "from datetime import datetime, timedelta\n",
    "import datetime as dt\n",
    "import seaborn as sns\n",
    "from matplotlib import pyplot as plt\n",
    "%matplotlib inline\n",
    "import numpy as np\n",
    "import copy\n",
    "from scipy import stats as st"
   ]
  },
  {
   "cell_type": "markdown",
   "metadata": {},
   "source": [
    "Прочитаем файлы:"
   ]
  },
  {
   "cell_type": "code",
   "execution_count": 2,
   "metadata": {},
   "outputs": [
    {
     "name": "stdout",
     "output_type": "stream",
     "text": [
      "\n",
      "Начальная дата 2019-08-01, конечная дата 2019-08-31\n",
      "\n"
     ]
    },
    {
     "data": {
      "text/html": [
       "<div>\n",
       "<style scoped>\n",
       "    .dataframe tbody tr th:only-of-type {\n",
       "        vertical-align: middle;\n",
       "    }\n",
       "\n",
       "    .dataframe tbody tr th {\n",
       "        vertical-align: top;\n",
       "    }\n",
       "\n",
       "    .dataframe thead th {\n",
       "        text-align: right;\n",
       "    }\n",
       "</style>\n",
       "<table border=\"1\" class=\"dataframe\">\n",
       "  <thead>\n",
       "    <tr style=\"text-align: right;\">\n",
       "      <th></th>\n",
       "      <th>transactionId</th>\n",
       "      <th>visitorId</th>\n",
       "      <th>date</th>\n",
       "      <th>revenue</th>\n",
       "      <th>group</th>\n",
       "    </tr>\n",
       "  </thead>\n",
       "  <tbody>\n",
       "    <tr>\n",
       "      <th>0</th>\n",
       "      <td>3667963787</td>\n",
       "      <td>3312258926</td>\n",
       "      <td>2019-08-15</td>\n",
       "      <td>1650</td>\n",
       "      <td>B</td>\n",
       "    </tr>\n",
       "    <tr>\n",
       "      <th>1</th>\n",
       "      <td>2804400009</td>\n",
       "      <td>3642806036</td>\n",
       "      <td>2019-08-15</td>\n",
       "      <td>730</td>\n",
       "      <td>B</td>\n",
       "    </tr>\n",
       "    <tr>\n",
       "      <th>2</th>\n",
       "      <td>2961555356</td>\n",
       "      <td>4069496402</td>\n",
       "      <td>2019-08-15</td>\n",
       "      <td>400</td>\n",
       "      <td>A</td>\n",
       "    </tr>\n",
       "    <tr>\n",
       "      <th>3</th>\n",
       "      <td>3797467345</td>\n",
       "      <td>1196621759</td>\n",
       "      <td>2019-08-15</td>\n",
       "      <td>9759</td>\n",
       "      <td>B</td>\n",
       "    </tr>\n",
       "    <tr>\n",
       "      <th>4</th>\n",
       "      <td>2282983706</td>\n",
       "      <td>2322279887</td>\n",
       "      <td>2019-08-15</td>\n",
       "      <td>2308</td>\n",
       "      <td>B</td>\n",
       "    </tr>\n",
       "  </tbody>\n",
       "</table>\n",
       "</div>"
      ],
      "text/plain": [
       "   transactionId   visitorId       date  revenue group\n",
       "0     3667963787  3312258926 2019-08-15     1650     B\n",
       "1     2804400009  3642806036 2019-08-15      730     B\n",
       "2     2961555356  4069496402 2019-08-15      400     A\n",
       "3     3797467345  1196621759 2019-08-15     9759     B\n",
       "4     2282983706  2322279887 2019-08-15     2308     B"
      ]
     },
     "metadata": {},
     "output_type": "display_data"
    },
    {
     "name": "stdout",
     "output_type": "stream",
     "text": [
      "<class 'pandas.core.frame.DataFrame'>\n",
      "RangeIndex: 1197 entries, 0 to 1196\n",
      "Data columns (total 5 columns):\n",
      " #   Column         Non-Null Count  Dtype         \n",
      "---  ------         --------------  -----         \n",
      " 0   transactionId  1197 non-null   int64         \n",
      " 1   visitorId      1197 non-null   int64         \n",
      " 2   date           1197 non-null   datetime64[ns]\n",
      " 3   revenue        1197 non-null   int64         \n",
      " 4   group          1197 non-null   object        \n",
      "dtypes: datetime64[ns](1), int64(3), object(1)\n",
      "memory usage: 46.9+ KB\n"
     ]
    },
    {
     "data": {
      "text/plain": [
       "transactionId    0\n",
       "visitorId        0\n",
       "date             0\n",
       "revenue          0\n",
       "group            0\n",
       "dtype: int64"
      ]
     },
     "execution_count": 2,
     "metadata": {},
     "output_type": "execute_result"
    }
   ],
   "source": [
    "orders = pd.read_csv('/datasets/orders.csv')\n",
    "orders['date'] = orders['date'].astype('datetime64[D]')\n",
    "orders['date'] = orders['date'].map(lambda x: dt.datetime.strftime(x, '%Y-%m-%d'))\n",
    "print('\\nНачальная дата {}, конечная дата {}\\n'.format(orders['date'].min(), orders['date'].max()))\n",
    "orders['date'] = orders['date'].map(lambda x: dt.datetime.strptime(x, '%Y-%m-%d'))\n",
    "display(orders.head())\n",
    "orders.info()\n",
    "orders.isna().sum()"
   ]
  },
  {
   "cell_type": "markdown",
   "metadata": {},
   "source": [
    "Посчитаем количество дубликатов"
   ]
  },
  {
   "cell_type": "code",
   "execution_count": 53,
   "metadata": {},
   "outputs": [
    {
     "data": {
      "text/plain": [
       "0"
      ]
     },
     "metadata": {},
     "output_type": "display_data"
    }
   ],
   "source": [
    "display(orders.duplicated().sum())"
   ]
  },
  {
   "cell_type": "code",
   "execution_count": 4,
   "metadata": {},
   "outputs": [
    {
     "name": "stdout",
     "output_type": "stream",
     "text": [
      "\n",
      "Начальная дата 2019-08-01, конечная дата 2019-08-31\n",
      "\n"
     ]
    },
    {
     "data": {
      "text/html": [
       "<div>\n",
       "<style scoped>\n",
       "    .dataframe tbody tr th:only-of-type {\n",
       "        vertical-align: middle;\n",
       "    }\n",
       "\n",
       "    .dataframe tbody tr th {\n",
       "        vertical-align: top;\n",
       "    }\n",
       "\n",
       "    .dataframe thead th {\n",
       "        text-align: right;\n",
       "    }\n",
       "</style>\n",
       "<table border=\"1\" class=\"dataframe\">\n",
       "  <thead>\n",
       "    <tr style=\"text-align: right;\">\n",
       "      <th></th>\n",
       "      <th>date</th>\n",
       "      <th>group</th>\n",
       "      <th>visitors</th>\n",
       "    </tr>\n",
       "  </thead>\n",
       "  <tbody>\n",
       "    <tr>\n",
       "      <th>0</th>\n",
       "      <td>2019-08-01</td>\n",
       "      <td>A</td>\n",
       "      <td>719</td>\n",
       "    </tr>\n",
       "    <tr>\n",
       "      <th>1</th>\n",
       "      <td>2019-08-02</td>\n",
       "      <td>A</td>\n",
       "      <td>619</td>\n",
       "    </tr>\n",
       "    <tr>\n",
       "      <th>2</th>\n",
       "      <td>2019-08-03</td>\n",
       "      <td>A</td>\n",
       "      <td>507</td>\n",
       "    </tr>\n",
       "    <tr>\n",
       "      <th>3</th>\n",
       "      <td>2019-08-04</td>\n",
       "      <td>A</td>\n",
       "      <td>717</td>\n",
       "    </tr>\n",
       "    <tr>\n",
       "      <th>4</th>\n",
       "      <td>2019-08-05</td>\n",
       "      <td>A</td>\n",
       "      <td>756</td>\n",
       "    </tr>\n",
       "  </tbody>\n",
       "</table>\n",
       "</div>"
      ],
      "text/plain": [
       "        date group  visitors\n",
       "0 2019-08-01     A       719\n",
       "1 2019-08-02     A       619\n",
       "2 2019-08-03     A       507\n",
       "3 2019-08-04     A       717\n",
       "4 2019-08-05     A       756"
      ]
     },
     "metadata": {},
     "output_type": "display_data"
    },
    {
     "name": "stdout",
     "output_type": "stream",
     "text": [
      "<class 'pandas.core.frame.DataFrame'>\n",
      "RangeIndex: 62 entries, 0 to 61\n",
      "Data columns (total 3 columns):\n",
      " #   Column    Non-Null Count  Dtype         \n",
      "---  ------    --------------  -----         \n",
      " 0   date      62 non-null     datetime64[ns]\n",
      " 1   group     62 non-null     object        \n",
      " 2   visitors  62 non-null     int64         \n",
      "dtypes: datetime64[ns](1), int64(1), object(1)\n",
      "memory usage: 1.6+ KB\n"
     ]
    },
    {
     "data": {
      "text/plain": [
       "date        0\n",
       "group       0\n",
       "visitors    0\n",
       "dtype: int64"
      ]
     },
     "execution_count": 4,
     "metadata": {},
     "output_type": "execute_result"
    }
   ],
   "source": [
    "visitors = pd.read_csv('/datasets/visitors.csv')\n",
    "visitors['date'] = visitors['date'].astype('datetime64[D]')\n",
    "visitors['date'] = visitors['date'].map(lambda x: dt.datetime.strftime(x, '%Y-%m-%d'))\n",
    "print('\\nНачальная дата {}, конечная дата {}\\n'.format(visitors['date'].min(), visitors['date'].max()))\n",
    "visitors['date'] = visitors['date'].map(lambda x: dt.datetime.strptime(x, '%Y-%m-%d'))\n",
    "display(visitors.head())\n",
    "visitors.info()\n",
    "visitors.isna().sum()"
   ]
  },
  {
   "cell_type": "markdown",
   "metadata": {},
   "source": [
    "Посчитаем количество дубликатов"
   ]
  },
  {
   "cell_type": "code",
   "execution_count": 54,
   "metadata": {},
   "outputs": [
    {
     "data": {
      "text/plain": [
       "0"
      ]
     },
     "metadata": {},
     "output_type": "display_data"
    }
   ],
   "source": [
    "display(visitors.duplicated().sum())"
   ]
  },
  {
   "cell_type": "code",
   "execution_count": 6,
   "metadata": {
    "scrolled": false
   },
   "outputs": [
    {
     "data": {
      "text/html": [
       "<div>\n",
       "<style scoped>\n",
       "    .dataframe tbody tr th:only-of-type {\n",
       "        vertical-align: middle;\n",
       "    }\n",
       "\n",
       "    .dataframe tbody tr th {\n",
       "        vertical-align: top;\n",
       "    }\n",
       "\n",
       "    .dataframe thead th {\n",
       "        text-align: right;\n",
       "    }\n",
       "</style>\n",
       "<table border=\"1\" class=\"dataframe\">\n",
       "  <thead>\n",
       "    <tr style=\"text-align: right;\">\n",
       "      <th></th>\n",
       "      <th>Hypothesis</th>\n",
       "      <th>Reach</th>\n",
       "      <th>Impact</th>\n",
       "      <th>Confidence</th>\n",
       "      <th>Efforts</th>\n",
       "    </tr>\n",
       "  </thead>\n",
       "  <tbody>\n",
       "    <tr>\n",
       "      <th>0</th>\n",
       "      <td>Добавить два новых канала привлечения трафика,...</td>\n",
       "      <td>3</td>\n",
       "      <td>10</td>\n",
       "      <td>8</td>\n",
       "      <td>6</td>\n",
       "    </tr>\n",
       "    <tr>\n",
       "      <th>1</th>\n",
       "      <td>Запустить собственную службу доставки, что сок...</td>\n",
       "      <td>2</td>\n",
       "      <td>5</td>\n",
       "      <td>4</td>\n",
       "      <td>10</td>\n",
       "    </tr>\n",
       "    <tr>\n",
       "      <th>2</th>\n",
       "      <td>Добавить блоки рекомендаций товаров на сайт ин...</td>\n",
       "      <td>8</td>\n",
       "      <td>3</td>\n",
       "      <td>7</td>\n",
       "      <td>3</td>\n",
       "    </tr>\n",
       "    <tr>\n",
       "      <th>3</th>\n",
       "      <td>Изменить структура категорий, что увеличит кон...</td>\n",
       "      <td>8</td>\n",
       "      <td>3</td>\n",
       "      <td>3</td>\n",
       "      <td>8</td>\n",
       "    </tr>\n",
       "    <tr>\n",
       "      <th>4</th>\n",
       "      <td>Изменить цвет фона главной страницы, чтобы уве...</td>\n",
       "      <td>3</td>\n",
       "      <td>1</td>\n",
       "      <td>1</td>\n",
       "      <td>1</td>\n",
       "    </tr>\n",
       "  </tbody>\n",
       "</table>\n",
       "</div>"
      ],
      "text/plain": [
       "                                          Hypothesis  Reach  Impact  \\\n",
       "0  Добавить два новых канала привлечения трафика,...      3      10   \n",
       "1  Запустить собственную службу доставки, что сок...      2       5   \n",
       "2  Добавить блоки рекомендаций товаров на сайт ин...      8       3   \n",
       "3  Изменить структура категорий, что увеличит кон...      8       3   \n",
       "4  Изменить цвет фона главной страницы, чтобы уве...      3       1   \n",
       "\n",
       "   Confidence  Efforts  \n",
       "0           8        6  \n",
       "1           4       10  \n",
       "2           7        3  \n",
       "3           3        8  \n",
       "4           1        1  "
      ]
     },
     "metadata": {},
     "output_type": "display_data"
    },
    {
     "name": "stdout",
     "output_type": "stream",
     "text": [
      "<class 'pandas.core.frame.DataFrame'>\n",
      "RangeIndex: 9 entries, 0 to 8\n",
      "Data columns (total 5 columns):\n",
      " #   Column      Non-Null Count  Dtype \n",
      "---  ------      --------------  ----- \n",
      " 0   Hypothesis  9 non-null      object\n",
      " 1   Reach       9 non-null      int64 \n",
      " 2   Impact      9 non-null      int64 \n",
      " 3   Confidence  9 non-null      int64 \n",
      " 4   Efforts     9 non-null      int64 \n",
      "dtypes: int64(4), object(1)\n",
      "memory usage: 488.0+ bytes\n"
     ]
    },
    {
     "data": {
      "text/plain": [
       "Hypothesis    0\n",
       "Reach         0\n",
       "Impact        0\n",
       "Confidence    0\n",
       "Efforts       0\n",
       "dtype: int64"
      ]
     },
     "execution_count": 6,
     "metadata": {},
     "output_type": "execute_result"
    }
   ],
   "source": [
    "hypothesis = pd.read_csv('/datasets/hypothesis.csv')\n",
    "display(hypothesis.head())\n",
    "pd.set_option('max_colwidth', 500)\n",
    "hypothesis.info()\n",
    "hypothesis.isna().sum()"
   ]
  },
  {
   "cell_type": "markdown",
   "metadata": {},
   "source": [
    "Посчитаем количество дубликатов"
   ]
  },
  {
   "cell_type": "code",
   "execution_count": 55,
   "metadata": {},
   "outputs": [
    {
     "data": {
      "text/plain": [
       "0"
      ]
     },
     "metadata": {},
     "output_type": "display_data"
    }
   ],
   "source": [
    "display(hypothesis.duplicated().sum())"
   ]
  },
  {
   "cell_type": "markdown",
   "metadata": {},
   "source": [
    "# Вывод:\n",
    "При первичном изучении данных о гипотезах, заказах и пользователях А/В-теста выяснилось, что пропущенные значения отстутствуют, повторяющихся значений(дубликатов) обнаружено не было. Также для дальнейшей работы с данными понадобилась замена типов для дат в таких столбцах, как date из таблицы orders и date в таблице visitors с помощью метода map(), который позволяет применить lambda-функцию к каждому значению в столбце. Для удобства в работе приведем названия столбцов в таблице hypothesis к нижнему регистру."
   ]
  },
  {
   "cell_type": "markdown",
   "metadata": {},
   "source": [
    "### Приведем названия столбцов в hypothesis к нижнему регистру\n"
   ]
  },
  {
   "cell_type": "code",
   "execution_count": 56,
   "metadata": {},
   "outputs": [
    {
     "data": {
      "text/plain": [
       "Index(['hypothesis', 'reach', 'impact', 'confidence', 'efforts', 'ice',\n",
       "       'rice'],\n",
       "      dtype='object')"
      ]
     },
     "metadata": {},
     "output_type": "display_data"
    }
   ],
   "source": [
    "hypothesis.columns = hypothesis.columns.str.lower()\n",
    "display(hypothesis.columns)"
   ]
  },
  {
   "cell_type": "markdown",
   "metadata": {},
   "source": [
    "### Пользователи, попавшие в обе группы А/В-теста"
   ]
  },
  {
   "cell_type": "code",
   "execution_count": 58,
   "metadata": {},
   "outputs": [
    {
     "data": {
      "text/plain": [
       "array([   8300375,  199603092,  232979603,  237748145,  276558944,\n",
       "        351125977,  393266494,  457167155,  471551937,  477780734,\n",
       "        818047933,  963407295, 1230306981, 1294878855, 1316129916,\n",
       "       1333886533, 1404934699, 1602967004, 1614305549, 1648269707,\n",
       "       1668030113, 1738359350, 1801183820, 1959144690, 2038680547,\n",
       "       2044997962, 2378935119, 2458001652, 2579882178, 2587333274,\n",
       "       2600415354, 2654030115, 2686716486, 2712142231, 2716752286,\n",
       "       2780786433, 2927087541, 2949041841, 2954449915, 3062433592,\n",
       "       3202540741, 3234906277, 3656415546, 3717692402, 3766097110,\n",
       "       3803269165, 3891541246, 3941795274, 3951559397, 3957174400,\n",
       "       3963646447, 3972127743, 3984495233, 4069496402, 4120364173,\n",
       "       4186807279, 4256040402, 4266935830])"
      ]
     },
     "metadata": {},
     "output_type": "display_data"
    }
   ],
   "source": [
    "inter = np.intersect1d(orders.query('group == \"A\"')['visitorId'].unique(), orders.query('group == \"B\"')['visitorId'].unique())\n",
    "display(inter)"
   ]
  },
  {
   "cell_type": "markdown",
   "metadata": {},
   "source": [
    "Пользователей, которые попали в обе группы тестирования, удалим, чтобы не искажать дальнейшие результаты с помощью отрицательной проверки ~ и isin()"
   ]
  },
  {
   "cell_type": "code",
   "execution_count": 59,
   "metadata": {},
   "outputs": [
    {
     "data": {
      "text/html": [
       "<div>\n",
       "<style scoped>\n",
       "    .dataframe tbody tr th:only-of-type {\n",
       "        vertical-align: middle;\n",
       "    }\n",
       "\n",
       "    .dataframe tbody tr th {\n",
       "        vertical-align: top;\n",
       "    }\n",
       "\n",
       "    .dataframe thead th {\n",
       "        text-align: right;\n",
       "    }\n",
       "</style>\n",
       "<table border=\"1\" class=\"dataframe\">\n",
       "  <thead>\n",
       "    <tr style=\"text-align: right;\">\n",
       "      <th></th>\n",
       "      <th>transactionId</th>\n",
       "      <th>visitorId</th>\n",
       "      <th>date</th>\n",
       "      <th>revenue</th>\n",
       "      <th>group</th>\n",
       "    </tr>\n",
       "  </thead>\n",
       "  <tbody>\n",
       "    <tr>\n",
       "      <th>0</th>\n",
       "      <td>3667963787</td>\n",
       "      <td>3312258926</td>\n",
       "      <td>2019-08-15</td>\n",
       "      <td>1650</td>\n",
       "      <td>B</td>\n",
       "    </tr>\n",
       "    <tr>\n",
       "      <th>1</th>\n",
       "      <td>2804400009</td>\n",
       "      <td>3642806036</td>\n",
       "      <td>2019-08-15</td>\n",
       "      <td>730</td>\n",
       "      <td>B</td>\n",
       "    </tr>\n",
       "    <tr>\n",
       "      <th>3</th>\n",
       "      <td>3797467345</td>\n",
       "      <td>1196621759</td>\n",
       "      <td>2019-08-15</td>\n",
       "      <td>9759</td>\n",
       "      <td>B</td>\n",
       "    </tr>\n",
       "    <tr>\n",
       "      <th>4</th>\n",
       "      <td>2282983706</td>\n",
       "      <td>2322279887</td>\n",
       "      <td>2019-08-15</td>\n",
       "      <td>2308</td>\n",
       "      <td>B</td>\n",
       "    </tr>\n",
       "    <tr>\n",
       "      <th>5</th>\n",
       "      <td>182168103</td>\n",
       "      <td>935554773</td>\n",
       "      <td>2019-08-15</td>\n",
       "      <td>2210</td>\n",
       "      <td>B</td>\n",
       "    </tr>\n",
       "  </tbody>\n",
       "</table>\n",
       "</div>"
      ],
      "text/plain": [
       "   transactionId   visitorId       date  revenue group\n",
       "0     3667963787  3312258926 2019-08-15     1650     B\n",
       "1     2804400009  3642806036 2019-08-15      730     B\n",
       "3     3797467345  1196621759 2019-08-15     9759     B\n",
       "4     2282983706  2322279887 2019-08-15     2308     B\n",
       "5      182168103   935554773 2019-08-15     2210     B"
      ]
     },
     "metadata": {},
     "output_type": "display_data"
    }
   ],
   "source": [
    "display(orders[~orders['visitorId'].isin(inter)].head())"
   ]
  },
  {
   "cell_type": "markdown",
   "metadata": {},
   "source": [
    "# Вывод:\n",
    "Были приведены названия столбцов в таблице hypothesis к нижнему регистру. Также была сделала проверка попадания пользователей в обе группы тестирования, найденные пользователи были удалены из данных, чтобы не искажать дальшейние результаты и выводы."
   ]
  },
  {
   "cell_type": "markdown",
   "metadata": {},
   "source": [
    "## Часть 1. Приоритизация гипотез."
   ]
  },
  {
   "cell_type": "markdown",
   "metadata": {},
   "source": [
    "# ICE = (Impact * Confidence) / Efforts\n",
    "         \n",
    "\n",
    "# RICE = (Reach * Impact * Confidence) / Efforts\n",
    "\n",
    "- Reach — скольких пользователей затронет изменение, которое вы хотите внести;\n",
    "- Impact — насколько сильно изменение повлияет на пользователей, их опыт и удовлетворение от продукта;\n",
    "- Confidence — насколько вы уверены, что это изменение повлияет на пользователей именно так;\n",
    "- Efforts — сколько стоит протестировать эту гипотезу."
   ]
  },
  {
   "cell_type": "markdown",
   "metadata": {},
   "source": [
    "### Применим фреймворк ICE для приоритизации гипотез. Отсортируем их по убыванию приоритета."
   ]
  },
  {
   "cell_type": "markdown",
   "metadata": {},
   "source": [
    "Добавим в существующую таблицу hypothesis столбец 'ice' и отсортируем гипотезы по убыванию "
   ]
  },
  {
   "cell_type": "code",
   "execution_count": 60,
   "metadata": {},
   "outputs": [
    {
     "data": {
      "text/html": [
       "<div>\n",
       "<style scoped>\n",
       "    .dataframe tbody tr th:only-of-type {\n",
       "        vertical-align: middle;\n",
       "    }\n",
       "\n",
       "    .dataframe tbody tr th {\n",
       "        vertical-align: top;\n",
       "    }\n",
       "\n",
       "    .dataframe thead th {\n",
       "        text-align: right;\n",
       "    }\n",
       "</style>\n",
       "<table border=\"1\" class=\"dataframe\">\n",
       "  <thead>\n",
       "    <tr style=\"text-align: right;\">\n",
       "      <th></th>\n",
       "      <th>hypothesis</th>\n",
       "      <th>reach</th>\n",
       "      <th>impact</th>\n",
       "      <th>confidence</th>\n",
       "      <th>efforts</th>\n",
       "      <th>ice</th>\n",
       "      <th>rice</th>\n",
       "    </tr>\n",
       "  </thead>\n",
       "  <tbody>\n",
       "    <tr>\n",
       "      <th>8</th>\n",
       "      <td>Запустить акцию, дающую скидку на товар в день рождения</td>\n",
       "      <td>1</td>\n",
       "      <td>9</td>\n",
       "      <td>9</td>\n",
       "      <td>5</td>\n",
       "      <td>16.200000</td>\n",
       "      <td>16.2</td>\n",
       "    </tr>\n",
       "    <tr>\n",
       "      <th>0</th>\n",
       "      <td>Добавить два новых канала привлечения трафика, что позволит привлекать на 30% больше пользователей</td>\n",
       "      <td>3</td>\n",
       "      <td>10</td>\n",
       "      <td>8</td>\n",
       "      <td>6</td>\n",
       "      <td>13.333333</td>\n",
       "      <td>40.0</td>\n",
       "    </tr>\n",
       "    <tr>\n",
       "      <th>7</th>\n",
       "      <td>Добавить форму подписки на все основные страницы, чтобы собрать базу клиентов для email-рассылок</td>\n",
       "      <td>10</td>\n",
       "      <td>7</td>\n",
       "      <td>8</td>\n",
       "      <td>5</td>\n",
       "      <td>11.200000</td>\n",
       "      <td>112.0</td>\n",
       "    </tr>\n",
       "    <tr>\n",
       "      <th>6</th>\n",
       "      <td>Показать на главной странице баннеры с актуальными акциями и распродажами, чтобы увеличить конверсию</td>\n",
       "      <td>5</td>\n",
       "      <td>3</td>\n",
       "      <td>8</td>\n",
       "      <td>3</td>\n",
       "      <td>8.000000</td>\n",
       "      <td>40.0</td>\n",
       "    </tr>\n",
       "    <tr>\n",
       "      <th>2</th>\n",
       "      <td>Добавить блоки рекомендаций товаров на сайт интернет магазина, чтобы повысить конверсию и средний чек заказа</td>\n",
       "      <td>8</td>\n",
       "      <td>3</td>\n",
       "      <td>7</td>\n",
       "      <td>3</td>\n",
       "      <td>7.000000</td>\n",
       "      <td>56.0</td>\n",
       "    </tr>\n",
       "  </tbody>\n",
       "</table>\n",
       "</div>"
      ],
      "text/plain": [
       "                                                                                                     hypothesis  \\\n",
       "8                                                       Запустить акцию, дающую скидку на товар в день рождения   \n",
       "0            Добавить два новых канала привлечения трафика, что позволит привлекать на 30% больше пользователей   \n",
       "7              Добавить форму подписки на все основные страницы, чтобы собрать базу клиентов для email-рассылок   \n",
       "6          Показать на главной странице баннеры с актуальными акциями и распродажами, чтобы увеличить конверсию   \n",
       "2  Добавить блоки рекомендаций товаров на сайт интернет магазина, чтобы повысить конверсию и средний чек заказа   \n",
       "\n",
       "   reach  impact  confidence  efforts        ice   rice  \n",
       "8      1       9           9        5  16.200000   16.2  \n",
       "0      3      10           8        6  13.333333   40.0  \n",
       "7     10       7           8        5  11.200000  112.0  \n",
       "6      5       3           8        3   8.000000   40.0  \n",
       "2      8       3           7        3   7.000000   56.0  "
      ]
     },
     "metadata": {},
     "output_type": "display_data"
    }
   ],
   "source": [
    "pd.set_option('max_colwidth', 500)\n",
    "hypothesis['ice'] = hypothesis['impact'] * hypothesis['confidence'] / hypothesis['efforts']\n",
    "display(hypothesis.sort_values(by = 'ice', ascending = False).head())"
   ]
  },
  {
   "cell_type": "markdown",
   "metadata": {},
   "source": [
    "# Вывод:\n",
    "ICE является одним из самых популярных способов приоритизации задач. Наиболее высокий приоритет имеют гипотезы под номерами: 8 - ее оценка равна 16.2, на втором месте гипотеза под номером 0 - 13.3 и на третьем месте гипотеза под номером 7 с оценкой 11.2. Именно в таком порядке расположились наиболее приоритетные гипотезы, которые стоит проверить в первую очередь."
   ]
  },
  {
   "cell_type": "markdown",
   "metadata": {},
   "source": [
    "### Применим фреймворк RICE для приоритизации гипотез. Отсортируем их по убыванию приоритета."
   ]
  },
  {
   "cell_type": "markdown",
   "metadata": {},
   "source": [
    "Аналогично добавим столбец 'rice' и отсортируем гипотезы по убывванию"
   ]
  },
  {
   "cell_type": "code",
   "execution_count": 61,
   "metadata": {},
   "outputs": [
    {
     "data": {
      "text/html": [
       "<div>\n",
       "<style scoped>\n",
       "    .dataframe tbody tr th:only-of-type {\n",
       "        vertical-align: middle;\n",
       "    }\n",
       "\n",
       "    .dataframe tbody tr th {\n",
       "        vertical-align: top;\n",
       "    }\n",
       "\n",
       "    .dataframe thead th {\n",
       "        text-align: right;\n",
       "    }\n",
       "</style>\n",
       "<table border=\"1\" class=\"dataframe\">\n",
       "  <thead>\n",
       "    <tr style=\"text-align: right;\">\n",
       "      <th></th>\n",
       "      <th>hypothesis</th>\n",
       "      <th>reach</th>\n",
       "      <th>impact</th>\n",
       "      <th>confidence</th>\n",
       "      <th>efforts</th>\n",
       "      <th>ice</th>\n",
       "      <th>rice</th>\n",
       "    </tr>\n",
       "  </thead>\n",
       "  <tbody>\n",
       "    <tr>\n",
       "      <th>7</th>\n",
       "      <td>Добавить форму подписки на все основные страницы, чтобы собрать базу клиентов для email-рассылок</td>\n",
       "      <td>10</td>\n",
       "      <td>7</td>\n",
       "      <td>8</td>\n",
       "      <td>5</td>\n",
       "      <td>11.200000</td>\n",
       "      <td>112.0</td>\n",
       "    </tr>\n",
       "    <tr>\n",
       "      <th>2</th>\n",
       "      <td>Добавить блоки рекомендаций товаров на сайт интернет магазина, чтобы повысить конверсию и средний чек заказа</td>\n",
       "      <td>8</td>\n",
       "      <td>3</td>\n",
       "      <td>7</td>\n",
       "      <td>3</td>\n",
       "      <td>7.000000</td>\n",
       "      <td>56.0</td>\n",
       "    </tr>\n",
       "    <tr>\n",
       "      <th>0</th>\n",
       "      <td>Добавить два новых канала привлечения трафика, что позволит привлекать на 30% больше пользователей</td>\n",
       "      <td>3</td>\n",
       "      <td>10</td>\n",
       "      <td>8</td>\n",
       "      <td>6</td>\n",
       "      <td>13.333333</td>\n",
       "      <td>40.0</td>\n",
       "    </tr>\n",
       "    <tr>\n",
       "      <th>6</th>\n",
       "      <td>Показать на главной странице баннеры с актуальными акциями и распродажами, чтобы увеличить конверсию</td>\n",
       "      <td>5</td>\n",
       "      <td>3</td>\n",
       "      <td>8</td>\n",
       "      <td>3</td>\n",
       "      <td>8.000000</td>\n",
       "      <td>40.0</td>\n",
       "    </tr>\n",
       "    <tr>\n",
       "      <th>8</th>\n",
       "      <td>Запустить акцию, дающую скидку на товар в день рождения</td>\n",
       "      <td>1</td>\n",
       "      <td>9</td>\n",
       "      <td>9</td>\n",
       "      <td>5</td>\n",
       "      <td>16.200000</td>\n",
       "      <td>16.2</td>\n",
       "    </tr>\n",
       "  </tbody>\n",
       "</table>\n",
       "</div>"
      ],
      "text/plain": [
       "                                                                                                     hypothesis  \\\n",
       "7              Добавить форму подписки на все основные страницы, чтобы собрать базу клиентов для email-рассылок   \n",
       "2  Добавить блоки рекомендаций товаров на сайт интернет магазина, чтобы повысить конверсию и средний чек заказа   \n",
       "0            Добавить два новых канала привлечения трафика, что позволит привлекать на 30% больше пользователей   \n",
       "6          Показать на главной странице баннеры с актуальными акциями и распродажами, чтобы увеличить конверсию   \n",
       "8                                                       Запустить акцию, дающую скидку на товар в день рождения   \n",
       "\n",
       "   reach  impact  confidence  efforts        ice   rice  \n",
       "7     10       7           8        5  11.200000  112.0  \n",
       "2      8       3           7        3   7.000000   56.0  \n",
       "0      3      10           8        6  13.333333   40.0  \n",
       "6      5       3           8        3   8.000000   40.0  \n",
       "8      1       9           9        5  16.200000   16.2  "
      ]
     },
     "metadata": {},
     "output_type": "display_data"
    }
   ],
   "source": [
    "pd.set_option('max_colwidth', 500)\n",
    "hypothesis['rice'] = hypothesis['reach'] * hypothesis['impact'] * hypothesis['confidence'] / hypothesis['efforts']\n",
    "display(hypothesis.sort_values(by = 'rice', ascending = False).head())"
   ]
  },
  {
   "cell_type": "code",
   "execution_count": 65,
   "metadata": {},
   "outputs": [
    {
     "data": {
      "text/plain": [
       "array(['Добавить два новых канала привлечения трафика, что позволит привлекать на 30% больше пользователей',\n",
       "       'Запустить собственную службу доставки, что сократит срок доставки заказов',\n",
       "       'Добавить блоки рекомендаций товаров на сайт интернет магазина, чтобы повысить конверсию и средний чек заказа',\n",
       "       'Изменить структура категорий, что увеличит конверсию, т.к. пользователи быстрее найдут нужный товар',\n",
       "       'Изменить цвет фона главной страницы, чтобы увеличить вовлеченность пользователей',\n",
       "       'Добавить страницу отзывов клиентов о магазине, что позволит увеличить количество заказов',\n",
       "       'Показать на главной странице баннеры с актуальными акциями и распродажами, чтобы увеличить конверсию',\n",
       "       'Добавить форму подписки на все основные страницы, чтобы собрать базу клиентов для email-рассылок',\n",
       "       'Запустить акцию, дающую скидку на товар в день рождения'],\n",
       "      dtype=object)"
      ]
     },
     "metadata": {},
     "output_type": "display_data"
    }
   ],
   "source": [
    "display(hypothesis['hypothesis'].unique())"
   ]
  },
  {
   "cell_type": "markdown",
   "metadata": {},
   "source": [
    "# Вывод:\n",
    "RICE является модификацией ICE. При приоритизации гипотез методом RICE лидеры изменились. Первое место занимает гипотеза под номером 7 - ее оценка равна 112, на втором месте гипотеза под номером 2 с оценкой 56 и на третьем  месте гипотеза под номерм 0 - ее оценка составляет 40. В таком порядке расположились гипотезы при замене способа ICE на RICE. Изменения произошли за счет того, что оба метода используют разные параметры для расчета оценки,  в случае фреймворка ICE в отличие от RICE мы не учитывали охват изменений, тогда как это важная составляющая оценки гипотез. Но тем не менее, гипотезы под номерами 7 и 0 в обоих случаях находятся в топ-3 гипотез, которые стоит проверять в первую очередь. "
   ]
  },
  {
   "cell_type": "markdown",
   "metadata": {},
   "source": [
    "## Часть 2. Анализ A/B-теста"
   ]
  },
  {
   "cell_type": "markdown",
   "metadata": {},
   "source": [
    "# Проанализируем результаты А/В-теста, которые описаны в датафреймах orders и visitors."
   ]
  },
  {
   "cell_type": "markdown",
   "metadata": {},
   "source": [
    "Проверим кол-во пользователей и покупок, совершенными группами A/В- теста, а также проверим гипотезу о разнице кол-ва пользователей в группах"
   ]
  },
  {
   "cell_type": "code",
   "execution_count": 14,
   "metadata": {},
   "outputs": [
    {
     "name": "stdout",
     "output_type": "stream",
     "text": [
      "Кол-во пользователей в группе А: 18736\n",
      "Кол-во пользователей в группе B: 18916\n",
      "Кол-во покупок в группе A: 557\n",
      "Кол-во покупок в группе B: 640\n"
     ]
    }
   ],
   "source": [
    "print('Кол-во пользователей в группе А: {}\\n'\n",
    "      'Кол-во пользователей в группе B: {}'.format(visitors[visitors['group']=='A']['visitors'].sum(), \n",
    "                                                 visitors[visitors['group']=='B']['visitors'].sum()))\n",
    "purchasesA = len(orders[orders['group']=='A'])\n",
    "purchasesB = len(orders[orders['group']=='B'])\n",
    "print('Кол-во покупок в группе A: {}'.format(purchasesA))\n",
    "print('Кол-во покупок в группе B: {}'.format(purchasesB))"
   ]
  },
  {
   "cell_type": "markdown",
   "metadata": {},
   "source": [
    "- Нулевая гипотеза: Разница в количестве посетителей в группах A и B статистически не значима\n",
    "- Альтернативная гипотеза: Разница в количестве посетителей в группах A и B статистически значима\n",
    "- Уровень статистической значимости: 5%"
   ]
  },
  {
   "cell_type": "code",
   "execution_count": 15,
   "metadata": {},
   "outputs": [
    {
     "name": "stdout",
     "output_type": "stream",
     "text": [
      "p-значение:  0.7301376549390499\n",
      "Не получилось отвергнуть нулевую гипотезу, вывод о различии сделать нельзя\n"
     ]
    }
   ],
   "source": [
    "alpha = 0.05  # критический уровень статистической значимости\n",
    "\n",
    "results = st.mannwhitneyu(visitors[visitors['group']=='A']['visitors'], visitors[visitors['group']=='B']['visitors'])\n",
    "\n",
    "print('p-значение: ', results.pvalue)\n",
    "\n",
    "if results.pvalue < alpha:\n",
    "    print('Отвергаем нулевую гипотезу: разница статистически значима')\n",
    "else:\n",
    "    print(\n",
    "        'Не получилось отвергнуть нулевую гипотезу, вывод о различии сделать нельзя'\n",
    "    ) "
   ]
  },
  {
   "cell_type": "markdown",
   "metadata": {},
   "source": [
    "### Постройте график кумулятивной выручки по группам. Сделайте выводы и предположения."
   ]
  },
  {
   "cell_type": "markdown",
   "metadata": {},
   "source": [
    "Чтобы построить графики, нужно собрать кумулятивные данные. Объявим датафрейм cumulativeData со столбцами:\n",
    "- date — дата;\n",
    "- group — группа A/B-теста (A или B);\n",
    "- orders — кумулятивное количество заказов на указанную дату в указанной группе;\n",
    "- buyers — кумулятивное количество пользователей, совершивших хотя бы один заказ, на указанную дату в указанной группе;\n",
    "- revenue — кумулятивная выручка на указанную дату в указанной группе (средний чек);\n",
    "- visitors — кумулятивное количество посетителей интернет-магазина на указанную дату в определённой группе."
   ]
  },
  {
   "cell_type": "code",
   "execution_count": 16,
   "metadata": {},
   "outputs": [],
   "source": [
    "datesGroups = orders[['date', 'group']].drop_duplicates()"
   ]
  },
  {
   "cell_type": "code",
   "execution_count": 66,
   "metadata": {},
   "outputs": [
    {
     "data": {
      "text/html": [
       "<div>\n",
       "<style scoped>\n",
       "    .dataframe tbody tr th:only-of-type {\n",
       "        vertical-align: middle;\n",
       "    }\n",
       "\n",
       "    .dataframe tbody tr th {\n",
       "        vertical-align: top;\n",
       "    }\n",
       "\n",
       "    .dataframe thead th {\n",
       "        text-align: right;\n",
       "    }\n",
       "</style>\n",
       "<table border=\"1\" class=\"dataframe\">\n",
       "  <thead>\n",
       "    <tr style=\"text-align: right;\">\n",
       "      <th></th>\n",
       "      <th>date</th>\n",
       "      <th>group</th>\n",
       "    </tr>\n",
       "  </thead>\n",
       "  <tbody>\n",
       "    <tr>\n",
       "      <th>0</th>\n",
       "      <td>2019-08-15</td>\n",
       "      <td>B</td>\n",
       "    </tr>\n",
       "    <tr>\n",
       "      <th>2</th>\n",
       "      <td>2019-08-15</td>\n",
       "      <td>A</td>\n",
       "    </tr>\n",
       "    <tr>\n",
       "      <th>45</th>\n",
       "      <td>2019-08-16</td>\n",
       "      <td>A</td>\n",
       "    </tr>\n",
       "    <tr>\n",
       "      <th>47</th>\n",
       "      <td>2019-08-16</td>\n",
       "      <td>B</td>\n",
       "    </tr>\n",
       "    <tr>\n",
       "      <th>55</th>\n",
       "      <td>2019-08-01</td>\n",
       "      <td>A</td>\n",
       "    </tr>\n",
       "  </tbody>\n",
       "</table>\n",
       "</div>"
      ],
      "text/plain": [
       "         date group\n",
       "0  2019-08-15     B\n",
       "2  2019-08-15     A\n",
       "45 2019-08-16     A\n",
       "47 2019-08-16     B\n",
       "55 2019-08-01     A"
      ]
     },
     "metadata": {},
     "output_type": "display_data"
    }
   ],
   "source": [
    "display(datesGroups.head())"
   ]
  },
  {
   "cell_type": "markdown",
   "metadata": {},
   "source": [
    "Получим строки таблицы orders, дата которых меньше или равна дате элемента из datesGroups, а группа теста равна группе из datesGroups. Найдём число уникальных ID заказов и пользователей. Подсчитаем сумму средних чеков:"
   ]
  },
  {
   "cell_type": "code",
   "execution_count": 18,
   "metadata": {},
   "outputs": [],
   "source": [
    "ordersAggregated = datesGroups.apply(lambda x: orders[np.logical_and(orders['date'] <= x['date'], orders['group'] == x['group'])]\\\n",
    ".agg({'date' : 'max', 'group' : 'max', 'transactionId' : 'nunique', 'visitorId' : 'nunique', 'revenue' : 'sum'}), axis=1).sort_values(by=['date','group'])"
   ]
  },
  {
   "cell_type": "code",
   "execution_count": 67,
   "metadata": {},
   "outputs": [
    {
     "data": {
      "text/html": [
       "<div>\n",
       "<style scoped>\n",
       "    .dataframe tbody tr th:only-of-type {\n",
       "        vertical-align: middle;\n",
       "    }\n",
       "\n",
       "    .dataframe tbody tr th {\n",
       "        vertical-align: top;\n",
       "    }\n",
       "\n",
       "    .dataframe thead th {\n",
       "        text-align: right;\n",
       "    }\n",
       "</style>\n",
       "<table border=\"1\" class=\"dataframe\">\n",
       "  <thead>\n",
       "    <tr style=\"text-align: right;\">\n",
       "      <th></th>\n",
       "      <th>date</th>\n",
       "      <th>group</th>\n",
       "      <th>transactionId</th>\n",
       "      <th>visitorId</th>\n",
       "      <th>revenue</th>\n",
       "    </tr>\n",
       "  </thead>\n",
       "  <tbody>\n",
       "    <tr>\n",
       "      <th>55</th>\n",
       "      <td>2019-08-01</td>\n",
       "      <td>A</td>\n",
       "      <td>24</td>\n",
       "      <td>20</td>\n",
       "      <td>148579</td>\n",
       "    </tr>\n",
       "    <tr>\n",
       "      <th>66</th>\n",
       "      <td>2019-08-01</td>\n",
       "      <td>B</td>\n",
       "      <td>21</td>\n",
       "      <td>20</td>\n",
       "      <td>101217</td>\n",
       "    </tr>\n",
       "    <tr>\n",
       "      <th>175</th>\n",
       "      <td>2019-08-02</td>\n",
       "      <td>A</td>\n",
       "      <td>44</td>\n",
       "      <td>38</td>\n",
       "      <td>242401</td>\n",
       "    </tr>\n",
       "    <tr>\n",
       "      <th>173</th>\n",
       "      <td>2019-08-02</td>\n",
       "      <td>B</td>\n",
       "      <td>45</td>\n",
       "      <td>43</td>\n",
       "      <td>266748</td>\n",
       "    </tr>\n",
       "    <tr>\n",
       "      <th>291</th>\n",
       "      <td>2019-08-03</td>\n",
       "      <td>A</td>\n",
       "      <td>68</td>\n",
       "      <td>62</td>\n",
       "      <td>354874</td>\n",
       "    </tr>\n",
       "  </tbody>\n",
       "</table>\n",
       "</div>"
      ],
      "text/plain": [
       "          date group  transactionId  visitorId  revenue\n",
       "55  2019-08-01     A             24         20   148579\n",
       "66  2019-08-01     B             21         20   101217\n",
       "175 2019-08-02     A             44         38   242401\n",
       "173 2019-08-02     B             45         43   266748\n",
       "291 2019-08-03     A             68         62   354874"
      ]
     },
     "metadata": {},
     "output_type": "display_data"
    }
   ],
   "source": [
    "display(ordersAggregated.head())"
   ]
  },
  {
   "cell_type": "markdown",
   "metadata": {},
   "source": [
    "Аналогично получим агрегированные кумулятивные по дням данные о посетителях интернет-магазина:"
   ]
  },
  {
   "cell_type": "code",
   "execution_count": 20,
   "metadata": {},
   "outputs": [],
   "source": [
    "visitorsAggregated = datesGroups.apply(lambda x: visitors[np.logical_and(visitors['date'] <= x['date'], visitors['group'] == x['group'])].agg({'date' : 'max', 'group' : 'max', 'visitors' : 'sum'}), axis=1).sort_values(by=['date','group'])"
   ]
  },
  {
   "cell_type": "code",
   "execution_count": 68,
   "metadata": {},
   "outputs": [
    {
     "data": {
      "text/html": [
       "<div>\n",
       "<style scoped>\n",
       "    .dataframe tbody tr th:only-of-type {\n",
       "        vertical-align: middle;\n",
       "    }\n",
       "\n",
       "    .dataframe tbody tr th {\n",
       "        vertical-align: top;\n",
       "    }\n",
       "\n",
       "    .dataframe thead th {\n",
       "        text-align: right;\n",
       "    }\n",
       "</style>\n",
       "<table border=\"1\" class=\"dataframe\">\n",
       "  <thead>\n",
       "    <tr style=\"text-align: right;\">\n",
       "      <th></th>\n",
       "      <th>date</th>\n",
       "      <th>group</th>\n",
       "      <th>visitors</th>\n",
       "    </tr>\n",
       "  </thead>\n",
       "  <tbody>\n",
       "    <tr>\n",
       "      <th>55</th>\n",
       "      <td>2019-08-01</td>\n",
       "      <td>A</td>\n",
       "      <td>719</td>\n",
       "    </tr>\n",
       "    <tr>\n",
       "      <th>66</th>\n",
       "      <td>2019-08-01</td>\n",
       "      <td>B</td>\n",
       "      <td>713</td>\n",
       "    </tr>\n",
       "    <tr>\n",
       "      <th>175</th>\n",
       "      <td>2019-08-02</td>\n",
       "      <td>A</td>\n",
       "      <td>1338</td>\n",
       "    </tr>\n",
       "    <tr>\n",
       "      <th>173</th>\n",
       "      <td>2019-08-02</td>\n",
       "      <td>B</td>\n",
       "      <td>1294</td>\n",
       "    </tr>\n",
       "    <tr>\n",
       "      <th>291</th>\n",
       "      <td>2019-08-03</td>\n",
       "      <td>A</td>\n",
       "      <td>1845</td>\n",
       "    </tr>\n",
       "  </tbody>\n",
       "</table>\n",
       "</div>"
      ],
      "text/plain": [
       "          date group  visitors\n",
       "55  2019-08-01     A       719\n",
       "66  2019-08-01     B       713\n",
       "175 2019-08-02     A      1338\n",
       "173 2019-08-02     B      1294\n",
       "291 2019-08-03     A      1845"
      ]
     },
     "metadata": {},
     "output_type": "display_data"
    }
   ],
   "source": [
    "display(visitorsAggregated.head())"
   ]
  },
  {
   "cell_type": "markdown",
   "metadata": {},
   "source": [
    "Объединим обе таблицы в одну и переименуем столбцы:\n"
   ]
  },
  {
   "cell_type": "code",
   "execution_count": 22,
   "metadata": {},
   "outputs": [],
   "source": [
    "cumulativeData = ordersAggregated.merge(visitorsAggregated, left_on=['date', 'group'], right_on=['date', 'group'], how = \"inner\")\n",
    "cumulativeData.columns = ['date', 'group', 'orders', 'buyers', 'revenue', 'visitors']"
   ]
  },
  {
   "cell_type": "code",
   "execution_count": 69,
   "metadata": {},
   "outputs": [
    {
     "data": {
      "text/html": [
       "<div>\n",
       "<style scoped>\n",
       "    .dataframe tbody tr th:only-of-type {\n",
       "        vertical-align: middle;\n",
       "    }\n",
       "\n",
       "    .dataframe tbody tr th {\n",
       "        vertical-align: top;\n",
       "    }\n",
       "\n",
       "    .dataframe thead th {\n",
       "        text-align: right;\n",
       "    }\n",
       "</style>\n",
       "<table border=\"1\" class=\"dataframe\">\n",
       "  <thead>\n",
       "    <tr style=\"text-align: right;\">\n",
       "      <th></th>\n",
       "      <th>date</th>\n",
       "      <th>group</th>\n",
       "      <th>orders</th>\n",
       "      <th>buyers</th>\n",
       "      <th>revenue</th>\n",
       "      <th>visitors</th>\n",
       "      <th>conversion</th>\n",
       "    </tr>\n",
       "  </thead>\n",
       "  <tbody>\n",
       "    <tr>\n",
       "      <th>0</th>\n",
       "      <td>2019-08-01</td>\n",
       "      <td>A</td>\n",
       "      <td>24</td>\n",
       "      <td>20</td>\n",
       "      <td>148579</td>\n",
       "      <td>719</td>\n",
       "      <td>0.033380</td>\n",
       "    </tr>\n",
       "    <tr>\n",
       "      <th>1</th>\n",
       "      <td>2019-08-01</td>\n",
       "      <td>B</td>\n",
       "      <td>21</td>\n",
       "      <td>20</td>\n",
       "      <td>101217</td>\n",
       "      <td>713</td>\n",
       "      <td>0.029453</td>\n",
       "    </tr>\n",
       "    <tr>\n",
       "      <th>2</th>\n",
       "      <td>2019-08-02</td>\n",
       "      <td>A</td>\n",
       "      <td>44</td>\n",
       "      <td>38</td>\n",
       "      <td>242401</td>\n",
       "      <td>1338</td>\n",
       "      <td>0.032885</td>\n",
       "    </tr>\n",
       "    <tr>\n",
       "      <th>3</th>\n",
       "      <td>2019-08-02</td>\n",
       "      <td>B</td>\n",
       "      <td>45</td>\n",
       "      <td>43</td>\n",
       "      <td>266748</td>\n",
       "      <td>1294</td>\n",
       "      <td>0.034776</td>\n",
       "    </tr>\n",
       "    <tr>\n",
       "      <th>4</th>\n",
       "      <td>2019-08-03</td>\n",
       "      <td>A</td>\n",
       "      <td>68</td>\n",
       "      <td>62</td>\n",
       "      <td>354874</td>\n",
       "      <td>1845</td>\n",
       "      <td>0.036856</td>\n",
       "    </tr>\n",
       "  </tbody>\n",
       "</table>\n",
       "</div>"
      ],
      "text/plain": [
       "        date group  orders  buyers  revenue  visitors  conversion\n",
       "0 2019-08-01     A      24      20   148579       719    0.033380\n",
       "1 2019-08-01     B      21      20   101217       713    0.029453\n",
       "2 2019-08-02     A      44      38   242401      1338    0.032885\n",
       "3 2019-08-02     B      45      43   266748      1294    0.034776\n",
       "4 2019-08-03     A      68      62   354874      1845    0.036856"
      ]
     },
     "metadata": {},
     "output_type": "display_data"
    }
   ],
   "source": [
    "display(cumulativeData.head())"
   ]
  },
  {
   "cell_type": "markdown",
   "metadata": {},
   "source": [
    "#### Графики кумулятивной выручки по группам A/B-тестирования:"
   ]
  },
  {
   "cell_type": "code",
   "execution_count": 24,
   "metadata": {},
   "outputs": [],
   "source": [
    "# датафрейм с кумулятивным количеством заказов в группе А\n",
    "cumulativeRevenueA = cumulativeData[cumulativeData['group']=='A']\n",
    "\n",
    "# датафрейм с кумулятивным количеством заказов в группе B\n",
    "cumulativeRevenueB = cumulativeData[cumulativeData['group']=='B']\n"
   ]
  },
  {
   "cell_type": "code",
   "execution_count": 25,
   "metadata": {},
   "outputs": [
    {
     "data": {
      "image/png": "[encoded data removed]",
      "text/plain": [
       "<Figure size 1080x432 with 1 Axes>"
      ]
     },
     "metadata": {
      "needs_background": "light"
     },
     "output_type": "display_data"
    }
   ],
   "source": [
    "plt.figure(figsize=(15,6))\n",
    "plt.plot(cumulativeRevenueA['date'], cumulativeRevenueA['revenue'], label = 'A')\n",
    "plt.plot(cumulativeRevenueB['date'], cumulativeRevenueB['revenue'], label = 'B')\n",
    "plt.ylabel('Выручка')\n",
    "plt.xlabel('Дата')\n",
    "plt.title('Графики кумулятивной выручки по группам A/B')\n",
    "plt.grid()\n",
    "plt.legend();\n"
   ]
  },
  {
   "cell_type": "markdown",
   "metadata": {},
   "source": [
    "# Вывод:\n",
    "По результатам данного графика стало ясно, что выручка группы В значительно превышает выручку, полученную с группы А. Достаточно хороший результат для группы В. Можно предположить, что внедрение отобранных гипотез сказывается успешно. Но в тоже время резкое повышение значений в группе В с 19.08 указывает на то, что в данных по количеству заказов или выручке присутствуют аномальные значения."
   ]
  },
  {
   "cell_type": "markdown",
   "metadata": {},
   "source": [
    "### Постройте график кумулятивного среднего чека по группам. Сделайте выводы и предположения."
   ]
  },
  {
   "cell_type": "code",
   "execution_count": 26,
   "metadata": {},
   "outputs": [
    {
     "data": {
      "image/png": "[encoded data removed]",
      "text/plain": [
       "<Figure size 1080x432 with 1 Axes>"
      ]
     },
     "metadata": {
      "needs_background": "light"
     },
     "output_type": "display_data"
    }
   ],
   "source": [
    "plt.figure(figsize=(15,6))\n",
    "plt.plot(cumulativeRevenueA['date'], cumulativeRevenueA['revenue']/cumulativeRevenueA['orders'], label='A')\n",
    "plt.plot(cumulativeRevenueB['date'], cumulativeRevenueB['revenue']/cumulativeRevenueB['orders'], label='B')\n",
    "plt.ylabel('Средний чек')\n",
    "plt.xlabel('Дата')\n",
    "plt.title('Графики кумулятивного среднего чека по группам А/В')\n",
    "plt.grid()\n",
    "plt.legend();"
   ]
  },
  {
   "cell_type": "markdown",
   "metadata": {},
   "source": [
    "# Вывод:\n",
    "По полученному графику становится ясно, что средний чек группы В значительно превышеает средний чек пользователей группы A, но стоит обратить внимание на большие скачки среднего чека группы В, это может свидетельствовать об аномалиях и выбросах. Стоит уделить этому внимание на следующих шагах анализа."
   ]
  },
  {
   "cell_type": "markdown",
   "metadata": {},
   "source": [
    "### Постройте график относительного изменения кумулятивного среднего чека группы B к группе A. Сделайте выводы и предположения."
   ]
  },
  {
   "cell_type": "code",
   "execution_count": 27,
   "metadata": {},
   "outputs": [],
   "source": [
    "# собираем данные в одном датафрейме\n",
    "mergedCumulativeRevenue = cumulativeRevenueA.merge(cumulativeRevenueB, left_on='date', right_on='date', how='left', suffixes=['A', 'B'])"
   ]
  },
  {
   "cell_type": "code",
   "execution_count": 28,
   "metadata": {},
   "outputs": [
    {
     "data": {
      "image/png": "[encoded data removed]",
      "text/plain": [
       "<Figure size 1080x432 with 1 Axes>"
      ]
     },
     "metadata": {
      "needs_background": "light"
     },
     "output_type": "display_data"
    }
   ],
   "source": [
    "plt.figure(figsize=(15,6))\n",
    "plt.plot(mergedCumulativeRevenue['date'], (mergedCumulativeRevenue['revenueB']/mergedCumulativeRevenue['ordersB'])/(mergedCumulativeRevenue['revenueA']/mergedCumulativeRevenue['ordersA'])-1)\n",
    "plt.axhline(y=0, color='black', linestyle='--') \n",
    "plt.ylabel('Отношение среднего чека группы В к группе А')\n",
    "plt.xlabel('Дата')\n",
    "plt.title('Графики кумулятивного среднего чека группы В к группе А')\n",
    "plt.grid()\n",
    "plt.show()\n"
   ]
  },
  {
   "cell_type": "markdown",
   "metadata": {},
   "source": [
    "# Вывод:\n",
    "По графику кумулятивного среднего чека можно сделать предположение, что в данных есть аномалии, выбросы, которые в последующей работе нужно будет найти и выяснить их влияние, в результате от них нужно будет избавиться, ведь они могут искажать данные и давать ложные результаты. Об имеющихся аномалиях свидетельствуют резкие скачки на графике. Подтвердилось предположение, сделанное в предыдущем шаге."
   ]
  },
  {
   "cell_type": "markdown",
   "metadata": {},
   "source": [
    "### Постройте график кумулятивной конверсии по группам. Сделайте выводы и предположения."
   ]
  },
  {
   "cell_type": "code",
   "execution_count": 29,
   "metadata": {},
   "outputs": [],
   "source": [
    "# считаем кумулятивную конверсию\n",
    "cumulativeData['conversion'] = cumulativeData['orders']/cumulativeData['visitors']\n",
    "\n",
    "# отделяем данные по группе A\n",
    "cumulativeDataA = cumulativeData[cumulativeData['group']=='A']\n",
    "\n",
    "# отделяем данные по группе B\n",
    "cumulativeDataB = cumulativeData[cumulativeData['group']=='B']"
   ]
  },
  {
   "cell_type": "code",
   "execution_count": 30,
   "metadata": {},
   "outputs": [
    {
     "data": {
      "image/png": "[encoded data removed]",
      "text/plain": [
       "<Figure size 1080x432 with 1 Axes>"
      ]
     },
     "metadata": {
      "needs_background": "light"
     },
     "output_type": "display_data"
    }
   ],
   "source": [
    "plt.figure(figsize=(15,6))\n",
    "plt.plot(cumulativeDataA['date'], cumulativeDataA['conversion'], label='A')\n",
    "plt.plot(cumulativeDataB['date'], cumulativeDataB['conversion'], label='B')\n",
    "plt.ylabel('Конверсия')\n",
    "plt.xlabel('Дата')\n",
    "plt.title('Графики кумулятивной конверсии по группам А/В')\n",
    "plt.grid()\n",
    "plt.legend();"
   ]
  },
  {
   "cell_type": "markdown",
   "metadata": {},
   "source": [
    "# Вывод:\n",
    "По полученному графику делаем вывод, что конверсия группы В показывает отличные результаты в отличиие от конверсии группы А, она значительно выше и относительно стабильна. Это значит, что пользователи группы В чаще всего совершают какие-то действия на сайте интернет-магазина, а также совершают покупки, тем самым переходя увеличивают прибыль магазина."
   ]
  },
  {
   "cell_type": "markdown",
   "metadata": {},
   "source": [
    "### Постройте график относительного изменения кумулятивной конверсии группы B к группе A. Сделайте выводы и предположения."
   ]
  },
  {
   "cell_type": "code",
   "execution_count": 31,
   "metadata": {},
   "outputs": [],
   "source": [
    "mergedCumulativeConversions = cumulativeDataA[['date','conversion']].merge(cumulativeDataB[['date','conversion']], left_on='date', right_on='date', how='left', suffixes=['A', 'B'])"
   ]
  },
  {
   "cell_type": "code",
   "execution_count": 32,
   "metadata": {},
   "outputs": [
    {
     "data": {
      "image/png": "[encoded data removed]",
      "text/plain": [
       "<Figure size 1080x432 with 1 Axes>"
      ]
     },
     "metadata": {
      "needs_background": "light"
     },
     "output_type": "display_data"
    }
   ],
   "source": [
    "plt.figure(figsize=(15,6))\n",
    "plt.plot(mergedCumulativeConversions['date'], mergedCumulativeConversions['conversionB']/mergedCumulativeConversions['conversionA']-1, label=\"Относительный прирост конверсии группы B относительно группы A\")\n",
    "plt.ylabel('Отношение кумулятивной конверсии группы В к группе А')\n",
    "plt.xlabel('Дата')\n",
    "plt.title('Графики кумулятивного относительного изменения конверси руппы В к группе А')\n",
    "plt.axhline(y=0, color='black', linestyle='--')\n",
    "plt.axhline(y=-0.1, color='grey', linestyle='--')\n",
    "plt.grid()\n",
    "plt.show()"
   ]
  },
  {
   "cell_type": "markdown",
   "metadata": {},
   "source": [
    "# Вывод:\n",
    "По полученному графику можно сделать вывод, что конверсии группы В стабильно больше и лучше конверсии группы А на 10% по истечению 1 недели. Это хороший результат. В промежуточных исследованиях группа В показывает стабильно высокие результаты в отличие от группы А."
   ]
  },
  {
   "cell_type": "code",
   "execution_count": 33,
   "metadata": {},
   "outputs": [
    {
     "data": {
      "image/png": "[encoded data removed]",
      "text/plain": [
       "<Figure size 1080x432 with 1 Axes>"
      ]
     },
     "metadata": {
      "needs_background": "light"
     },
     "output_type": "display_data"
    }
   ],
   "source": [
    "# ячейка ревьюера:\n",
    "plt.figure(figsize=(15,6))\n",
    "plt.plot(mergedCumulativeConversions['date'], mergedCumulativeConversions['conversionB']/mergedCumulativeConversions['conversionA']-1, label=\"Относительный прирост конверсии группы B относительно группы A\")\n",
    "plt.ylabel('Конверсия')\n",
    "plt.xlabel('Дата')\n",
    "plt.title('Графики кумулятивного относительного изменения конверси руппы В к группе А')\n",
    "plt.axhline(y=0, color='black', linestyle='--')\n",
    "plt.axhline(y=0.1, color='grey', linestyle='--', label = '10%')\n",
    "plt.axhline(y=((mergedCumulativeConversions.query('date > \"2019-08-13\"')['conversionB']/\\\n",
    "                mergedCumulativeConversions.query('date > \"2019-08-13\"')['conversionA']-1).mean()), \n",
    "                color='red', linestyle='--', label = 'Отношение с 14 числа')\n",
    "plt.legend()\n",
    "plt.show()"
   ]
  },
  {
   "cell_type": "markdown",
   "metadata": {},
   "source": [
    "## Изучение аномалий"
   ]
  },
  {
   "cell_type": "markdown",
   "metadata": {},
   "source": [
    "### Постройте точечный график количества заказов по пользователям. Сделайте выводы и предположения."
   ]
  },
  {
   "cell_type": "code",
   "execution_count": 34,
   "metadata": {},
   "outputs": [
    {
     "name": "stdout",
     "output_type": "stream",
     "text": [
      "       visitorId  transactionId\n",
      "1023  4256040402             11\n",
      "591   2458001652             11\n",
      "569   2378935119              9\n",
      "487   2038680547              8\n",
      "44     199603092              5\n"
     ]
    }
   ],
   "source": [
    "ordersByUsers = (\n",
    "    orders.groupby('visitorId', as_index=False)\n",
    "    .agg({'transactionId': pd.Series.nunique})\n",
    ")\n",
    "\n",
    "ordersByUsers.columns = ['visitorId', 'transactionId']\n",
    "\n",
    "print(ordersByUsers.sort_values(by='transactionId', ascending=False).head()) "
   ]
  },
  {
   "cell_type": "code",
   "execution_count": 35,
   "metadata": {},
   "outputs": [
    {
     "data": {
      "image/png": "[encoded data removed]",
      "text/plain": [
       "<Figure size 720x288 with 1 Axes>"
      ]
     },
     "metadata": {
      "needs_background": "light"
     },
     "output_type": "display_data"
    }
   ],
   "source": [
    "plt.figure(figsize=(10,4))\n",
    "plt.hist(ordersByUsers['transactionId'])\n",
    "plt.xlabel('Количество заказов')\n",
    "plt.ylabel('Количество пользователей')\n",
    "plt.title('Гистрограмма распределения количества заказов на одного пользователя')\n",
    "plt.show()"
   ]
  },
  {
   "cell_type": "code",
   "execution_count": 36,
   "metadata": {},
   "outputs": [
    {
     "data": {
      "image/png": "[encoded data removed]",
      "text/plain": [
       "<Figure size 720x288 with 1 Axes>"
      ]
     },
     "metadata": {
      "needs_background": "light"
     },
     "output_type": "display_data"
    }
   ],
   "source": [
    "x_values = pd.Series(range(0, len(ordersByUsers)))\n",
    "plt.figure(figsize=(10,4))\n",
    "plt.scatter(x_values, ordersByUsers['transactionId'])\n",
    "plt.xlabel('Количество пользователей')\n",
    "plt.ylabel('Количество заказов')\n",
    "plt.title('Точечная диаграмма числа заказов на одного пользователя')\n",
    "plt.axhline(y=np.percentile(ordersByUsers['transactionId'], 99), color='green', linestyle='--', label = '99 перцентиль')\n",
    "plt.axhline(y=np.percentile(ordersByUsers['transactionId'], 95), color='red', linestyle='--', label = '95 перцентиль')\n",
    "plt.show();"
   ]
  },
  {
   "cell_type": "markdown",
   "metadata": {},
   "source": [
    "# Вывод:\n",
    "По полученным графикам можно сделать вывод, что большинство пользователей совершают один заказ, но доля пользователей, совершающих 2 заказа тоже значительна, в этом убедились при построении точечной диаграммы, также стало ясно, что существует доля пользователей, совершающих более 2-х покупок, пока неясно считать их аномалиями или нет. Это предстоит проверить."
   ]
  },
  {
   "cell_type": "markdown",
   "metadata": {},
   "source": [
    "### Посчитайте 95-й и 99-й перцентили количества заказов на пользователя. Выберите границу для определения аномальных пользователей."
   ]
  },
  {
   "cell_type": "code",
   "execution_count": 70,
   "metadata": {},
   "outputs": [
    {
     "data": {
      "text/plain": [
       "array([1., 2., 4.])"
      ]
     },
     "metadata": {},
     "output_type": "display_data"
    }
   ],
   "source": [
    "display(np.percentile(ordersByUsers['transactionId'], [90, 95, 99]))"
   ]
  },
  {
   "cell_type": "markdown",
   "metadata": {},
   "source": [
    "# Вывод:\n",
    "При подсчете перцентилей стало ясно, что не более 5% пользователей совершали более двух заказов и только 1% пользователей совершали более 4 заказов. Стоит выделить 2 заказа на одного пользователя за нижнюю границу числа заказов и отсеять аномальных пользователей по ней. "
   ]
  },
  {
   "cell_type": "markdown",
   "metadata": {},
   "source": [
    "### Постройте точечный график стоимостей заказов. Сделайте выводы и предположения."
   ]
  },
  {
   "cell_type": "code",
   "execution_count": 38,
   "metadata": {},
   "outputs": [
    {
     "data": {
      "image/png": "[encoded data removed]",
      "text/plain": [
       "<Figure size 720x288 with 1 Axes>"
      ]
     },
     "metadata": {
      "needs_background": "light"
     },
     "output_type": "display_data"
    }
   ],
   "source": [
    "plt.figure(figsize=(10,4))\n",
    "plt.hist(orders['revenue'], range=(0,100000), bins = 100) \n",
    "plt.xlabel('Стоимость заказов')\n",
    "plt.ylabel('Количество пользователей')\n",
    "plt.title('Гистрограмма распределения стоимости заказов на одного пользователя')\n",
    "plt.show()"
   ]
  },
  {
   "cell_type": "code",
   "execution_count": 39,
   "metadata": {},
   "outputs": [
    {
     "data": {
      "image/png": "[encoded data removed]",
      "text/plain": [
       "<Figure size 720x288 with 1 Axes>"
      ]
     },
     "metadata": {
      "needs_background": "light"
     },
     "output_type": "display_data"
    }
   ],
   "source": [
    "x_values = pd.Series(range(0, len(orders)))\n",
    "plt.figure(figsize=(10,4))\n",
    "plt.scatter(x_values, orders['revenue'])\n",
    "plt.axis([0, 1200, 0, 200000])\n",
    "plt.ylabel('Стоимость заказов')\n",
    "plt.xlabel('Количество пользователей')\n",
    "plt.title('Точечная диаграмма стоимости заказов на одного пользователя')\n",
    "plt.axhline(y=np.percentile(orders['revenue'], 99), color='green', linestyle='--', label = '99 перцентиль')\n",
    "plt.axhline(y=np.percentile(orders['revenue'], 95), color='red', linestyle='--', label = '95 перцентиль')\n",
    "plt.legend()\n",
    "plt.show()"
   ]
  },
  {
   "cell_type": "code",
   "execution_count": 40,
   "metadata": {},
   "outputs": [
    {
     "data": {
      "image/png": "[encoded data removed]",
      "text/plain": [
       "<Figure size 720x288 with 1 Axes>"
      ]
     },
     "metadata": {
      "needs_background": "light"
     },
     "output_type": "display_data"
    }
   ],
   "source": [
    "x_values = pd.Series(range(0, len(orders)))\n",
    "plt.figure(figsize=(10,4))\n",
    "plt.scatter(x_values, orders['revenue'])\n",
    "#plt.axis([0, 1200, 0, 200000])\n",
    "plt.ylabel('Стоимость заказов')\n",
    "plt.xlabel('Количество пользователей')\n",
    "plt.title('Точечная диаграмма стоимости заказов на одного пользователя')\n",
    "plt.axhline(y=np.percentile(orders['revenue'], 99), color='green', linestyle='--', label = '99 перцентиль')\n",
    "plt.axhline(y=np.percentile(orders['revenue'], 95), color='red', linestyle='--', label = '95 перцентиль')\n",
    "plt.legend()\n",
    "plt.show()"
   ]
  },
  {
   "cell_type": "markdown",
   "metadata": {},
   "source": [
    "# Вывод:\n",
    "По полученным графикам можно сделать вывод, что большая доля пользователей совершает покупки на сумму не более 25 - 30 тысяч рублей. Но встречаются и аномально большие суммы за одну покупку, что может являться выбросом, ведь такие значения в несколько раз превышают средние значения."
   ]
  },
  {
   "cell_type": "markdown",
   "metadata": {},
   "source": [
    "### Посчитайте 95-й и 99-й перцентили стоимости заказов. Выберите границу для определения аномальных заказов."
   ]
  },
  {
   "cell_type": "code",
   "execution_count": 71,
   "metadata": {},
   "outputs": [
    {
     "data": {
      "text/plain": [
       "array([28000. , 58233.2])"
      ]
     },
     "metadata": {},
     "output_type": "display_data"
    }
   ],
   "source": [
    "display(np.percentile(orders['revenue'], [95, 99]))"
   ]
  },
  {
   "cell_type": "markdown",
   "metadata": {},
   "source": [
    "# Вывод:\n",
    "При подсчете перцентилей стало ясно, что не более 5% пользователей совершали покупки на сумму более 28 тысяч рублей и только 1% пользователей совершали покупки на 58 233. Стоит выделить 28 тысяч рублей за среднюю сумму заказа на одного пользователя за нижнюю границу стоимости заказов и отсеять аномальных пользователей по ней. "
   ]
  },
  {
   "cell_type": "markdown",
   "metadata": {},
   "source": [
    "### Посчитайте статистическую значимость различий в конверсии между группами по «сырым» данным. Сделайте выводы и предположения."
   ]
  },
  {
   "cell_type": "code",
   "execution_count": 42,
   "metadata": {},
   "outputs": [],
   "source": [
    "ordersByUsersA = (\n",
    "    orders[orders['group'] == 'A']\n",
    "    .groupby('visitorId', as_index=False)\n",
    "    .agg({'transactionId': pd.Series.nunique})\n",
    ")\n",
    "ordersByUsersA.columns = ['visitorId', 'orders']\n",
    "\n",
    "ordersByUsersB = (\n",
    "    orders[orders['group'] == 'B']\n",
    "    .groupby('visitorId', as_index=False)\n",
    "    .agg({'transactionId': pd.Series.nunique})\n",
    ")\n",
    "ordersByUsersB.columns = ['visitorId', 'orders']"
   ]
  },
  {
   "cell_type": "markdown",
   "metadata": {},
   "source": [
    "Cоставим списки кол-ва заказов sampleA и sampleB со всеми пользователями (в том числе и не купившими) по группам "
   ]
  },
  {
   "cell_type": "code",
   "execution_count": 43,
   "metadata": {},
   "outputs": [],
   "source": [
    "list_orders_1 =[]\n",
    "for i in range(0,(visitors[visitors['group']=='A']['visitors'].sum()-len(ordersByUsersA))):\n",
    "    list_orders_1.append(0)\n",
    "orders_by_non_purchased_users_A = pd.Series(data = list_orders_1, name = 'orders')\n",
    "\n",
    "list_orders_2 =[]\n",
    "for i in range(0,(visitors[visitors['group']=='B']['visitors'].sum()-len(ordersByUsersB))):\n",
    "    list_orders_2.append(0)\n",
    "orders_by_non_purchased_users_B = pd.Series(data = list_orders_2, name = 'orders')"
   ]
  },
  {
   "cell_type": "code",
   "execution_count": 44,
   "metadata": {},
   "outputs": [
    {
     "name": "stdout",
     "output_type": "stream",
     "text": [
      "Статистическая значимость: 0.017\n",
      "Относительный прирост конверсии группы В по отношению к группе А: 0.138\n"
     ]
    }
   ],
   "source": [
    "sampleA = pd.concat([ordersByUsersA['orders'],orders_by_non_purchased_users_A],axis=0)\n",
    "\n",
    "sampleB = pd.concat([ordersByUsersB['orders'],orders_by_non_purchased_users_B],axis=0)\n",
    "\n",
    "\n",
    "print(\"Статистическая значимость: {0:.3f}\".format(st.mannwhitneyu(sampleA, sampleB)[1]))\n",
    "\n",
    "print(\"Относительный прирост конверсии группы В по отношению к группе А: {0:.3f}\".format(sampleB.mean() / sampleA.mean() - 1))"
   ]
  },
  {
   "cell_type": "markdown",
   "metadata": {},
   "source": [
    "- Нулевая гипотеза: Разница в конверсии \"сырых\" данных групп A и B статистически не значима\n",
    "- Альтернативная гипотеза: Разница в конверсии \"сырых\" данных групп A и B статистически значима\n",
    "- Уровень статистической значимости: 5%"
   ]
  },
  {
   "cell_type": "code",
   "execution_count": 45,
   "metadata": {},
   "outputs": [
    {
     "name": "stdout",
     "output_type": "stream",
     "text": [
      "p-value: 0.016792355056752608\n",
      "Разница в конверсии \"сырых\" данных групп A и B статистически значима\n"
     ]
    }
   ],
   "source": [
    "alpha = 0.05\n",
    "results = st.mannwhitneyu(sampleA, sampleB)\n",
    "print('p-value: {}'.format(results.pvalue))\n",
    "if results.pvalue < alpha:\n",
    "    print('Разница в конверсии \"сырых\" данных групп A и B статистически значима')\n",
    "else:\n",
    "    print('Разница в конверсии \"сырых\" данных групп A и B статистически не значима')"
   ]
  },
  {
   "cell_type": "markdown",
   "metadata": {},
   "source": [
    "# Вывод:\n",
    "По полученным данным делаем следующие выводы - статистическая значимость(p-value) равна 0.008 меньше заданного p-value 0.05, из этого следует, что разница статистически значима в конверсии между группами. Относительное превосходство группы В над группой А равно 13.8%."
   ]
  },
  {
   "cell_type": "markdown",
   "metadata": {},
   "source": [
    "### Посчитайте статистическую значимость различий в среднем чеке заказа между группами по «сырым» данным. Сделайте выводы и предположения."
   ]
  },
  {
   "cell_type": "code",
   "execution_count": 46,
   "metadata": {},
   "outputs": [
    {
     "name": "stdout",
     "output_type": "stream",
     "text": [
      "Статистическая значимость: 0.729\n",
      "Относительное различие в среднем чеке группы В по отношению к группе А: 0.259\n"
     ]
    }
   ],
   "source": [
    "print('Статистическая значимость: {0:.3f}'.format(st.mannwhitneyu(orders[orders['group']=='A']['revenue'], orders[orders['group']=='B']['revenue'])[1]))\n",
    "print('Относительное различие в среднем чеке группы В по отношению к группе А: {0:.3f}'.format(orders[orders['group']=='B']['revenue'].mean()/orders[orders['group']=='A']['revenue'].mean()-1)) "
   ]
  },
  {
   "cell_type": "markdown",
   "metadata": {},
   "source": [
    "- Нулевая гипотеза: Разница в среднем чеке \"сырых\" данных групп A и B статистически не значима\n",
    "- Альтернативная гипотеза: Разница в среднем чеке \"сырых\" данных групп A и B статистически значима\n",
    "- Уровень статистической значимости: 5%"
   ]
  },
  {
   "cell_type": "code",
   "execution_count": 47,
   "metadata": {},
   "outputs": [
    {
     "name": "stdout",
     "output_type": "stream",
     "text": [
      "p-value: 0.7292909855432458\n",
      "Разница в среднем чеке \"сырых\" данных групп A и B статистически не значима\n"
     ]
    }
   ],
   "source": [
    "alpha = 0.05\n",
    "results = st.mannwhitneyu(orders[orders['group']=='A']['revenue'], orders[orders['group']=='B']['revenue'])\n",
    "print('p-value: {}'.format(results.pvalue))\n",
    "if results.pvalue < alpha:\n",
    "    print('Разница в среднем чеке \"сырых\" данных групп A и B статистически значима')\n",
    "else:\n",
    "    print('Разница в среднем чеке \"сырых\" данных групп A и B статистически не значима')"
   ]
  },
  {
   "cell_type": "markdown",
   "metadata": {},
   "source": [
    "# Вывод:\n",
    "По полученным результатам делаем следующие выводы: p-value больше заданной статистической значимости и равен 0.365, это означает, что разницы в среднем чеке групп А и В нет. Но тем не менее средний чек группы В намного превышает средний чек группы А - на 25.9%. Но в то же время различия среднего чека группы В и среднего чека группы А не являются статистически значимыми."
   ]
  },
  {
   "cell_type": "markdown",
   "metadata": {},
   "source": [
    "## \"Очищенные\" данные"
   ]
  },
  {
   "cell_type": "markdown",
   "metadata": {},
   "source": [
    "### Посчитайте статистическую значимость различий в конверсии между группами по «очищенным» данным. Сделайте выводы и предположения."
   ]
  },
  {
   "cell_type": "markdown",
   "metadata": {},
   "source": [
    "Ранее было выяснено, что подавляющее большинство пользователей совершает не  более 2 заказов, а сумма 1 покупки в большинстве случаев не превышает 28 000. Очистим данные от аномальных пользователей, которые превышают данные пороговые значения."
   ]
  },
  {
   "cell_type": "markdown",
   "metadata": {},
   "source": [
    "Узнаем и посчитаем аномальных пользователей"
   ]
  },
  {
   "cell_type": "code",
   "execution_count": 48,
   "metadata": {},
   "outputs": [
    {
     "name": "stdout",
     "output_type": "stream",
     "text": [
      "1099    148427295\n",
      "18      199603092\n",
      "928     204675465\n",
      "23      237748145\n",
      "37      249864742\n",
      "Name: visitorId, dtype: int64\n",
      "Количество аномальных пользователей: (74,)\n"
     ]
    }
   ],
   "source": [
    "usersWithManyOrders = pd.concat(\n",
    "    [\n",
    "        ordersByUsersA[ordersByUsersA['orders'] > 2]['visitorId'],\n",
    "        ordersByUsersB[ordersByUsersB['orders'] > 2]['visitorId'],\n",
    "    ],\n",
    "    axis=0,\n",
    ")\n",
    "revenue_lim = np.percentile(orders['revenue'], 95)\n",
    "usersWithExpensiveOrders = orders[orders['revenue'] > revenue_lim]['visitorId']\n",
    "abnormalUsers = (\n",
    "    pd.concat([usersWithManyOrders, usersWithExpensiveOrders], axis=0)\n",
    "    .drop_duplicates()\n",
    "    .sort_values()\n",
    ")\n",
    "print(abnormalUsers.head(5))\n",
    "print('Количество аномальных пользователей:', abnormalUsers.shape)"
   ]
  },
  {
   "cell_type": "markdown",
   "metadata": {},
   "source": [
    "Узнаем как их действия повлияли на результаты теста"
   ]
  },
  {
   "cell_type": "code",
   "execution_count": 49,
   "metadata": {},
   "outputs": [
    {
     "name": "stdout",
     "output_type": "stream",
     "text": [
      "Относительный прирост конверсии группы B по отношению к группе A после очистки данных: 0.173\n"
     ]
    }
   ],
   "source": [
    "sampleAFiltered = pd.concat([\n",
    "    ordersByUsersA[np.logical_not(ordersByUsersA['visitorId'].isin(abnormalUsers))]['orders'],\n",
    "    orders_by_non_purchased_users_A\n",
    "], axis = 0)\n",
    "sampleBFiltered = pd.concat([\n",
    "    ordersByUsersB[np.logical_not(ordersByUsersB['visitorId'].isin(abnormalUsers))]['orders'],\n",
    "    orders_by_non_purchased_users_B\n",
    "], axis = 0)\n",
    "print('Относительный прирост конверсии группы B по отношению к группе A после очистки данных: {:.3f}'.format(sampleBFiltered.mean()/sampleAFiltered.mean()-1))"
   ]
  },
  {
   "cell_type": "markdown",
   "metadata": {},
   "source": [
    "- Нулевая гипотеза: Разница в конверсии \"очищенных\" данных групп A и B статистически не значима\n",
    "- Альтернативная гипотеза: Разница в конверсии \"очищенных\" данных групп A и B статистически значима\n",
    "- Уровень статистической значимости: 5%"
   ]
  },
  {
   "cell_type": "code",
   "execution_count": 50,
   "metadata": {},
   "outputs": [
    {
     "name": "stdout",
     "output_type": "stream",
     "text": [
      "p-value: 0.013042592743036745\n",
      "Разница в конверсии \"очищенных\" данных групп A и B статистически значима\n"
     ]
    }
   ],
   "source": [
    "results = st.mannwhitneyu(sampleAFiltered, sampleBFiltered)\n",
    "print('p-value: {}'.format(results.pvalue))\n",
    "if results.pvalue < alpha:\n",
    "    print('Разница в конверсии \"очищенных\" данных групп A и B статистически значима')\n",
    "else:\n",
    "    print('Разница в конверсии \"очищенных\" данных групп A и B статистически не значима')"
   ]
  },
  {
   "cell_type": "markdown",
   "metadata": {},
   "source": [
    "# Вывод:\n",
    "По полученным результатам делаем вывод, что относительный прирост конверсии по \"очищенным\" данным изменился и стал 17.3%, в то время как по \"сырым\" данным относительный прирост составлял 13.8% и эта разница статистически значима. Относительный прирост конверсии группы В стал еще больше. p-value почти не изменился. Посмотрим на средний чек. "
   ]
  },
  {
   "cell_type": "markdown",
   "metadata": {},
   "source": [
    "### Посчитайте статистическую значимость различий в среднем чеке заказа между группами по «очищенным» данным. Сделайте выводы и предположения."
   ]
  },
  {
   "cell_type": "code",
   "execution_count": 51,
   "metadata": {},
   "outputs": [
    {
     "name": "stdout",
     "output_type": "stream",
     "text": [
      "Относительное изменение среднего чека в группе B по отношению группы A после очистки данных: -0.020\n"
     ]
    }
   ],
   "source": [
    "print('Относительное изменение среднего чека в группе B по отношению группы A после очистки данных: {:.3f}'.format(\n",
    "orders[np.logical_and(orders['group']=='B', np.logical_not(orders['visitorId'].isin(abnormalUsers)))]['revenue'].mean()\\\n",
    "/orders[np.logical_and(orders['group']=='A', np.logical_not(orders['visitorId'].isin(abnormalUsers)))]['revenue'].mean()-1))\n",
    "       "
   ]
  },
  {
   "cell_type": "markdown",
   "metadata": {},
   "source": [
    "- Нулевая гипотеза: Разница в среднем чеке \"очищенных\" данных групп A и B статистически не значима\n",
    "- Альтернативная гипотеза: Разница в среднем чеке \"очищенных\" данных групп A и B статистически значима\n",
    "- Уровень статистической значимости: 5%"
   ]
  },
  {
   "cell_type": "code",
   "execution_count": 52,
   "metadata": {},
   "outputs": [
    {
     "name": "stdout",
     "output_type": "stream",
     "text": [
      "p-value: 0.738481751314565\n",
      "Разница в среднем чеке \"очищенных\" данных групп A и B статистически не значима\n"
     ]
    }
   ],
   "source": [
    "results = st.mannwhitneyu(orders[np.logical_and(orders['group']=='A', np.logical_not(orders['visitorId'].isin(abnormalUsers)))]['revenue'],\n",
    "                             orders[np.logical_and(orders['group']=='B', np.logical_not(orders['visitorId'].isin(abnormalUsers)))]['revenue'])\n",
    "print('p-value: {}'.format(results.pvalue))\n",
    "if results.pvalue < alpha:\n",
    "    print('Разница в среднем чеке \"очищенных\" данных групп A и B статистически значима')\n",
    "else:\n",
    "    print('Разница в среднем чеке \"очищенных\" данных групп A и B статистически не значима')"
   ]
  },
  {
   "cell_type": "markdown",
   "metadata": {},
   "source": [
    "# Вывод:\n",
    "По полученным результатам делаем вывод, что по \"очищенным\" данным Относительное изменение среднего чека группы В по отношению к группе А уменьшилось,т.е. относительный проигрыш группы В равен 2% соответственно разница между средними чеками стала минимальна. p-value также стабилен и почти не изменился."
   ]
  },
  {
   "cell_type": "markdown",
   "metadata": {},
   "source": [
    "## Имеющиеся факты:\n",
    "- По \"сырым\" данным в конверсии групп A и B разница статистически значима\n",
    "- По \"сырым\" данным разницы в среднем чеке групп A и B нет\n",
    "- По \"очищенным\" данным в конверсии групп A и B разница статистически значима\n",
    "- По \"очищенным\" данным разницы в средних чеках в группах A и B нет\n",
    "Стоит также обратить внимание, что кумулятивные метрики по выручке, среднему чеку и конверсии почти все время лидировала группа B. \n"
   ]
  },
  {
   "cell_type": "markdown",
   "metadata": {},
   "source": [
    "## Общий вывод:\n",
    "При исследовательском анализе интернет-магазина, целью которого было приоритизировать гипотезы, запустить А/В-тестирование и оценить результаты, столкнулись со следующими проблемами с данными:  понадобилась замена типов для дат в таких столбцах, как date из таблицы orders и date в таблице visitors с помощью метода map(), который позволяет применить lambda-функцию к каждому значению в столбце. Для удобства в работе привелии названия столбцов в таблице hypothesis к нижнему регистру. Также были обнаружены пользователи, которые встречались в обеих группах, вследствие чего они были удалены, чтобы не искажать результаты проводимого исследования. Выборка данных имеет корректный размер, проблема подглядывания была исключена.\n",
    "С помощью способов приоритизации задач ICE и RICE выяснилось, что в первую очередь стоит начать проверять гипотезы под номерами 7, 2 и 0 :\n",
    "- Добавить форму подписки на все основные страницы, чтобы собрать базу клиентов для email-рассылок\n",
    "- Добавить блоки рекомендаций товаров на сайт интернет магазина, чтобы повысить конверсию и средний чек заказа\n",
    "- Добавить два новых канала привлечения трафика, что позволит привлекать на 30% больше пользователей.\n",
    "\n",
    " При изучении графиков кумулятивных метрик по выручке, среднему чеку и конверсии почти все время лидирующие позиции занимала группа В. Из-за резких колебаний на графике кумулятивного среднего чека группы В выяснилось, что в данных есть аномалии и выбросы, поэтому были выяснены пороговые значения, по которым в дальнейшем были отфильтрованы данные. Выяснилось, что пользователи совершают не более 2 заказов и средний чек одной покупки равен 28 000.\n",
    "  После фильтрации данных разница между средними чеками стала минимальна. В то же время До и после очистки данных, показатель конверсии в группе B превосходил показатель конверсии в группе A. В \"сырых\" данных он был равен 13.8%, в \"очищенных\" данных он стал даже больше и составил 17.3%. Что свидетельствует об успешных результатах теста. Данная разница в показателях конверсии является статистически значимой, что свидетельствует о том, что А/В-тестирование можно остановить и зафиксировать победу за группой В, ведь на протяжении всего исследования результатов группа В занимала лидирующие позиции и показывала хорошие результаты."
   ]
  }
 ],
 "metadata": {
  "ExecuteTimeLog": [
   {
    "duration": 1134,
    "start_time": "2022-03-07T12:45:33.973Z"
   },
   {
    "duration": 67,
    "start_time": "2022-03-07T12:47:17.124Z"
   },
   {
    "duration": 6,
    "start_time": "2022-03-07T12:48:25.042Z"
   },
   {
    "duration": 27,
    "start_time": "2022-03-07T12:49:35.712Z"
   },
   {
    "duration": 343,
    "start_time": "2022-03-07T12:50:12.786Z"
   },
   {
    "duration": 5,
    "start_time": "2022-03-07T12:50:21.040Z"
   },
   {
    "duration": 296,
    "start_time": "2022-03-07T12:53:04.259Z"
   },
   {
    "duration": 28,
    "start_time": "2022-03-07T12:53:19.954Z"
   },
   {
    "duration": 6,
    "start_time": "2022-03-07T12:54:25.490Z"
   },
   {
    "duration": 1134,
    "start_time": "2022-03-07T13:14:31.677Z"
   },
   {
    "duration": 5,
    "start_time": "2022-03-07T13:15:01.428Z"
   },
   {
    "duration": 62,
    "start_time": "2022-03-07T13:15:02.444Z"
   },
   {
    "duration": 9,
    "start_time": "2022-03-07T13:15:03.101Z"
   },
   {
    "duration": 30,
    "start_time": "2022-03-07T13:15:03.293Z"
   },
   {
    "duration": 5,
    "start_time": "2022-03-07T13:15:04.060Z"
   },
   {
    "duration": 28,
    "start_time": "2022-03-07T13:15:04.453Z"
   },
   {
    "duration": 5,
    "start_time": "2022-03-07T13:15:05.521Z"
   },
   {
    "duration": 1120,
    "start_time": "2022-03-07T13:15:06.836Z"
   },
   {
    "duration": 1199,
    "start_time": "2022-03-07T13:15:55.770Z"
   },
   {
    "duration": 4,
    "start_time": "2022-03-07T13:16:39.201Z"
   },
   {
    "duration": 80,
    "start_time": "2022-03-07T13:16:41.306Z"
   },
   {
    "duration": 7,
    "start_time": "2022-03-07T13:16:42.302Z"
   },
   {
    "duration": 33,
    "start_time": "2022-03-07T13:16:42.522Z"
   },
   {
    "duration": 7,
    "start_time": "2022-03-07T13:16:43.370Z"
   },
   {
    "duration": 33,
    "start_time": "2022-03-07T13:16:43.571Z"
   },
   {
    "duration": 5,
    "start_time": "2022-03-07T13:16:44.858Z"
   },
   {
    "duration": 1185,
    "start_time": "2022-03-07T13:16:46.129Z"
   },
   {
    "duration": 1166,
    "start_time": "2022-03-07T13:17:01.708Z"
   },
   {
    "duration": 10,
    "start_time": "2022-03-07T13:18:15.150Z"
   },
   {
    "duration": 1211,
    "start_time": "2022-03-07T13:19:02.205Z"
   },
   {
    "duration": 1248,
    "start_time": "2022-03-07T13:19:18.171Z"
   },
   {
    "duration": 1598,
    "start_time": "2022-03-07T13:19:24.836Z"
   },
   {
    "duration": 1209,
    "start_time": "2022-03-07T13:20:00.718Z"
   },
   {
    "duration": 5,
    "start_time": "2022-03-07T13:20:15.578Z"
   },
   {
    "duration": 13,
    "start_time": "2022-03-07T13:20:37.634Z"
   },
   {
    "duration": 6,
    "start_time": "2022-03-07T13:20:38.746Z"
   },
   {
    "duration": 5,
    "start_time": "2022-03-07T13:21:14.997Z"
   },
   {
    "duration": 4,
    "start_time": "2022-03-07T13:22:32.895Z"
   },
   {
    "duration": 1158,
    "start_time": "2022-03-07T13:26:36.583Z"
   },
   {
    "duration": 1149,
    "start_time": "2022-03-07T13:26:47.188Z"
   },
   {
    "duration": 4,
    "start_time": "2022-03-07T13:27:06.179Z"
   },
   {
    "duration": 5,
    "start_time": "2022-03-07T13:27:33.289Z"
   },
   {
    "duration": 4,
    "start_time": "2022-03-07T13:27:51.622Z"
   },
   {
    "duration": 256,
    "start_time": "2022-03-07T14:22:26.738Z"
   },
   {
    "duration": 280,
    "start_time": "2022-03-07T14:22:54.055Z"
   },
   {
    "duration": 10,
    "start_time": "2022-03-07T14:23:47.274Z"
   },
   {
    "duration": 9,
    "start_time": "2022-03-07T14:23:57.496Z"
   },
   {
    "duration": 10,
    "start_time": "2022-03-07T14:26:18.498Z"
   },
   {
    "duration": 10,
    "start_time": "2022-03-07T14:27:11.149Z"
   },
   {
    "duration": 12,
    "start_time": "2022-03-07T14:28:02.693Z"
   },
   {
    "duration": 305,
    "start_time": "2022-03-07T14:29:20.413Z"
   },
   {
    "duration": 4,
    "start_time": "2022-03-07T14:29:43.462Z"
   },
   {
    "duration": 112,
    "start_time": "2022-03-07T14:53:38.570Z"
   },
   {
    "duration": 6097,
    "start_time": "2022-03-07T15:13:18.619Z"
   },
   {
    "duration": 6160,
    "start_time": "2022-03-07T15:14:05.003Z"
   },
   {
    "duration": 8,
    "start_time": "2022-03-07T15:14:52.324Z"
   },
   {
    "duration": 278,
    "start_time": "2022-03-07T15:19:15.500Z"
   },
   {
    "duration": 9,
    "start_time": "2022-03-07T15:19:19.369Z"
   },
   {
    "duration": 13,
    "start_time": "2022-03-07T15:19:20.429Z"
   },
   {
    "duration": 8,
    "start_time": "2022-03-07T15:19:32.828Z"
   },
   {
    "duration": 8,
    "start_time": "2022-03-07T15:19:47.042Z"
   },
   {
    "duration": 12,
    "start_time": "2022-03-07T15:19:49.712Z"
   },
   {
    "duration": 20,
    "start_time": "2022-03-07T15:21:43.889Z"
   },
   {
    "duration": 7,
    "start_time": "2022-03-07T15:23:14.202Z"
   },
   {
    "duration": 51,
    "start_time": "2022-03-07T15:23:14.836Z"
   },
   {
    "duration": 6,
    "start_time": "2022-03-07T15:23:15.531Z"
   },
   {
    "duration": 28,
    "start_time": "2022-03-07T15:23:15.713Z"
   },
   {
    "duration": 6,
    "start_time": "2022-03-07T15:23:16.757Z"
   },
   {
    "duration": 27,
    "start_time": "2022-03-07T15:23:17.249Z"
   },
   {
    "duration": 6,
    "start_time": "2022-03-07T15:23:18.365Z"
   },
   {
    "duration": 13,
    "start_time": "2022-03-07T15:23:19.517Z"
   },
   {
    "duration": 5,
    "start_time": "2022-03-07T15:23:19.948Z"
   },
   {
    "duration": 5,
    "start_time": "2022-03-07T15:23:20.381Z"
   },
   {
    "duration": 9,
    "start_time": "2022-03-07T15:23:21.448Z"
   },
   {
    "duration": 13,
    "start_time": "2022-03-07T15:23:22.468Z"
   },
   {
    "duration": 11,
    "start_time": "2022-03-07T15:23:25.899Z"
   },
   {
    "duration": 11,
    "start_time": "2022-03-07T15:23:28.045Z"
   },
   {
    "duration": 5,
    "start_time": "2022-03-07T15:23:30.426Z"
   },
   {
    "duration": 9,
    "start_time": "2022-03-07T15:25:05.596Z"
   },
   {
    "duration": 9,
    "start_time": "2022-03-07T15:30:00.089Z"
   },
   {
    "duration": 14,
    "start_time": "2022-03-07T15:30:01.436Z"
   },
   {
    "duration": 5,
    "start_time": "2022-03-07T16:22:19.344Z"
   },
   {
    "duration": 6627,
    "start_time": "2022-03-07T16:22:48.775Z"
   },
   {
    "duration": 172,
    "start_time": "2022-03-07T16:24:26.240Z"
   },
   {
    "duration": 134,
    "start_time": "2022-03-07T16:26:26.341Z"
   },
   {
    "duration": 9,
    "start_time": "2022-03-07T16:27:49.659Z"
   },
   {
    "duration": 1176,
    "start_time": "2022-03-07T16:32:36.854Z"
   },
   {
    "duration": 56,
    "start_time": "2022-03-07T16:32:38.032Z"
   },
   {
    "duration": 6,
    "start_time": "2022-03-07T16:32:38.090Z"
   },
   {
    "duration": 29,
    "start_time": "2022-03-07T16:32:38.098Z"
   },
   {
    "duration": 5,
    "start_time": "2022-03-07T16:32:38.128Z"
   },
   {
    "duration": 34,
    "start_time": "2022-03-07T16:32:38.134Z"
   },
   {
    "duration": 5,
    "start_time": "2022-03-07T16:32:38.169Z"
   },
   {
    "duration": 13,
    "start_time": "2022-03-07T16:32:38.176Z"
   },
   {
    "duration": 6,
    "start_time": "2022-03-07T16:32:38.191Z"
   },
   {
    "duration": 8,
    "start_time": "2022-03-07T16:32:38.198Z"
   },
   {
    "duration": 15,
    "start_time": "2022-03-07T16:32:38.207Z"
   },
   {
    "duration": 11,
    "start_time": "2022-03-07T16:32:38.223Z"
   },
   {
    "duration": 12,
    "start_time": "2022-03-07T16:32:38.236Z"
   },
   {
    "duration": 12,
    "start_time": "2022-03-07T16:32:38.249Z"
   },
   {
    "duration": 7,
    "start_time": "2022-03-07T16:32:38.262Z"
   },
   {
    "duration": 9,
    "start_time": "2022-03-07T16:32:38.271Z"
   },
   {
    "duration": 199,
    "start_time": "2022-03-07T16:32:38.282Z"
   },
   {
    "duration": 142,
    "start_time": "2022-03-07T16:32:38.483Z"
   },
   {
    "duration": 9,
    "start_time": "2022-03-07T16:32:38.626Z"
   },
   {
    "duration": 4,
    "start_time": "2022-03-07T16:33:13.205Z"
   },
   {
    "duration": 52,
    "start_time": "2022-03-07T16:33:13.564Z"
   },
   {
    "duration": 8,
    "start_time": "2022-03-07T16:33:14.050Z"
   },
   {
    "duration": 28,
    "start_time": "2022-03-07T16:33:14.189Z"
   },
   {
    "duration": 5,
    "start_time": "2022-03-07T16:33:14.817Z"
   },
   {
    "duration": 29,
    "start_time": "2022-03-07T16:33:15.038Z"
   },
   {
    "duration": 6,
    "start_time": "2022-03-07T16:33:15.618Z"
   },
   {
    "duration": 12,
    "start_time": "2022-03-07T16:33:16.152Z"
   },
   {
    "duration": 5,
    "start_time": "2022-03-07T16:33:16.329Z"
   },
   {
    "duration": 5,
    "start_time": "2022-03-07T16:33:16.709Z"
   },
   {
    "duration": 10,
    "start_time": "2022-03-07T16:33:17.151Z"
   },
   {
    "duration": 13,
    "start_time": "2022-03-07T16:33:17.505Z"
   },
   {
    "duration": 10,
    "start_time": "2022-03-07T16:33:18.825Z"
   },
   {
    "duration": 11,
    "start_time": "2022-03-07T16:33:19.779Z"
   },
   {
    "duration": 4,
    "start_time": "2022-03-07T16:33:19.952Z"
   },
   {
    "duration": 6,
    "start_time": "2022-03-07T16:33:20.983Z"
   },
   {
    "duration": 167,
    "start_time": "2022-03-07T16:33:21.487Z"
   },
   {
    "duration": 141,
    "start_time": "2022-03-07T16:33:21.865Z"
   },
   {
    "duration": 9,
    "start_time": "2022-03-07T16:33:22.440Z"
   },
   {
    "duration": 5,
    "start_time": "2022-03-07T16:40:31.986Z"
   },
   {
    "duration": 53,
    "start_time": "2022-03-07T16:40:31.993Z"
   },
   {
    "duration": 6,
    "start_time": "2022-03-07T16:40:32.048Z"
   },
   {
    "duration": 31,
    "start_time": "2022-03-07T16:40:32.057Z"
   },
   {
    "duration": 6,
    "start_time": "2022-03-07T16:40:32.090Z"
   },
   {
    "duration": 29,
    "start_time": "2022-03-07T16:40:32.097Z"
   },
   {
    "duration": 5,
    "start_time": "2022-03-07T16:40:32.127Z"
   },
   {
    "duration": 14,
    "start_time": "2022-03-07T16:40:32.134Z"
   },
   {
    "duration": 8,
    "start_time": "2022-03-07T16:40:32.150Z"
   },
   {
    "duration": 8,
    "start_time": "2022-03-07T16:40:32.159Z"
   },
   {
    "duration": 14,
    "start_time": "2022-03-07T16:40:32.169Z"
   },
   {
    "duration": 23,
    "start_time": "2022-03-07T16:40:32.185Z"
   },
   {
    "duration": 6,
    "start_time": "2022-03-07T16:40:32.210Z"
   },
   {
    "duration": 7,
    "start_time": "2022-03-07T16:40:32.217Z"
   },
   {
    "duration": 185,
    "start_time": "2022-03-07T16:40:32.225Z"
   },
   {
    "duration": 141,
    "start_time": "2022-03-07T16:40:32.411Z"
   },
   {
    "duration": 7,
    "start_time": "2022-03-07T16:40:32.554Z"
   },
   {
    "duration": 5,
    "start_time": "2022-03-07T16:40:46.606Z"
   },
   {
    "duration": 64,
    "start_time": "2022-03-07T16:40:47.202Z"
   },
   {
    "duration": 6,
    "start_time": "2022-03-07T16:40:47.678Z"
   },
   {
    "duration": 27,
    "start_time": "2022-03-07T16:40:47.977Z"
   },
   {
    "duration": 5,
    "start_time": "2022-03-07T16:40:48.385Z"
   },
   {
    "duration": 28,
    "start_time": "2022-03-07T16:40:48.623Z"
   },
   {
    "duration": 5,
    "start_time": "2022-03-07T16:40:49.228Z"
   },
   {
    "duration": 12,
    "start_time": "2022-03-07T16:40:49.972Z"
   },
   {
    "duration": 5,
    "start_time": "2022-03-07T16:40:50.189Z"
   },
   {
    "duration": 5,
    "start_time": "2022-03-07T16:40:50.587Z"
   },
   {
    "duration": 10,
    "start_time": "2022-03-07T16:40:52.334Z"
   },
   {
    "duration": 12,
    "start_time": "2022-03-07T16:40:53.675Z"
   },
   {
    "duration": 5,
    "start_time": "2022-03-07T16:40:54.038Z"
   },
   {
    "duration": 6,
    "start_time": "2022-03-07T16:40:56.331Z"
   },
   {
    "duration": 165,
    "start_time": "2022-03-07T16:40:57.674Z"
   },
   {
    "duration": 131,
    "start_time": "2022-03-07T16:40:58.768Z"
   },
   {
    "duration": 8,
    "start_time": "2022-03-07T16:40:59.777Z"
   },
   {
    "duration": 6521,
    "start_time": "2022-03-07T16:41:48.933Z"
   },
   {
    "duration": 290,
    "start_time": "2022-03-07T16:42:26.621Z"
   },
   {
    "duration": 6325,
    "start_time": "2022-03-07T16:43:56.604Z"
   },
   {
    "duration": 295,
    "start_time": "2022-03-07T16:44:42.131Z"
   },
   {
    "duration": 6,
    "start_time": "2022-03-07T16:47:21.543Z"
   },
   {
    "duration": 165,
    "start_time": "2022-03-07T16:47:34.424Z"
   },
   {
    "duration": 139,
    "start_time": "2022-03-07T16:47:36.535Z"
   },
   {
    "duration": 6,
    "start_time": "2022-03-07T16:47:38.596Z"
   },
   {
    "duration": 5,
    "start_time": "2022-03-07T16:47:51.246Z"
   },
   {
    "duration": 8,
    "start_time": "2022-03-07T16:48:24.280Z"
   },
   {
    "duration": 8,
    "start_time": "2022-03-07T16:48:41.245Z"
   },
   {
    "duration": 1126,
    "start_time": "2022-03-07T16:48:50.693Z"
   },
   {
    "duration": 54,
    "start_time": "2022-03-07T16:48:51.821Z"
   },
   {
    "duration": 5,
    "start_time": "2022-03-07T16:48:51.880Z"
   },
   {
    "duration": 28,
    "start_time": "2022-03-07T16:48:51.887Z"
   },
   {
    "duration": 5,
    "start_time": "2022-03-07T16:48:51.916Z"
   },
   {
    "duration": 28,
    "start_time": "2022-03-07T16:48:51.922Z"
   },
   {
    "duration": 4,
    "start_time": "2022-03-07T16:48:51.953Z"
   },
   {
    "duration": 13,
    "start_time": "2022-03-07T16:48:51.959Z"
   },
   {
    "duration": 6,
    "start_time": "2022-03-07T16:48:51.974Z"
   },
   {
    "duration": 24,
    "start_time": "2022-03-07T16:48:51.982Z"
   },
   {
    "duration": 12,
    "start_time": "2022-03-07T16:48:52.008Z"
   },
   {
    "duration": 10,
    "start_time": "2022-03-07T16:48:52.022Z"
   },
   {
    "duration": 7,
    "start_time": "2022-03-07T16:48:52.034Z"
   },
   {
    "duration": 6,
    "start_time": "2022-03-07T16:48:52.043Z"
   },
   {
    "duration": 192,
    "start_time": "2022-03-07T16:48:52.050Z"
   },
   {
    "duration": 137,
    "start_time": "2022-03-07T16:48:52.243Z"
   },
   {
    "duration": 16,
    "start_time": "2022-03-07T16:48:52.381Z"
   },
   {
    "duration": 10,
    "start_time": "2022-03-07T16:51:22.475Z"
   },
   {
    "duration": 7,
    "start_time": "2022-03-07T16:54:04.600Z"
   },
   {
    "duration": 6,
    "start_time": "2022-03-07T16:54:32.539Z"
   },
   {
    "duration": 163,
    "start_time": "2022-03-07T16:54:33.984Z"
   },
   {
    "duration": 135,
    "start_time": "2022-03-07T16:54:35.339Z"
   },
   {
    "duration": 10,
    "start_time": "2022-03-07T16:54:36.457Z"
   },
   {
    "duration": 9,
    "start_time": "2022-03-07T16:55:37.789Z"
   },
   {
    "duration": 7,
    "start_time": "2022-03-07T16:57:28.931Z"
   },
   {
    "duration": 6,
    "start_time": "2022-03-07T16:57:30.836Z"
   },
   {
    "duration": 7,
    "start_time": "2022-03-07T16:59:05.920Z"
   },
   {
    "duration": 169,
    "start_time": "2022-03-07T16:59:12.508Z"
   },
   {
    "duration": 131,
    "start_time": "2022-03-07T16:59:14.211Z"
   },
   {
    "duration": 10,
    "start_time": "2022-03-07T16:59:16.226Z"
   },
   {
    "duration": 6,
    "start_time": "2022-03-07T16:59:25.758Z"
   },
   {
    "duration": 161,
    "start_time": "2022-03-07T16:59:25.766Z"
   },
   {
    "duration": 133,
    "start_time": "2022-03-07T16:59:26.013Z"
   },
   {
    "duration": 9,
    "start_time": "2022-03-07T16:59:27.563Z"
   },
   {
    "duration": 5,
    "start_time": "2022-03-07T17:03:44.292Z"
   },
   {
    "duration": 163,
    "start_time": "2022-03-07T17:03:45.465Z"
   },
   {
    "duration": 139,
    "start_time": "2022-03-07T17:03:46.885Z"
   },
   {
    "duration": 9,
    "start_time": "2022-03-07T17:03:48.482Z"
   },
   {
    "duration": 285,
    "start_time": "2022-03-07T17:09:06.062Z"
   },
   {
    "duration": 5,
    "start_time": "2022-03-07T17:11:24.156Z"
   },
   {
    "duration": 168,
    "start_time": "2022-03-07T17:11:59.912Z"
   },
   {
    "duration": 136,
    "start_time": "2022-03-07T17:12:10.150Z"
   },
   {
    "duration": 10,
    "start_time": "2022-03-07T17:12:33.702Z"
   },
   {
    "duration": 9,
    "start_time": "2022-03-07T17:12:49.705Z"
   },
   {
    "duration": 6,
    "start_time": "2022-03-07T17:13:16.018Z"
   },
   {
    "duration": 6,
    "start_time": "2022-03-07T17:13:26.274Z"
   },
   {
    "duration": 6,
    "start_time": "2022-03-07T17:14:10.571Z"
   },
   {
    "duration": 5,
    "start_time": "2022-03-07T17:14:11.796Z"
   },
   {
    "duration": 6,
    "start_time": "2022-03-07T17:14:37.906Z"
   },
   {
    "duration": 6,
    "start_time": "2022-03-07T17:14:39.911Z"
   },
   {
    "duration": 169,
    "start_time": "2022-03-07T17:14:49.663Z"
   },
   {
    "duration": 12,
    "start_time": "2022-03-07T17:14:50.281Z"
   },
   {
    "duration": 146,
    "start_time": "2022-03-07T17:14:51.564Z"
   },
   {
    "duration": 9,
    "start_time": "2022-03-07T17:14:52.134Z"
   },
   {
    "duration": 6,
    "start_time": "2022-03-07T17:14:53.313Z"
   },
   {
    "duration": 6,
    "start_time": "2022-03-07T17:14:54.134Z"
   },
   {
    "duration": 134,
    "start_time": "2022-03-07T17:16:50.505Z"
   },
   {
    "duration": 148,
    "start_time": "2022-03-07T17:17:02.740Z"
   },
   {
    "duration": 170,
    "start_time": "2022-03-07T17:17:10.086Z"
   },
   {
    "duration": 10,
    "start_time": "2022-03-07T17:17:13.964Z"
   },
   {
    "duration": 163,
    "start_time": "2022-03-07T17:17:27.994Z"
   },
   {
    "duration": 10,
    "start_time": "2022-03-07T17:17:28.962Z"
   },
   {
    "duration": 208,
    "start_time": "2022-03-07T17:17:52.028Z"
   },
   {
    "duration": 10,
    "start_time": "2022-03-07T17:17:53.312Z"
   },
   {
    "duration": 6,
    "start_time": "2022-03-07T17:17:55.271Z"
   },
   {
    "duration": 7,
    "start_time": "2022-03-07T17:17:56.048Z"
   },
   {
    "duration": 7,
    "start_time": "2022-03-07T17:18:16.347Z"
   },
   {
    "duration": 7,
    "start_time": "2022-03-07T17:18:17.068Z"
   },
   {
    "duration": 5,
    "start_time": "2022-03-07T17:18:23.485Z"
   },
   {
    "duration": 172,
    "start_time": "2022-03-07T17:18:23.957Z"
   },
   {
    "duration": 10,
    "start_time": "2022-03-07T17:18:24.147Z"
   },
   {
    "duration": 130,
    "start_time": "2022-03-07T17:18:24.624Z"
   },
   {
    "duration": 10,
    "start_time": "2022-03-07T17:18:25.043Z"
   },
   {
    "duration": 6,
    "start_time": "2022-03-07T17:18:25.983Z"
   },
   {
    "duration": 6,
    "start_time": "2022-03-07T17:18:26.201Z"
   },
   {
    "duration": 4,
    "start_time": "2022-03-07T17:18:31.094Z"
   },
   {
    "duration": 61,
    "start_time": "2022-03-07T17:18:31.100Z"
   },
   {
    "duration": 6,
    "start_time": "2022-03-07T17:18:31.163Z"
   },
   {
    "duration": 27,
    "start_time": "2022-03-07T17:18:31.171Z"
   },
   {
    "duration": 6,
    "start_time": "2022-03-07T17:18:31.200Z"
   },
   {
    "duration": 29,
    "start_time": "2022-03-07T17:18:31.207Z"
   },
   {
    "duration": 10,
    "start_time": "2022-03-07T17:18:31.238Z"
   },
   {
    "duration": 19,
    "start_time": "2022-03-07T17:18:31.250Z"
   },
   {
    "duration": 12,
    "start_time": "2022-03-07T17:18:31.271Z"
   },
   {
    "duration": 9,
    "start_time": "2022-03-07T17:18:31.285Z"
   },
   {
    "duration": 16,
    "start_time": "2022-03-07T17:18:31.295Z"
   },
   {
    "duration": 18,
    "start_time": "2022-03-07T17:18:31.312Z"
   },
   {
    "duration": 15,
    "start_time": "2022-03-07T17:18:31.331Z"
   },
   {
    "duration": 12,
    "start_time": "2022-03-07T17:18:31.348Z"
   },
   {
    "duration": 13,
    "start_time": "2022-03-07T17:18:31.362Z"
   },
   {
    "duration": 7,
    "start_time": "2022-03-07T17:18:31.376Z"
   },
   {
    "duration": 167,
    "start_time": "2022-03-07T17:18:31.385Z"
   },
   {
    "duration": 9,
    "start_time": "2022-03-07T17:18:31.554Z"
   },
   {
    "duration": 146,
    "start_time": "2022-03-07T17:18:31.564Z"
   },
   {
    "duration": 14,
    "start_time": "2022-03-07T17:18:31.712Z"
   },
   {
    "duration": 9,
    "start_time": "2022-03-07T17:18:31.727Z"
   },
   {
    "duration": 11,
    "start_time": "2022-03-07T17:18:31.738Z"
   },
   {
    "duration": 164,
    "start_time": "2022-03-07T17:18:45.666Z"
   },
   {
    "duration": 12,
    "start_time": "2022-03-07T17:18:46.190Z"
   },
   {
    "duration": 162,
    "start_time": "2022-03-07T17:18:53.243Z"
   },
   {
    "duration": 10,
    "start_time": "2022-03-07T17:18:54.038Z"
   },
   {
    "duration": 205,
    "start_time": "2022-03-07T17:19:06.534Z"
   },
   {
    "duration": 10,
    "start_time": "2022-03-07T17:19:08.029Z"
   },
   {
    "duration": 138,
    "start_time": "2022-03-07T17:19:12.393Z"
   },
   {
    "duration": 147,
    "start_time": "2022-03-07T17:19:18.006Z"
   },
   {
    "duration": 9,
    "start_time": "2022-03-07T17:19:18.578Z"
   },
   {
    "duration": 7,
    "start_time": "2022-03-07T17:19:19.863Z"
   },
   {
    "duration": 8,
    "start_time": "2022-03-07T17:19:20.137Z"
   },
   {
    "duration": 6,
    "start_time": "2022-03-07T17:22:43.535Z"
   },
   {
    "duration": 162,
    "start_time": "2022-03-07T17:22:44.146Z"
   },
   {
    "duration": 10,
    "start_time": "2022-03-07T17:22:44.314Z"
   },
   {
    "duration": 136,
    "start_time": "2022-03-07T17:22:44.950Z"
   },
   {
    "duration": 9,
    "start_time": "2022-03-07T17:22:45.155Z"
   },
   {
    "duration": 6,
    "start_time": "2022-03-07T17:22:46.105Z"
   },
   {
    "duration": 6,
    "start_time": "2022-03-07T17:22:47.155Z"
   },
   {
    "duration": 334,
    "start_time": "2022-03-07T17:23:39.908Z"
   },
   {
    "duration": 242,
    "start_time": "2022-03-07T17:23:44.152Z"
   },
   {
    "duration": 251,
    "start_time": "2022-03-07T17:24:08.025Z"
   },
   {
    "duration": 6,
    "start_time": "2022-03-07T17:24:24.583Z"
   },
   {
    "duration": 166,
    "start_time": "2022-03-07T17:24:27.074Z"
   },
   {
    "duration": 10,
    "start_time": "2022-03-07T17:24:28.349Z"
   },
   {
    "duration": 124,
    "start_time": "2022-03-07T17:24:29.744Z"
   },
   {
    "duration": 9,
    "start_time": "2022-03-07T17:24:30.381Z"
   },
   {
    "duration": 254,
    "start_time": "2022-03-07T17:24:31.736Z"
   },
   {
    "duration": 6,
    "start_time": "2022-03-07T17:24:37.402Z"
   },
   {
    "duration": 4,
    "start_time": "2022-03-07T17:25:00.524Z"
   },
   {
    "duration": 65,
    "start_time": "2022-03-07T17:25:00.530Z"
   },
   {
    "duration": 6,
    "start_time": "2022-03-07T17:25:00.597Z"
   },
   {
    "duration": 32,
    "start_time": "2022-03-07T17:25:00.605Z"
   },
   {
    "duration": 7,
    "start_time": "2022-03-07T17:25:00.639Z"
   },
   {
    "duration": 31,
    "start_time": "2022-03-07T17:25:00.647Z"
   },
   {
    "duration": 17,
    "start_time": "2022-03-07T17:25:00.680Z"
   },
   {
    "duration": 30,
    "start_time": "2022-03-07T17:25:00.700Z"
   },
   {
    "duration": 11,
    "start_time": "2022-03-07T17:25:00.732Z"
   },
   {
    "duration": 12,
    "start_time": "2022-03-07T17:25:00.745Z"
   },
   {
    "duration": 11,
    "start_time": "2022-03-07T17:25:00.759Z"
   },
   {
    "duration": 12,
    "start_time": "2022-03-07T17:25:00.771Z"
   },
   {
    "duration": 10,
    "start_time": "2022-03-07T17:25:00.785Z"
   },
   {
    "duration": 10,
    "start_time": "2022-03-07T17:25:00.796Z"
   },
   {
    "duration": 7,
    "start_time": "2022-03-07T17:25:00.807Z"
   },
   {
    "duration": 11,
    "start_time": "2022-03-07T17:25:00.815Z"
   },
   {
    "duration": 165,
    "start_time": "2022-03-07T17:25:00.828Z"
   },
   {
    "duration": 17,
    "start_time": "2022-03-07T17:25:00.994Z"
   },
   {
    "duration": 134,
    "start_time": "2022-03-07T17:25:01.012Z"
   },
   {
    "duration": 12,
    "start_time": "2022-03-07T17:25:01.147Z"
   },
   {
    "duration": 258,
    "start_time": "2022-03-07T17:25:01.160Z"
   },
   {
    "duration": 6884,
    "start_time": "2022-03-07T17:24:54.535Z"
   },
   {
    "duration": 1064,
    "start_time": "2022-03-07T17:25:12.633Z"
   },
   {
    "duration": 53,
    "start_time": "2022-03-07T17:25:13.699Z"
   },
   {
    "duration": 5,
    "start_time": "2022-03-07T17:25:13.754Z"
   },
   {
    "duration": 25,
    "start_time": "2022-03-07T17:25:13.760Z"
   },
   {
    "duration": 6,
    "start_time": "2022-03-07T17:25:13.786Z"
   },
   {
    "duration": 28,
    "start_time": "2022-03-07T17:25:13.793Z"
   },
   {
    "duration": 4,
    "start_time": "2022-03-07T17:25:13.822Z"
   },
   {
    "duration": 11,
    "start_time": "2022-03-07T17:25:13.828Z"
   },
   {
    "duration": 5,
    "start_time": "2022-03-07T17:25:13.841Z"
   },
   {
    "duration": 8,
    "start_time": "2022-03-07T17:25:13.847Z"
   },
   {
    "duration": 13,
    "start_time": "2022-03-07T17:25:13.856Z"
   },
   {
    "duration": 9,
    "start_time": "2022-03-07T17:25:13.871Z"
   },
   {
    "duration": 25,
    "start_time": "2022-03-07T17:25:13.881Z"
   },
   {
    "duration": 8,
    "start_time": "2022-03-07T17:25:13.907Z"
   },
   {
    "duration": 7,
    "start_time": "2022-03-07T17:25:13.916Z"
   },
   {
    "duration": 8,
    "start_time": "2022-03-07T17:25:13.924Z"
   },
   {
    "duration": 177,
    "start_time": "2022-03-07T17:25:13.933Z"
   },
   {
    "duration": 9,
    "start_time": "2022-03-07T17:25:14.112Z"
   },
   {
    "duration": 131,
    "start_time": "2022-03-07T17:25:14.122Z"
   },
   {
    "duration": 7,
    "start_time": "2022-03-07T17:25:14.255Z"
   },
   {
    "duration": 327,
    "start_time": "2022-03-07T17:25:14.263Z"
   },
   {
    "duration": 6873,
    "start_time": "2022-03-07T17:25:07.719Z"
   },
   {
    "duration": 251,
    "start_time": "2022-03-07T17:25:31.919Z"
   },
   {
    "duration": 6,
    "start_time": "2022-03-07T17:25:35.779Z"
   },
   {
    "duration": 6,
    "start_time": "2022-03-07T17:26:01.055Z"
   },
   {
    "duration": 6,
    "start_time": "2022-03-07T17:26:02.147Z"
   },
   {
    "duration": 8,
    "start_time": "2022-03-07T17:26:24.314Z"
   },
   {
    "duration": 158,
    "start_time": "2022-03-07T17:26:39.433Z"
   },
   {
    "duration": 10,
    "start_time": "2022-03-07T17:26:40.036Z"
   },
   {
    "duration": 131,
    "start_time": "2022-03-07T17:26:41.374Z"
   },
   {
    "duration": 8,
    "start_time": "2022-03-07T17:26:41.947Z"
   },
   {
    "duration": 6,
    "start_time": "2022-03-07T17:26:43.190Z"
   },
   {
    "duration": 6,
    "start_time": "2022-03-07T17:26:43.725Z"
   },
   {
    "duration": 78,
    "start_time": "2022-03-07T17:29:42.817Z"
   },
   {
    "duration": 96,
    "start_time": "2022-03-07T17:30:04.969Z"
   },
   {
    "duration": 85,
    "start_time": "2022-03-07T17:30:21.048Z"
   },
   {
    "duration": 8,
    "start_time": "2022-03-07T17:30:35.500Z"
   },
   {
    "duration": 15,
    "start_time": "2022-03-07T17:30:45.101Z"
   },
   {
    "duration": 6,
    "start_time": "2022-03-07T17:31:01.968Z"
   },
   {
    "duration": 14,
    "start_time": "2022-03-07T17:31:05.109Z"
   },
   {
    "duration": 6,
    "start_time": "2022-03-07T17:31:26.164Z"
   },
   {
    "duration": 12,
    "start_time": "2022-03-07T17:31:26.920Z"
   },
   {
    "duration": 6,
    "start_time": "2022-03-07T17:32:13.407Z"
   },
   {
    "duration": 5,
    "start_time": "2022-03-07T17:32:14.166Z"
   },
   {
    "duration": 1149,
    "start_time": "2022-03-07T17:34:16.939Z"
   },
   {
    "duration": 12,
    "start_time": "2022-03-07T17:34:25.197Z"
   },
   {
    "duration": 4,
    "start_time": "2022-03-07T17:34:35.936Z"
   },
   {
    "duration": 5,
    "start_time": "2022-03-07T17:34:40.554Z"
   },
   {
    "duration": 60,
    "start_time": "2022-03-07T17:34:41.123Z"
   },
   {
    "duration": 6,
    "start_time": "2022-03-07T17:34:41.989Z"
   },
   {
    "duration": 27,
    "start_time": "2022-03-07T17:34:42.563Z"
   },
   {
    "duration": 4,
    "start_time": "2022-03-07T17:34:43.284Z"
   },
   {
    "duration": 26,
    "start_time": "2022-03-07T17:34:43.456Z"
   },
   {
    "duration": 5,
    "start_time": "2022-03-07T17:34:44.492Z"
   },
   {
    "duration": 12,
    "start_time": "2022-03-07T17:34:45.829Z"
   },
   {
    "duration": 1327,
    "start_time": "2022-03-07T17:34:46.508Z"
   },
   {
    "duration": 4036,
    "start_time": "2022-03-07T17:35:11.608Z"
   },
   {
    "duration": 5,
    "start_time": "2022-03-07T17:35:37.651Z"
   },
   {
    "duration": 4,
    "start_time": "2022-03-07T17:35:39.001Z"
   },
   {
    "duration": 9,
    "start_time": "2022-03-07T17:35:40.545Z"
   },
   {
    "duration": 11,
    "start_time": "2022-03-07T17:35:41.702Z"
   },
   {
    "duration": 4,
    "start_time": "2022-03-07T17:35:42.204Z"
   },
   {
    "duration": 9,
    "start_time": "2022-03-07T17:35:43.129Z"
   },
   {
    "duration": 7,
    "start_time": "2022-03-07T17:35:43.350Z"
   },
   {
    "duration": 5,
    "start_time": "2022-03-07T17:35:44.347Z"
   },
   {
    "duration": 10,
    "start_time": "2022-03-07T17:35:44.810Z"
   },
   {
    "duration": 163,
    "start_time": "2022-03-07T17:35:45.320Z"
   },
   {
    "duration": 9,
    "start_time": "2022-03-07T17:35:45.484Z"
   },
   {
    "duration": 2359,
    "start_time": "2022-03-07T17:35:46.128Z"
   },
   {
    "duration": 6855,
    "start_time": "2022-03-07T17:35:41.635Z"
   },
   {
    "duration": 6854,
    "start_time": "2022-03-07T17:35:41.637Z"
   },
   {
    "duration": 1897,
    "start_time": "2022-03-07T17:36:14.969Z"
   },
   {
    "duration": 6,
    "start_time": "2022-03-07T17:36:26.717Z"
   },
   {
    "duration": 50,
    "start_time": "2022-03-07T17:36:27.402Z"
   },
   {
    "duration": 5,
    "start_time": "2022-03-07T17:36:29.332Z"
   },
   {
    "duration": 30,
    "start_time": "2022-03-07T17:36:29.890Z"
   },
   {
    "duration": 5,
    "start_time": "2022-03-07T17:36:30.743Z"
   },
   {
    "duration": 27,
    "start_time": "2022-03-07T17:36:31.158Z"
   },
   {
    "duration": 5,
    "start_time": "2022-03-07T17:36:32.659Z"
   },
   {
    "duration": 11,
    "start_time": "2022-03-07T17:36:34.259Z"
   },
   {
    "duration": 1100,
    "start_time": "2022-03-07T17:37:19.292Z"
   },
   {
    "duration": 5,
    "start_time": "2022-03-07T17:38:13.022Z"
   },
   {
    "duration": 59,
    "start_time": "2022-03-07T17:38:14.678Z"
   },
   {
    "duration": 7,
    "start_time": "2022-03-07T17:38:17.151Z"
   },
   {
    "duration": 1183,
    "start_time": "2022-03-07T17:38:18.156Z"
   },
   {
    "duration": 58,
    "start_time": "2022-03-07T17:39:02.408Z"
   },
   {
    "duration": 6,
    "start_time": "2022-03-07T17:39:03.220Z"
   },
   {
    "duration": 1153,
    "start_time": "2022-03-07T17:39:03.832Z"
   },
   {
    "duration": 26,
    "start_time": "2022-03-07T17:39:29.202Z"
   },
   {
    "duration": 80,
    "start_time": "2022-03-07T17:41:02.588Z"
   },
   {
    "duration": 6,
    "start_time": "2022-03-07T17:41:06.996Z"
   },
   {
    "duration": 31,
    "start_time": "2022-03-07T17:41:35.370Z"
   },
   {
    "duration": 5,
    "start_time": "2022-03-07T17:41:40.599Z"
   },
   {
    "duration": 26,
    "start_time": "2022-03-07T17:41:41.554Z"
   },
   {
    "duration": 5,
    "start_time": "2022-03-07T17:41:43.462Z"
   },
   {
    "duration": 4,
    "start_time": "2022-03-07T17:41:54.253Z"
   },
   {
    "duration": 10,
    "start_time": "2022-03-07T17:41:56.502Z"
   },
   {
    "duration": 11,
    "start_time": "2022-03-07T17:41:57.334Z"
   },
   {
    "duration": 4,
    "start_time": "2022-03-07T17:41:57.542Z"
   },
   {
    "duration": 8,
    "start_time": "2022-03-07T17:41:59.175Z"
   },
   {
    "duration": 6,
    "start_time": "2022-03-07T17:41:59.335Z"
   },
   {
    "duration": 5,
    "start_time": "2022-03-07T17:42:00.483Z"
   },
   {
    "duration": 9,
    "start_time": "2022-03-07T17:42:00.821Z"
   },
   {
    "duration": 174,
    "start_time": "2022-03-07T17:42:01.624Z"
   },
   {
    "duration": 13,
    "start_time": "2022-03-07T17:42:02.202Z"
   },
   {
    "duration": 156,
    "start_time": "2022-03-07T17:42:03.563Z"
   },
   {
    "duration": 11,
    "start_time": "2022-03-07T17:42:08.730Z"
   },
   {
    "duration": 7,
    "start_time": "2022-03-07T17:42:10.822Z"
   },
   {
    "duration": 12,
    "start_time": "2022-03-07T17:42:11.875Z"
   },
   {
    "duration": 4,
    "start_time": "2022-03-07T17:43:53.446Z"
   },
   {
    "duration": 5915,
    "start_time": "2022-03-07T17:44:55.866Z"
   },
   {
    "duration": 7,
    "start_time": "2022-03-07T17:45:23.225Z"
   },
   {
    "duration": 13,
    "start_time": "2022-03-07T17:46:21.336Z"
   },
   {
    "duration": 1041,
    "start_time": "2022-03-07T17:46:31.347Z"
   },
   {
    "duration": 84,
    "start_time": "2022-03-07T17:46:32.389Z"
   },
   {
    "duration": 5,
    "start_time": "2022-03-07T17:46:32.474Z"
   },
   {
    "duration": 30,
    "start_time": "2022-03-07T17:46:32.480Z"
   },
   {
    "duration": 3,
    "start_time": "2022-03-07T17:46:32.512Z"
   },
   {
    "duration": 26,
    "start_time": "2022-03-07T17:46:32.517Z"
   },
   {
    "duration": 4,
    "start_time": "2022-03-07T17:46:32.544Z"
   },
   {
    "duration": 6,
    "start_time": "2022-03-07T17:46:32.550Z"
   },
   {
    "duration": 10,
    "start_time": "2022-03-07T17:46:32.558Z"
   },
   {
    "duration": 10,
    "start_time": "2022-03-07T17:46:32.569Z"
   },
   {
    "duration": 26,
    "start_time": "2022-03-07T17:46:32.581Z"
   },
   {
    "duration": 10,
    "start_time": "2022-03-07T17:46:32.608Z"
   },
   {
    "duration": 4,
    "start_time": "2022-03-07T17:46:32.620Z"
   },
   {
    "duration": 8,
    "start_time": "2022-03-07T17:46:32.625Z"
   },
   {
    "duration": 7,
    "start_time": "2022-03-07T17:46:32.634Z"
   },
   {
    "duration": 6,
    "start_time": "2022-03-07T17:46:32.643Z"
   },
   {
    "duration": 9,
    "start_time": "2022-03-07T17:46:32.650Z"
   },
   {
    "duration": 201,
    "start_time": "2022-03-07T17:46:32.661Z"
   },
   {
    "duration": 11,
    "start_time": "2022-03-07T17:46:32.863Z"
   },
   {
    "duration": 148,
    "start_time": "2022-03-07T17:46:32.875Z"
   },
   {
    "duration": 8,
    "start_time": "2022-03-07T17:46:33.025Z"
   },
   {
    "duration": 6,
    "start_time": "2022-03-07T17:46:33.035Z"
   },
   {
    "duration": 10,
    "start_time": "2022-03-07T17:46:33.043Z"
   },
   {
    "duration": 8,
    "start_time": "2022-03-07T17:49:35.334Z"
   },
   {
    "duration": 7,
    "start_time": "2022-03-07T17:49:44.963Z"
   },
   {
    "duration": 8,
    "start_time": "2022-03-07T17:49:50.993Z"
   },
   {
    "duration": 7,
    "start_time": "2022-03-07T17:49:58.156Z"
   },
   {
    "duration": 8,
    "start_time": "2022-03-07T17:54:03.699Z"
   },
   {
    "duration": 9,
    "start_time": "2022-03-07T17:54:19.357Z"
   },
   {
    "duration": 6,
    "start_time": "2022-03-07T17:54:28.317Z"
   },
   {
    "duration": 7,
    "start_time": "2022-03-07T17:54:28.850Z"
   },
   {
    "duration": 166,
    "start_time": "2022-03-07T17:54:29.770Z"
   },
   {
    "duration": 7,
    "start_time": "2022-03-07T17:54:29.977Z"
   },
   {
    "duration": 136,
    "start_time": "2022-03-07T17:54:30.726Z"
   },
   {
    "duration": 6,
    "start_time": "2022-03-07T17:54:30.928Z"
   },
   {
    "duration": 6,
    "start_time": "2022-03-07T17:54:31.724Z"
   },
   {
    "duration": 9,
    "start_time": "2022-03-07T17:54:31.932Z"
   },
   {
    "duration": 9,
    "start_time": "2022-03-07T17:56:35.726Z"
   },
   {
    "duration": 181,
    "start_time": "2022-03-07T17:56:52.604Z"
   },
   {
    "duration": 174,
    "start_time": "2022-03-07T17:57:10.490Z"
   },
   {
    "duration": 183,
    "start_time": "2022-03-07T17:57:28.949Z"
   },
   {
    "duration": 5,
    "start_time": "2022-03-07T17:58:09.983Z"
   },
   {
    "duration": 189,
    "start_time": "2022-03-07T17:58:10.854Z"
   },
   {
    "duration": 328,
    "start_time": "2022-03-07T17:58:48.549Z"
   },
   {
    "duration": 240,
    "start_time": "2022-03-07T17:59:04.515Z"
   },
   {
    "duration": 10,
    "start_time": "2022-03-07T18:00:17.588Z"
   },
   {
    "duration": 237,
    "start_time": "2022-03-07T18:01:22.482Z"
   },
   {
    "duration": 197,
    "start_time": "2022-03-07T18:01:40.010Z"
   },
   {
    "duration": 225,
    "start_time": "2022-03-07T18:02:13.869Z"
   },
   {
    "duration": 5,
    "start_time": "2022-03-07T18:02:25.346Z"
   },
   {
    "duration": 244,
    "start_time": "2022-03-07T18:02:40.473Z"
   },
   {
    "duration": 245,
    "start_time": "2022-03-07T18:02:59.968Z"
   },
   {
    "duration": 6,
    "start_time": "2022-03-07T18:08:56.869Z"
   },
   {
    "duration": 90,
    "start_time": "2022-03-07T18:10:19.947Z"
   },
   {
    "duration": 310,
    "start_time": "2022-03-07T18:10:53.053Z"
   },
   {
    "duration": 371,
    "start_time": "2022-03-07T18:11:51.700Z"
   },
   {
    "duration": 341,
    "start_time": "2022-03-07T18:12:43.366Z"
   },
   {
    "duration": 6,
    "start_time": "2022-03-07T18:19:24.244Z"
   },
   {
    "duration": 307,
    "start_time": "2022-03-07T18:19:57.342Z"
   },
   {
    "duration": 185,
    "start_time": "2022-03-07T18:21:29.406Z"
   },
   {
    "duration": 444,
    "start_time": "2022-03-07T18:22:42.269Z"
   },
   {
    "duration": 219,
    "start_time": "2022-03-07T18:22:53.266Z"
   },
   {
    "duration": 6,
    "start_time": "2022-03-07T18:24:03.486Z"
   },
   {
    "duration": 267,
    "start_time": "2022-03-07T18:24:03.982Z"
   },
   {
    "duration": 245,
    "start_time": "2022-03-07T18:24:06.450Z"
   },
   {
    "duration": 8,
    "start_time": "2022-03-07T18:24:12.188Z"
   },
   {
    "duration": 350,
    "start_time": "2022-03-07T18:24:12.390Z"
   },
   {
    "duration": 6,
    "start_time": "2022-03-07T18:26:33.650Z"
   },
   {
    "duration": 300,
    "start_time": "2022-03-07T18:26:34.256Z"
   },
   {
    "duration": 7,
    "start_time": "2022-03-07T18:28:20.203Z"
   },
   {
    "duration": 235,
    "start_time": "2022-03-07T18:31:01.885Z"
   },
   {
    "duration": 233,
    "start_time": "2022-03-07T18:31:24.338Z"
   },
   {
    "duration": 7,
    "start_time": "2022-03-07T18:36:45.424Z"
   },
   {
    "duration": 338,
    "start_time": "2022-03-07T18:38:01.937Z"
   },
   {
    "duration": 333,
    "start_time": "2022-03-07T18:38:42.645Z"
   },
   {
    "duration": 3,
    "start_time": "2022-03-07T18:45:46.278Z"
   },
   {
    "duration": 2,
    "start_time": "2022-03-07T18:46:57.526Z"
   },
   {
    "duration": 244,
    "start_time": "2022-03-07T18:49:24.334Z"
   },
   {
    "duration": 240,
    "start_time": "2022-03-07T18:49:36.767Z"
   },
   {
    "duration": 349,
    "start_time": "2022-03-07T18:50:29.305Z"
   },
   {
    "duration": 143,
    "start_time": "2022-03-07T18:50:45.660Z"
   },
   {
    "duration": 6058,
    "start_time": "2022-03-07T18:51:03.800Z"
   },
   {
    "duration": 151,
    "start_time": "2022-03-07T18:51:17.790Z"
   },
   {
    "duration": 202,
    "start_time": "2022-03-07T18:52:33.254Z"
   },
   {
    "duration": 236,
    "start_time": "2022-03-07T18:52:45.096Z"
   },
   {
    "duration": 5979,
    "start_time": "2022-03-07T18:53:18.395Z"
   },
   {
    "duration": 326,
    "start_time": "2022-03-07T18:53:35.762Z"
   },
   {
    "duration": 3,
    "start_time": "2022-03-07T18:54:58.716Z"
   },
   {
    "duration": 6567,
    "start_time": "2022-03-07T18:59:44.947Z"
   },
   {
    "duration": 5,
    "start_time": "2022-03-07T18:59:58.788Z"
   },
   {
    "duration": 5,
    "start_time": "2022-03-07T19:00:55.428Z"
   },
   {
    "duration": 6001,
    "start_time": "2022-03-07T19:09:29.661Z"
   },
   {
    "duration": 6819,
    "start_time": "2022-03-07T19:09:28.844Z"
   },
   {
    "duration": 8,
    "start_time": "2022-03-07T19:10:00.408Z"
   },
   {
    "duration": 265,
    "start_time": "2022-03-07T19:10:21.416Z"
   },
   {
    "duration": 179,
    "start_time": "2022-03-07T19:10:25.361Z"
   },
   {
    "duration": 396,
    "start_time": "2022-03-07T19:10:36.494Z"
   },
   {
    "duration": 298,
    "start_time": "2022-03-07T19:10:50.890Z"
   },
   {
    "duration": 288,
    "start_time": "2022-03-07T19:11:33.806Z"
   },
   {
    "duration": 341,
    "start_time": "2022-03-07T19:11:38.763Z"
   },
   {
    "duration": 344,
    "start_time": "2022-03-07T19:12:13.871Z"
   },
   {
    "duration": 284,
    "start_time": "2022-03-07T19:12:59.744Z"
   },
   {
    "duration": 1933,
    "start_time": "2022-03-07T19:13:04.790Z"
   },
   {
    "duration": 188,
    "start_time": "2022-03-07T19:13:10.138Z"
   },
   {
    "duration": 290,
    "start_time": "2022-03-07T19:13:15.217Z"
   },
   {
    "duration": 5,
    "start_time": "2022-03-07T19:17:05.570Z"
   },
   {
    "duration": 4,
    "start_time": "2022-03-07T19:17:27.007Z"
   },
   {
    "duration": 1085,
    "start_time": "2022-03-07T19:20:20.109Z"
   },
   {
    "duration": 72,
    "start_time": "2022-03-07T19:20:21.196Z"
   },
   {
    "duration": 5,
    "start_time": "2022-03-07T19:20:21.270Z"
   },
   {
    "duration": 29,
    "start_time": "2022-03-07T19:20:21.277Z"
   },
   {
    "duration": 5,
    "start_time": "2022-03-07T19:20:21.308Z"
   },
   {
    "duration": 29,
    "start_time": "2022-03-07T19:20:21.314Z"
   },
   {
    "duration": 4,
    "start_time": "2022-03-07T19:20:21.345Z"
   },
   {
    "duration": 5,
    "start_time": "2022-03-07T19:20:21.351Z"
   },
   {
    "duration": 11,
    "start_time": "2022-03-07T19:20:21.357Z"
   },
   {
    "duration": 10,
    "start_time": "2022-03-07T19:20:21.370Z"
   },
   {
    "duration": 24,
    "start_time": "2022-03-07T19:20:21.381Z"
   },
   {
    "duration": 9,
    "start_time": "2022-03-07T19:20:21.407Z"
   },
   {
    "duration": 5,
    "start_time": "2022-03-07T19:20:21.417Z"
   },
   {
    "duration": 9,
    "start_time": "2022-03-07T19:20:21.423Z"
   },
   {
    "duration": 7,
    "start_time": "2022-03-07T19:20:21.433Z"
   },
   {
    "duration": 6,
    "start_time": "2022-03-07T19:20:21.442Z"
   },
   {
    "duration": 8,
    "start_time": "2022-03-07T19:20:21.449Z"
   },
   {
    "duration": 190,
    "start_time": "2022-03-07T19:20:21.458Z"
   },
   {
    "duration": 7,
    "start_time": "2022-03-07T19:20:21.649Z"
   },
   {
    "duration": 144,
    "start_time": "2022-03-07T19:20:21.657Z"
   },
   {
    "duration": 6,
    "start_time": "2022-03-07T19:20:21.803Z"
   },
   {
    "duration": 8,
    "start_time": "2022-03-07T19:20:21.811Z"
   },
   {
    "duration": 13,
    "start_time": "2022-03-07T19:20:21.821Z"
   },
   {
    "duration": 6,
    "start_time": "2022-03-07T19:20:21.835Z"
   },
   {
    "duration": 257,
    "start_time": "2022-03-07T19:20:21.842Z"
   },
   {
    "duration": 225,
    "start_time": "2022-03-07T19:20:22.101Z"
   },
   {
    "duration": 5,
    "start_time": "2022-03-07T19:20:22.328Z"
   },
   {
    "duration": 326,
    "start_time": "2022-03-07T19:20:22.335Z"
   },
   {
    "duration": 5,
    "start_time": "2022-03-07T19:20:22.662Z"
   },
   {
    "duration": 239,
    "start_time": "2022-03-07T19:20:22.669Z"
   },
   {
    "duration": 7,
    "start_time": "2022-03-07T19:20:22.910Z"
   },
   {
    "duration": 369,
    "start_time": "2022-03-07T19:20:22.919Z"
   },
   {
    "duration": 115,
    "start_time": "2022-03-07T19:20:23.290Z"
   },
   {
    "duration": 214,
    "start_time": "2022-03-07T19:20:23.407Z"
   },
   {
    "duration": 288,
    "start_time": "2022-03-07T19:20:23.623Z"
   },
   {
    "duration": 6,
    "start_time": "2022-03-07T19:20:23.912Z"
   },
   {
    "duration": 290,
    "start_time": "2022-03-07T19:20:23.919Z"
   },
   {
    "duration": 317,
    "start_time": "2022-03-07T19:20:24.210Z"
   },
   {
    "duration": 5,
    "start_time": "2022-03-07T19:20:24.529Z"
   },
   {
    "duration": 220,
    "start_time": "2022-03-07T19:24:32.088Z"
   },
   {
    "duration": 261,
    "start_time": "2022-03-07T19:24:52.205Z"
   },
   {
    "duration": 271,
    "start_time": "2022-03-07T19:25:00.899Z"
   },
   {
    "duration": 267,
    "start_time": "2022-03-07T19:25:13.195Z"
   },
   {
    "duration": 262,
    "start_time": "2022-03-07T19:25:16.684Z"
   },
   {
    "duration": 258,
    "start_time": "2022-03-07T19:25:19.619Z"
   },
   {
    "duration": 323,
    "start_time": "2022-03-07T19:25:32.484Z"
   },
   {
    "duration": 293,
    "start_time": "2022-03-07T19:25:47.971Z"
   },
   {
    "duration": 379,
    "start_time": "2022-03-07T19:26:01.411Z"
   },
   {
    "duration": 374,
    "start_time": "2022-03-07T19:26:06.055Z"
   },
   {
    "duration": 339,
    "start_time": "2022-03-07T19:26:13.022Z"
   },
   {
    "duration": 285,
    "start_time": "2022-03-07T19:26:26.034Z"
   },
   {
    "duration": 1472,
    "start_time": "2022-03-08T13:39:24.001Z"
   },
   {
    "duration": 90,
    "start_time": "2022-03-08T13:39:25.476Z"
   },
   {
    "duration": 10,
    "start_time": "2022-03-08T13:39:25.570Z"
   },
   {
    "duration": 41,
    "start_time": "2022-03-08T13:39:25.586Z"
   },
   {
    "duration": 9,
    "start_time": "2022-03-08T13:39:25.629Z"
   },
   {
    "duration": 32,
    "start_time": "2022-03-08T13:39:25.674Z"
   },
   {
    "duration": 8,
    "start_time": "2022-03-08T13:39:25.709Z"
   },
   {
    "duration": 8,
    "start_time": "2022-03-08T13:39:25.722Z"
   },
   {
    "duration": 52,
    "start_time": "2022-03-08T13:39:25.733Z"
   },
   {
    "duration": 22,
    "start_time": "2022-03-08T13:39:25.787Z"
   },
   {
    "duration": 17,
    "start_time": "2022-03-08T13:39:25.812Z"
   },
   {
    "duration": 56,
    "start_time": "2022-03-08T13:39:25.832Z"
   },
   {
    "duration": 6,
    "start_time": "2022-03-08T13:39:25.891Z"
   },
   {
    "duration": 13,
    "start_time": "2022-03-08T13:39:25.899Z"
   },
   {
    "duration": 12,
    "start_time": "2022-03-08T13:39:25.915Z"
   },
   {
    "duration": 9,
    "start_time": "2022-03-08T13:39:25.974Z"
   },
   {
    "duration": 13,
    "start_time": "2022-03-08T13:39:25.986Z"
   },
   {
    "duration": 341,
    "start_time": "2022-03-08T13:39:26.002Z"
   },
   {
    "duration": 11,
    "start_time": "2022-03-08T13:39:26.345Z"
   },
   {
    "duration": 274,
    "start_time": "2022-03-08T13:39:26.358Z"
   },
   {
    "duration": 10,
    "start_time": "2022-03-08T13:39:26.635Z"
   },
   {
    "duration": 27,
    "start_time": "2022-03-08T13:39:26.647Z"
   },
   {
    "duration": 12,
    "start_time": "2022-03-08T13:39:26.679Z"
   },
   {
    "duration": 11,
    "start_time": "2022-03-08T13:39:26.694Z"
   },
   {
    "duration": 527,
    "start_time": "2022-03-08T13:39:26.707Z"
   },
   {
    "duration": 500,
    "start_time": "2022-03-08T13:39:27.236Z"
   },
   {
    "duration": 10,
    "start_time": "2022-03-08T13:39:27.738Z"
   },
   {
    "duration": 628,
    "start_time": "2022-03-08T13:39:27.750Z"
   },
   {
    "duration": 11,
    "start_time": "2022-03-08T13:39:28.381Z"
   },
   {
    "duration": 629,
    "start_time": "2022-03-08T13:39:28.394Z"
   },
   {
    "duration": 12,
    "start_time": "2022-03-08T13:39:29.025Z"
   },
   {
    "duration": 562,
    "start_time": "2022-03-08T13:39:29.039Z"
   },
   {
    "duration": 202,
    "start_time": "2022-03-08T13:39:29.603Z"
   },
   {
    "duration": 389,
    "start_time": "2022-03-08T13:39:29.808Z"
   },
   {
    "duration": 409,
    "start_time": "2022-03-08T13:39:30.199Z"
   },
   {
    "duration": 6,
    "start_time": "2022-03-08T13:39:30.611Z"
   },
   {
    "duration": 570,
    "start_time": "2022-03-08T13:39:30.620Z"
   },
   {
    "duration": 426,
    "start_time": "2022-03-08T13:39:31.193Z"
   },
   {
    "duration": 7,
    "start_time": "2022-03-08T13:39:31.621Z"
   },
   {
    "duration": 664,
    "start_time": "2022-03-08T13:44:39.016Z"
   },
   {
    "duration": 517,
    "start_time": "2022-03-08T13:51:49.880Z"
   },
   {
    "duration": 506,
    "start_time": "2022-03-08T13:51:54.147Z"
   },
   {
    "duration": 7781,
    "start_time": "2022-03-08T13:52:19.862Z"
   },
   {
    "duration": 8518,
    "start_time": "2022-03-08T13:53:13.420Z"
   },
   {
    "duration": 587,
    "start_time": "2022-03-08T13:53:40.725Z"
   },
   {
    "duration": 1481,
    "start_time": "2022-03-08T13:55:40.680Z"
   },
   {
    "duration": 91,
    "start_time": "2022-03-08T13:55:42.164Z"
   },
   {
    "duration": 18,
    "start_time": "2022-03-08T13:55:42.261Z"
   },
   {
    "duration": 40,
    "start_time": "2022-03-08T13:55:42.281Z"
   },
   {
    "duration": 7,
    "start_time": "2022-03-08T13:55:42.323Z"
   },
   {
    "duration": 62,
    "start_time": "2022-03-08T13:55:42.332Z"
   },
   {
    "duration": 7,
    "start_time": "2022-03-08T13:55:42.399Z"
   },
   {
    "duration": 8,
    "start_time": "2022-03-08T13:55:42.409Z"
   },
   {
    "duration": 13,
    "start_time": "2022-03-08T13:55:42.419Z"
   },
   {
    "duration": 23,
    "start_time": "2022-03-08T13:55:42.474Z"
   },
   {
    "duration": 17,
    "start_time": "2022-03-08T13:55:42.499Z"
   },
   {
    "duration": 21,
    "start_time": "2022-03-08T13:55:42.519Z"
   },
   {
    "duration": 36,
    "start_time": "2022-03-08T13:55:42.542Z"
   },
   {
    "duration": 14,
    "start_time": "2022-03-08T13:55:42.581Z"
   },
   {
    "duration": 10,
    "start_time": "2022-03-08T13:55:42.598Z"
   },
   {
    "duration": 7,
    "start_time": "2022-03-08T13:55:42.611Z"
   },
   {
    "duration": 59,
    "start_time": "2022-03-08T13:55:42.621Z"
   },
   {
    "duration": 370,
    "start_time": "2022-03-08T13:55:42.683Z"
   },
   {
    "duration": 27,
    "start_time": "2022-03-08T13:55:43.056Z"
   },
   {
    "duration": 287,
    "start_time": "2022-03-08T13:55:43.086Z"
   },
   {
    "duration": 18,
    "start_time": "2022-03-08T13:55:43.376Z"
   },
   {
    "duration": 12,
    "start_time": "2022-03-08T13:55:43.399Z"
   },
   {
    "duration": 24,
    "start_time": "2022-03-08T13:55:43.414Z"
   },
   {
    "duration": 32,
    "start_time": "2022-03-08T13:55:43.441Z"
   },
   {
    "duration": 520,
    "start_time": "2022-03-08T13:55:43.476Z"
   },
   {
    "duration": 522,
    "start_time": "2022-03-08T13:55:43.999Z"
   },
   {
    "duration": 8,
    "start_time": "2022-03-08T13:55:44.524Z"
   },
   {
    "duration": 608,
    "start_time": "2022-03-08T13:55:44.534Z"
   },
   {
    "duration": 9,
    "start_time": "2022-03-08T13:55:45.145Z"
   },
   {
    "duration": 559,
    "start_time": "2022-03-08T13:55:45.157Z"
   },
   {
    "duration": 13,
    "start_time": "2022-03-08T13:55:45.718Z"
   },
   {
    "duration": 586,
    "start_time": "2022-03-08T13:55:45.733Z"
   },
   {
    "duration": 217,
    "start_time": "2022-03-08T13:55:46.322Z"
   },
   {
    "duration": 395,
    "start_time": "2022-03-08T13:55:46.542Z"
   },
   {
    "duration": 466,
    "start_time": "2022-03-08T13:55:46.940Z"
   },
   {
    "duration": 6,
    "start_time": "2022-03-08T13:55:47.409Z"
   },
   {
    "duration": 580,
    "start_time": "2022-03-08T13:55:47.417Z"
   },
   {
    "duration": 425,
    "start_time": "2022-03-08T13:55:47.999Z"
   },
   {
    "duration": 6,
    "start_time": "2022-03-08T13:55:48.427Z"
   },
   {
    "duration": 666,
    "start_time": "2022-03-08T13:55:48.435Z"
   },
   {
    "duration": 242,
    "start_time": "2022-03-08T13:57:08.539Z"
   },
   {
    "duration": 303,
    "start_time": "2022-03-08T14:04:41.559Z"
   },
   {
    "duration": 27,
    "start_time": "2022-03-08T14:04:42.573Z"
   },
   {
    "duration": 4424,
    "start_time": "2022-03-08T14:04:43.982Z"
   },
   {
    "duration": 125,
    "start_time": "2022-03-08T14:06:31.945Z"
   },
   {
    "duration": 27,
    "start_time": "2022-03-08T14:06:41.436Z"
   },
   {
    "duration": 245,
    "start_time": "2022-03-08T14:06:48.287Z"
   },
   {
    "duration": 28,
    "start_time": "2022-03-08T14:06:48.875Z"
   },
   {
    "duration": 23,
    "start_time": "2022-03-08T14:06:49.536Z"
   },
   {
    "duration": 12,
    "start_time": "2022-03-08T14:07:53.956Z"
   },
   {
    "duration": 26,
    "start_time": "2022-03-08T14:09:30.001Z"
   },
   {
    "duration": 12,
    "start_time": "2022-03-08T14:11:10.789Z"
   },
   {
    "duration": 12,
    "start_time": "2022-03-08T14:11:23.241Z"
   },
   {
    "duration": 13,
    "start_time": "2022-03-08T14:12:04.379Z"
   },
   {
    "duration": 16,
    "start_time": "2022-03-08T14:18:51.750Z"
   },
   {
    "duration": 15,
    "start_time": "2022-03-08T14:20:28.770Z"
   },
   {
    "duration": 13,
    "start_time": "2022-03-08T14:20:35.891Z"
   },
   {
    "duration": 15,
    "start_time": "2022-03-08T14:20:41.995Z"
   },
   {
    "duration": 16,
    "start_time": "2022-03-08T14:21:50.604Z"
   },
   {
    "duration": 16,
    "start_time": "2022-03-08T14:21:57.708Z"
   },
   {
    "duration": 102,
    "start_time": "2022-03-08T14:25:12.153Z"
   },
   {
    "duration": 13,
    "start_time": "2022-03-08T14:25:44.327Z"
   },
   {
    "duration": 13,
    "start_time": "2022-03-08T14:26:00.127Z"
   },
   {
    "duration": 9,
    "start_time": "2022-03-08T14:27:15.812Z"
   },
   {
    "duration": 376,
    "start_time": "2022-03-08T14:28:38.983Z"
   },
   {
    "duration": 11,
    "start_time": "2022-03-08T14:28:48.153Z"
   },
   {
    "duration": 15,
    "start_time": "2022-03-08T14:44:01.718Z"
   },
   {
    "duration": 15,
    "start_time": "2022-03-08T14:44:50.578Z"
   },
   {
    "duration": 128,
    "start_time": "2022-03-08T14:45:52.270Z"
   },
   {
    "duration": 16,
    "start_time": "2022-03-08T14:46:03.213Z"
   },
   {
    "duration": 12,
    "start_time": "2022-03-08T14:47:49.787Z"
   },
   {
    "duration": 11,
    "start_time": "2022-03-08T14:48:03.994Z"
   },
   {
    "duration": 9,
    "start_time": "2022-03-08T14:49:49.267Z"
   },
   {
    "duration": 13,
    "start_time": "2022-03-08T15:00:43.265Z"
   },
   {
    "duration": 16,
    "start_time": "2022-03-08T15:02:03.499Z"
   },
   {
    "duration": 17,
    "start_time": "2022-03-08T15:05:38.244Z"
   },
   {
    "duration": 1451,
    "start_time": "2022-03-08T15:49:20.613Z"
   },
   {
    "duration": 83,
    "start_time": "2022-03-08T15:49:22.067Z"
   },
   {
    "duration": 23,
    "start_time": "2022-03-08T15:49:22.152Z"
   },
   {
    "duration": 41,
    "start_time": "2022-03-08T15:49:22.178Z"
   },
   {
    "duration": 7,
    "start_time": "2022-03-08T15:49:22.221Z"
   },
   {
    "duration": 62,
    "start_time": "2022-03-08T15:49:22.230Z"
   },
   {
    "duration": 7,
    "start_time": "2022-03-08T15:49:22.295Z"
   },
   {
    "duration": 11,
    "start_time": "2022-03-08T15:49:22.304Z"
   },
   {
    "duration": 12,
    "start_time": "2022-03-08T15:49:22.319Z"
   },
   {
    "duration": 19,
    "start_time": "2022-03-08T15:49:22.375Z"
   },
   {
    "duration": 16,
    "start_time": "2022-03-08T15:49:22.397Z"
   },
   {
    "duration": 18,
    "start_time": "2022-03-08T15:49:22.415Z"
   },
   {
    "duration": 6,
    "start_time": "2022-03-08T15:49:22.474Z"
   },
   {
    "duration": 14,
    "start_time": "2022-03-08T15:49:22.483Z"
   },
   {
    "duration": 10,
    "start_time": "2022-03-08T15:49:22.500Z"
   },
   {
    "duration": 11,
    "start_time": "2022-03-08T15:49:22.513Z"
   },
   {
    "duration": 56,
    "start_time": "2022-03-08T15:49:22.526Z"
   },
   {
    "duration": 330,
    "start_time": "2022-03-08T15:49:22.584Z"
   },
   {
    "duration": 11,
    "start_time": "2022-03-08T15:49:22.916Z"
   },
   {
    "duration": 281,
    "start_time": "2022-03-08T15:49:22.930Z"
   },
   {
    "duration": 12,
    "start_time": "2022-03-08T15:49:23.214Z"
   },
   {
    "duration": 10,
    "start_time": "2022-03-08T15:49:23.228Z"
   },
   {
    "duration": 40,
    "start_time": "2022-03-08T15:49:23.240Z"
   },
   {
    "duration": 9,
    "start_time": "2022-03-08T15:49:23.282Z"
   },
   {
    "duration": 537,
    "start_time": "2022-03-08T15:49:23.293Z"
   },
   {
    "duration": 516,
    "start_time": "2022-03-08T15:49:23.832Z"
   },
   {
    "duration": 20,
    "start_time": "2022-03-08T15:49:24.353Z"
   },
   {
    "duration": 549,
    "start_time": "2022-03-08T15:49:24.376Z"
   },
   {
    "duration": 10,
    "start_time": "2022-03-08T15:49:24.927Z"
   },
   {
    "duration": 527,
    "start_time": "2022-03-08T15:49:24.939Z"
   },
   {
    "duration": 12,
    "start_time": "2022-03-08T15:49:25.468Z"
   },
   {
    "duration": 696,
    "start_time": "2022-03-08T15:49:25.483Z"
   },
   {
    "duration": 311,
    "start_time": "2022-03-08T15:49:26.182Z"
   },
   {
    "duration": 491,
    "start_time": "2022-03-08T15:49:26.496Z"
   },
   {
    "duration": 428,
    "start_time": "2022-03-08T15:49:26.990Z"
   },
   {
    "duration": 7,
    "start_time": "2022-03-08T15:49:27.420Z"
   },
   {
    "duration": 607,
    "start_time": "2022-03-08T15:49:27.429Z"
   },
   {
    "duration": 499,
    "start_time": "2022-03-08T15:49:28.039Z"
   },
   {
    "duration": 7,
    "start_time": "2022-03-08T15:49:28.541Z"
   },
   {
    "duration": 322,
    "start_time": "2022-03-08T15:49:28.551Z"
   },
   {
    "duration": 26,
    "start_time": "2022-03-08T15:49:28.876Z"
   },
   {
    "duration": 673,
    "start_time": "2022-03-08T15:49:28.905Z"
   },
   {
    "duration": 7420,
    "start_time": "2022-03-08T15:49:22.161Z"
   },
   {
    "duration": 7410,
    "start_time": "2022-03-08T15:49:22.172Z"
   },
   {
    "duration": 7408,
    "start_time": "2022-03-08T15:49:22.176Z"
   },
   {
    "duration": 7407,
    "start_time": "2022-03-08T15:49:22.179Z"
   },
   {
    "duration": 7403,
    "start_time": "2022-03-08T15:49:22.184Z"
   },
   {
    "duration": 7402,
    "start_time": "2022-03-08T15:49:22.187Z"
   },
   {
    "duration": 7400,
    "start_time": "2022-03-08T15:49:22.191Z"
   },
   {
    "duration": 7397,
    "start_time": "2022-03-08T15:49:22.195Z"
   },
   {
    "duration": 27,
    "start_time": "2022-03-08T15:50:38.051Z"
   },
   {
    "duration": 18,
    "start_time": "2022-03-08T15:50:42.001Z"
   },
   {
    "duration": 18,
    "start_time": "2022-03-08T15:50:42.947Z"
   },
   {
    "duration": 19,
    "start_time": "2022-03-08T15:50:44.919Z"
   },
   {
    "duration": 14,
    "start_time": "2022-03-08T15:50:45.915Z"
   },
   {
    "duration": 19,
    "start_time": "2022-03-08T15:50:51.554Z"
   },
   {
    "duration": 14,
    "start_time": "2022-03-08T15:50:52.653Z"
   },
   {
    "duration": 11,
    "start_time": "2022-03-08T15:50:53.548Z"
   },
   {
    "duration": 13,
    "start_time": "2022-03-08T15:50:55.558Z"
   },
   {
    "duration": 15,
    "start_time": "2022-03-08T15:50:56.235Z"
   },
   {
    "duration": 1477,
    "start_time": "2022-03-08T15:51:05.401Z"
   },
   {
    "duration": 82,
    "start_time": "2022-03-08T15:51:06.881Z"
   },
   {
    "duration": 15,
    "start_time": "2022-03-08T15:51:06.967Z"
   },
   {
    "duration": 45,
    "start_time": "2022-03-08T15:51:06.985Z"
   },
   {
    "duration": 42,
    "start_time": "2022-03-08T15:51:07.033Z"
   },
   {
    "duration": 54,
    "start_time": "2022-03-08T15:51:07.077Z"
   },
   {
    "duration": 21,
    "start_time": "2022-03-08T15:51:07.134Z"
   },
   {
    "duration": 26,
    "start_time": "2022-03-08T15:51:07.159Z"
   },
   {
    "duration": 17,
    "start_time": "2022-03-08T15:51:07.189Z"
   },
   {
    "duration": 42,
    "start_time": "2022-03-08T15:51:07.209Z"
   },
   {
    "duration": 31,
    "start_time": "2022-03-08T15:51:07.254Z"
   },
   {
    "duration": 32,
    "start_time": "2022-03-08T15:51:07.288Z"
   },
   {
    "duration": 30,
    "start_time": "2022-03-08T15:51:07.322Z"
   },
   {
    "duration": 33,
    "start_time": "2022-03-08T15:51:07.355Z"
   },
   {
    "duration": 21,
    "start_time": "2022-03-08T15:51:07.390Z"
   },
   {
    "duration": 29,
    "start_time": "2022-03-08T15:51:07.414Z"
   },
   {
    "duration": 30,
    "start_time": "2022-03-08T15:51:07.446Z"
   },
   {
    "duration": 340,
    "start_time": "2022-03-08T15:51:07.479Z"
   },
   {
    "duration": 12,
    "start_time": "2022-03-08T15:51:07.821Z"
   },
   {
    "duration": 292,
    "start_time": "2022-03-08T15:51:07.835Z"
   },
   {
    "duration": 30,
    "start_time": "2022-03-08T15:51:08.129Z"
   },
   {
    "duration": 32,
    "start_time": "2022-03-08T15:51:08.162Z"
   },
   {
    "duration": 27,
    "start_time": "2022-03-08T15:51:08.199Z"
   },
   {
    "duration": 16,
    "start_time": "2022-03-08T15:51:08.229Z"
   },
   {
    "duration": 620,
    "start_time": "2022-03-08T15:51:08.247Z"
   },
   {
    "duration": 510,
    "start_time": "2022-03-08T15:51:08.874Z"
   },
   {
    "duration": 9,
    "start_time": "2022-03-08T15:51:09.387Z"
   },
   {
    "duration": 587,
    "start_time": "2022-03-08T15:51:09.398Z"
   },
   {
    "duration": 8,
    "start_time": "2022-03-08T15:51:09.987Z"
   },
   {
    "duration": 532,
    "start_time": "2022-03-08T15:51:09.998Z"
   },
   {
    "duration": 13,
    "start_time": "2022-03-08T15:51:10.532Z"
   },
   {
    "duration": 585,
    "start_time": "2022-03-08T15:51:10.547Z"
   },
   {
    "duration": 219,
    "start_time": "2022-03-08T15:51:11.135Z"
   },
   {
    "duration": 393,
    "start_time": "2022-03-08T15:51:11.356Z"
   },
   {
    "duration": 431,
    "start_time": "2022-03-08T15:51:11.752Z"
   },
   {
    "duration": 7,
    "start_time": "2022-03-08T15:51:12.185Z"
   },
   {
    "duration": 582,
    "start_time": "2022-03-08T15:51:12.194Z"
   },
   {
    "duration": 459,
    "start_time": "2022-03-08T15:51:12.778Z"
   },
   {
    "duration": 8,
    "start_time": "2022-03-08T15:51:13.240Z"
   },
   {
    "duration": 397,
    "start_time": "2022-03-08T15:51:13.251Z"
   },
   {
    "duration": 52,
    "start_time": "2022-03-08T15:51:13.651Z"
   },
   {
    "duration": 17,
    "start_time": "2022-03-08T15:51:13.706Z"
   },
   {
    "duration": 22,
    "start_time": "2022-03-08T15:51:13.726Z"
   },
   {
    "duration": 27,
    "start_time": "2022-03-08T15:51:13.775Z"
   },
   {
    "duration": 30,
    "start_time": "2022-03-08T15:51:13.806Z"
   },
   {
    "duration": 51,
    "start_time": "2022-03-08T15:51:13.839Z"
   },
   {
    "duration": 54,
    "start_time": "2022-03-08T15:51:13.898Z"
   },
   {
    "duration": 30,
    "start_time": "2022-03-08T15:51:13.955Z"
   },
   {
    "duration": 22,
    "start_time": "2022-03-08T15:51:13.988Z"
   },
   {
    "duration": 15,
    "start_time": "2022-03-08T15:51:14.013Z"
   },
   {
    "duration": 474,
    "start_time": "2022-03-08T15:52:13.022Z"
   },
   {
    "duration": 1504,
    "start_time": "2022-03-09T15:33:33.984Z"
   },
   {
    "duration": 80,
    "start_time": "2022-03-09T15:33:35.491Z"
   },
   {
    "duration": 14,
    "start_time": "2022-03-09T15:33:35.577Z"
   },
   {
    "duration": 38,
    "start_time": "2022-03-09T15:33:35.594Z"
   },
   {
    "duration": 7,
    "start_time": "2022-03-09T15:33:35.635Z"
   },
   {
    "duration": 61,
    "start_time": "2022-03-09T15:33:35.644Z"
   },
   {
    "duration": 7,
    "start_time": "2022-03-09T15:33:35.707Z"
   },
   {
    "duration": 6,
    "start_time": "2022-03-09T15:33:35.717Z"
   },
   {
    "duration": 11,
    "start_time": "2022-03-09T15:33:35.726Z"
   },
   {
    "duration": 60,
    "start_time": "2022-03-09T15:33:35.740Z"
   },
   {
    "duration": 16,
    "start_time": "2022-03-09T15:33:35.802Z"
   },
   {
    "duration": 18,
    "start_time": "2022-03-09T15:33:35.820Z"
   },
   {
    "duration": 11,
    "start_time": "2022-03-09T15:33:35.841Z"
   },
   {
    "duration": 15,
    "start_time": "2022-03-09T15:33:35.887Z"
   },
   {
    "duration": 12,
    "start_time": "2022-03-09T15:33:35.904Z"
   },
   {
    "duration": 18,
    "start_time": "2022-03-09T15:33:35.918Z"
   },
   {
    "duration": 12,
    "start_time": "2022-03-09T15:33:35.938Z"
   },
   {
    "duration": 342,
    "start_time": "2022-03-09T15:33:35.953Z"
   },
   {
    "duration": 11,
    "start_time": "2022-03-09T15:33:36.297Z"
   },
   {
    "duration": 286,
    "start_time": "2022-03-09T15:33:36.310Z"
   },
   {
    "duration": 10,
    "start_time": "2022-03-09T15:33:36.598Z"
   },
   {
    "duration": 15,
    "start_time": "2022-03-09T15:33:36.611Z"
   },
   {
    "duration": 17,
    "start_time": "2022-03-09T15:33:36.628Z"
   },
   {
    "duration": 9,
    "start_time": "2022-03-09T15:33:36.647Z"
   },
   {
    "duration": 493,
    "start_time": "2022-03-09T15:33:36.658Z"
   },
   {
    "duration": 490,
    "start_time": "2022-03-09T15:33:37.157Z"
   },
   {
    "duration": 10,
    "start_time": "2022-03-09T15:33:37.651Z"
   },
   {
    "duration": 555,
    "start_time": "2022-03-09T15:33:37.664Z"
   },
   {
    "duration": 8,
    "start_time": "2022-03-09T15:33:38.221Z"
   },
   {
    "duration": 518,
    "start_time": "2022-03-09T15:33:38.231Z"
   },
   {
    "duration": 12,
    "start_time": "2022-03-09T15:33:38.751Z"
   },
   {
    "duration": 546,
    "start_time": "2022-03-09T15:33:38.765Z"
   },
   {
    "duration": 236,
    "start_time": "2022-03-09T15:33:39.314Z"
   },
   {
    "duration": 372,
    "start_time": "2022-03-09T15:33:39.552Z"
   },
   {
    "duration": 391,
    "start_time": "2022-03-09T15:33:39.926Z"
   },
   {
    "duration": 7,
    "start_time": "2022-03-09T15:33:40.320Z"
   },
   {
    "duration": 583,
    "start_time": "2022-03-09T15:33:40.330Z"
   },
   {
    "duration": 440,
    "start_time": "2022-03-09T15:33:40.916Z"
   },
   {
    "duration": 8,
    "start_time": "2022-03-09T15:33:41.359Z"
   },
   {
    "duration": 226,
    "start_time": "2022-03-09T15:33:41.388Z"
   },
   {
    "duration": 24,
    "start_time": "2022-03-09T15:33:41.617Z"
   },
   {
    "duration": 15,
    "start_time": "2022-03-09T15:33:41.643Z"
   },
   {
    "duration": 30,
    "start_time": "2022-03-09T15:33:41.661Z"
   },
   {
    "duration": 15,
    "start_time": "2022-03-09T15:33:41.694Z"
   },
   {
    "duration": 12,
    "start_time": "2022-03-09T15:33:41.712Z"
   },
   {
    "duration": 62,
    "start_time": "2022-03-09T15:33:41.727Z"
   },
   {
    "duration": 11,
    "start_time": "2022-03-09T15:33:41.791Z"
   },
   {
    "duration": 13,
    "start_time": "2022-03-09T15:33:41.805Z"
   },
   {
    "duration": 12,
    "start_time": "2022-03-09T15:33:41.820Z"
   },
   {
    "duration": 15,
    "start_time": "2022-03-09T15:33:41.835Z"
   },
   {
    "duration": 8,
    "start_time": "2022-03-09T15:42:01.470Z"
   },
   {
    "duration": 565,
    "start_time": "2022-03-09T15:52:25.561Z"
   },
   {
    "duration": 76,
    "start_time": "2022-03-09T15:52:40.320Z"
   },
   {
    "duration": 72,
    "start_time": "2022-03-09T15:52:43.711Z"
   },
   {
    "duration": 8,
    "start_time": "2022-03-09T15:52:49.288Z"
   },
   {
    "duration": 6,
    "start_time": "2022-03-09T15:52:54.551Z"
   },
   {
    "duration": 16,
    "start_time": "2022-03-09T15:52:57.166Z"
   },
   {
    "duration": 10,
    "start_time": "2022-03-09T15:53:15.678Z"
   },
   {
    "duration": 13,
    "start_time": "2022-03-09T15:53:27.445Z"
   },
   {
    "duration": 549,
    "start_time": "2022-03-09T15:53:52.476Z"
   },
   {
    "duration": 591,
    "start_time": "2022-03-09T15:54:12.082Z"
   },
   {
    "duration": 584,
    "start_time": "2022-03-09T15:54:44.384Z"
   },
   {
    "duration": 534,
    "start_time": "2022-03-09T15:55:50.893Z"
   },
   {
    "duration": 475,
    "start_time": "2022-03-09T15:56:38.577Z"
   },
   {
    "duration": 7,
    "start_time": "2022-03-09T16:01:38.936Z"
   },
   {
    "duration": 1536,
    "start_time": "2022-03-09T16:05:20.048Z"
   },
   {
    "duration": 81,
    "start_time": "2022-03-09T16:05:21.587Z"
   },
   {
    "duration": 17,
    "start_time": "2022-03-09T16:05:21.670Z"
   },
   {
    "duration": 42,
    "start_time": "2022-03-09T16:05:21.690Z"
   },
   {
    "duration": 7,
    "start_time": "2022-03-09T16:05:21.734Z"
   },
   {
    "duration": 59,
    "start_time": "2022-03-09T16:05:21.744Z"
   },
   {
    "duration": 8,
    "start_time": "2022-03-09T16:05:21.807Z"
   },
   {
    "duration": 6,
    "start_time": "2022-03-09T16:05:21.821Z"
   },
   {
    "duration": 58,
    "start_time": "2022-03-09T16:05:21.830Z"
   },
   {
    "duration": 30,
    "start_time": "2022-03-09T16:05:21.891Z"
   },
   {
    "duration": 25,
    "start_time": "2022-03-09T16:05:21.924Z"
   },
   {
    "duration": 56,
    "start_time": "2022-03-09T16:05:21.952Z"
   },
   {
    "duration": 7,
    "start_time": "2022-03-09T16:05:22.011Z"
   },
   {
    "duration": 16,
    "start_time": "2022-03-09T16:05:22.021Z"
   },
   {
    "duration": 49,
    "start_time": "2022-03-09T16:05:22.040Z"
   },
   {
    "duration": 11,
    "start_time": "2022-03-09T16:05:22.091Z"
   },
   {
    "duration": 11,
    "start_time": "2022-03-09T16:05:22.104Z"
   },
   {
    "duration": 336,
    "start_time": "2022-03-09T16:05:22.117Z"
   },
   {
    "duration": 15,
    "start_time": "2022-03-09T16:05:22.456Z"
   },
   {
    "duration": 289,
    "start_time": "2022-03-09T16:05:22.473Z"
   },
   {
    "duration": 22,
    "start_time": "2022-03-09T16:05:22.765Z"
   },
   {
    "duration": 11,
    "start_time": "2022-03-09T16:05:22.789Z"
   },
   {
    "duration": 13,
    "start_time": "2022-03-09T16:05:22.807Z"
   },
   {
    "duration": 8,
    "start_time": "2022-03-09T16:05:22.824Z"
   },
   {
    "duration": 500,
    "start_time": "2022-03-09T16:05:22.835Z"
   },
   {
    "duration": 499,
    "start_time": "2022-03-09T16:05:23.337Z"
   },
   {
    "duration": 14,
    "start_time": "2022-03-09T16:05:23.839Z"
   },
   {
    "duration": 566,
    "start_time": "2022-03-09T16:05:23.856Z"
   },
   {
    "duration": 10,
    "start_time": "2022-03-09T16:05:24.424Z"
   },
   {
    "duration": 520,
    "start_time": "2022-03-09T16:05:24.437Z"
   },
   {
    "duration": 14,
    "start_time": "2022-03-09T16:05:24.960Z"
   },
   {
    "duration": 549,
    "start_time": "2022-03-09T16:05:24.976Z"
   },
   {
    "duration": 657,
    "start_time": "2022-03-09T16:05:25.528Z"
   },
   {
    "duration": 190,
    "start_time": "2022-03-09T16:05:26.187Z"
   },
   {
    "duration": 312,
    "start_time": "2022-03-09T16:05:26.387Z"
   },
   {
    "duration": 426,
    "start_time": "2022-03-09T16:05:26.701Z"
   },
   {
    "duration": 8,
    "start_time": "2022-03-09T16:05:27.130Z"
   },
   {
    "duration": 598,
    "start_time": "2022-03-09T16:05:27.141Z"
   },
   {
    "duration": 495,
    "start_time": "2022-03-09T16:05:27.742Z"
   },
   {
    "duration": 8,
    "start_time": "2022-03-09T16:05:28.242Z"
   },
   {
    "duration": 234,
    "start_time": "2022-03-09T16:05:28.253Z"
   },
   {
    "duration": 25,
    "start_time": "2022-03-09T16:05:28.489Z"
   },
   {
    "duration": 15,
    "start_time": "2022-03-09T16:05:28.516Z"
   },
   {
    "duration": 15,
    "start_time": "2022-03-09T16:05:28.534Z"
   },
   {
    "duration": 44,
    "start_time": "2022-03-09T16:05:28.552Z"
   },
   {
    "duration": 10,
    "start_time": "2022-03-09T16:05:28.599Z"
   },
   {
    "duration": 14,
    "start_time": "2022-03-09T16:05:28.612Z"
   },
   {
    "duration": 21,
    "start_time": "2022-03-09T16:05:28.629Z"
   },
   {
    "duration": 41,
    "start_time": "2022-03-09T16:05:28.652Z"
   },
   {
    "duration": 14,
    "start_time": "2022-03-09T16:05:28.696Z"
   },
   {
    "duration": 15,
    "start_time": "2022-03-09T16:05:28.713Z"
   },
   {
    "duration": 1155,
    "start_time": "2022-03-09T18:17:39.217Z"
   },
   {
    "duration": 70,
    "start_time": "2022-03-09T18:17:40.374Z"
   },
   {
    "duration": 6,
    "start_time": "2022-03-09T18:17:40.447Z"
   },
   {
    "duration": 47,
    "start_time": "2022-03-09T18:17:40.456Z"
   },
   {
    "duration": 5,
    "start_time": "2022-03-09T18:17:40.505Z"
   },
   {
    "duration": 34,
    "start_time": "2022-03-09T18:17:40.512Z"
   },
   {
    "duration": 6,
    "start_time": "2022-03-09T18:17:40.548Z"
   },
   {
    "duration": 6,
    "start_time": "2022-03-09T18:17:40.558Z"
   },
   {
    "duration": 41,
    "start_time": "2022-03-09T18:17:40.566Z"
   },
   {
    "duration": 16,
    "start_time": "2022-03-09T18:17:40.609Z"
   },
   {
    "duration": 14,
    "start_time": "2022-03-09T18:17:40.627Z"
   },
   {
    "duration": 18,
    "start_time": "2022-03-09T18:17:40.643Z"
   },
   {
    "duration": 40,
    "start_time": "2022-03-09T18:17:40.663Z"
   },
   {
    "duration": 11,
    "start_time": "2022-03-09T18:17:40.705Z"
   },
   {
    "duration": 15,
    "start_time": "2022-03-09T18:17:40.718Z"
   },
   {
    "duration": 20,
    "start_time": "2022-03-09T18:17:40.735Z"
   },
   {
    "duration": 12,
    "start_time": "2022-03-09T18:17:40.757Z"
   },
   {
    "duration": 230,
    "start_time": "2022-03-09T18:17:40.771Z"
   },
   {
    "duration": 10,
    "start_time": "2022-03-09T18:17:41.004Z"
   },
   {
    "duration": 189,
    "start_time": "2022-03-09T18:17:41.017Z"
   },
   {
    "duration": 9,
    "start_time": "2022-03-09T18:17:41.208Z"
   },
   {
    "duration": 16,
    "start_time": "2022-03-09T18:17:41.219Z"
   },
   {
    "duration": 15,
    "start_time": "2022-03-09T18:17:41.240Z"
   },
   {
    "duration": 7,
    "start_time": "2022-03-09T18:17:41.258Z"
   },
   {
    "duration": 343,
    "start_time": "2022-03-09T18:17:41.267Z"
   },
   {
    "duration": 320,
    "start_time": "2022-03-09T18:17:41.612Z"
   },
   {
    "duration": 8,
    "start_time": "2022-03-09T18:17:41.934Z"
   },
   {
    "duration": 370,
    "start_time": "2022-03-09T18:17:41.944Z"
   },
   {
    "duration": 8,
    "start_time": "2022-03-09T18:17:42.316Z"
   },
   {
    "duration": 411,
    "start_time": "2022-03-09T18:17:42.326Z"
   },
   {
    "duration": 9,
    "start_time": "2022-03-09T18:17:42.740Z"
   },
   {
    "duration": 396,
    "start_time": "2022-03-09T18:17:42.751Z"
   },
   {
    "duration": 542,
    "start_time": "2022-03-09T18:17:43.149Z"
   },
   {
    "duration": 129,
    "start_time": "2022-03-09T18:17:43.701Z"
   },
   {
    "duration": 215,
    "start_time": "2022-03-09T18:17:43.832Z"
   },
   {
    "duration": 302,
    "start_time": "2022-03-09T18:17:44.049Z"
   },
   {
    "duration": 6,
    "start_time": "2022-03-09T18:17:44.353Z"
   },
   {
    "duration": 359,
    "start_time": "2022-03-09T18:17:44.361Z"
   },
   {
    "duration": 354,
    "start_time": "2022-03-09T18:17:44.723Z"
   },
   {
    "duration": 7,
    "start_time": "2022-03-09T18:17:45.079Z"
   },
   {
    "duration": 132,
    "start_time": "2022-03-09T18:17:45.101Z"
   },
   {
    "duration": 18,
    "start_time": "2022-03-09T18:17:45.236Z"
   },
   {
    "duration": 14,
    "start_time": "2022-03-09T18:17:45.256Z"
   },
   {
    "duration": 8,
    "start_time": "2022-03-09T18:17:45.272Z"
   },
   {
    "duration": 29,
    "start_time": "2022-03-09T18:17:45.282Z"
   },
   {
    "duration": 14,
    "start_time": "2022-03-09T18:17:45.313Z"
   },
   {
    "duration": 13,
    "start_time": "2022-03-09T18:17:45.329Z"
   },
   {
    "duration": 13,
    "start_time": "2022-03-09T18:17:45.344Z"
   },
   {
    "duration": 10,
    "start_time": "2022-03-09T18:17:45.359Z"
   },
   {
    "duration": 35,
    "start_time": "2022-03-09T18:17:45.371Z"
   },
   {
    "duration": 10,
    "start_time": "2022-03-09T18:17:45.408Z"
   },
   {
    "duration": 29,
    "start_time": "2022-03-09T18:18:09.168Z"
   },
   {
    "duration": 25,
    "start_time": "2022-03-09T18:18:19.744Z"
   },
   {
    "duration": 24,
    "start_time": "2022-03-09T18:18:24.600Z"
   },
   {
    "duration": 59,
    "start_time": "2022-03-09T18:19:51.557Z"
   },
   {
    "duration": 4442,
    "start_time": "2022-03-09T18:21:20.428Z"
   },
   {
    "duration": 4463,
    "start_time": "2022-03-09T18:21:35.140Z"
   },
   {
    "duration": 4637,
    "start_time": "2022-03-09T18:21:45.586Z"
   },
   {
    "duration": 6,
    "start_time": "2022-03-09T18:22:01.361Z"
   },
   {
    "duration": 59,
    "start_time": "2022-03-09T18:22:02.332Z"
   },
   {
    "duration": 8,
    "start_time": "2022-03-09T18:22:03.360Z"
   },
   {
    "duration": 31,
    "start_time": "2022-03-09T18:22:03.658Z"
   },
   {
    "duration": 6,
    "start_time": "2022-03-09T18:22:04.608Z"
   },
   {
    "duration": 25,
    "start_time": "2022-03-09T18:22:05.356Z"
   },
   {
    "duration": 6,
    "start_time": "2022-03-09T18:22:08.148Z"
   },
   {
    "duration": 6,
    "start_time": "2022-03-09T18:22:10.459Z"
   },
   {
    "duration": 9,
    "start_time": "2022-03-09T18:22:12.840Z"
   },
   {
    "duration": 15,
    "start_time": "2022-03-09T18:22:13.719Z"
   },
   {
    "duration": 12,
    "start_time": "2022-03-09T18:22:16.953Z"
   },
   {
    "duration": 6,
    "start_time": "2022-03-09T18:22:21.157Z"
   },
   {
    "duration": 12,
    "start_time": "2022-03-09T18:22:39.078Z"
   },
   {
    "duration": 12,
    "start_time": "2022-03-09T18:22:42.963Z"
   },
   {
    "duration": 15,
    "start_time": "2022-03-09T18:22:59.793Z"
   },
   {
    "duration": 5,
    "start_time": "2022-03-09T18:23:22.025Z"
   },
   {
    "duration": 308,
    "start_time": "2022-03-09T18:35:51.671Z"
   },
   {
    "duration": 350,
    "start_time": "2022-03-09T18:36:41.499Z"
   },
   {
    "duration": 408,
    "start_time": "2022-03-09T18:36:59.915Z"
   },
   {
    "duration": 339,
    "start_time": "2022-03-09T18:37:13.317Z"
   },
   {
    "duration": 419,
    "start_time": "2022-03-09T18:37:17.150Z"
   },
   {
    "duration": 383,
    "start_time": "2022-03-09T18:37:34.123Z"
   },
   {
    "duration": 373,
    "start_time": "2022-03-09T19:00:26.350Z"
   },
   {
    "duration": 376,
    "start_time": "2022-03-09T19:01:40.946Z"
   },
   {
    "duration": 65,
    "start_time": "2022-03-09T19:06:28.195Z"
   },
   {
    "duration": 62,
    "start_time": "2022-03-09T19:06:41.451Z"
   },
   {
    "duration": 61,
    "start_time": "2022-03-09T19:06:53.202Z"
   },
   {
    "duration": 87,
    "start_time": "2022-03-09T19:07:08.882Z"
   },
   {
    "duration": 387,
    "start_time": "2022-03-09T19:07:21.575Z"
   },
   {
    "duration": 312,
    "start_time": "2022-03-09T19:07:25.936Z"
   },
   {
    "duration": 323,
    "start_time": "2022-03-09T19:07:37.486Z"
   },
   {
    "duration": 199,
    "start_time": "2022-03-09T19:07:54.102Z"
   },
   {
    "duration": 395,
    "start_time": "2022-03-09T19:13:05.580Z"
   },
   {
    "duration": 375,
    "start_time": "2022-03-09T19:13:26.570Z"
   },
   {
    "duration": 98,
    "start_time": "2022-03-09T19:14:16.711Z"
   },
   {
    "duration": 217,
    "start_time": "2022-03-09T19:14:25.396Z"
   },
   {
    "duration": 294,
    "start_time": "2022-03-09T19:15:01.991Z"
   },
   {
    "duration": 342,
    "start_time": "2022-03-09T19:15:56.081Z"
   },
   {
    "duration": 326,
    "start_time": "2022-03-09T19:16:17.260Z"
   },
   {
    "duration": 308,
    "start_time": "2022-03-09T19:16:37.150Z"
   },
   {
    "duration": 65,
    "start_time": "2022-03-09T19:17:12.810Z"
   },
   {
    "duration": 325,
    "start_time": "2022-03-09T19:17:35.504Z"
   },
   {
    "duration": 364,
    "start_time": "2022-03-09T19:19:10.818Z"
   },
   {
    "duration": 371,
    "start_time": "2022-03-09T19:19:41.445Z"
   },
   {
    "duration": 359,
    "start_time": "2022-03-09T19:20:06.707Z"
   },
   {
    "duration": 347,
    "start_time": "2022-03-09T19:20:24.621Z"
   },
   {
    "duration": 499,
    "start_time": "2022-03-09T19:21:18.869Z"
   },
   {
    "duration": 5074,
    "start_time": "2022-03-09T19:22:44.597Z"
   },
   {
    "duration": 361,
    "start_time": "2022-03-09T19:22:57.836Z"
   },
   {
    "duration": 332,
    "start_time": "2022-03-09T19:23:27.303Z"
   },
   {
    "duration": 349,
    "start_time": "2022-03-09T19:23:30.799Z"
   },
   {
    "duration": 5,
    "start_time": "2022-03-09T19:24:22.394Z"
   },
   {
    "duration": 56,
    "start_time": "2022-03-09T19:24:23.365Z"
   },
   {
    "duration": 7,
    "start_time": "2022-03-09T19:24:24.003Z"
   },
   {
    "duration": 32,
    "start_time": "2022-03-09T19:24:24.243Z"
   },
   {
    "duration": 7,
    "start_time": "2022-03-09T19:24:24.920Z"
   },
   {
    "duration": 24,
    "start_time": "2022-03-09T19:24:25.521Z"
   },
   {
    "duration": 7,
    "start_time": "2022-03-09T19:24:29.577Z"
   },
   {
    "duration": 5,
    "start_time": "2022-03-09T19:24:31.565Z"
   },
   {
    "duration": 10,
    "start_time": "2022-03-09T19:24:32.777Z"
   },
   {
    "duration": 15,
    "start_time": "2022-03-09T19:24:33.230Z"
   },
   {
    "duration": 12,
    "start_time": "2022-03-09T19:24:36.352Z"
   },
   {
    "duration": 14,
    "start_time": "2022-03-09T19:24:37.744Z"
   },
   {
    "duration": 5,
    "start_time": "2022-03-09T19:24:38.088Z"
   },
   {
    "duration": 11,
    "start_time": "2022-03-09T19:24:49.725Z"
   },
   {
    "duration": 10,
    "start_time": "2022-03-09T19:25:01.967Z"
   },
   {
    "duration": 7,
    "start_time": "2022-03-09T19:25:13.166Z"
   },
   {
    "duration": 10,
    "start_time": "2022-03-09T19:25:13.597Z"
   },
   {
    "duration": 198,
    "start_time": "2022-03-09T19:25:15.257Z"
   },
   {
    "duration": 9,
    "start_time": "2022-03-09T19:25:15.650Z"
   },
   {
    "duration": 169,
    "start_time": "2022-03-09T19:25:16.413Z"
   },
   {
    "duration": 9,
    "start_time": "2022-03-09T19:25:16.667Z"
   },
   {
    "duration": 7,
    "start_time": "2022-03-09T19:25:17.365Z"
   },
   {
    "duration": 11,
    "start_time": "2022-03-09T19:25:17.679Z"
   },
   {
    "duration": 6,
    "start_time": "2022-03-09T19:25:18.432Z"
   },
   {
    "duration": 304,
    "start_time": "2022-03-09T19:25:18.716Z"
   },
   {
    "duration": 344,
    "start_time": "2022-03-09T19:25:30.636Z"
   },
   {
    "duration": 7,
    "start_time": "2022-03-09T19:25:37.881Z"
   },
   {
    "duration": 392,
    "start_time": "2022-03-09T19:25:38.661Z"
   },
   {
    "duration": 7,
    "start_time": "2022-03-09T19:25:47.165Z"
   },
   {
    "duration": 346,
    "start_time": "2022-03-09T19:25:48.512Z"
   },
   {
    "duration": 9,
    "start_time": "2022-03-09T19:25:50.703Z"
   },
   {
    "duration": 385,
    "start_time": "2022-03-09T19:25:51.657Z"
   },
   {
    "duration": 449,
    "start_time": "2022-03-09T19:25:58.378Z"
   },
   {
    "duration": 134,
    "start_time": "2022-03-09T19:26:03.489Z"
   },
   {
    "duration": 326,
    "start_time": "2022-03-09T19:26:05.116Z"
   },
   {
    "duration": 439,
    "start_time": "2022-03-09T19:26:22.782Z"
   },
   {
    "duration": 116,
    "start_time": "2022-03-09T19:26:24.117Z"
   },
   {
    "duration": 196,
    "start_time": "2022-03-09T19:26:24.466Z"
   },
   {
    "duration": 276,
    "start_time": "2022-03-09T19:26:25.549Z"
   },
   {
    "duration": 6,
    "start_time": "2022-03-09T19:26:31.191Z"
   },
   {
    "duration": 353,
    "start_time": "2022-03-09T19:26:34.329Z"
   },
   {
    "duration": 382,
    "start_time": "2022-03-09T19:26:37.272Z"
   },
   {
    "duration": 325,
    "start_time": "2022-03-09T19:29:25.502Z"
   },
   {
    "duration": 1223,
    "start_time": "2022-03-09T19:36:39.053Z"
   },
   {
    "duration": 65,
    "start_time": "2022-03-09T19:36:40.278Z"
   },
   {
    "duration": 8,
    "start_time": "2022-03-09T19:36:40.345Z"
   },
   {
    "duration": 55,
    "start_time": "2022-03-09T19:36:40.355Z"
   },
   {
    "duration": 10,
    "start_time": "2022-03-09T19:36:40.412Z"
   },
   {
    "duration": 30,
    "start_time": "2022-03-09T19:36:40.423Z"
   },
   {
    "duration": 5,
    "start_time": "2022-03-09T19:36:40.455Z"
   },
   {
    "duration": 8,
    "start_time": "2022-03-09T19:36:40.463Z"
   },
   {
    "duration": 32,
    "start_time": "2022-03-09T19:36:40.473Z"
   },
   {
    "duration": 17,
    "start_time": "2022-03-09T19:36:40.507Z"
   },
   {
    "duration": 16,
    "start_time": "2022-03-09T19:36:40.525Z"
   },
   {
    "duration": 14,
    "start_time": "2022-03-09T19:36:40.543Z"
   },
   {
    "duration": 7,
    "start_time": "2022-03-09T19:36:40.559Z"
   },
   {
    "duration": 38,
    "start_time": "2022-03-09T19:36:40.568Z"
   },
   {
    "duration": 11,
    "start_time": "2022-03-09T19:36:40.608Z"
   },
   {
    "duration": 12,
    "start_time": "2022-03-09T19:36:40.621Z"
   },
   {
    "duration": 11,
    "start_time": "2022-03-09T19:36:40.636Z"
   },
   {
    "duration": 242,
    "start_time": "2022-03-09T19:36:40.649Z"
   },
   {
    "duration": 15,
    "start_time": "2022-03-09T19:36:40.893Z"
   },
   {
    "duration": 185,
    "start_time": "2022-03-09T19:36:40.911Z"
   },
   {
    "duration": 9,
    "start_time": "2022-03-09T19:36:41.100Z"
   },
   {
    "duration": 11,
    "start_time": "2022-03-09T19:36:41.111Z"
   },
   {
    "duration": 13,
    "start_time": "2022-03-09T19:36:41.125Z"
   },
   {
    "duration": 9,
    "start_time": "2022-03-09T19:36:41.141Z"
   },
   {
    "duration": 349,
    "start_time": "2022-03-09T19:36:41.152Z"
   },
   {
    "duration": 352,
    "start_time": "2022-03-09T19:36:41.503Z"
   },
   {
    "duration": 8,
    "start_time": "2022-03-09T19:36:41.857Z"
   },
   {
    "duration": 447,
    "start_time": "2022-03-09T19:36:41.867Z"
   },
   {
    "duration": 7,
    "start_time": "2022-03-09T19:36:42.316Z"
   },
   {
    "duration": 357,
    "start_time": "2022-03-09T19:36:42.325Z"
   },
   {
    "duration": 19,
    "start_time": "2022-03-09T19:36:42.685Z"
   },
   {
    "duration": 405,
    "start_time": "2022-03-09T19:36:42.706Z"
   },
   {
    "duration": 587,
    "start_time": "2022-03-09T19:36:43.114Z"
   },
   {
    "duration": 131,
    "start_time": "2022-03-09T19:36:43.703Z"
   },
   {
    "duration": 213,
    "start_time": "2022-03-09T19:36:43.836Z"
   },
   {
    "duration": 331,
    "start_time": "2022-03-09T19:36:44.051Z"
   },
   {
    "duration": 17,
    "start_time": "2022-03-09T19:36:44.384Z"
   },
   {
    "duration": 369,
    "start_time": "2022-03-09T19:36:44.403Z"
   },
   {
    "duration": 430,
    "start_time": "2022-03-09T19:36:44.774Z"
   },
   {
    "duration": 5,
    "start_time": "2022-03-09T19:36:45.206Z"
   },
   {
    "duration": 144,
    "start_time": "2022-03-09T19:36:45.213Z"
   },
   {
    "duration": 20,
    "start_time": "2022-03-09T19:36:45.359Z"
   },
   {
    "duration": 26,
    "start_time": "2022-03-09T19:36:45.381Z"
   },
   {
    "duration": 8,
    "start_time": "2022-03-09T19:36:45.410Z"
   },
   {
    "duration": 15,
    "start_time": "2022-03-09T19:36:45.420Z"
   },
   {
    "duration": 10,
    "start_time": "2022-03-09T19:36:45.438Z"
   },
   {
    "duration": 11,
    "start_time": "2022-03-09T19:36:45.450Z"
   },
   {
    "duration": 47,
    "start_time": "2022-03-09T19:36:45.464Z"
   },
   {
    "duration": 15,
    "start_time": "2022-03-09T19:36:45.513Z"
   },
   {
    "duration": 10,
    "start_time": "2022-03-09T19:36:45.531Z"
   },
   {
    "duration": 11,
    "start_time": "2022-03-09T19:36:45.544Z"
   },
   {
    "duration": 352,
    "start_time": "2022-03-09T19:37:41.511Z"
   },
   {
    "duration": 9,
    "start_time": "2022-03-09T19:51:05.709Z"
   },
   {
    "duration": 9,
    "start_time": "2022-03-09T19:52:49.915Z"
   },
   {
    "duration": 12,
    "start_time": "2022-03-09T19:54:52.935Z"
   },
   {
    "duration": 10,
    "start_time": "2022-03-09T19:56:32.806Z"
   },
   {
    "duration": 7,
    "start_time": "2022-03-09T20:04:57.690Z"
   },
   {
    "duration": 12,
    "start_time": "2022-03-09T20:06:55.796Z"
   },
   {
    "duration": 1261,
    "start_time": "2022-03-09T20:07:44.511Z"
   },
   {
    "duration": 64,
    "start_time": "2022-03-09T20:07:45.775Z"
   },
   {
    "duration": 7,
    "start_time": "2022-03-09T20:07:45.841Z"
   },
   {
    "duration": 53,
    "start_time": "2022-03-09T20:07:45.850Z"
   },
   {
    "duration": 46,
    "start_time": "2022-03-09T20:07:45.905Z"
   },
   {
    "duration": 34,
    "start_time": "2022-03-09T20:07:45.954Z"
   },
   {
    "duration": 10,
    "start_time": "2022-03-09T20:07:45.990Z"
   },
   {
    "duration": 14,
    "start_time": "2022-03-09T20:07:46.003Z"
   },
   {
    "duration": 21,
    "start_time": "2022-03-09T20:07:46.020Z"
   },
   {
    "duration": 17,
    "start_time": "2022-03-09T20:07:46.043Z"
   },
   {
    "duration": 15,
    "start_time": "2022-03-09T20:07:46.062Z"
   },
   {
    "duration": 23,
    "start_time": "2022-03-09T20:07:46.079Z"
   },
   {
    "duration": 5,
    "start_time": "2022-03-09T20:07:46.104Z"
   },
   {
    "duration": 20,
    "start_time": "2022-03-09T20:07:46.111Z"
   },
   {
    "duration": 19,
    "start_time": "2022-03-09T20:07:46.133Z"
   },
   {
    "duration": 13,
    "start_time": "2022-03-09T20:07:46.154Z"
   },
   {
    "duration": 13,
    "start_time": "2022-03-09T20:07:46.170Z"
   },
   {
    "duration": 229,
    "start_time": "2022-03-09T20:07:46.185Z"
   },
   {
    "duration": 9,
    "start_time": "2022-03-09T20:07:46.416Z"
   },
   {
    "duration": 267,
    "start_time": "2022-03-09T20:07:46.426Z"
   },
   {
    "duration": 13,
    "start_time": "2022-03-09T20:07:46.695Z"
   },
   {
    "duration": 10,
    "start_time": "2022-03-09T20:07:46.710Z"
   },
   {
    "duration": 14,
    "start_time": "2022-03-09T20:07:46.725Z"
   },
   {
    "duration": 7,
    "start_time": "2022-03-09T20:07:46.742Z"
   },
   {
    "duration": 409,
    "start_time": "2022-03-09T20:07:46.751Z"
   },
   {
    "duration": 355,
    "start_time": "2022-03-09T20:07:47.163Z"
   },
   {
    "duration": 8,
    "start_time": "2022-03-09T20:07:47.521Z"
   },
   {
    "duration": 402,
    "start_time": "2022-03-09T20:07:47.531Z"
   },
   {
    "duration": 7,
    "start_time": "2022-03-09T20:07:47.935Z"
   },
   {
    "duration": 470,
    "start_time": "2022-03-09T20:07:47.944Z"
   },
   {
    "duration": 9,
    "start_time": "2022-03-09T20:07:48.416Z"
   },
   {
    "duration": 405,
    "start_time": "2022-03-09T20:07:48.427Z"
   },
   {
    "duration": 512,
    "start_time": "2022-03-09T20:07:48.834Z"
   },
   {
    "duration": 122,
    "start_time": "2022-03-09T20:07:49.349Z"
   },
   {
    "duration": 236,
    "start_time": "2022-03-09T20:07:49.473Z"
   },
   {
    "duration": 354,
    "start_time": "2022-03-09T20:07:49.711Z"
   },
   {
    "duration": 5,
    "start_time": "2022-03-09T20:07:50.067Z"
   },
   {
    "duration": 392,
    "start_time": "2022-03-09T20:07:50.074Z"
   },
   {
    "duration": 439,
    "start_time": "2022-03-09T20:07:50.468Z"
   },
   {
    "duration": 5,
    "start_time": "2022-03-09T20:07:50.909Z"
   },
   {
    "duration": 139,
    "start_time": "2022-03-09T20:07:50.916Z"
   },
   {
    "duration": 20,
    "start_time": "2022-03-09T20:07:51.057Z"
   },
   {
    "duration": 23,
    "start_time": "2022-03-09T20:07:51.080Z"
   },
   {
    "duration": 19,
    "start_time": "2022-03-09T20:07:51.106Z"
   },
   {
    "duration": 18,
    "start_time": "2022-03-09T20:07:51.127Z"
   },
   {
    "duration": 28,
    "start_time": "2022-03-09T20:07:51.147Z"
   },
   {
    "duration": 23,
    "start_time": "2022-03-09T20:07:51.178Z"
   },
   {
    "duration": 18,
    "start_time": "2022-03-09T20:07:51.204Z"
   },
   {
    "duration": 26,
    "start_time": "2022-03-09T20:07:51.225Z"
   },
   {
    "duration": 14,
    "start_time": "2022-03-09T20:07:51.254Z"
   },
   {
    "duration": 20,
    "start_time": "2022-03-09T20:07:51.271Z"
   },
   {
    "duration": 26,
    "start_time": "2022-03-09T20:09:03.572Z"
   },
   {
    "duration": 6,
    "start_time": "2022-03-09T20:09:13.544Z"
   },
   {
    "duration": 61,
    "start_time": "2022-03-09T20:09:15.609Z"
   },
   {
    "duration": 7,
    "start_time": "2022-03-09T20:09:16.726Z"
   },
   {
    "duration": 31,
    "start_time": "2022-03-09T20:09:17.276Z"
   },
   {
    "duration": 7,
    "start_time": "2022-03-09T20:09:18.437Z"
   },
   {
    "duration": 31,
    "start_time": "2022-03-09T20:09:18.936Z"
   },
   {
    "duration": 7,
    "start_time": "2022-03-09T20:09:21.811Z"
   },
   {
    "duration": 6,
    "start_time": "2022-03-09T20:09:24.741Z"
   },
   {
    "duration": 9,
    "start_time": "2022-03-09T20:09:26.622Z"
   },
   {
    "duration": 17,
    "start_time": "2022-03-09T20:09:27.487Z"
   },
   {
    "duration": 13,
    "start_time": "2022-03-09T20:09:30.624Z"
   },
   {
    "duration": 15,
    "start_time": "2022-03-09T20:09:34.169Z"
   },
   {
    "duration": 5,
    "start_time": "2022-03-09T20:09:34.725Z"
   },
   {
    "duration": 11,
    "start_time": "2022-03-09T20:09:41.985Z"
   },
   {
    "duration": 9,
    "start_time": "2022-03-09T20:09:43.106Z"
   },
   {
    "duration": 7,
    "start_time": "2022-03-09T20:10:07.117Z"
   },
   {
    "duration": 9,
    "start_time": "2022-03-09T20:10:07.464Z"
   },
   {
    "duration": 200,
    "start_time": "2022-03-09T20:10:09.467Z"
   },
   {
    "duration": 10,
    "start_time": "2022-03-09T20:10:09.814Z"
   },
   {
    "duration": 199,
    "start_time": "2022-03-09T20:10:10.539Z"
   },
   {
    "duration": 10,
    "start_time": "2022-03-09T20:10:10.817Z"
   },
   {
    "duration": 9,
    "start_time": "2022-03-09T20:10:11.594Z"
   },
   {
    "duration": 11,
    "start_time": "2022-03-09T20:10:11.899Z"
   },
   {
    "duration": 7,
    "start_time": "2022-03-09T20:10:12.834Z"
   },
   {
    "duration": 340,
    "start_time": "2022-03-09T20:10:15.555Z"
   },
   {
    "duration": 322,
    "start_time": "2022-03-09T20:10:24.272Z"
   },
   {
    "duration": 8,
    "start_time": "2022-03-09T20:10:29.703Z"
   },
   {
    "duration": 432,
    "start_time": "2022-03-09T20:10:30.191Z"
   },
   {
    "duration": 8,
    "start_time": "2022-03-09T20:10:51.252Z"
   },
   {
    "duration": 462,
    "start_time": "2022-03-09T20:10:52.207Z"
   },
   {
    "duration": 9,
    "start_time": "2022-03-09T20:10:55.579Z"
   },
   {
    "duration": 410,
    "start_time": "2022-03-09T20:10:56.309Z"
   },
   {
    "duration": 445,
    "start_time": "2022-03-09T20:11:00.868Z"
   },
   {
    "duration": 119,
    "start_time": "2022-03-09T20:11:03.014Z"
   },
   {
    "duration": 215,
    "start_time": "2022-03-09T20:11:04.323Z"
   },
   {
    "duration": 332,
    "start_time": "2022-03-09T20:11:07.623Z"
   },
   {
    "duration": 6,
    "start_time": "2022-03-09T20:11:15.537Z"
   },
   {
    "duration": 367,
    "start_time": "2022-03-09T20:11:18.036Z"
   },
   {
    "duration": 374,
    "start_time": "2022-03-09T20:11:19.924Z"
   },
   {
    "duration": 6,
    "start_time": "2022-03-09T20:11:27.455Z"
   },
   {
    "duration": 160,
    "start_time": "2022-03-09T20:11:29.817Z"
   },
   {
    "duration": 21,
    "start_time": "2022-03-09T20:11:31.100Z"
   },
   {
    "duration": 10,
    "start_time": "2022-03-09T20:11:32.632Z"
   },
   {
    "duration": 8,
    "start_time": "2022-03-09T20:11:35.611Z"
   },
   {
    "duration": 14,
    "start_time": "2022-03-09T20:11:40.198Z"
   },
   {
    "duration": 8,
    "start_time": "2022-03-09T20:11:42.204Z"
   },
   {
    "duration": 12,
    "start_time": "2022-03-09T20:11:47.377Z"
   },
   {
    "duration": 9,
    "start_time": "2022-03-09T20:11:50.741Z"
   },
   {
    "duration": 7,
    "start_time": "2022-03-09T20:11:52.747Z"
   },
   {
    "duration": 11,
    "start_time": "2022-03-09T20:11:54.968Z"
   },
   {
    "duration": 11,
    "start_time": "2022-03-09T20:11:56.628Z"
   },
   {
    "duration": 1489,
    "start_time": "2022-03-09T20:31:04.392Z"
   },
   {
    "duration": 120,
    "start_time": "2022-03-09T20:31:05.884Z"
   },
   {
    "duration": 12,
    "start_time": "2022-03-09T20:31:06.008Z"
   },
   {
    "duration": 65,
    "start_time": "2022-03-09T20:31:06.023Z"
   },
   {
    "duration": 9,
    "start_time": "2022-03-09T20:31:06.091Z"
   },
   {
    "duration": 56,
    "start_time": "2022-03-09T20:31:06.103Z"
   },
   {
    "duration": 25,
    "start_time": "2022-03-09T20:31:06.161Z"
   },
   {
    "duration": 6,
    "start_time": "2022-03-09T20:31:06.191Z"
   },
   {
    "duration": 14,
    "start_time": "2022-03-09T20:31:06.200Z"
   },
   {
    "duration": 22,
    "start_time": "2022-03-09T20:31:06.216Z"
   },
   {
    "duration": 59,
    "start_time": "2022-03-09T20:31:06.241Z"
   },
   {
    "duration": 22,
    "start_time": "2022-03-09T20:31:06.303Z"
   },
   {
    "duration": 8,
    "start_time": "2022-03-09T20:31:06.328Z"
   },
   {
    "duration": 51,
    "start_time": "2022-03-09T20:31:06.338Z"
   },
   {
    "duration": 10,
    "start_time": "2022-03-09T20:31:06.392Z"
   },
   {
    "duration": 20,
    "start_time": "2022-03-09T20:31:06.404Z"
   },
   {
    "duration": 11,
    "start_time": "2022-03-09T20:31:06.427Z"
   },
   {
    "duration": 330,
    "start_time": "2022-03-09T20:31:06.440Z"
   },
   {
    "duration": 19,
    "start_time": "2022-03-09T20:31:06.773Z"
   },
   {
    "duration": 276,
    "start_time": "2022-03-09T20:31:06.795Z"
   },
   {
    "duration": 17,
    "start_time": "2022-03-09T20:31:07.073Z"
   },
   {
    "duration": 9,
    "start_time": "2022-03-09T20:31:07.092Z"
   },
   {
    "duration": 12,
    "start_time": "2022-03-09T20:31:07.107Z"
   },
   {
    "duration": 10,
    "start_time": "2022-03-09T20:31:07.122Z"
   },
   {
    "duration": 552,
    "start_time": "2022-03-09T20:31:07.135Z"
   },
   {
    "duration": 503,
    "start_time": "2022-03-09T20:31:07.690Z"
   },
   {
    "duration": 11,
    "start_time": "2022-03-09T20:31:08.196Z"
   },
   {
    "duration": 541,
    "start_time": "2022-03-09T20:31:08.210Z"
   },
   {
    "duration": 11,
    "start_time": "2022-03-09T20:31:08.754Z"
   },
   {
    "duration": 533,
    "start_time": "2022-03-09T20:31:08.768Z"
   },
   {
    "duration": 12,
    "start_time": "2022-03-09T20:31:09.304Z"
   },
   {
    "duration": 526,
    "start_time": "2022-03-09T20:31:09.318Z"
   },
   {
    "duration": 649,
    "start_time": "2022-03-09T20:31:09.847Z"
   },
   {
    "duration": 246,
    "start_time": "2022-03-09T20:31:10.498Z"
   },
   {
    "duration": 325,
    "start_time": "2022-03-09T20:31:10.747Z"
   },
   {
    "duration": 433,
    "start_time": "2022-03-09T20:31:11.075Z"
   },
   {
    "duration": 8,
    "start_time": "2022-03-09T20:31:11.511Z"
   },
   {
    "duration": 590,
    "start_time": "2022-03-09T20:31:11.522Z"
   },
   {
    "duration": 473,
    "start_time": "2022-03-09T20:31:12.115Z"
   },
   {
    "duration": 8,
    "start_time": "2022-03-09T20:31:12.591Z"
   },
   {
    "duration": 256,
    "start_time": "2022-03-09T20:31:12.601Z"
   },
   {
    "duration": 29,
    "start_time": "2022-03-09T20:31:12.859Z"
   },
   {
    "duration": 15,
    "start_time": "2022-03-09T20:31:12.891Z"
   },
   {
    "duration": 9,
    "start_time": "2022-03-09T20:31:12.909Z"
   },
   {
    "duration": 22,
    "start_time": "2022-03-09T20:31:12.920Z"
   },
   {
    "duration": 47,
    "start_time": "2022-03-09T20:31:12.945Z"
   },
   {
    "duration": 18,
    "start_time": "2022-03-09T20:31:12.994Z"
   },
   {
    "duration": 18,
    "start_time": "2022-03-09T20:31:13.015Z"
   },
   {
    "duration": 16,
    "start_time": "2022-03-09T20:31:13.036Z"
   },
   {
    "duration": 43,
    "start_time": "2022-03-09T20:31:13.055Z"
   },
   {
    "duration": 16,
    "start_time": "2022-03-09T20:31:13.101Z"
   },
   {
    "duration": 1429,
    "start_time": "2022-03-09T20:31:40.058Z"
   },
   {
    "duration": 85,
    "start_time": "2022-03-09T20:31:41.491Z"
   },
   {
    "duration": 10,
    "start_time": "2022-03-09T20:31:41.579Z"
   },
   {
    "duration": 53,
    "start_time": "2022-03-09T20:31:41.592Z"
   },
   {
    "duration": 7,
    "start_time": "2022-03-09T20:31:41.648Z"
   },
   {
    "duration": 45,
    "start_time": "2022-03-09T20:31:41.659Z"
   },
   {
    "duration": 8,
    "start_time": "2022-03-09T20:31:41.707Z"
   },
   {
    "duration": 14,
    "start_time": "2022-03-09T20:31:41.717Z"
   },
   {
    "duration": 20,
    "start_time": "2022-03-09T20:31:41.733Z"
   },
   {
    "duration": 45,
    "start_time": "2022-03-09T20:31:41.756Z"
   },
   {
    "duration": 17,
    "start_time": "2022-03-09T20:31:41.804Z"
   },
   {
    "duration": 28,
    "start_time": "2022-03-09T20:31:41.823Z"
   },
   {
    "duration": 13,
    "start_time": "2022-03-09T20:31:41.854Z"
   },
   {
    "duration": 14,
    "start_time": "2022-03-09T20:31:41.887Z"
   },
   {
    "duration": 20,
    "start_time": "2022-03-09T20:31:41.904Z"
   },
   {
    "duration": 23,
    "start_time": "2022-03-09T20:31:41.927Z"
   },
   {
    "duration": 35,
    "start_time": "2022-03-09T20:31:41.953Z"
   },
   {
    "duration": 342,
    "start_time": "2022-03-09T20:31:41.990Z"
   },
   {
    "duration": 12,
    "start_time": "2022-03-09T20:31:42.338Z"
   },
   {
    "duration": 293,
    "start_time": "2022-03-09T20:31:42.353Z"
   },
   {
    "duration": 13,
    "start_time": "2022-03-09T20:31:42.648Z"
   },
   {
    "duration": 27,
    "start_time": "2022-03-09T20:31:42.664Z"
   },
   {
    "duration": 29,
    "start_time": "2022-03-09T20:31:42.693Z"
   },
   {
    "duration": 13,
    "start_time": "2022-03-09T20:31:42.724Z"
   },
   {
    "duration": 548,
    "start_time": "2022-03-09T20:31:42.739Z"
   },
   {
    "duration": 525,
    "start_time": "2022-03-09T20:31:43.289Z"
   },
   {
    "duration": 10,
    "start_time": "2022-03-09T20:31:43.816Z"
   },
   {
    "duration": 549,
    "start_time": "2022-03-09T20:31:43.828Z"
   },
   {
    "duration": 9,
    "start_time": "2022-03-09T20:31:44.387Z"
   },
   {
    "duration": 635,
    "start_time": "2022-03-09T20:31:44.399Z"
   },
   {
    "duration": 12,
    "start_time": "2022-03-09T20:31:45.037Z"
   },
   {
    "duration": 588,
    "start_time": "2022-03-09T20:31:45.051Z"
   },
   {
    "duration": 644,
    "start_time": "2022-03-09T20:31:45.641Z"
   },
   {
    "duration": 224,
    "start_time": "2022-03-09T20:31:46.287Z"
   },
   {
    "duration": 323,
    "start_time": "2022-03-09T20:31:46.513Z"
   },
   {
    "duration": 499,
    "start_time": "2022-03-09T20:31:46.838Z"
   },
   {
    "duration": 7,
    "start_time": "2022-03-09T20:31:47.339Z"
   },
   {
    "duration": 596,
    "start_time": "2022-03-09T20:31:47.349Z"
   },
   {
    "duration": 526,
    "start_time": "2022-03-09T20:31:47.948Z"
   },
   {
    "duration": 14,
    "start_time": "2022-03-09T20:31:48.476Z"
   },
   {
    "duration": 224,
    "start_time": "2022-03-09T20:31:48.493Z"
   },
   {
    "duration": 27,
    "start_time": "2022-03-09T20:31:48.719Z"
   },
   {
    "duration": 13,
    "start_time": "2022-03-09T20:31:48.749Z"
   },
   {
    "duration": 30,
    "start_time": "2022-03-09T20:31:48.764Z"
   },
   {
    "duration": 14,
    "start_time": "2022-03-09T20:31:48.797Z"
   },
   {
    "duration": 11,
    "start_time": "2022-03-09T20:31:48.814Z"
   },
   {
    "duration": 60,
    "start_time": "2022-03-09T20:31:48.827Z"
   },
   {
    "duration": 12,
    "start_time": "2022-03-09T20:31:48.890Z"
   },
   {
    "duration": 18,
    "start_time": "2022-03-09T20:31:48.905Z"
   },
   {
    "duration": 14,
    "start_time": "2022-03-09T20:31:48.926Z"
   },
   {
    "duration": 49,
    "start_time": "2022-03-09T20:31:48.943Z"
   },
   {
    "duration": 30,
    "start_time": "2022-03-09T20:35:08.013Z"
   },
   {
    "duration": 1483,
    "start_time": "2022-03-09T20:35:19.684Z"
   },
   {
    "duration": 89,
    "start_time": "2022-03-09T20:35:21.170Z"
   },
   {
    "duration": 25,
    "start_time": "2022-03-09T20:35:21.262Z"
   },
   {
    "duration": 44,
    "start_time": "2022-03-09T20:35:21.290Z"
   },
   {
    "duration": 9,
    "start_time": "2022-03-09T20:35:21.337Z"
   },
   {
    "duration": 57,
    "start_time": "2022-03-09T20:35:21.349Z"
   },
   {
    "duration": 7,
    "start_time": "2022-03-09T20:35:21.409Z"
   },
   {
    "duration": 6,
    "start_time": "2022-03-09T20:35:21.421Z"
   },
   {
    "duration": 13,
    "start_time": "2022-03-09T20:35:21.430Z"
   },
   {
    "duration": 21,
    "start_time": "2022-03-09T20:35:21.487Z"
   },
   {
    "duration": 17,
    "start_time": "2022-03-09T20:35:21.510Z"
   },
   {
    "duration": 17,
    "start_time": "2022-03-09T20:35:21.529Z"
   },
   {
    "duration": 42,
    "start_time": "2022-03-09T20:35:21.549Z"
   },
   {
    "duration": 19,
    "start_time": "2022-03-09T20:35:21.593Z"
   },
   {
    "duration": 9,
    "start_time": "2022-03-09T20:35:21.614Z"
   },
   {
    "duration": 12,
    "start_time": "2022-03-09T20:35:21.625Z"
   },
   {
    "duration": 49,
    "start_time": "2022-03-09T20:35:21.639Z"
   },
   {
    "duration": 322,
    "start_time": "2022-03-09T20:35:21.691Z"
   },
   {
    "duration": 13,
    "start_time": "2022-03-09T20:35:22.016Z"
   },
   {
    "duration": 290,
    "start_time": "2022-03-09T20:35:22.032Z"
   },
   {
    "duration": 17,
    "start_time": "2022-03-09T20:35:22.324Z"
   },
   {
    "duration": 15,
    "start_time": "2022-03-09T20:35:22.343Z"
   },
   {
    "duration": 24,
    "start_time": "2022-03-09T20:35:22.364Z"
   },
   {
    "duration": 9,
    "start_time": "2022-03-09T20:35:22.392Z"
   },
   {
    "duration": 548,
    "start_time": "2022-03-09T20:35:22.403Z"
   },
   {
    "duration": 501,
    "start_time": "2022-03-09T20:35:22.954Z"
   },
   {
    "duration": 8,
    "start_time": "2022-03-09T20:35:23.458Z"
   },
   {
    "duration": 599,
    "start_time": "2022-03-09T20:35:23.468Z"
   },
   {
    "duration": 9,
    "start_time": "2022-03-09T20:35:24.069Z"
   },
   {
    "duration": 566,
    "start_time": "2022-03-09T20:35:24.088Z"
   },
   {
    "duration": 14,
    "start_time": "2022-03-09T20:35:24.657Z"
   },
   {
    "duration": 581,
    "start_time": "2022-03-09T20:35:24.688Z"
   },
   {
    "duration": 772,
    "start_time": "2022-03-09T20:35:25.272Z"
   },
   {
    "duration": 254,
    "start_time": "2022-03-09T20:35:26.046Z"
   },
   {
    "duration": 344,
    "start_time": "2022-03-09T20:35:26.302Z"
   },
   {
    "duration": 561,
    "start_time": "2022-03-09T20:35:26.649Z"
   },
   {
    "duration": 8,
    "start_time": "2022-03-09T20:35:27.212Z"
   },
   {
    "duration": 853,
    "start_time": "2022-03-09T20:35:27.223Z"
   },
   {
    "duration": 531,
    "start_time": "2022-03-09T20:35:28.079Z"
   },
   {
    "duration": 7,
    "start_time": "2022-03-09T20:35:28.612Z"
   },
   {
    "duration": 224,
    "start_time": "2022-03-09T20:35:28.621Z"
   },
   {
    "duration": 25,
    "start_time": "2022-03-09T20:35:28.847Z"
   },
   {
    "duration": 24,
    "start_time": "2022-03-09T20:35:28.875Z"
   },
   {
    "duration": 18,
    "start_time": "2022-03-09T20:35:28.901Z"
   },
   {
    "duration": 25,
    "start_time": "2022-03-09T20:35:28.922Z"
   },
   {
    "duration": 30,
    "start_time": "2022-03-09T20:35:28.949Z"
   },
   {
    "duration": 19,
    "start_time": "2022-03-09T20:35:28.981Z"
   },
   {
    "duration": 15,
    "start_time": "2022-03-09T20:35:29.003Z"
   },
   {
    "duration": 34,
    "start_time": "2022-03-09T20:35:29.021Z"
   },
   {
    "duration": 30,
    "start_time": "2022-03-09T20:35:29.057Z"
   },
   {
    "duration": 20,
    "start_time": "2022-03-09T20:35:29.089Z"
   },
   {
    "duration": 36,
    "start_time": "2022-03-09T20:35:37.274Z"
   },
   {
    "duration": 537,
    "start_time": "2022-03-09T20:42:46.537Z"
   },
   {
    "duration": 173,
    "start_time": "2022-03-10T08:15:10.977Z"
   },
   {
    "duration": 1098,
    "start_time": "2022-03-10T08:17:36.640Z"
   },
   {
    "duration": 57,
    "start_time": "2022-03-10T08:17:37.740Z"
   },
   {
    "duration": 5,
    "start_time": "2022-03-10T08:17:37.799Z"
   },
   {
    "duration": 30,
    "start_time": "2022-03-10T08:17:37.805Z"
   },
   {
    "duration": 4,
    "start_time": "2022-03-10T08:17:37.836Z"
   },
   {
    "duration": 22,
    "start_time": "2022-03-10T08:17:37.842Z"
   },
   {
    "duration": 9,
    "start_time": "2022-03-10T08:17:37.865Z"
   },
   {
    "duration": 11,
    "start_time": "2022-03-10T08:17:37.876Z"
   },
   {
    "duration": 11,
    "start_time": "2022-03-10T08:17:37.889Z"
   },
   {
    "duration": 19,
    "start_time": "2022-03-10T08:17:37.902Z"
   },
   {
    "duration": 10,
    "start_time": "2022-03-10T08:17:37.933Z"
   },
   {
    "duration": 11,
    "start_time": "2022-03-10T08:17:37.945Z"
   },
   {
    "duration": 9,
    "start_time": "2022-03-10T08:17:37.958Z"
   },
   {
    "duration": 10,
    "start_time": "2022-03-10T08:17:37.969Z"
   },
   {
    "duration": 9,
    "start_time": "2022-03-10T08:17:37.980Z"
   },
   {
    "duration": 8,
    "start_time": "2022-03-10T08:17:37.991Z"
   },
   {
    "duration": 37,
    "start_time": "2022-03-10T08:17:38.000Z"
   },
   {
    "duration": 183,
    "start_time": "2022-03-10T08:17:38.038Z"
   },
   {
    "duration": 14,
    "start_time": "2022-03-10T08:17:38.222Z"
   },
   {
    "duration": 155,
    "start_time": "2022-03-10T08:17:38.238Z"
   },
   {
    "duration": 7,
    "start_time": "2022-03-10T08:17:38.395Z"
   },
   {
    "duration": 13,
    "start_time": "2022-03-10T08:17:38.403Z"
   },
   {
    "duration": 21,
    "start_time": "2022-03-10T08:17:38.419Z"
   },
   {
    "duration": 5,
    "start_time": "2022-03-10T08:17:38.442Z"
   },
   {
    "duration": 320,
    "start_time": "2022-03-10T08:17:38.448Z"
   },
   {
    "duration": 301,
    "start_time": "2022-03-10T08:17:38.769Z"
   },
   {
    "duration": 6,
    "start_time": "2022-03-10T08:17:39.071Z"
   },
   {
    "duration": 360,
    "start_time": "2022-03-10T08:17:39.079Z"
   },
   {
    "duration": 6,
    "start_time": "2022-03-10T08:17:39.441Z"
   },
   {
    "duration": 308,
    "start_time": "2022-03-10T08:17:39.448Z"
   },
   {
    "duration": 8,
    "start_time": "2022-03-10T08:17:39.757Z"
   },
   {
    "duration": 362,
    "start_time": "2022-03-10T08:17:39.766Z"
   },
   {
    "duration": 422,
    "start_time": "2022-03-10T08:17:40.131Z"
   },
   {
    "duration": 114,
    "start_time": "2022-03-10T08:17:40.556Z"
   },
   {
    "duration": 188,
    "start_time": "2022-03-10T08:17:40.672Z"
   },
   {
    "duration": 286,
    "start_time": "2022-03-10T08:17:40.862Z"
   },
   {
    "duration": 6,
    "start_time": "2022-03-10T08:17:41.150Z"
   },
   {
    "duration": 324,
    "start_time": "2022-03-10T08:17:41.158Z"
   },
   {
    "duration": 329,
    "start_time": "2022-03-10T08:17:41.484Z"
   },
   {
    "duration": 372,
    "start_time": "2022-03-10T08:17:41.815Z"
   },
   {
    "duration": 4,
    "start_time": "2022-03-10T08:17:42.189Z"
   },
   {
    "duration": 113,
    "start_time": "2022-03-10T08:17:42.195Z"
   },
   {
    "duration": 14,
    "start_time": "2022-03-10T08:17:42.309Z"
   },
   {
    "duration": 14,
    "start_time": "2022-03-10T08:17:42.325Z"
   },
   {
    "duration": 5,
    "start_time": "2022-03-10T08:17:42.341Z"
   },
   {
    "duration": 11,
    "start_time": "2022-03-10T08:17:42.347Z"
   },
   {
    "duration": 7,
    "start_time": "2022-03-10T08:17:42.359Z"
   },
   {
    "duration": 9,
    "start_time": "2022-03-10T08:17:42.367Z"
   },
   {
    "duration": 6,
    "start_time": "2022-03-10T08:17:42.378Z"
   },
   {
    "duration": 9,
    "start_time": "2022-03-10T08:17:42.386Z"
   },
   {
    "duration": 40,
    "start_time": "2022-03-10T08:17:42.397Z"
   },
   {
    "duration": 8,
    "start_time": "2022-03-10T08:17:42.438Z"
   },
   {
    "duration": 314,
    "start_time": "2022-03-10T08:20:06.583Z"
   },
   {
    "duration": 314,
    "start_time": "2022-03-10T08:20:16.682Z"
   },
   {
    "duration": 313,
    "start_time": "2022-03-10T08:20:23.482Z"
   },
   {
    "duration": 380,
    "start_time": "2022-03-10T08:20:48.315Z"
   },
   {
    "duration": 1227,
    "start_time": "2022-04-03T20:02:00.593Z"
   },
   {
    "duration": 74,
    "start_time": "2022-04-03T20:02:01.822Z"
   },
   {
    "duration": 7,
    "start_time": "2022-04-03T20:02:01.898Z"
   },
   {
    "duration": 42,
    "start_time": "2022-04-03T20:02:01.988Z"
   },
   {
    "duration": 5,
    "start_time": "2022-04-03T20:02:02.345Z"
   },
   {
    "duration": 31,
    "start_time": "2022-04-03T20:02:02.621Z"
   },
   {
    "duration": 5,
    "start_time": "2022-04-03T20:02:03.920Z"
   },
   {
    "duration": 7,
    "start_time": "2022-04-03T20:02:04.819Z"
   },
   {
    "duration": 10,
    "start_time": "2022-04-03T20:02:05.545Z"
   },
   {
    "duration": 14,
    "start_time": "2022-04-03T20:02:05.920Z"
   },
   {
    "duration": 15,
    "start_time": "2022-04-03T20:02:07.620Z"
   },
   {
    "duration": 13,
    "start_time": "2022-04-03T20:02:09.742Z"
   },
   {
    "duration": 9,
    "start_time": "2022-04-03T20:02:20.738Z"
   },
   {
    "duration": 81,
    "start_time": "2022-04-07T16:32:11.622Z"
   },
   {
    "duration": 1639,
    "start_time": "2022-04-07T16:32:18.612Z"
   },
   {
    "duration": 93,
    "start_time": "2022-04-07T16:32:20.254Z"
   },
   {
    "duration": 9,
    "start_time": "2022-04-07T16:32:20.349Z"
   },
   {
    "duration": 63,
    "start_time": "2022-04-07T16:32:20.361Z"
   },
   {
    "duration": 8,
    "start_time": "2022-04-07T16:32:20.426Z"
   },
   {
    "duration": 60,
    "start_time": "2022-04-07T16:32:20.437Z"
   },
   {
    "duration": 9,
    "start_time": "2022-04-07T16:32:20.500Z"
   },
   {
    "duration": 11,
    "start_time": "2022-04-07T16:32:20.512Z"
   },
   {
    "duration": 21,
    "start_time": "2022-04-07T16:32:20.525Z"
   },
   {
    "duration": 21,
    "start_time": "2022-04-07T16:32:20.586Z"
   },
   {
    "duration": 19,
    "start_time": "2022-04-07T16:32:20.609Z"
   },
   {
    "duration": 30,
    "start_time": "2022-04-07T16:32:20.631Z"
   },
   {
    "duration": 7,
    "start_time": "2022-04-07T16:32:20.685Z"
   },
   {
    "duration": 14,
    "start_time": "2022-04-07T16:32:20.695Z"
   },
   {
    "duration": 14,
    "start_time": "2022-04-07T16:32:20.712Z"
   },
   {
    "duration": 11,
    "start_time": "2022-04-07T16:32:20.728Z"
   },
   {
    "duration": 53,
    "start_time": "2022-04-07T16:32:20.741Z"
   },
   {
    "duration": 280,
    "start_time": "2022-04-07T16:32:20.796Z"
   },
   {
    "duration": 14,
    "start_time": "2022-04-07T16:32:21.078Z"
   },
   {
    "duration": 227,
    "start_time": "2022-04-07T16:32:21.095Z"
   },
   {
    "duration": 17,
    "start_time": "2022-04-07T16:32:21.324Z"
   },
   {
    "duration": 15,
    "start_time": "2022-04-07T16:32:21.343Z"
   },
   {
    "duration": 30,
    "start_time": "2022-04-07T16:32:21.361Z"
   },
   {
    "duration": 14,
    "start_time": "2022-04-07T16:32:21.393Z"
   },
   {
    "duration": 504,
    "start_time": "2022-04-07T16:32:21.410Z"
   },
   {
    "duration": 367,
    "start_time": "2022-04-07T16:32:21.917Z"
   },
   {
    "duration": 9,
    "start_time": "2022-04-07T16:32:22.287Z"
   },
   {
    "duration": 464,
    "start_time": "2022-04-07T16:32:22.302Z"
   },
   {
    "duration": 16,
    "start_time": "2022-04-07T16:32:22.769Z"
   },
   {
    "duration": 392,
    "start_time": "2022-04-07T16:32:22.787Z"
   },
   {
    "duration": 11,
    "start_time": "2022-04-07T16:32:23.182Z"
   },
   {
    "duration": 472,
    "start_time": "2022-04-07T16:32:23.196Z"
   },
   {
    "duration": 544,
    "start_time": "2022-04-07T16:32:23.670Z"
   },
   {
    "duration": 268,
    "start_time": "2022-04-07T16:32:24.217Z"
   },
   {
    "duration": 231,
    "start_time": "2022-04-07T16:32:24.488Z"
   },
   {
    "duration": 437,
    "start_time": "2022-04-07T16:32:24.722Z"
   },
   {
    "duration": 7,
    "start_time": "2022-04-07T16:32:25.162Z"
   },
   {
    "duration": 417,
    "start_time": "2022-04-07T16:32:25.172Z"
   },
   {
    "duration": 413,
    "start_time": "2022-04-07T16:32:25.592Z"
   },
   {
    "duration": 374,
    "start_time": "2022-04-07T16:32:26.007Z"
   },
   {
    "duration": 8,
    "start_time": "2022-04-07T16:32:26.384Z"
   },
   {
    "duration": 319,
    "start_time": "2022-04-07T16:32:26.394Z"
   },
   {
    "duration": 25,
    "start_time": "2022-04-07T16:32:26.716Z"
   },
   {
    "duration": 59,
    "start_time": "2022-04-07T16:32:26.744Z"
   },
   {
    "duration": 48,
    "start_time": "2022-04-07T16:32:26.805Z"
   },
   {
    "duration": 41,
    "start_time": "2022-04-07T16:32:26.856Z"
   },
   {
    "duration": 13,
    "start_time": "2022-04-07T16:32:26.900Z"
   },
   {
    "duration": 17,
    "start_time": "2022-04-07T16:32:26.915Z"
   },
   {
    "duration": 52,
    "start_time": "2022-04-07T16:32:26.935Z"
   },
   {
    "duration": 51,
    "start_time": "2022-04-07T16:32:26.990Z"
   },
   {
    "duration": 41,
    "start_time": "2022-04-07T16:32:27.044Z"
   },
   {
    "duration": 20,
    "start_time": "2022-04-07T16:32:27.088Z"
   },
   {
    "duration": 115,
    "start_time": "2022-04-07T16:32:29.227Z"
   },
   {
    "duration": 9,
    "start_time": "2022-04-07T16:32:31.648Z"
   },
   {
    "duration": 53,
    "start_time": "2022-04-07T16:32:32.706Z"
   },
   {
    "duration": 9,
    "start_time": "2022-04-07T16:32:37.037Z"
   },
   {
    "duration": 37,
    "start_time": "2022-04-07T16:32:41.715Z"
   },
   {
    "duration": 15,
    "start_time": "2022-04-07T16:33:16.689Z"
   },
   {
    "duration": 2338,
    "start_time": "2022-04-07T16:33:31.280Z"
   },
   {
    "duration": 2297,
    "start_time": "2022-04-07T16:33:40.800Z"
   },
   {
    "duration": 10,
    "start_time": "2022-04-07T16:33:53.934Z"
   },
   {
    "duration": 108,
    "start_time": "2022-04-07T16:33:54.577Z"
   },
   {
    "duration": 10,
    "start_time": "2022-04-07T16:33:55.150Z"
   },
   {
    "duration": 58,
    "start_time": "2022-04-07T16:33:55.350Z"
   },
   {
    "duration": 8,
    "start_time": "2022-04-07T16:33:55.725Z"
   },
   {
    "duration": 35,
    "start_time": "2022-04-07T16:33:55.939Z"
   },
   {
    "duration": 10,
    "start_time": "2022-04-07T16:33:56.775Z"
   },
   {
    "duration": 6,
    "start_time": "2022-04-07T16:33:58.232Z"
   },
   {
    "duration": 12,
    "start_time": "2022-04-07T16:34:00.380Z"
   },
   {
    "duration": 15,
    "start_time": "2022-04-07T16:34:02.393Z"
   },
   {
    "duration": 17,
    "start_time": "2022-04-07T16:34:07.977Z"
   },
   {
    "duration": 15,
    "start_time": "2022-04-07T16:34:16.878Z"
   },
   {
    "duration": 19,
    "start_time": "2022-04-07T16:34:30.424Z"
   },
   {
    "duration": 8,
    "start_time": "2022-04-07T16:34:34.612Z"
   },
   {
    "duration": 11,
    "start_time": "2022-04-07T16:34:48.744Z"
   },
   {
    "duration": 8,
    "start_time": "2022-04-07T16:34:57.881Z"
   },
   {
    "duration": 11,
    "start_time": "2022-04-07T16:34:58.055Z"
   },
   {
    "duration": 270,
    "start_time": "2022-04-07T16:35:03.904Z"
   },
   {
    "duration": 13,
    "start_time": "2022-04-07T16:35:06.167Z"
   },
   {
    "duration": 203,
    "start_time": "2022-04-07T16:35:13.807Z"
   },
   {
    "duration": 21,
    "start_time": "2022-04-07T16:35:14.013Z"
   },
   {
    "duration": 10,
    "start_time": "2022-04-07T16:35:15.269Z"
   },
   {
    "duration": 14,
    "start_time": "2022-04-07T16:35:15.790Z"
   },
   {
    "duration": 7,
    "start_time": "2022-04-07T16:35:18.392Z"
   },
   {
    "duration": 351,
    "start_time": "2022-04-07T16:35:19.202Z"
   },
   {
    "duration": 354,
    "start_time": "2022-04-07T16:35:35.572Z"
   },
   {
    "duration": 9,
    "start_time": "2022-04-07T16:35:50.681Z"
   },
   {
    "duration": 369,
    "start_time": "2022-04-07T16:35:51.324Z"
   },
   {
    "duration": 12,
    "start_time": "2022-04-07T16:35:56.941Z"
   },
   {
    "duration": 601,
    "start_time": "2022-04-07T16:35:57.848Z"
   },
   {
    "duration": 263,
    "start_time": "2022-04-07T16:36:20.367Z"
   },
   {
    "duration": 417,
    "start_time": "2022-04-07T16:36:21.678Z"
   },
   {
    "duration": 432,
    "start_time": "2022-04-07T16:36:23.278Z"
   },
   {
    "duration": 6,
    "start_time": "2022-04-07T16:36:32.072Z"
   },
   {
    "duration": 375,
    "start_time": "2022-04-07T16:36:44.927Z"
   },
   {
    "duration": 340,
    "start_time": "2022-04-07T16:36:59.882Z"
   },
   {
    "duration": 44,
    "start_time": "2022-04-07T16:37:00.532Z"
   },
   {
    "duration": 53,
    "start_time": "2022-04-07T16:37:01.132Z"
   },
   {
    "duration": 44,
    "start_time": "2022-04-07T16:37:02.970Z"
   },
   {
    "duration": 20,
    "start_time": "2022-04-07T16:37:10.250Z"
   },
   {
    "duration": 14,
    "start_time": "2022-04-07T16:37:14.021Z"
   },
   {
    "duration": 19,
    "start_time": "2022-04-07T16:37:27.142Z"
   },
   {
    "duration": 15,
    "start_time": "2022-04-07T16:37:38.821Z"
   },
   {
    "duration": 50,
    "start_time": "2022-04-07T16:37:39.985Z"
   },
   {
    "duration": 16,
    "start_time": "2022-04-07T16:37:45.343Z"
   },
   {
    "duration": 18,
    "start_time": "2022-04-07T16:37:46.522Z"
   },
   {
    "duration": 2154,
    "start_time": "2022-04-07T16:38:09.878Z"
   },
   {
    "duration": 149,
    "start_time": "2022-04-07T16:38:12.036Z"
   },
   {
    "duration": 14,
    "start_time": "2022-04-07T16:38:12.188Z"
   },
   {
    "duration": 84,
    "start_time": "2022-04-07T16:38:12.208Z"
   },
   {
    "duration": 9,
    "start_time": "2022-04-07T16:38:12.294Z"
   },
   {
    "duration": 48,
    "start_time": "2022-04-07T16:38:12.305Z"
   },
   {
    "duration": 34,
    "start_time": "2022-04-07T16:38:12.356Z"
   },
   {
    "duration": 9,
    "start_time": "2022-04-07T16:38:12.392Z"
   },
   {
    "duration": 24,
    "start_time": "2022-04-07T16:38:12.403Z"
   },
   {
    "duration": 14,
    "start_time": "2022-04-07T16:38:12.432Z"
   },
   {
    "duration": 19,
    "start_time": "2022-04-07T16:38:12.485Z"
   },
   {
    "duration": 19,
    "start_time": "2022-04-07T16:38:12.507Z"
   },
   {
    "duration": 7,
    "start_time": "2022-04-07T16:38:12.530Z"
   },
   {
    "duration": 53,
    "start_time": "2022-04-07T16:38:12.540Z"
   },
   {
    "duration": 12,
    "start_time": "2022-04-07T16:38:12.596Z"
   },
   {
    "duration": 12,
    "start_time": "2022-04-07T16:38:12.611Z"
   },
   {
    "duration": 12,
    "start_time": "2022-04-07T16:38:12.625Z"
   },
   {
    "duration": 324,
    "start_time": "2022-04-07T16:38:12.640Z"
   },
   {
    "duration": 19,
    "start_time": "2022-04-07T16:38:12.966Z"
   },
   {
    "duration": 231,
    "start_time": "2022-04-07T16:38:12.987Z"
   },
   {
    "duration": 15,
    "start_time": "2022-04-07T16:38:13.220Z"
   },
   {
    "duration": 10,
    "start_time": "2022-04-07T16:38:13.237Z"
   },
   {
    "duration": 40,
    "start_time": "2022-04-07T16:38:13.250Z"
   },
   {
    "duration": 10,
    "start_time": "2022-04-07T16:38:13.293Z"
   },
   {
    "duration": 511,
    "start_time": "2022-04-07T16:38:13.306Z"
   },
   {
    "duration": 381,
    "start_time": "2022-04-07T16:38:13.820Z"
   },
   {
    "duration": 10,
    "start_time": "2022-04-07T16:38:14.204Z"
   },
   {
    "duration": 450,
    "start_time": "2022-04-07T16:38:14.219Z"
   },
   {
    "duration": 17,
    "start_time": "2022-04-07T16:38:14.671Z"
   },
   {
    "duration": 476,
    "start_time": "2022-04-07T16:38:14.690Z"
   },
   {
    "duration": 20,
    "start_time": "2022-04-07T16:38:15.169Z"
   },
   {
    "duration": 449,
    "start_time": "2022-04-07T16:38:15.192Z"
   },
   {
    "duration": 533,
    "start_time": "2022-04-07T16:38:15.645Z"
   },
   {
    "duration": 317,
    "start_time": "2022-04-07T16:38:16.184Z"
   },
   {
    "duration": 235,
    "start_time": "2022-04-07T16:38:16.503Z"
   },
   {
    "duration": 467,
    "start_time": "2022-04-07T16:38:16.740Z"
   },
   {
    "duration": 6,
    "start_time": "2022-04-07T16:38:17.209Z"
   },
   {
    "duration": 412,
    "start_time": "2022-04-07T16:38:17.218Z"
   },
   {
    "duration": 447,
    "start_time": "2022-04-07T16:38:17.632Z"
   },
   {
    "duration": 395,
    "start_time": "2022-04-07T16:38:18.083Z"
   },
   {
    "duration": 8,
    "start_time": "2022-04-07T16:38:18.484Z"
   },
   {
    "duration": 269,
    "start_time": "2022-04-07T16:38:18.494Z"
   },
   {
    "duration": 29,
    "start_time": "2022-04-07T16:38:18.766Z"
   },
   {
    "duration": 36,
    "start_time": "2022-04-07T16:38:18.797Z"
   },
   {
    "duration": 65,
    "start_time": "2022-04-07T16:38:18.836Z"
   },
   {
    "duration": 17,
    "start_time": "2022-04-07T16:38:18.904Z"
   },
   {
    "duration": 14,
    "start_time": "2022-04-07T16:38:18.924Z"
   },
   {
    "duration": 49,
    "start_time": "2022-04-07T16:38:18.940Z"
   },
   {
    "duration": 13,
    "start_time": "2022-04-07T16:38:18.993Z"
   },
   {
    "duration": 43,
    "start_time": "2022-04-07T16:38:19.009Z"
   },
   {
    "duration": 39,
    "start_time": "2022-04-07T16:38:19.055Z"
   },
   {
    "duration": 17,
    "start_time": "2022-04-07T16:38:19.096Z"
   },
   {
    "duration": 1501,
    "start_time": "2022-04-09T14:53:42.088Z"
   },
   {
    "duration": 96,
    "start_time": "2022-04-09T14:53:43.592Z"
   },
   {
    "duration": 8,
    "start_time": "2022-04-09T14:53:43.690Z"
   },
   {
    "duration": 50,
    "start_time": "2022-04-09T14:53:43.700Z"
   },
   {
    "duration": 24,
    "start_time": "2022-04-09T14:53:43.753Z"
   },
   {
    "duration": 51,
    "start_time": "2022-04-09T14:53:43.779Z"
   },
   {
    "duration": 8,
    "start_time": "2022-04-09T14:53:43.833Z"
   },
   {
    "duration": 31,
    "start_time": "2022-04-09T14:53:43.843Z"
   },
   {
    "duration": 18,
    "start_time": "2022-04-09T14:53:43.876Z"
   },
   {
    "duration": 14,
    "start_time": "2022-04-09T14:53:43.898Z"
   },
   {
    "duration": 18,
    "start_time": "2022-04-09T14:53:43.914Z"
   },
   {
    "duration": 46,
    "start_time": "2022-04-09T14:53:43.934Z"
   },
   {
    "duration": 7,
    "start_time": "2022-04-09T14:53:43.983Z"
   },
   {
    "duration": 16,
    "start_time": "2022-04-09T14:53:43.992Z"
   },
   {
    "duration": 12,
    "start_time": "2022-04-09T14:53:44.011Z"
   },
   {
    "duration": 7,
    "start_time": "2022-04-09T14:53:44.025Z"
   },
   {
    "duration": 52,
    "start_time": "2022-04-09T14:53:44.035Z"
   },
   {
    "duration": 279,
    "start_time": "2022-04-09T14:53:44.089Z"
   },
   {
    "duration": 11,
    "start_time": "2022-04-09T14:53:44.374Z"
   },
   {
    "duration": 223,
    "start_time": "2022-04-09T14:53:44.388Z"
   },
   {
    "duration": 16,
    "start_time": "2022-04-09T14:53:44.613Z"
   },
   {
    "duration": 15,
    "start_time": "2022-04-09T14:53:44.631Z"
   },
   {
    "duration": 31,
    "start_time": "2022-04-09T14:53:44.648Z"
   },
   {
    "duration": 7,
    "start_time": "2022-04-09T14:53:44.681Z"
   },
   {
    "duration": 607,
    "start_time": "2022-04-09T14:53:44.690Z"
   },
   {
    "duration": 373,
    "start_time": "2022-04-09T14:53:45.300Z"
   },
   {
    "duration": 9,
    "start_time": "2022-04-09T14:53:45.676Z"
   },
   {
    "duration": 449,
    "start_time": "2022-04-09T14:53:45.691Z"
   },
   {
    "duration": 8,
    "start_time": "2022-04-09T14:53:46.142Z"
   },
   {
    "duration": 395,
    "start_time": "2022-04-09T14:53:46.153Z"
   },
   {
    "duration": 23,
    "start_time": "2022-04-09T14:53:46.551Z"
   },
   {
    "duration": 476,
    "start_time": "2022-04-09T14:53:46.576Z"
   },
   {
    "duration": 536,
    "start_time": "2022-04-09T14:53:47.054Z"
   },
   {
    "duration": 281,
    "start_time": "2022-04-09T14:53:47.592Z"
   },
   {
    "duration": 236,
    "start_time": "2022-04-09T14:53:47.876Z"
   },
   {
    "duration": 417,
    "start_time": "2022-04-09T14:53:48.114Z"
   },
   {
    "duration": 6,
    "start_time": "2022-04-09T14:53:48.534Z"
   },
   {
    "duration": 407,
    "start_time": "2022-04-09T14:53:48.542Z"
   },
   {
    "duration": 444,
    "start_time": "2022-04-09T14:53:48.952Z"
   },
   {
    "duration": 392,
    "start_time": "2022-04-09T14:53:49.399Z"
   },
   {
    "duration": 7,
    "start_time": "2022-04-09T14:53:49.793Z"
   },
   {
    "duration": 319,
    "start_time": "2022-04-09T14:53:49.802Z"
   },
   {
    "duration": 26,
    "start_time": "2022-04-09T14:53:50.123Z"
   },
   {
    "duration": 48,
    "start_time": "2022-04-09T14:53:50.151Z"
   },
   {
    "duration": 30,
    "start_time": "2022-04-09T14:53:50.201Z"
   },
   {
    "duration": 15,
    "start_time": "2022-04-09T14:53:50.233Z"
   },
   {
    "duration": 14,
    "start_time": "2022-04-09T14:53:50.275Z"
   },
   {
    "duration": 15,
    "start_time": "2022-04-09T14:53:50.292Z"
   },
   {
    "duration": 12,
    "start_time": "2022-04-09T14:53:50.310Z"
   },
   {
    "duration": 73,
    "start_time": "2022-04-09T14:53:50.324Z"
   },
   {
    "duration": 11,
    "start_time": "2022-04-09T14:53:50.399Z"
   },
   {
    "duration": 16,
    "start_time": "2022-04-09T14:53:50.412Z"
   },
   {
    "duration": 9,
    "start_time": "2022-04-09T14:55:02.754Z"
   },
   {
    "duration": 8,
    "start_time": "2022-04-09T14:55:11.695Z"
   },
   {
    "duration": 8,
    "start_time": "2022-04-09T14:55:21.533Z"
   },
   {
    "duration": 7,
    "start_time": "2022-04-09T14:55:29.240Z"
   },
   {
    "duration": 155,
    "start_time": "2022-04-09T14:55:39.231Z"
   },
   {
    "duration": 16,
    "start_time": "2022-04-09T14:55:43.901Z"
   },
   {
    "duration": 17,
    "start_time": "2022-04-09T14:55:53.603Z"
   },
   {
    "duration": 21,
    "start_time": "2022-04-09T14:56:06.147Z"
   },
   {
    "duration": 18,
    "start_time": "2022-04-09T14:56:20.332Z"
   },
   {
    "duration": 7,
    "start_time": "2022-04-09T14:56:27.970Z"
   },
   {
    "duration": 15,
    "start_time": "2022-04-09T14:56:36.143Z"
   },
   {
    "duration": 124,
    "start_time": "2022-04-09T14:56:41.108Z"
   },
   {
    "duration": 7,
    "start_time": "2022-04-09T14:56:43.688Z"
   },
   {
    "duration": 10,
    "start_time": "2022-04-09T14:56:59.112Z"
   },
   {
    "duration": 14,
    "start_time": "2022-04-09T14:57:06.596Z"
   },
   {
    "duration": 11,
    "start_time": "2022-04-09T14:57:16.005Z"
   },
   {
    "duration": 14,
    "start_time": "2022-04-09T14:57:26.262Z"
   },
   {
    "duration": 7,
    "start_time": "2022-04-09T14:57:51.694Z"
   },
   {
    "duration": 8,
    "start_time": "2022-04-09T14:58:02.459Z"
   }
  ],
  "kernelspec": {
   "display_name": "Python 3 (ipykernel)",
   "language": "python",
   "name": "python3"
  },
  "language_info": {
   "codemirror_mode": {
    "name": "ipython",
    "version": 3
   },
   "file_extension": ".py",
   "mimetype": "text/x-python",
   "name": "python",
   "nbconvert_exporter": "python",
   "pygments_lexer": "ipython3",
   "version": "3.9.5"
  },
  "toc": {
   "base_numbering": 1,
   "nav_menu": {
    "height": "232.003px",
    "width": "661.008px"
   },
   "number_sections": true,
   "sideBar": true,
   "skip_h1_title": true,
   "title_cell": "Table of Contents",
   "title_sidebar": "Contents",
   "toc_cell": false,
   "toc_position": {},
   "toc_section_display": true,
   "toc_window_display": false
  }
 },
 "nbformat": 4,
 "nbformat_minor": 2
}
