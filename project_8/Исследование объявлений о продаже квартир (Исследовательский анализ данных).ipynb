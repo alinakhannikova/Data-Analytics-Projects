{
 "cells": [
  {
   "cell_type": "markdown",
   "metadata": {
    "toc": true
   },
   "source": [
    "<h1>Содержание<span class=\"tocSkip\"></span></h1>\n",
    "<div class=\"toc\"><ul class=\"toc-item\"><li><span><a href=\"#Изучение-данных-из-файла\" data-toc-modified-id=\"Изучение-данных-из-файла-1\"><span class=\"toc-item-num\">1&nbsp;&nbsp;</span>Изучение данных из файла</a></span><ul class=\"toc-item\"><li><span><a href=\"#Вывод\" data-toc-modified-id=\"Вывод-1.1\"><span class=\"toc-item-num\">1.1&nbsp;&nbsp;</span>Вывод</a></span></li></ul></li><li><span><a href=\"#Предобработка-данных\" data-toc-modified-id=\"Предобработка-данных-2\"><span class=\"toc-item-num\">2&nbsp;&nbsp;</span>Предобработка данных</a></span></li><li><span><a href=\"#Расчёты-и-добавление-результатов-в-таблицу\" data-toc-modified-id=\"Расчёты-и-добавление-результатов-в-таблицу-3\"><span class=\"toc-item-num\">3&nbsp;&nbsp;</span>Расчёты и добавление результатов в таблицу</a></span></li><li><span><a href=\"#Исследовательский-анализ-данных\" data-toc-modified-id=\"Исследовательский-анализ-данных-4\"><span class=\"toc-item-num\">4&nbsp;&nbsp;</span>Исследовательский анализ данных</a></span><ul class=\"toc-item\"><li><span><a href=\"#Построим-гистограммы-для-площадь,-цена,-число-комнат,-высота-потолков\" data-toc-modified-id=\"Построим-гистограммы-для-площадь,-цена,-число-комнат,-высота-потолков-4.1\"><span class=\"toc-item-num\">4.1&nbsp;&nbsp;</span>Построим гистограммы для площадь, цена, число комнат, высота потолков</a></span></li><li><span><a href=\"#Изучим-время-продажи-квартиры\" data-toc-modified-id=\"Изучим-время-продажи-квартиры-4.2\"><span class=\"toc-item-num\">4.2&nbsp;&nbsp;</span>Изучим время продажи квартиры</a></span></li><li><span><a href=\"#Уберем-редкие-и-выбивающиеся-значения-методом-query()\" data-toc-modified-id=\"Уберем-редкие-и-выбивающиеся-значения-методом-query()-4.3\"><span class=\"toc-item-num\">4.3&nbsp;&nbsp;</span>Уберем редкие и выбивающиеся значения методом query()</a></span></li><li><span><a href=\"#Изучим-зависимости-квадратного-метра-от:\" data-toc-modified-id=\"Изучим-зависимости-квадратного-метра-от:-4.4\"><span class=\"toc-item-num\">4.4&nbsp;&nbsp;</span>Изучим зависимости квадратного метра от:</a></span><ul class=\"toc-item\"><li><span><a href=\"#От-площади\" data-toc-modified-id=\"От-площади-4.4.1\"><span class=\"toc-item-num\">4.4.1&nbsp;&nbsp;</span>От площади</a></span></li><li><span><a href=\"#От-кол-ва-комант\" data-toc-modified-id=\"От-кол-ва-комант-4.4.2\"><span class=\"toc-item-num\">4.4.2&nbsp;&nbsp;</span>От кол-ва комант</a></span></li><li><span><a href=\"#От-этажа\" data-toc-modified-id=\"От-этажа-4.4.3\"><span class=\"toc-item-num\">4.4.3&nbsp;&nbsp;</span>От этажа</a></span></li><li><span><a href=\"#От-удаленности-от-центра\" data-toc-modified-id=\"От-удаленности-от-центра-4.4.4\"><span class=\"toc-item-num\">4.4.4&nbsp;&nbsp;</span>От удаленности от центра</a></span></li><li><span><a href=\"#От-даты-размещения-дня-недели\" data-toc-modified-id=\"От-даты-размещения-дня-недели-4.4.5\"><span class=\"toc-item-num\">4.4.5&nbsp;&nbsp;</span>От даты размещения дня недели</a></span></li><li><span><a href=\"#От-даты-размещения-месяца\" data-toc-modified-id=\"От-даты-размещения-месяца-4.4.6\"><span class=\"toc-item-num\">4.4.6&nbsp;&nbsp;</span>От даты размещения месяца</a></span></li><li><span><a href=\"#От-даты-размещения-года\" data-toc-modified-id=\"От-даты-размещения-года-4.4.7\"><span class=\"toc-item-num\">4.4.7&nbsp;&nbsp;</span>От даты размещения года</a></span></li></ul></li><li><span><a href=\"#Изучим-10-населенных-пунктов-с-большим-количеством-и-объявлений-и-проведем-для-них-расчеты\" data-toc-modified-id=\"Изучим-10-населенных-пунктов-с-большим-количеством-и-объявлений-и-проведем-для-них-расчеты-4.5\"><span class=\"toc-item-num\">4.5&nbsp;&nbsp;</span>Изучим 10 населенных пунктов с большим количеством и объявлений и проведем для них расчеты</a></span><ul class=\"toc-item\"><li><span><a href=\"#Населенный-пункт-с-самой-высокой-стоимостью-жилья\" data-toc-modified-id=\"Населенный-пункт-с-самой-высокой-стоимостью-жилья-4.5.1\"><span class=\"toc-item-num\">4.5.1&nbsp;&nbsp;</span>Населенный пункт с самой высокой стоимостью жилья</a></span></li><li><span><a href=\"#Населенный-пункт-с-самой-низкой-стоимостью-жилья\" data-toc-modified-id=\"Населенный-пункт-с-самой-низкой-стоимостью-жилья-4.5.2\"><span class=\"toc-item-num\">4.5.2&nbsp;&nbsp;</span>Населенный пункт с самой низкой стоимостью жилья</a></span></li></ul></li><li><span><a href=\"#Изучим-предложения-квартир\" data-toc-modified-id=\"Изучим-предложения-квартир-4.6\"><span class=\"toc-item-num\">4.6&nbsp;&nbsp;</span>Изучим предложения квартир</a></span><ul class=\"toc-item\"><li><span><a href=\"#Выделим-квартиры-в-центре,-беря-за-радиус-9-км\" data-toc-modified-id=\"Выделим-квартиры-в-центре,-беря-за-радиус-9-км-4.6.1\"><span class=\"toc-item-num\">4.6.1&nbsp;&nbsp;</span>Выделим квартиры в центре, беря за радиус 9 км</a></span></li><li><span><a href=\"#Зависимость-стоимости-квартиры-от-числа-комнат\" data-toc-modified-id=\"Зависимость-стоимости-квартиры-от-числа-комнат-4.6.2\"><span class=\"toc-item-num\">4.6.2&nbsp;&nbsp;</span>Зависимость стоимости квартиры от числа комнат</a></span></li><li><span><a href=\"#Зависимость-цены-от-этажа\" data-toc-modified-id=\"Зависимость-цены-от-этажа-4.6.3\"><span class=\"toc-item-num\">4.6.3&nbsp;&nbsp;</span>Зависимость цены от этажа</a></span></li><li><span><a href=\"#Зависимость-от-удаленности-от-центра\" data-toc-modified-id=\"Зависимость-от-удаленности-от-центра-4.6.4\"><span class=\"toc-item-num\">4.6.4&nbsp;&nbsp;</span>Зависимость от удаленности от центра</a></span></li><li><span><a href=\"#Зависимость-от-даты-размещения-объявления\" data-toc-modified-id=\"Зависимость-от-даты-размещения-объявления-4.6.5\"><span class=\"toc-item-num\">4.6.5&nbsp;&nbsp;</span>Зависимость от даты размещения объявления</a></span></li></ul></li></ul></li><li><span><a href=\"#Общий-вывод\" data-toc-modified-id=\"Общий-вывод-5\"><span class=\"toc-item-num\">5&nbsp;&nbsp;</span>Общий вывод</a></span></li></ul></div>"
   ]
  },
  {
   "cell_type": "markdown",
   "metadata": {},
   "source": [
    "# Исследование объявлений о продаже квартир\n",
    "\n",
    "В вашем распоряжении данные сервиса Яндекс.Недвижимость — архив объявлений о продаже квартир в Санкт-Петербурге и соседних населённых пунктах за несколько лет. Нужно научиться определять рыночную стоимость объектов недвижимости. Ваша задача — установить параметры. Это позволит построить автоматизированную систему: она отследит аномалии и мошенническую деятельность. \n",
    "\n",
    "По каждой квартире на продажу доступны два вида данных. Первые вписаны пользователем, вторые получены автоматически на основе картографических данных. Например, расстояние до центра, аэропорта, ближайшего парка и водоёма. "
   ]
  },
  {
   "cell_type": "markdown",
   "metadata": {},
   "source": [
    "## Изучение данных из файла"
   ]
  },
  {
   "cell_type": "code",
   "execution_count": 1,
   "metadata": {},
   "outputs": [
    {
     "data": {
      "text/html": [
       "<div>\n",
       "<style scoped>\n",
       "    .dataframe tbody tr th:only-of-type {\n",
       "        vertical-align: middle;\n",
       "    }\n",
       "\n",
       "    .dataframe tbody tr th {\n",
       "        vertical-align: top;\n",
       "    }\n",
       "\n",
       "    .dataframe thead th {\n",
       "        text-align: right;\n",
       "    }\n",
       "</style>\n",
       "<table border=\"1\" class=\"dataframe\">\n",
       "  <thead>\n",
       "    <tr style=\"text-align: right;\">\n",
       "      <th></th>\n",
       "      <th>total_images</th>\n",
       "      <th>last_price</th>\n",
       "      <th>total_area</th>\n",
       "      <th>first_day_exposition</th>\n",
       "      <th>rooms</th>\n",
       "      <th>ceiling_height</th>\n",
       "      <th>floors_total</th>\n",
       "      <th>living_area</th>\n",
       "      <th>floor</th>\n",
       "      <th>is_apartment</th>\n",
       "      <th>...</th>\n",
       "      <th>kitchen_area</th>\n",
       "      <th>balcony</th>\n",
       "      <th>locality_name</th>\n",
       "      <th>airports_nearest</th>\n",
       "      <th>cityCenters_nearest</th>\n",
       "      <th>parks_around3000</th>\n",
       "      <th>parks_nearest</th>\n",
       "      <th>ponds_around3000</th>\n",
       "      <th>ponds_nearest</th>\n",
       "      <th>days_exposition</th>\n",
       "    </tr>\n",
       "  </thead>\n",
       "  <tbody>\n",
       "    <tr>\n",
       "      <th>0</th>\n",
       "      <td>20</td>\n",
       "      <td>13000000.0</td>\n",
       "      <td>108.0</td>\n",
       "      <td>2019-03-07T00:00:00</td>\n",
       "      <td>3</td>\n",
       "      <td>2.70</td>\n",
       "      <td>16.0</td>\n",
       "      <td>51.0</td>\n",
       "      <td>8</td>\n",
       "      <td>NaN</td>\n",
       "      <td>...</td>\n",
       "      <td>25.0</td>\n",
       "      <td>NaN</td>\n",
       "      <td>Санкт-Петербург</td>\n",
       "      <td>18863.0</td>\n",
       "      <td>16028.0</td>\n",
       "      <td>1.0</td>\n",
       "      <td>482.0</td>\n",
       "      <td>2.0</td>\n",
       "      <td>755.0</td>\n",
       "      <td>NaN</td>\n",
       "    </tr>\n",
       "    <tr>\n",
       "      <th>1</th>\n",
       "      <td>7</td>\n",
       "      <td>3350000.0</td>\n",
       "      <td>40.4</td>\n",
       "      <td>2018-12-04T00:00:00</td>\n",
       "      <td>1</td>\n",
       "      <td>NaN</td>\n",
       "      <td>11.0</td>\n",
       "      <td>18.6</td>\n",
       "      <td>1</td>\n",
       "      <td>NaN</td>\n",
       "      <td>...</td>\n",
       "      <td>11.0</td>\n",
       "      <td>2.0</td>\n",
       "      <td>посёлок Шушары</td>\n",
       "      <td>12817.0</td>\n",
       "      <td>18603.0</td>\n",
       "      <td>0.0</td>\n",
       "      <td>NaN</td>\n",
       "      <td>0.0</td>\n",
       "      <td>NaN</td>\n",
       "      <td>81.0</td>\n",
       "    </tr>\n",
       "    <tr>\n",
       "      <th>2</th>\n",
       "      <td>10</td>\n",
       "      <td>5196000.0</td>\n",
       "      <td>56.0</td>\n",
       "      <td>2015-08-20T00:00:00</td>\n",
       "      <td>2</td>\n",
       "      <td>NaN</td>\n",
       "      <td>5.0</td>\n",
       "      <td>34.3</td>\n",
       "      <td>4</td>\n",
       "      <td>NaN</td>\n",
       "      <td>...</td>\n",
       "      <td>8.3</td>\n",
       "      <td>0.0</td>\n",
       "      <td>Санкт-Петербург</td>\n",
       "      <td>21741.0</td>\n",
       "      <td>13933.0</td>\n",
       "      <td>1.0</td>\n",
       "      <td>90.0</td>\n",
       "      <td>2.0</td>\n",
       "      <td>574.0</td>\n",
       "      <td>558.0</td>\n",
       "    </tr>\n",
       "    <tr>\n",
       "      <th>3</th>\n",
       "      <td>0</td>\n",
       "      <td>64900000.0</td>\n",
       "      <td>159.0</td>\n",
       "      <td>2015-07-24T00:00:00</td>\n",
       "      <td>3</td>\n",
       "      <td>NaN</td>\n",
       "      <td>14.0</td>\n",
       "      <td>NaN</td>\n",
       "      <td>9</td>\n",
       "      <td>NaN</td>\n",
       "      <td>...</td>\n",
       "      <td>NaN</td>\n",
       "      <td>0.0</td>\n",
       "      <td>Санкт-Петербург</td>\n",
       "      <td>28098.0</td>\n",
       "      <td>6800.0</td>\n",
       "      <td>2.0</td>\n",
       "      <td>84.0</td>\n",
       "      <td>3.0</td>\n",
       "      <td>234.0</td>\n",
       "      <td>424.0</td>\n",
       "    </tr>\n",
       "    <tr>\n",
       "      <th>4</th>\n",
       "      <td>2</td>\n",
       "      <td>10000000.0</td>\n",
       "      <td>100.0</td>\n",
       "      <td>2018-06-19T00:00:00</td>\n",
       "      <td>2</td>\n",
       "      <td>3.03</td>\n",
       "      <td>14.0</td>\n",
       "      <td>32.0</td>\n",
       "      <td>13</td>\n",
       "      <td>NaN</td>\n",
       "      <td>...</td>\n",
       "      <td>41.0</td>\n",
       "      <td>NaN</td>\n",
       "      <td>Санкт-Петербург</td>\n",
       "      <td>31856.0</td>\n",
       "      <td>8098.0</td>\n",
       "      <td>2.0</td>\n",
       "      <td>112.0</td>\n",
       "      <td>1.0</td>\n",
       "      <td>48.0</td>\n",
       "      <td>121.0</td>\n",
       "    </tr>\n",
       "  </tbody>\n",
       "</table>\n",
       "<p>5 rows × 22 columns</p>\n",
       "</div>"
      ],
      "text/plain": [
       "   total_images  last_price  total_area first_day_exposition  rooms  \\\n",
       "0            20  13000000.0       108.0  2019-03-07T00:00:00      3   \n",
       "1             7   3350000.0        40.4  2018-12-04T00:00:00      1   \n",
       "2            10   5196000.0        56.0  2015-08-20T00:00:00      2   \n",
       "3             0  64900000.0       159.0  2015-07-24T00:00:00      3   \n",
       "4             2  10000000.0       100.0  2018-06-19T00:00:00      2   \n",
       "\n",
       "   ceiling_height  floors_total  living_area  floor is_apartment  ...  \\\n",
       "0            2.70          16.0         51.0      8          NaN  ...   \n",
       "1             NaN          11.0         18.6      1          NaN  ...   \n",
       "2             NaN           5.0         34.3      4          NaN  ...   \n",
       "3             NaN          14.0          NaN      9          NaN  ...   \n",
       "4            3.03          14.0         32.0     13          NaN  ...   \n",
       "\n",
       "   kitchen_area  balcony    locality_name  airports_nearest  \\\n",
       "0          25.0      NaN  Санкт-Петербург           18863.0   \n",
       "1          11.0      2.0   посёлок Шушары           12817.0   \n",
       "2           8.3      0.0  Санкт-Петербург           21741.0   \n",
       "3           NaN      0.0  Санкт-Петербург           28098.0   \n",
       "4          41.0      NaN  Санкт-Петербург           31856.0   \n",
       "\n",
       "  cityCenters_nearest  parks_around3000  parks_nearest  ponds_around3000  \\\n",
       "0             16028.0               1.0          482.0               2.0   \n",
       "1             18603.0               0.0            NaN               0.0   \n",
       "2             13933.0               1.0           90.0               2.0   \n",
       "3              6800.0               2.0           84.0               3.0   \n",
       "4              8098.0               2.0          112.0               1.0   \n",
       "\n",
       "   ponds_nearest  days_exposition  \n",
       "0          755.0              NaN  \n",
       "1            NaN             81.0  \n",
       "2          574.0            558.0  \n",
       "3          234.0            424.0  \n",
       "4           48.0            121.0  \n",
       "\n",
       "[5 rows x 22 columns]"
      ]
     },
     "metadata": {},
     "output_type": "display_data"
    },
    {
     "name": "stdout",
     "output_type": "stream",
     "text": [
      "<class 'pandas.core.frame.DataFrame'>\n",
      "RangeIndex: 23699 entries, 0 to 23698\n",
      "Data columns (total 22 columns):\n",
      " #   Column                Non-Null Count  Dtype  \n",
      "---  ------                --------------  -----  \n",
      " 0   total_images          23699 non-null  int64  \n",
      " 1   last_price            23699 non-null  float64\n",
      " 2   total_area            23699 non-null  float64\n",
      " 3   first_day_exposition  23699 non-null  object \n",
      " 4   rooms                 23699 non-null  int64  \n",
      " 5   ceiling_height        14504 non-null  float64\n",
      " 6   floors_total          23613 non-null  float64\n",
      " 7   living_area           21796 non-null  float64\n",
      " 8   floor                 23699 non-null  int64  \n",
      " 9   is_apartment          2775 non-null   object \n",
      " 10  studio                23699 non-null  bool   \n",
      " 11  open_plan             23699 non-null  bool   \n",
      " 12  kitchen_area          21421 non-null  float64\n",
      " 13  balcony               12180 non-null  float64\n",
      " 14  locality_name         23650 non-null  object \n",
      " 15  airports_nearest      18157 non-null  float64\n",
      " 16  cityCenters_nearest   18180 non-null  float64\n",
      " 17  parks_around3000      18181 non-null  float64\n",
      " 18  parks_nearest         8079 non-null   float64\n",
      " 19  ponds_around3000      18181 non-null  float64\n",
      " 20  ponds_nearest         9110 non-null   float64\n",
      " 21  days_exposition       20518 non-null  float64\n",
      "dtypes: bool(2), float64(14), int64(3), object(3)\n",
      "memory usage: 3.7+ MB\n"
     ]
    }
   ],
   "source": [
    "import pandas as pd\n",
    "import numpy as np\n",
    "import matplotlib.pyplot as plt\n",
    "df = pd.read_csv('/datasets/real_estate_data.csv', sep = '\\t')\n",
    "display(df.head())\n",
    "df.info()"
   ]
  },
  {
   "cell_type": "markdown",
   "metadata": {},
   "source": [
    "### Вывод"
   ]
  },
  {
   "cell_type": "markdown",
   "metadata": {},
   "source": [
    "При изучении исходных данных были выявлены следующие особенности:\n",
    "1. в ceiling_height, is_apartment, living_area, is_apartment, kitchen_area, balcony, parks_nearest, ponds_nearest, days_exposition были обнаружены нулевые значения, с которыми в последующем будем бороться.\n",
    "2. также надо будет поработать над изменением типов данных, например, first_day_exposition нужно будет привести к типу datetime, floors_total привести к типу int и т.д."
   ]
  },
  {
   "cell_type": "markdown",
   "metadata": {},
   "source": [
    "## Предобработка данных"
   ]
  },
  {
   "cell_type": "markdown",
   "metadata": {},
   "source": []
  },
  {
   "cell_type": "code",
   "execution_count": 2,
   "metadata": {},
   "outputs": [
    {
     "name": "stdout",
     "output_type": "stream",
     "text": [
      "total_images                0\n",
      "last_price                  0\n",
      "total_area                  0\n",
      "first_day_exposition        0\n",
      "rooms                       0\n",
      "ceiling_height           9195\n",
      "floors_total               86\n",
      "living_area              1903\n",
      "floor                       0\n",
      "is_apartment            20924\n",
      "studio                      0\n",
      "open_plan                   0\n",
      "kitchen_area             2278\n",
      "balcony                 11519\n",
      "locality_name              49\n",
      "airports_nearest         5542\n",
      "cityCenters_nearest      5519\n",
      "parks_around3000         5518\n",
      "parks_nearest           15620\n",
      "ponds_around3000         5518\n",
      "ponds_nearest           14589\n",
      "days_exposition          3181\n",
      "dtype: int64\n",
      "0\n"
     ]
    }
   ],
   "source": [
    "print(df.isnull().sum())#посчитаем кол-во пропусков в df\n",
    "#Сделаем замену пропусков на 0, а также изменим тип данных\n",
    "df['days_exposition'] = df['days_exposition'].fillna(0).astype('int')\n",
    "df['balcony'] = df['balcony'].fillna(0).astype('int')\n",
    "df['first_day_exposition'] = pd.to_datetime(df['first_day_exposition'], format = '%Y-%m-%d')\n",
    "#Т.к. в locality_name не так много попущенных значений, а заменить их нечем, мы удаляем пропущенные значения\n",
    "df.dropna(subset = ['locality_name'], inplace = True)\n",
    "#Значения в столбце is_apartment заменим на False\n",
    "df['is_apartment'] = df['is_apartment'].fillna(False)\n",
    "df['last_price'] = df['last_price'].astype('int')\n",
    "#Приступим к ceiling_height заменим пропуски на медианное значение\n",
    "df.loc[df['ceiling_height'].isnull(), 'ceiling_height'] = df['ceiling_height'].median()\n",
    "#В living_area пустые стоки удалим, т.к. эти данные влияют на цену \n",
    "df.dropna(subset = ['living_area'], inplace = True)\n",
    "df.dropna(subset = ['kitchen_area'], inplace = True)\n",
    "#cityCenters_nearest удалим пропуски, т.к. этот фактор тоже влияет на ценообразование\n",
    "df.dropna(subset = ['cityCenters_nearest'], inplace = True)\n",
    "#Для park_nearest заменим пропуски на медианное значение, составляем условие на проверку NaN \n",
    "me_par_ne = df['parks_nearest'].mean()\n",
    "df.loc[(df['parks_around3000'] == 0) & (df['parks_nearest'].isnull()), 'parks_nearest'] =  me_par_ne\n",
    "#Для ponds_nearest поступим аналогично\n",
    "me_par_ne1 = df['ponds_nearest'].mean()\n",
    "df.loc[(df['ponds_around3000'] == 0) & (df['ponds_nearest'].isnull()), 'ponds_nearest'] =  me_par_ne1\n",
    "#Что касается floor_total и airport_nearest, скорее всего аэропортов поблизости либо нет, либо очень большое расстояние до них, этажность домов сложно восстановить, можно попробовать их удалить, т.к. % небольшой\n",
    "print(df.duplicated().sum()) #поиск дубликатов дал результат 0"
   ]
  },
  {
   "cell_type": "code",
   "execution_count": 3,
   "metadata": {},
   "outputs": [
    {
     "name": "stdout",
     "output_type": "stream",
     "text": [
      "<class 'pandas.core.frame.DataFrame'>\n",
      "Int64Index: 16296 entries, 0 to 23694\n",
      "Data columns (total 22 columns):\n",
      " #   Column                Non-Null Count  Dtype         \n",
      "---  ------                --------------  -----         \n",
      " 0   total_images          16296 non-null  int64         \n",
      " 1   last_price            16296 non-null  int64         \n",
      " 2   total_area            16296 non-null  float64       \n",
      " 3   first_day_exposition  16296 non-null  datetime64[ns]\n",
      " 4   rooms                 16296 non-null  int64         \n",
      " 5   ceiling_height        16296 non-null  float64       \n",
      " 6   floors_total          16261 non-null  float64       \n",
      " 7   living_area           16296 non-null  float64       \n",
      " 8   floor                 16296 non-null  int64         \n",
      " 9   is_apartment          16296 non-null  bool          \n",
      " 10  studio                16296 non-null  bool          \n",
      " 11  open_plan             16296 non-null  bool          \n",
      " 12  kitchen_area          16296 non-null  float64       \n",
      " 13  balcony               16296 non-null  int64         \n",
      " 14  locality_name         16296 non-null  object        \n",
      " 15  airports_nearest      16274 non-null  float64       \n",
      " 16  cityCenters_nearest   16296 non-null  float64       \n",
      " 17  parks_around3000      16296 non-null  float64       \n",
      " 18  parks_nearest         16296 non-null  float64       \n",
      " 19  ponds_around3000      16296 non-null  float64       \n",
      " 20  ponds_nearest         16296 non-null  float64       \n",
      " 21  days_exposition       16296 non-null  int64         \n",
      "dtypes: bool(3), datetime64[ns](1), float64(11), int64(6), object(1)\n",
      "memory usage: 2.5+ MB\n"
     ]
    }
   ],
   "source": [
    "#Перейдем к изменению типов данных\n",
    "df['last_price'].astype('int')\n",
    "#df['floors_total'].astype('int')   \n",
    "df['ponds_nearest'].astype('int') \n",
    "df['parks_nearest'].astype('int') \n",
    "df['cityCenters_nearest'].astype('int') \n",
    "df['parks_around3000'].astype('int') \n",
    "df['ponds_around3000'].astype('int') \n",
    "#df['airports_nearest'].astype('int') \n",
    "df.info()"
   ]
  },
  {
   "cell_type": "markdown",
   "metadata": {},
   "source": [
    "Была проведена предобработка данных: были найдены пропущенные значения и работа по их обработке и устранении, пустые значения были либо заменены на 0, как в balcony, days_exposition, либо удалены, где это было позволено, также некоторые значения были заменены медианными значениями, например, ceiling_height, parks_nearest и ponds_nearst были заменены средним значением. Также были заменены типы данных, что упрощает представление данных. \n",
    "Были выяснены следующие причины пропусков: неправильный ввод данных пользователями, недостаток информации в данных, например, продавец не знает точную высоту потолка, либо в квартире нет балкона и он не может заполнить полную и точную информацию.Большинство пропусков оказались случайными, что означает, что вероятность пропуска зависит от других значений в наборе данных, но не от значений собственного столбца, такие пропуски были заменены методом fillna() на 0.\n"
   ]
  },
  {
   "cell_type": "markdown",
   "metadata": {},
   "source": [
    "## Расчёты и добавление результатов в таблицу"
   ]
  },
  {
   "cell_type": "code",
   "execution_count": 22,
   "metadata": {},
   "outputs": [
    {
     "data": {
      "text/html": [
       "<div>\n",
       "<style scoped>\n",
       "    .dataframe tbody tr th:only-of-type {\n",
       "        vertical-align: middle;\n",
       "    }\n",
       "\n",
       "    .dataframe tbody tr th {\n",
       "        vertical-align: top;\n",
       "    }\n",
       "\n",
       "    .dataframe thead th {\n",
       "        text-align: right;\n",
       "    }\n",
       "</style>\n",
       "<table border=\"1\" class=\"dataframe\">\n",
       "  <thead>\n",
       "    <tr style=\"text-align: right;\">\n",
       "      <th></th>\n",
       "      <th>total_images</th>\n",
       "      <th>last_price</th>\n",
       "      <th>total_area</th>\n",
       "      <th>first_day_exposition</th>\n",
       "      <th>rooms</th>\n",
       "      <th>ceiling_height</th>\n",
       "      <th>floors_total</th>\n",
       "      <th>living_area</th>\n",
       "      <th>floor</th>\n",
       "      <th>is_apartment</th>\n",
       "      <th>...</th>\n",
       "      <th>ponds_nearest</th>\n",
       "      <th>days_exposition</th>\n",
       "      <th>price_kv</th>\n",
       "      <th>day_of_week</th>\n",
       "      <th>day_of_week_name</th>\n",
       "      <th>month</th>\n",
       "      <th>year</th>\n",
       "      <th>floor_type</th>\n",
       "      <th>living_to_total</th>\n",
       "      <th>kitchen_to_total</th>\n",
       "    </tr>\n",
       "  </thead>\n",
       "  <tbody>\n",
       "    <tr>\n",
       "      <th>0</th>\n",
       "      <td>20</td>\n",
       "      <td>13000000</td>\n",
       "      <td>108.0</td>\n",
       "      <td>2019-03-07</td>\n",
       "      <td>3</td>\n",
       "      <td>2.70</td>\n",
       "      <td>16.0</td>\n",
       "      <td>51.0</td>\n",
       "      <td>8</td>\n",
       "      <td>False</td>\n",
       "      <td>...</td>\n",
       "      <td>755.000000</td>\n",
       "      <td>0</td>\n",
       "      <td>120370.370370</td>\n",
       "      <td>7</td>\n",
       "      <td>Thursday</td>\n",
       "      <td>3</td>\n",
       "      <td>2019</td>\n",
       "      <td>Другой</td>\n",
       "      <td>0.472222</td>\n",
       "      <td>0.231481</td>\n",
       "    </tr>\n",
       "    <tr>\n",
       "      <th>1</th>\n",
       "      <td>7</td>\n",
       "      <td>3350000</td>\n",
       "      <td>40.4</td>\n",
       "      <td>2018-12-04</td>\n",
       "      <td>1</td>\n",
       "      <td>2.65</td>\n",
       "      <td>11.0</td>\n",
       "      <td>18.6</td>\n",
       "      <td>1</td>\n",
       "      <td>False</td>\n",
       "      <td>...</td>\n",
       "      <td>519.478896</td>\n",
       "      <td>81</td>\n",
       "      <td>82920.792079</td>\n",
       "      <td>4</td>\n",
       "      <td>Tuesday</td>\n",
       "      <td>12</td>\n",
       "      <td>2018</td>\n",
       "      <td>Первый</td>\n",
       "      <td>0.460396</td>\n",
       "      <td>0.272277</td>\n",
       "    </tr>\n",
       "    <tr>\n",
       "      <th>2</th>\n",
       "      <td>10</td>\n",
       "      <td>5196000</td>\n",
       "      <td>56.0</td>\n",
       "      <td>2015-08-20</td>\n",
       "      <td>2</td>\n",
       "      <td>2.65</td>\n",
       "      <td>5.0</td>\n",
       "      <td>34.3</td>\n",
       "      <td>4</td>\n",
       "      <td>False</td>\n",
       "      <td>...</td>\n",
       "      <td>574.000000</td>\n",
       "      <td>558</td>\n",
       "      <td>92785.714286</td>\n",
       "      <td>20</td>\n",
       "      <td>Thursday</td>\n",
       "      <td>8</td>\n",
       "      <td>2015</td>\n",
       "      <td>Другой</td>\n",
       "      <td>0.612500</td>\n",
       "      <td>0.148214</td>\n",
       "    </tr>\n",
       "    <tr>\n",
       "      <th>4</th>\n",
       "      <td>2</td>\n",
       "      <td>10000000</td>\n",
       "      <td>100.0</td>\n",
       "      <td>2018-06-19</td>\n",
       "      <td>2</td>\n",
       "      <td>3.03</td>\n",
       "      <td>14.0</td>\n",
       "      <td>32.0</td>\n",
       "      <td>13</td>\n",
       "      <td>False</td>\n",
       "      <td>...</td>\n",
       "      <td>48.000000</td>\n",
       "      <td>121</td>\n",
       "      <td>100000.000000</td>\n",
       "      <td>19</td>\n",
       "      <td>Tuesday</td>\n",
       "      <td>6</td>\n",
       "      <td>2018</td>\n",
       "      <td>Другой</td>\n",
       "      <td>0.320000</td>\n",
       "      <td>0.410000</td>\n",
       "    </tr>\n",
       "    <tr>\n",
       "      <th>6</th>\n",
       "      <td>6</td>\n",
       "      <td>3700000</td>\n",
       "      <td>37.3</td>\n",
       "      <td>2017-11-02</td>\n",
       "      <td>1</td>\n",
       "      <td>2.65</td>\n",
       "      <td>26.0</td>\n",
       "      <td>10.6</td>\n",
       "      <td>6</td>\n",
       "      <td>False</td>\n",
       "      <td>...</td>\n",
       "      <td>519.478896</td>\n",
       "      <td>155</td>\n",
       "      <td>99195.710456</td>\n",
       "      <td>2</td>\n",
       "      <td>Thursday</td>\n",
       "      <td>11</td>\n",
       "      <td>2017</td>\n",
       "      <td>Другой</td>\n",
       "      <td>0.284182</td>\n",
       "      <td>0.386059</td>\n",
       "    </tr>\n",
       "  </tbody>\n",
       "</table>\n",
       "<p>5 rows × 30 columns</p>\n",
       "</div>"
      ],
      "text/plain": [
       "   total_images  last_price  total_area first_day_exposition  rooms  \\\n",
       "0            20    13000000       108.0           2019-03-07      3   \n",
       "1             7     3350000        40.4           2018-12-04      1   \n",
       "2            10     5196000        56.0           2015-08-20      2   \n",
       "4             2    10000000       100.0           2018-06-19      2   \n",
       "6             6     3700000        37.3           2017-11-02      1   \n",
       "\n",
       "   ceiling_height  floors_total  living_area  floor  is_apartment  ...  \\\n",
       "0            2.70          16.0         51.0      8         False  ...   \n",
       "1            2.65          11.0         18.6      1         False  ...   \n",
       "2            2.65           5.0         34.3      4         False  ...   \n",
       "4            3.03          14.0         32.0     13         False  ...   \n",
       "6            2.65          26.0         10.6      6         False  ...   \n",
       "\n",
       "   ponds_nearest  days_exposition       price_kv  day_of_week  \\\n",
       "0     755.000000                0  120370.370370            7   \n",
       "1     519.478896               81   82920.792079            4   \n",
       "2     574.000000              558   92785.714286           20   \n",
       "4      48.000000              121  100000.000000           19   \n",
       "6     519.478896              155   99195.710456            2   \n",
       "\n",
       "  day_of_week_name  month  year  floor_type  living_to_total  kitchen_to_total  \n",
       "0         Thursday      3  2019      Другой         0.472222          0.231481  \n",
       "1          Tuesday     12  2018      Первый         0.460396          0.272277  \n",
       "2         Thursday      8  2015      Другой         0.612500          0.148214  \n",
       "4          Tuesday      6  2018      Другой         0.320000          0.410000  \n",
       "6         Thursday     11  2017      Другой         0.284182          0.386059  \n",
       "\n",
       "[5 rows x 30 columns]"
      ]
     },
     "execution_count": 22,
     "metadata": {},
     "output_type": "execute_result"
    }
   ],
   "source": [
    "#Цена квадратного метра\n",
    "df['price_kv'] = df['last_price'] / df['total_area']\n",
    "#Создадим столбцы: день недели, месяц и год публикации объявления\n",
    "df['day_of_week'] = pd.DatetimeIndex(df['first_day_exposition']).day\n",
    "df['day_of_week_name'] = df['first_day_exposition'].dt.day_name()\n",
    "df['month'] = pd.DatetimeIndex(df['first_day_exposition']).month\n",
    "df['year'] = pd.DatetimeIndex(df['first_day_exposition']).year\n",
    "df.head()\n",
    "#Создаем функцию для определения этажа квартиры\n",
    "def find_floor(line):\n",
    "    total_floors = line['floors_total']\n",
    "    floor = line['floor']\n",
    "    if floor == total_floors:\n",
    "        return 'Последний'\n",
    "    elif floor == 1:\n",
    "        return 'Первый'\n",
    "    else:\n",
    "        return 'Другой'\n",
    "df['floor_type'] = df.apply(find_floor,axis=1)\n",
    "#Добавим столбец соотношение жилой и общей площади, а также отношение площади кухни к общей\n",
    "df['living_to_total'] = df['living_area'] / df['total_area']\n",
    "df['kitchen_to_total'] = df['kitchen_area'] / df['total_area']\n",
    "df.head()\n"
   ]
  },
  {
   "cell_type": "markdown",
   "metadata": {},
   "source": [
    "## Исследовательский анализ данных"
   ]
  },
  {
   "cell_type": "markdown",
   "metadata": {},
   "source": [
    "### Построим гистограммы для площадь, цена, число комнат, высота потолков"
   ]
  },
  {
   "cell_type": "code",
   "execution_count": 23,
   "metadata": {
    "scrolled": false
   },
   "outputs": [
    {
     "data": {
      "image/png": "[encoded data removed]",
      "text/plain": [
       "<Figure size 504x288 with 1 Axes>"
      ]
     },
     "metadata": {
      "needs_background": "light"
     },
     "output_type": "display_data"
    }
   ],
   "source": [
    "df.plot(y = 'total_area', kind = 'hist', bins = 25, figsize = (7,4), range = (23,300));\n",
    "plt.title('Площадь',fontsize='xx-large');"
   ]
  },
  {
   "cell_type": "markdown",
   "metadata": {},
   "source": [
    "Есть выбросы, но они оказывают несильное влияние, нормальное распределение. Аналогично построение гистограммы для других параметров"
   ]
  },
  {
   "cell_type": "code",
   "execution_count": 24,
   "metadata": {},
   "outputs": [
    {
     "data": {
      "image/png": "[encoded data removed]",
      "text/plain": [
       "<Figure size 504x288 with 1 Axes>"
      ]
     },
     "metadata": {
      "needs_background": "light"
     },
     "output_type": "display_data"
    }
   ],
   "source": [
    "df.plot(y = 'last_price', kind = 'hist', bins = 25, figsize = (7,4), range = (0,30*10**6));\n",
    "plt.title('Цена',fontsize='xx-large');"
   ]
  },
  {
   "cell_type": "code",
   "execution_count": 25,
   "metadata": {},
   "outputs": [
    {
     "data": {
      "image/png": "[encoded data removed]",
      "text/plain": [
       "<Figure size 504x288 with 1 Axes>"
      ]
     },
     "metadata": {
      "needs_background": "light"
     },
     "output_type": "display_data"
    }
   ],
   "source": [
    "df.plot(y = 'rooms', kind = 'hist', bins = 8, figsize = (7,4), range = (0,8));\n",
    "plt.title('Число комант',fontsize='xx-large');"
   ]
  },
  {
   "cell_type": "code",
   "execution_count": 26,
   "metadata": {},
   "outputs": [
    {
     "data": {
      "image/png": "[encoded data removed]",
      "text/plain": [
       "<Figure size 504x288 with 1 Axes>"
      ]
     },
     "metadata": {
      "needs_background": "light"
     },
     "output_type": "display_data"
    }
   ],
   "source": [
    "df.plot(y = 'ceiling_height', kind = 'hist', bins = 15, figsize = (7,4), range = (2.5,4));\n",
    "plt.title('Высота потолков',fontsize='xx-large');"
   ]
  },
  {
   "cell_type": "markdown",
   "metadata": {},
   "source": []
  },
  {
   "cell_type": "code",
   "execution_count": 27,
   "metadata": {},
   "outputs": [
    {
     "data": {
      "image/png": "[encoded data removed]",
      "text/plain": [
       "<Figure size 432x288 with 1 Axes>"
      ]
     },
     "metadata": {
      "needs_background": "light"
     },
     "output_type": "display_data"
    },
    {
     "data": {
      "image/png": "[encoded data removed]",
      "text/plain": [
       "<Figure size 432x288 with 1 Axes>"
      ]
     },
     "metadata": {
      "needs_background": "light"
     },
     "output_type": "display_data"
    }
   ],
   "source": [
    "df['days_exposition'].hist(bins=25);\n",
    "plt.show()\n",
    "df.boxplot(column='days_exposition');\n",
    "plt.ylim(0,600);"
   ]
  },
  {
   "cell_type": "markdown",
   "metadata": {},
   "source": [
    "### Изучим время продажи квартиры"
   ]
  },
  {
   "cell_type": "code",
   "execution_count": 28,
   "metadata": {},
   "outputs": [
    {
     "name": "stdout",
     "output_type": "stream",
     "text": [
      "Среднее время продажи: 161.35229504172804\n",
      "Медиана времени продажи 79.0\n"
     ]
    }
   ],
   "source": [
    "print('Среднее время продажи:', df['days_exposition'].mean())\n",
    "print('Медиана времени продажи', df['days_exposition'].median())"
   ]
  },
  {
   "cell_type": "markdown",
   "metadata": {},
   "source": [
    "### Уберем редкие и выбивающиеся значения методом query()"
   ]
  },
  {
   "cell_type": "code",
   "execution_count": 29,
   "metadata": {},
   "outputs": [
    {
     "data": {
      "text/html": [
       "<div>\n",
       "<style scoped>\n",
       "    .dataframe tbody tr th:only-of-type {\n",
       "        vertical-align: middle;\n",
       "    }\n",
       "\n",
       "    .dataframe tbody tr th {\n",
       "        vertical-align: top;\n",
       "    }\n",
       "\n",
       "    .dataframe thead th {\n",
       "        text-align: right;\n",
       "    }\n",
       "</style>\n",
       "<table border=\"1\" class=\"dataframe\">\n",
       "  <thead>\n",
       "    <tr style=\"text-align: right;\">\n",
       "      <th></th>\n",
       "      <th>total_images</th>\n",
       "      <th>last_price</th>\n",
       "      <th>total_area</th>\n",
       "      <th>first_day_exposition</th>\n",
       "      <th>rooms</th>\n",
       "      <th>ceiling_height</th>\n",
       "      <th>floors_total</th>\n",
       "      <th>living_area</th>\n",
       "      <th>floor</th>\n",
       "      <th>is_apartment</th>\n",
       "      <th>...</th>\n",
       "      <th>ponds_nearest</th>\n",
       "      <th>days_exposition</th>\n",
       "      <th>price_kv</th>\n",
       "      <th>day_of_week</th>\n",
       "      <th>day_of_week_name</th>\n",
       "      <th>month</th>\n",
       "      <th>year</th>\n",
       "      <th>floor_type</th>\n",
       "      <th>living_to_total</th>\n",
       "      <th>kitchen_to_total</th>\n",
       "    </tr>\n",
       "  </thead>\n",
       "  <tbody>\n",
       "    <tr>\n",
       "      <th>0</th>\n",
       "      <td>20</td>\n",
       "      <td>13000000</td>\n",
       "      <td>108.0</td>\n",
       "      <td>2019-03-07</td>\n",
       "      <td>3</td>\n",
       "      <td>2.70</td>\n",
       "      <td>16.0</td>\n",
       "      <td>51.0</td>\n",
       "      <td>8</td>\n",
       "      <td>False</td>\n",
       "      <td>...</td>\n",
       "      <td>755.000000</td>\n",
       "      <td>0</td>\n",
       "      <td>120370.370370</td>\n",
       "      <td>7</td>\n",
       "      <td>Thursday</td>\n",
       "      <td>3</td>\n",
       "      <td>2019</td>\n",
       "      <td>Другой</td>\n",
       "      <td>0.472222</td>\n",
       "      <td>0.231481</td>\n",
       "    </tr>\n",
       "    <tr>\n",
       "      <th>1</th>\n",
       "      <td>7</td>\n",
       "      <td>3350000</td>\n",
       "      <td>40.4</td>\n",
       "      <td>2018-12-04</td>\n",
       "      <td>1</td>\n",
       "      <td>2.65</td>\n",
       "      <td>11.0</td>\n",
       "      <td>18.6</td>\n",
       "      <td>1</td>\n",
       "      <td>False</td>\n",
       "      <td>...</td>\n",
       "      <td>519.478896</td>\n",
       "      <td>81</td>\n",
       "      <td>82920.792079</td>\n",
       "      <td>4</td>\n",
       "      <td>Tuesday</td>\n",
       "      <td>12</td>\n",
       "      <td>2018</td>\n",
       "      <td>Первый</td>\n",
       "      <td>0.460396</td>\n",
       "      <td>0.272277</td>\n",
       "    </tr>\n",
       "    <tr>\n",
       "      <th>4</th>\n",
       "      <td>2</td>\n",
       "      <td>10000000</td>\n",
       "      <td>100.0</td>\n",
       "      <td>2018-06-19</td>\n",
       "      <td>2</td>\n",
       "      <td>3.03</td>\n",
       "      <td>14.0</td>\n",
       "      <td>32.0</td>\n",
       "      <td>13</td>\n",
       "      <td>False</td>\n",
       "      <td>...</td>\n",
       "      <td>48.000000</td>\n",
       "      <td>121</td>\n",
       "      <td>100000.000000</td>\n",
       "      <td>19</td>\n",
       "      <td>Tuesday</td>\n",
       "      <td>6</td>\n",
       "      <td>2018</td>\n",
       "      <td>Другой</td>\n",
       "      <td>0.320000</td>\n",
       "      <td>0.410000</td>\n",
       "    </tr>\n",
       "    <tr>\n",
       "      <th>6</th>\n",
       "      <td>6</td>\n",
       "      <td>3700000</td>\n",
       "      <td>37.3</td>\n",
       "      <td>2017-11-02</td>\n",
       "      <td>1</td>\n",
       "      <td>2.65</td>\n",
       "      <td>26.0</td>\n",
       "      <td>10.6</td>\n",
       "      <td>6</td>\n",
       "      <td>False</td>\n",
       "      <td>...</td>\n",
       "      <td>519.478896</td>\n",
       "      <td>155</td>\n",
       "      <td>99195.710456</td>\n",
       "      <td>2</td>\n",
       "      <td>Thursday</td>\n",
       "      <td>11</td>\n",
       "      <td>2017</td>\n",
       "      <td>Другой</td>\n",
       "      <td>0.284182</td>\n",
       "      <td>0.386059</td>\n",
       "    </tr>\n",
       "    <tr>\n",
       "      <th>10</th>\n",
       "      <td>5</td>\n",
       "      <td>5050000</td>\n",
       "      <td>39.6</td>\n",
       "      <td>2017-11-16</td>\n",
       "      <td>1</td>\n",
       "      <td>2.67</td>\n",
       "      <td>12.0</td>\n",
       "      <td>20.3</td>\n",
       "      <td>3</td>\n",
       "      <td>False</td>\n",
       "      <td>...</td>\n",
       "      <td>553.000000</td>\n",
       "      <td>137</td>\n",
       "      <td>127525.252525</td>\n",
       "      <td>16</td>\n",
       "      <td>Thursday</td>\n",
       "      <td>11</td>\n",
       "      <td>2017</td>\n",
       "      <td>Другой</td>\n",
       "      <td>0.512626</td>\n",
       "      <td>0.214646</td>\n",
       "    </tr>\n",
       "  </tbody>\n",
       "</table>\n",
       "<p>5 rows × 30 columns</p>\n",
       "</div>"
      ],
      "text/plain": [
       "    total_images  last_price  total_area first_day_exposition  rooms  \\\n",
       "0             20    13000000       108.0           2019-03-07      3   \n",
       "1              7     3350000        40.4           2018-12-04      1   \n",
       "4              2    10000000       100.0           2018-06-19      2   \n",
       "6              6     3700000        37.3           2017-11-02      1   \n",
       "10             5     5050000        39.6           2017-11-16      1   \n",
       "\n",
       "    ceiling_height  floors_total  living_area  floor  is_apartment  ...  \\\n",
       "0             2.70          16.0         51.0      8         False  ...   \n",
       "1             2.65          11.0         18.6      1         False  ...   \n",
       "4             3.03          14.0         32.0     13         False  ...   \n",
       "6             2.65          26.0         10.6      6         False  ...   \n",
       "10            2.67          12.0         20.3      3         False  ...   \n",
       "\n",
       "    ponds_nearest  days_exposition       price_kv  day_of_week  \\\n",
       "0      755.000000                0  120370.370370            7   \n",
       "1      519.478896               81   82920.792079            4   \n",
       "4       48.000000              121  100000.000000           19   \n",
       "6      519.478896              155   99195.710456            2   \n",
       "10     553.000000              137  127525.252525           16   \n",
       "\n",
       "   day_of_week_name  month  year  floor_type  living_to_total  \\\n",
       "0          Thursday      3  2019      Другой         0.472222   \n",
       "1           Tuesday     12  2018      Первый         0.460396   \n",
       "4           Tuesday      6  2018      Другой         0.320000   \n",
       "6          Thursday     11  2017      Другой         0.284182   \n",
       "10         Thursday     11  2017      Другой         0.512626   \n",
       "\n",
       "    kitchen_to_total  \n",
       "0           0.231481  \n",
       "1           0.272277  \n",
       "4           0.410000  \n",
       "6           0.386059  \n",
       "10          0.214646  \n",
       "\n",
       "[5 rows x 30 columns]"
      ]
     },
     "execution_count": 29,
     "metadata": {},
     "output_type": "execute_result"
    }
   ],
   "source": [
    "df_new=df.query('days_exposition<550 and ceiling_height>2.5 and ceiling_height<4 and rooms<10\\\n",
    "and last_price>500000 and total_area>17')\n",
    "df_new.head()"
   ]
  },
  {
   "cell_type": "markdown",
   "metadata": {},
   "source": [
    "### Изучим зависимости квадратного метра от:"
   ]
  },
  {
   "cell_type": "markdown",
   "metadata": {},
   "source": [
    "#### От площади"
   ]
  },
  {
   "cell_type": "code",
   "execution_count": 30,
   "metadata": {},
   "outputs": [],
   "source": [
    "pivot_table_total_area = df.pivot_table(index = 'total_area', values = 'price_kv', aggfunc = ['mean', 'count', 'median'])\n",
    "pivot_table_total_area.columns = ['mean', 'count', 'median']"
   ]
  },
  {
   "cell_type": "markdown",
   "metadata": {},
   "source": [
    "Построим график для зависимости квадратного метра от площади"
   ]
  },
  {
   "cell_type": "code",
   "execution_count": 31,
   "metadata": {},
   "outputs": [
    {
     "data": {
      "image/png": "[encoded data removed]",
      "text/plain": [
       "<Figure size 432x288 with 1 Axes>"
      ]
     },
     "metadata": {
      "needs_background": "light"
     },
     "output_type": "display_data"
    }
   ],
   "source": [
    "pivot_table_total_area.plot(y = 'median', style = 'o');\n",
    "pivot_table_total_area.sort_values('median', ascending = False);\n",
    "df['total_area'].corr(df['price_kv']);\n",
    "plt.title('Зависимость цены от площади',fontsize='xx-large');"
   ]
  },
  {
   "cell_type": "markdown",
   "metadata": {},
   "source": [
    "#### От кол-ва комант"
   ]
  },
  {
   "cell_type": "code",
   "execution_count": 32,
   "metadata": {},
   "outputs": [],
   "source": [
    "pivot_table_rooms = df.pivot_table(index = 'rooms', values = 'price_kv', aggfunc = ['mean', 'count', 'median'])\n",
    "pivot_table_rooms.columns = ['mean', 'count', 'median']"
   ]
  },
  {
   "cell_type": "markdown",
   "metadata": {},
   "source": [
    "Построим график "
   ]
  },
  {
   "cell_type": "code",
   "execution_count": 33,
   "metadata": {},
   "outputs": [
    {
     "data": {
      "image/png": "[encoded data removed]",
      "text/plain": [
       "<Figure size 432x288 with 1 Axes>"
      ]
     },
     "metadata": {
      "needs_background": "light"
     },
     "output_type": "display_data"
    }
   ],
   "source": [
    "pivot_table_rooms.query('count > 50').plot(y = 'median');\n",
    "pivot_table_rooms.query('count > 50').sort_values('median', ascending = False);\n",
    "df['rooms'].corr(df['price_kv']);\n",
    "plt.title('Зависимость цены от количества комнат',fontsize='xx-large');"
   ]
  },
  {
   "cell_type": "markdown",
   "metadata": {},
   "source": [
    "#### От этажа"
   ]
  },
  {
   "cell_type": "code",
   "execution_count": 34,
   "metadata": {},
   "outputs": [],
   "source": [
    "pivot_table_floor_type = df.query('floor_type != \"другой\"').pivot_table(index = 'floor_type', values = 'price_kv', aggfunc = ['mean', 'count', 'median'])\n",
    "pivot_table_floor_type.columns = ['mean', 'count', 'median']"
   ]
  },
  {
   "cell_type": "markdown",
   "metadata": {},
   "source": [
    "Построим график"
   ]
  },
  {
   "cell_type": "code",
   "execution_count": 35,
   "metadata": {},
   "outputs": [
    {
     "data": {
      "text/html": [
       "<div>\n",
       "<style scoped>\n",
       "    .dataframe tbody tr th:only-of-type {\n",
       "        vertical-align: middle;\n",
       "    }\n",
       "\n",
       "    .dataframe tbody tr th {\n",
       "        vertical-align: top;\n",
       "    }\n",
       "\n",
       "    .dataframe thead th {\n",
       "        text-align: right;\n",
       "    }\n",
       "</style>\n",
       "<table border=\"1\" class=\"dataframe\">\n",
       "  <thead>\n",
       "    <tr style=\"text-align: right;\">\n",
       "      <th></th>\n",
       "      <th>mean</th>\n",
       "      <th>count</th>\n",
       "      <th>median</th>\n",
       "    </tr>\n",
       "    <tr>\n",
       "      <th>floor_type</th>\n",
       "      <th></th>\n",
       "      <th></th>\n",
       "      <th></th>\n",
       "    </tr>\n",
       "  </thead>\n",
       "  <tbody>\n",
       "    <tr>\n",
       "      <th>Другой</th>\n",
       "      <td>111848.475136</td>\n",
       "      <td>12394</td>\n",
       "      <td>103333.333333</td>\n",
       "    </tr>\n",
       "    <tr>\n",
       "      <th>Первый</th>\n",
       "      <td>96204.353585</td>\n",
       "      <td>1773</td>\n",
       "      <td>90238.095238</td>\n",
       "    </tr>\n",
       "    <tr>\n",
       "      <th>Последний</th>\n",
       "      <td>109122.859085</td>\n",
       "      <td>2129</td>\n",
       "      <td>97608.695652</td>\n",
       "    </tr>\n",
       "  </tbody>\n",
       "</table>\n",
       "</div>"
      ],
      "text/plain": [
       "                     mean  count         median\n",
       "floor_type                                     \n",
       "Другой      111848.475136  12394  103333.333333\n",
       "Первый       96204.353585   1773   90238.095238\n",
       "Последний   109122.859085   2129   97608.695652"
      ]
     },
     "execution_count": 35,
     "metadata": {},
     "output_type": "execute_result"
    },
    {
     "data": {
      "image/png": "[encoded data removed]",
      "text/plain": [
       "<Figure size 432x288 with 1 Axes>"
      ]
     },
     "metadata": {
      "needs_background": "light"
     },
     "output_type": "display_data"
    }
   ],
   "source": [
    "pivot_table_floor_type.plot(y = 'median');\n",
    "plt.title('Зависимость цены от этажа',fontsize='xx-large')\n",
    "pivot_table_floor_type"
   ]
  },
  {
   "cell_type": "markdown",
   "metadata": {},
   "source": [
    "#### От удаленности от центра"
   ]
  },
  {
   "cell_type": "code",
   "execution_count": 36,
   "metadata": {},
   "outputs": [
    {
     "data": {
      "text/plain": [
       "Text(0.5, 1.0, 'Зависимость цены от удаленности от центра')"
      ]
     },
     "execution_count": 36,
     "metadata": {},
     "output_type": "execute_result"
    },
    {
     "data": {
      "image/png": "[encoded data removed]",
      "text/plain": [
       "<Figure size 432x288 with 1 Axes>"
      ]
     },
     "metadata": {
      "needs_background": "light"
     },
     "output_type": "display_data"
    }
   ],
   "source": [
    "df.plot(kind = 'scatter', y = 'price_kv', x = 'cityCenters_nearest', alpha = 0.3);\n",
    "df['cityCenters_nearest'].corr(df['price_kv']);\n",
    "plt.title('Зависимость цены от удаленности от центра',fontsize='xx-large')"
   ]
  },
  {
   "cell_type": "markdown",
   "metadata": {},
   "source": [
    "#### От даты размещения дня недели"
   ]
  },
  {
   "cell_type": "code",
   "execution_count": 37,
   "metadata": {},
   "outputs": [
    {
     "data": {
      "image/png": "[encoded data removed]",
      "text/plain": [
       "<Figure size 432x288 with 1 Axes>"
      ]
     },
     "metadata": {
      "needs_background": "light"
     },
     "output_type": "display_data"
    }
   ],
   "source": [
    "pivot_table_weekday_exposition = df.pivot_table(index = 'day_of_week_name', values = 'price_kv', aggfunc = ['mean', 'count', 'median'])\n",
    "pivot_table_weekday_exposition.columns = ['mean', 'count', 'median']\n",
    "pivot_table_weekday_exposition.plot(y = 'median');\n",
    "pivot_table_weekday_exposition.sort_values('median', ascending = False);\n",
    "plt.title('Зависимость цены от дня недели',fontsize='xx-large');"
   ]
  },
  {
   "cell_type": "markdown",
   "metadata": {},
   "source": [
    "#### От даты размещения месяца"
   ]
  },
  {
   "cell_type": "code",
   "execution_count": 38,
   "metadata": {},
   "outputs": [
    {
     "data": {
      "image/png": "[encoded data removed]",
      "text/plain": [
       "<Figure size 432x288 with 1 Axes>"
      ]
     },
     "metadata": {
      "needs_background": "light"
     },
     "output_type": "display_data"
    }
   ],
   "source": [
    "pivot_table_month_exposition = df.pivot_table(index = 'month', values = 'price_kv', aggfunc = ['mean', 'count', 'median'])\n",
    "pivot_table_month_exposition.columns = ['mean', 'count', 'median']\n",
    "pivot_table_month_exposition.plot(y = 'median');\n",
    "pivot_table_month_exposition.sort_values('median', ascending = False);\n",
    "plt.title('Зависимость цены от месяца',fontsize='xx-large');"
   ]
  },
  {
   "cell_type": "markdown",
   "metadata": {},
   "source": [
    "#### От даты размещения года"
   ]
  },
  {
   "cell_type": "code",
   "execution_count": 39,
   "metadata": {},
   "outputs": [
    {
     "data": {
      "image/png": "[encoded data removed]",
      "text/plain": [
       "<Figure size 432x288 with 1 Axes>"
      ]
     },
     "metadata": {
      "needs_background": "light"
     },
     "output_type": "display_data"
    }
   ],
   "source": [
    "pivot_table_year_exposition = df.pivot_table(index = 'year', values = 'price_kv', aggfunc = ['mean', 'count', 'median'])\n",
    "pivot_table_year_exposition.columns = ['mean', 'count', 'median']\n",
    "pivot_table_year_exposition.plot(y = 'median');\n",
    "pivot_table_year_exposition.sort_values('median', ascending = False);\n",
    "plt.title('Зависимость цены от года',fontsize='xx-large');"
   ]
  },
  {
   "cell_type": "markdown",
   "metadata": {},
   "source": [
    "### Изучим 10 населенных пунктов с большим количеством и объявлений и проведем для них расчеты"
   ]
  },
  {
   "cell_type": "code",
   "execution_count": 40,
   "metadata": {},
   "outputs": [
    {
     "data": {
      "text/html": [
       "<div>\n",
       "<style scoped>\n",
       "    .dataframe tbody tr th:only-of-type {\n",
       "        vertical-align: middle;\n",
       "    }\n",
       "\n",
       "    .dataframe tbody tr th {\n",
       "        vertical-align: top;\n",
       "    }\n",
       "\n",
       "    .dataframe thead th {\n",
       "        text-align: right;\n",
       "    }\n",
       "</style>\n",
       "<table border=\"1\" class=\"dataframe\">\n",
       "  <thead>\n",
       "    <tr style=\"text-align: right;\">\n",
       "      <th></th>\n",
       "      <th>mean</th>\n",
       "      <th>count</th>\n",
       "    </tr>\n",
       "    <tr>\n",
       "      <th>locality_name</th>\n",
       "      <th></th>\n",
       "      <th></th>\n",
       "    </tr>\n",
       "  </thead>\n",
       "  <tbody>\n",
       "    <tr>\n",
       "      <th>Санкт-Петербург</th>\n",
       "      <td>113783.262293</td>\n",
       "      <td>14028</td>\n",
       "    </tr>\n",
       "    <tr>\n",
       "      <th>посёлок Шушары</th>\n",
       "      <td>78371.984664</td>\n",
       "      <td>391</td>\n",
       "    </tr>\n",
       "    <tr>\n",
       "      <th>Пушкин</th>\n",
       "      <td>103231.066576</td>\n",
       "      <td>336</td>\n",
       "    </tr>\n",
       "    <tr>\n",
       "      <th>Колпино</th>\n",
       "      <td>75202.499249</td>\n",
       "      <td>321</td>\n",
       "    </tr>\n",
       "    <tr>\n",
       "      <th>посёлок Парголово</th>\n",
       "      <td>90756.003417</td>\n",
       "      <td>288</td>\n",
       "    </tr>\n",
       "    <tr>\n",
       "      <th>Петергоф</th>\n",
       "      <td>83754.204102</td>\n",
       "      <td>190</td>\n",
       "    </tr>\n",
       "    <tr>\n",
       "      <th>Сестрорецк</th>\n",
       "      <td>101463.169183</td>\n",
       "      <td>166</td>\n",
       "    </tr>\n",
       "    <tr>\n",
       "      <th>Красное Село</th>\n",
       "      <td>72252.862009</td>\n",
       "      <td>162</td>\n",
       "    </tr>\n",
       "    <tr>\n",
       "      <th>Ломоносов</th>\n",
       "      <td>72941.618585</td>\n",
       "      <td>123</td>\n",
       "    </tr>\n",
       "    <tr>\n",
       "      <th>Кронштадт</th>\n",
       "      <td>80078.534706</td>\n",
       "      <td>88</td>\n",
       "    </tr>\n",
       "  </tbody>\n",
       "</table>\n",
       "</div>"
      ],
      "text/plain": [
       "                            mean  count\n",
       "locality_name                          \n",
       "Санкт-Петербург    113783.262293  14028\n",
       "посёлок Шушары      78371.984664    391\n",
       "Пушкин             103231.066576    336\n",
       "Колпино             75202.499249    321\n",
       "посёлок Парголово   90756.003417    288\n",
       "Петергоф            83754.204102    190\n",
       "Сестрорецк         101463.169183    166\n",
       "Красное Село        72252.862009    162\n",
       "Ломоносов           72941.618585    123\n",
       "Кронштадт           80078.534706     88"
      ]
     },
     "execution_count": 40,
     "metadata": {},
     "output_type": "execute_result"
    }
   ],
   "source": [
    "pivot_table_locality_name = df.pivot_table(index = 'locality_name', values = 'price_kv', aggfunc = ['mean', 'count'])\n",
    "pivot_table_locality_name.columns = ['mean', 'count']\n",
    "pivot_table_locality_name.sort_values('count', ascending = False).head(10)"
   ]
  },
  {
   "cell_type": "markdown",
   "metadata": {},
   "source": [
    "#### Населенный пункт с самой высокой стоимостью жилья"
   ]
  },
  {
   "cell_type": "code",
   "execution_count": 41,
   "metadata": {},
   "outputs": [
    {
     "data": {
      "text/html": [
       "<div>\n",
       "<style scoped>\n",
       "    .dataframe tbody tr th:only-of-type {\n",
       "        vertical-align: middle;\n",
       "    }\n",
       "\n",
       "    .dataframe tbody tr th {\n",
       "        vertical-align: top;\n",
       "    }\n",
       "\n",
       "    .dataframe thead th {\n",
       "        text-align: right;\n",
       "    }\n",
       "</style>\n",
       "<table border=\"1\" class=\"dataframe\">\n",
       "  <thead>\n",
       "    <tr style=\"text-align: right;\">\n",
       "      <th></th>\n",
       "      <th>mean</th>\n",
       "      <th>count</th>\n",
       "    </tr>\n",
       "    <tr>\n",
       "      <th>locality_name</th>\n",
       "      <th></th>\n",
       "      <th></th>\n",
       "    </tr>\n",
       "  </thead>\n",
       "  <tbody>\n",
       "    <tr>\n",
       "      <th>посёлок Репино</th>\n",
       "      <td>127678.571429</td>\n",
       "      <td>2</td>\n",
       "    </tr>\n",
       "  </tbody>\n",
       "</table>\n",
       "</div>"
      ],
      "text/plain": [
       "                         mean  count\n",
       "locality_name                       \n",
       "посёлок Репино  127678.571429      2"
      ]
     },
     "execution_count": 41,
     "metadata": {},
     "output_type": "execute_result"
    }
   ],
   "source": [
    "pivot_table_locality_name[pivot_table_locality_name['mean'] == pivot_table_locality_name['mean'].max()]"
   ]
  },
  {
   "cell_type": "markdown",
   "metadata": {},
   "source": [
    "#### Населенный пункт с самой низкой стоимостью жилья"
   ]
  },
  {
   "cell_type": "code",
   "execution_count": 42,
   "metadata": {},
   "outputs": [
    {
     "data": {
      "text/html": [
       "<div>\n",
       "<style scoped>\n",
       "    .dataframe tbody tr th:only-of-type {\n",
       "        vertical-align: middle;\n",
       "    }\n",
       "\n",
       "    .dataframe tbody tr th {\n",
       "        vertical-align: top;\n",
       "    }\n",
       "\n",
       "    .dataframe thead th {\n",
       "        text-align: right;\n",
       "    }\n",
       "</style>\n",
       "<table border=\"1\" class=\"dataframe\">\n",
       "  <thead>\n",
       "    <tr style=\"text-align: right;\">\n",
       "      <th></th>\n",
       "      <th>mean</th>\n",
       "      <th>count</th>\n",
       "    </tr>\n",
       "    <tr>\n",
       "      <th>locality_name</th>\n",
       "      <th></th>\n",
       "      <th></th>\n",
       "    </tr>\n",
       "  </thead>\n",
       "  <tbody>\n",
       "    <tr>\n",
       "      <th>поселок Лисий Нос</th>\n",
       "      <td>58750.0</td>\n",
       "      <td>1</td>\n",
       "    </tr>\n",
       "  </tbody>\n",
       "</table>\n",
       "</div>"
      ],
      "text/plain": [
       "                      mean  count\n",
       "locality_name                    \n",
       "поселок Лисий Нос  58750.0      1"
      ]
     },
     "execution_count": 42,
     "metadata": {},
     "output_type": "execute_result"
    }
   ],
   "source": [
    "pivot_table_locality_name[pivot_table_locality_name['mean'] == pivot_table_locality_name['mean'].min()]"
   ]
  },
  {
   "cell_type": "markdown",
   "metadata": {},
   "source": [
    "### Изучим предложения квартир"
   ]
  },
  {
   "cell_type": "markdown",
   "metadata": {},
   "source": [
    "Добавим столбец с расстояние до центра города в км и приведем к типу int"
   ]
  },
  {
   "cell_type": "code",
   "execution_count": 43,
   "metadata": {},
   "outputs": [
    {
     "data": {
      "image/png": "[encoded data removed]",
      "text/plain": [
       "<Figure size 1008x648 with 1 Axes>"
      ]
     },
     "metadata": {
      "needs_background": "light"
     },
     "output_type": "display_data"
    }
   ],
   "source": [
    "df['cityCenters_nearest_km'] = (df['cityCenters_nearest'] / 1000).astype('int')\n",
    "price_kv_km = df.query('locality_name==\"Санкт-Петербург\"').pivot_table(index = 'cityCenters_nearest_km', values = 'price_kv',aggfunc = 'mean').plot(grid = True, figsize = (14,9));\n",
    "plt.title('Cредняя цена за км',fontsize='xx-large');"
   ]
  },
  {
   "cell_type": "markdown",
   "metadata": {},
   "source": [
    "#### Выделим квартиры в центре, беря за радиус 9 км"
   ]
  },
  {
   "cell_type": "markdown",
   "metadata": {},
   "source": [
    "Около 3 км наблюдается падение цен, а дальше идет снова рост, но это как-то странно, ведь радиус получается очень маленьким. Тогда скорее всего центральная зона может быть равна 9 км."
   ]
  },
  {
   "cell_type": "code",
   "execution_count": 44,
   "metadata": {},
   "outputs": [
    {
     "data": {
      "text/html": [
       "<div>\n",
       "<style scoped>\n",
       "    .dataframe tbody tr th:only-of-type {\n",
       "        vertical-align: middle;\n",
       "    }\n",
       "\n",
       "    .dataframe tbody tr th {\n",
       "        vertical-align: top;\n",
       "    }\n",
       "\n",
       "    .dataframe thead th {\n",
       "        text-align: right;\n",
       "    }\n",
       "</style>\n",
       "<table border=\"1\" class=\"dataframe\">\n",
       "  <thead>\n",
       "    <tr style=\"text-align: right;\">\n",
       "      <th></th>\n",
       "      <th>total_images</th>\n",
       "      <th>last_price</th>\n",
       "      <th>total_area</th>\n",
       "      <th>first_day_exposition</th>\n",
       "      <th>rooms</th>\n",
       "      <th>ceiling_height</th>\n",
       "      <th>floors_total</th>\n",
       "      <th>living_area</th>\n",
       "      <th>floor</th>\n",
       "      <th>is_apartment</th>\n",
       "      <th>...</th>\n",
       "      <th>days_exposition</th>\n",
       "      <th>price_kv</th>\n",
       "      <th>day_of_week</th>\n",
       "      <th>day_of_week_name</th>\n",
       "      <th>month</th>\n",
       "      <th>year</th>\n",
       "      <th>floor_type</th>\n",
       "      <th>living_to_total</th>\n",
       "      <th>kitchen_to_total</th>\n",
       "      <th>cityCenters_nearest_km</th>\n",
       "    </tr>\n",
       "  </thead>\n",
       "  <tbody>\n",
       "    <tr>\n",
       "      <th>4</th>\n",
       "      <td>2</td>\n",
       "      <td>10000000</td>\n",
       "      <td>100.0</td>\n",
       "      <td>2018-06-19</td>\n",
       "      <td>2</td>\n",
       "      <td>3.03</td>\n",
       "      <td>14.0</td>\n",
       "      <td>32.0</td>\n",
       "      <td>13</td>\n",
       "      <td>False</td>\n",
       "      <td>...</td>\n",
       "      <td>121</td>\n",
       "      <td>100000.000000</td>\n",
       "      <td>19</td>\n",
       "      <td>Tuesday</td>\n",
       "      <td>6</td>\n",
       "      <td>2018</td>\n",
       "      <td>Другой</td>\n",
       "      <td>0.320000</td>\n",
       "      <td>0.410000</td>\n",
       "      <td>8</td>\n",
       "    </tr>\n",
       "    <tr>\n",
       "      <th>21</th>\n",
       "      <td>13</td>\n",
       "      <td>3200000</td>\n",
       "      <td>31.6</td>\n",
       "      <td>2018-03-14</td>\n",
       "      <td>1</td>\n",
       "      <td>2.65</td>\n",
       "      <td>5.0</td>\n",
       "      <td>16.9</td>\n",
       "      <td>2</td>\n",
       "      <td>False</td>\n",
       "      <td>...</td>\n",
       "      <td>310</td>\n",
       "      <td>101265.822785</td>\n",
       "      <td>14</td>\n",
       "      <td>Wednesday</td>\n",
       "      <td>3</td>\n",
       "      <td>2018</td>\n",
       "      <td>Другой</td>\n",
       "      <td>0.534810</td>\n",
       "      <td>0.180380</td>\n",
       "      <td>9</td>\n",
       "    </tr>\n",
       "    <tr>\n",
       "      <th>24</th>\n",
       "      <td>8</td>\n",
       "      <td>6500000</td>\n",
       "      <td>97.2</td>\n",
       "      <td>2015-10-31</td>\n",
       "      <td>2</td>\n",
       "      <td>2.65</td>\n",
       "      <td>3.0</td>\n",
       "      <td>46.5</td>\n",
       "      <td>1</td>\n",
       "      <td>False</td>\n",
       "      <td>...</td>\n",
       "      <td>265</td>\n",
       "      <td>66872.427984</td>\n",
       "      <td>31</td>\n",
       "      <td>Saturday</td>\n",
       "      <td>10</td>\n",
       "      <td>2015</td>\n",
       "      <td>Первый</td>\n",
       "      <td>0.478395</td>\n",
       "      <td>0.201646</td>\n",
       "      <td>2</td>\n",
       "    </tr>\n",
       "    <tr>\n",
       "      <th>35</th>\n",
       "      <td>6</td>\n",
       "      <td>15500000</td>\n",
       "      <td>149.0</td>\n",
       "      <td>2017-06-26</td>\n",
       "      <td>5</td>\n",
       "      <td>2.65</td>\n",
       "      <td>5.0</td>\n",
       "      <td>104.0</td>\n",
       "      <td>4</td>\n",
       "      <td>False</td>\n",
       "      <td>...</td>\n",
       "      <td>644</td>\n",
       "      <td>104026.845638</td>\n",
       "      <td>26</td>\n",
       "      <td>Monday</td>\n",
       "      <td>6</td>\n",
       "      <td>2017</td>\n",
       "      <td>Другой</td>\n",
       "      <td>0.697987</td>\n",
       "      <td>0.114094</td>\n",
       "      <td>3</td>\n",
       "    </tr>\n",
       "    <tr>\n",
       "      <th>51</th>\n",
       "      <td>7</td>\n",
       "      <td>45000000</td>\n",
       "      <td>161.0</td>\n",
       "      <td>2017-10-17</td>\n",
       "      <td>3</td>\n",
       "      <td>3.20</td>\n",
       "      <td>8.0</td>\n",
       "      <td>38.0</td>\n",
       "      <td>4</td>\n",
       "      <td>False</td>\n",
       "      <td>...</td>\n",
       "      <td>541</td>\n",
       "      <td>279503.105590</td>\n",
       "      <td>17</td>\n",
       "      <td>Tuesday</td>\n",
       "      <td>10</td>\n",
       "      <td>2017</td>\n",
       "      <td>Другой</td>\n",
       "      <td>0.236025</td>\n",
       "      <td>0.310559</td>\n",
       "      <td>6</td>\n",
       "    </tr>\n",
       "    <tr>\n",
       "      <th>52</th>\n",
       "      <td>20</td>\n",
       "      <td>11795000</td>\n",
       "      <td>136.0</td>\n",
       "      <td>2017-09-22</td>\n",
       "      <td>6</td>\n",
       "      <td>3.00</td>\n",
       "      <td>2.0</td>\n",
       "      <td>94.0</td>\n",
       "      <td>2</td>\n",
       "      <td>False</td>\n",
       "      <td>...</td>\n",
       "      <td>0</td>\n",
       "      <td>86727.941176</td>\n",
       "      <td>22</td>\n",
       "      <td>Friday</td>\n",
       "      <td>9</td>\n",
       "      <td>2017</td>\n",
       "      <td>Последний</td>\n",
       "      <td>0.691176</td>\n",
       "      <td>0.080882</td>\n",
       "      <td>6</td>\n",
       "    </tr>\n",
       "    <tr>\n",
       "      <th>56</th>\n",
       "      <td>14</td>\n",
       "      <td>4350000</td>\n",
       "      <td>41.0</td>\n",
       "      <td>2016-03-28</td>\n",
       "      <td>1</td>\n",
       "      <td>2.80</td>\n",
       "      <td>7.0</td>\n",
       "      <td>18.1</td>\n",
       "      <td>4</td>\n",
       "      <td>False</td>\n",
       "      <td>...</td>\n",
       "      <td>152</td>\n",
       "      <td>106097.560976</td>\n",
       "      <td>28</td>\n",
       "      <td>Monday</td>\n",
       "      <td>3</td>\n",
       "      <td>2016</td>\n",
       "      <td>Другой</td>\n",
       "      <td>0.441463</td>\n",
       "      <td>0.270732</td>\n",
       "      <td>9</td>\n",
       "    </tr>\n",
       "    <tr>\n",
       "      <th>61</th>\n",
       "      <td>18</td>\n",
       "      <td>7990000</td>\n",
       "      <td>74.0</td>\n",
       "      <td>2017-08-24</td>\n",
       "      <td>2</td>\n",
       "      <td>2.65</td>\n",
       "      <td>4.0</td>\n",
       "      <td>43.0</td>\n",
       "      <td>4</td>\n",
       "      <td>False</td>\n",
       "      <td>...</td>\n",
       "      <td>609</td>\n",
       "      <td>107972.972973</td>\n",
       "      <td>24</td>\n",
       "      <td>Thursday</td>\n",
       "      <td>8</td>\n",
       "      <td>2017</td>\n",
       "      <td>Последний</td>\n",
       "      <td>0.581081</td>\n",
       "      <td>0.270270</td>\n",
       "      <td>4</td>\n",
       "    </tr>\n",
       "    <tr>\n",
       "      <th>63</th>\n",
       "      <td>2</td>\n",
       "      <td>20000000</td>\n",
       "      <td>118.0</td>\n",
       "      <td>2018-09-11</td>\n",
       "      <td>3</td>\n",
       "      <td>3.00</td>\n",
       "      <td>9.0</td>\n",
       "      <td>68.0</td>\n",
       "      <td>7</td>\n",
       "      <td>False</td>\n",
       "      <td>...</td>\n",
       "      <td>37</td>\n",
       "      <td>169491.525424</td>\n",
       "      <td>11</td>\n",
       "      <td>Tuesday</td>\n",
       "      <td>9</td>\n",
       "      <td>2018</td>\n",
       "      <td>Другой</td>\n",
       "      <td>0.576271</td>\n",
       "      <td>0.135593</td>\n",
       "      <td>4</td>\n",
       "    </tr>\n",
       "    <tr>\n",
       "      <th>70</th>\n",
       "      <td>9</td>\n",
       "      <td>3400000</td>\n",
       "      <td>30.0</td>\n",
       "      <td>2018-09-05</td>\n",
       "      <td>1</td>\n",
       "      <td>2.65</td>\n",
       "      <td>5.0</td>\n",
       "      <td>16.0</td>\n",
       "      <td>1</td>\n",
       "      <td>False</td>\n",
       "      <td>...</td>\n",
       "      <td>14</td>\n",
       "      <td>113333.333333</td>\n",
       "      <td>5</td>\n",
       "      <td>Wednesday</td>\n",
       "      <td>9</td>\n",
       "      <td>2018</td>\n",
       "      <td>Первый</td>\n",
       "      <td>0.533333</td>\n",
       "      <td>0.233333</td>\n",
       "      <td>8</td>\n",
       "    </tr>\n",
       "  </tbody>\n",
       "</table>\n",
       "<p>10 rows × 31 columns</p>\n",
       "</div>"
      ],
      "text/plain": [
       "    total_images  last_price  total_area first_day_exposition  rooms  \\\n",
       "4              2    10000000       100.0           2018-06-19      2   \n",
       "21            13     3200000        31.6           2018-03-14      1   \n",
       "24             8     6500000        97.2           2015-10-31      2   \n",
       "35             6    15500000       149.0           2017-06-26      5   \n",
       "51             7    45000000       161.0           2017-10-17      3   \n",
       "52            20    11795000       136.0           2017-09-22      6   \n",
       "56            14     4350000        41.0           2016-03-28      1   \n",
       "61            18     7990000        74.0           2017-08-24      2   \n",
       "63             2    20000000       118.0           2018-09-11      3   \n",
       "70             9     3400000        30.0           2018-09-05      1   \n",
       "\n",
       "    ceiling_height  floors_total  living_area  floor  is_apartment  ...  \\\n",
       "4             3.03          14.0         32.0     13         False  ...   \n",
       "21            2.65           5.0         16.9      2         False  ...   \n",
       "24            2.65           3.0         46.5      1         False  ...   \n",
       "35            2.65           5.0        104.0      4         False  ...   \n",
       "51            3.20           8.0         38.0      4         False  ...   \n",
       "52            3.00           2.0         94.0      2         False  ...   \n",
       "56            2.80           7.0         18.1      4         False  ...   \n",
       "61            2.65           4.0         43.0      4         False  ...   \n",
       "63            3.00           9.0         68.0      7         False  ...   \n",
       "70            2.65           5.0         16.0      1         False  ...   \n",
       "\n",
       "    days_exposition       price_kv  day_of_week  day_of_week_name month  year  \\\n",
       "4               121  100000.000000           19           Tuesday     6  2018   \n",
       "21              310  101265.822785           14         Wednesday     3  2018   \n",
       "24              265   66872.427984           31          Saturday    10  2015   \n",
       "35              644  104026.845638           26            Monday     6  2017   \n",
       "51              541  279503.105590           17           Tuesday    10  2017   \n",
       "52                0   86727.941176           22            Friday     9  2017   \n",
       "56              152  106097.560976           28            Monday     3  2016   \n",
       "61              609  107972.972973           24          Thursday     8  2017   \n",
       "63               37  169491.525424           11           Tuesday     9  2018   \n",
       "70               14  113333.333333            5         Wednesday     9  2018   \n",
       "\n",
       "    floor_type  living_to_total  kitchen_to_total  cityCenters_nearest_km  \n",
       "4       Другой         0.320000          0.410000                       8  \n",
       "21      Другой         0.534810          0.180380                       9  \n",
       "24      Первый         0.478395          0.201646                       2  \n",
       "35      Другой         0.697987          0.114094                       3  \n",
       "51      Другой         0.236025          0.310559                       6  \n",
       "52   Последний         0.691176          0.080882                       6  \n",
       "56      Другой         0.441463          0.270732                       9  \n",
       "61   Последний         0.581081          0.270270                       4  \n",
       "63      Другой         0.576271          0.135593                       4  \n",
       "70      Первый         0.533333          0.233333                       8  \n",
       "\n",
       "[10 rows x 31 columns]"
      ]
     },
     "execution_count": 44,
     "metadata": {},
     "output_type": "execute_result"
    }
   ],
   "source": [
    "center_spb = df.query('cityCenters_nearest_km <= 9 and locality_name == \"Санкт-Петербург\"')\n",
    "center_spb.head(10)"
   ]
  },
  {
   "cell_type": "markdown",
   "metadata": {},
   "source": [
    "#### Зависимость стоимости квартиры от числа комнат"
   ]
  },
  {
   "cell_type": "code",
   "execution_count": 45,
   "metadata": {},
   "outputs": [
    {
     "data": {
      "text/html": [
       "<div>\n",
       "<style scoped>\n",
       "    .dataframe tbody tr th:only-of-type {\n",
       "        vertical-align: middle;\n",
       "    }\n",
       "\n",
       "    .dataframe tbody tr th {\n",
       "        vertical-align: top;\n",
       "    }\n",
       "\n",
       "    .dataframe thead th {\n",
       "        text-align: right;\n",
       "    }\n",
       "</style>\n",
       "<table border=\"1\" class=\"dataframe\">\n",
       "  <thead>\n",
       "    <tr style=\"text-align: right;\">\n",
       "      <th></th>\n",
       "      <th>mean</th>\n",
       "      <th>count</th>\n",
       "      <th>median</th>\n",
       "    </tr>\n",
       "    <tr>\n",
       "      <th>rooms</th>\n",
       "      <th></th>\n",
       "      <th></th>\n",
       "      <th></th>\n",
       "    </tr>\n",
       "  </thead>\n",
       "  <tbody>\n",
       "    <tr>\n",
       "      <th>1</th>\n",
       "      <td>135187.501103</td>\n",
       "      <td>832</td>\n",
       "      <td>128248.085627</td>\n",
       "    </tr>\n",
       "    <tr>\n",
       "      <th>2</th>\n",
       "      <td>131076.766903</td>\n",
       "      <td>1431</td>\n",
       "      <td>117977.528090</td>\n",
       "    </tr>\n",
       "    <tr>\n",
       "      <th>3</th>\n",
       "      <td>135370.528953</td>\n",
       "      <td>1373</td>\n",
       "      <td>112857.142857</td>\n",
       "    </tr>\n",
       "    <tr>\n",
       "      <th>4</th>\n",
       "      <td>137704.668306</td>\n",
       "      <td>520</td>\n",
       "      <td>108433.734940</td>\n",
       "    </tr>\n",
       "    <tr>\n",
       "      <th>6</th>\n",
       "      <td>152549.049651</td>\n",
       "      <td>79</td>\n",
       "      <td>102631.578947</td>\n",
       "    </tr>\n",
       "    <tr>\n",
       "      <th>5</th>\n",
       "      <td>142041.259007</td>\n",
       "      <td>199</td>\n",
       "      <td>102189.781022</td>\n",
       "    </tr>\n",
       "  </tbody>\n",
       "</table>\n",
       "</div>"
      ],
      "text/plain": [
       "                mean  count         median\n",
       "rooms                                     \n",
       "1      135187.501103    832  128248.085627\n",
       "2      131076.766903   1431  117977.528090\n",
       "3      135370.528953   1373  112857.142857\n",
       "4      137704.668306    520  108433.734940\n",
       "6      152549.049651     79  102631.578947\n",
       "5      142041.259007    199  102189.781022"
      ]
     },
     "execution_count": 45,
     "metadata": {},
     "output_type": "execute_result"
    }
   ],
   "source": [
    "center_spb_rooms = center_spb.pivot_table(index = 'rooms', values = 'price_kv', aggfunc = ['mean', 'count', 'median'])\n",
    "center_spb_rooms.columns = ['mean', 'count', 'median']\n",
    "center_spb_rooms.query('count > 50').sort_values('median', ascending = False)"
   ]
  },
  {
   "cell_type": "markdown",
   "metadata": {},
   "source": [
    "Построим график зависимости "
   ]
  },
  {
   "cell_type": "code",
   "execution_count": 46,
   "metadata": {},
   "outputs": [
    {
     "data": {
      "image/png": "[encoded data removed]",
      "text/plain": [
       "<Figure size 432x288 with 1 Axes>"
      ]
     },
     "metadata": {
      "needs_background": "light"
     },
     "output_type": "display_data"
    }
   ],
   "source": [
    "center_spb_rooms.query('count > 50').plot(y = 'median')\n",
    "center_spb['rooms'].corr(center_spb['price_kv']);\n",
    "plt.title('Зависимость цены от числа комнат',fontsize='xx-large');"
   ]
  },
  {
   "cell_type": "markdown",
   "metadata": {},
   "source": [
    "#### Зависимость цены от этажа"
   ]
  },
  {
   "cell_type": "code",
   "execution_count": 47,
   "metadata": {},
   "outputs": [
    {
     "data": {
      "text/html": [
       "<div>\n",
       "<style scoped>\n",
       "    .dataframe tbody tr th:only-of-type {\n",
       "        vertical-align: middle;\n",
       "    }\n",
       "\n",
       "    .dataframe tbody tr th {\n",
       "        vertical-align: top;\n",
       "    }\n",
       "\n",
       "    .dataframe thead th {\n",
       "        text-align: right;\n",
       "    }\n",
       "</style>\n",
       "<table border=\"1\" class=\"dataframe\">\n",
       "  <thead>\n",
       "    <tr style=\"text-align: right;\">\n",
       "      <th></th>\n",
       "      <th>mean</th>\n",
       "      <th>count</th>\n",
       "      <th>median</th>\n",
       "    </tr>\n",
       "    <tr>\n",
       "      <th>floor_type</th>\n",
       "      <th></th>\n",
       "      <th></th>\n",
       "      <th></th>\n",
       "    </tr>\n",
       "  </thead>\n",
       "  <tbody>\n",
       "    <tr>\n",
       "      <th>Другой</th>\n",
       "      <td>137811.613961</td>\n",
       "      <td>3269</td>\n",
       "      <td>121084.203510</td>\n",
       "    </tr>\n",
       "    <tr>\n",
       "      <th>Первый</th>\n",
       "      <td>116832.800089</td>\n",
       "      <td>469</td>\n",
       "      <td>103225.806452</td>\n",
       "    </tr>\n",
       "    <tr>\n",
       "      <th>Последний</th>\n",
       "      <td>133287.878102</td>\n",
       "      <td>767</td>\n",
       "      <td>111904.761905</td>\n",
       "    </tr>\n",
       "  </tbody>\n",
       "</table>\n",
       "</div>"
      ],
      "text/plain": [
       "                     mean  count         median\n",
       "floor_type                                     \n",
       "Другой      137811.613961   3269  121084.203510\n",
       "Первый      116832.800089    469  103225.806452\n",
       "Последний   133287.878102    767  111904.761905"
      ]
     },
     "execution_count": 47,
     "metadata": {},
     "output_type": "execute_result"
    }
   ],
   "source": [
    "center_spb_floor = center_spb.pivot_table(index = 'floor_type', values = 'price_kv', aggfunc = ['mean', 'count', 'median'])\n",
    "center_spb_floor.columns = ['mean', 'count', 'median']\n",
    "center_spb_floor"
   ]
  },
  {
   "cell_type": "markdown",
   "metadata": {},
   "source": [
    "Построим график"
   ]
  },
  {
   "cell_type": "code",
   "execution_count": 48,
   "metadata": {},
   "outputs": [
    {
     "data": {
      "image/png": "[encoded data removed]",
      "text/plain": [
       "<Figure size 432x288 with 1 Axes>"
      ]
     },
     "metadata": {
      "needs_background": "light"
     },
     "output_type": "display_data"
    }
   ],
   "source": [
    "center_spb_floor.plot(y = 'median')\n",
    "center_spb['floor'].corr(center_spb['price_kv']);\n",
    "plt.title('Зависимость цены от этажа',fontsize='xx-large');"
   ]
  },
  {
   "cell_type": "markdown",
   "metadata": {},
   "source": [
    "#### Зависимость от удаленности от центра"
   ]
  },
  {
   "cell_type": "code",
   "execution_count": 49,
   "metadata": {},
   "outputs": [
    {
     "data": {
      "text/html": [
       "<div>\n",
       "<style scoped>\n",
       "    .dataframe tbody tr th:only-of-type {\n",
       "        vertical-align: middle;\n",
       "    }\n",
       "\n",
       "    .dataframe tbody tr th {\n",
       "        vertical-align: top;\n",
       "    }\n",
       "\n",
       "    .dataframe thead th {\n",
       "        text-align: right;\n",
       "    }\n",
       "</style>\n",
       "<table border=\"1\" class=\"dataframe\">\n",
       "  <thead>\n",
       "    <tr style=\"text-align: right;\">\n",
       "      <th></th>\n",
       "      <th>mean</th>\n",
       "      <th>count</th>\n",
       "      <th>median</th>\n",
       "    </tr>\n",
       "    <tr>\n",
       "      <th>cityCenters_nearest</th>\n",
       "      <th></th>\n",
       "      <th></th>\n",
       "      <th></th>\n",
       "    </tr>\n",
       "  </thead>\n",
       "  <tbody>\n",
       "    <tr>\n",
       "      <th>181.0</th>\n",
       "      <td>195591.194969</td>\n",
       "      <td>1</td>\n",
       "      <td>195591.194969</td>\n",
       "    </tr>\n",
       "    <tr>\n",
       "      <th>208.0</th>\n",
       "      <td>172619.047619</td>\n",
       "      <td>1</td>\n",
       "      <td>172619.047619</td>\n",
       "    </tr>\n",
       "    <tr>\n",
       "      <th>215.0</th>\n",
       "      <td>109900.000000</td>\n",
       "      <td>1</td>\n",
       "      <td>109900.000000</td>\n",
       "    </tr>\n",
       "    <tr>\n",
       "      <th>287.0</th>\n",
       "      <td>88796.296296</td>\n",
       "      <td>1</td>\n",
       "      <td>88796.296296</td>\n",
       "    </tr>\n",
       "    <tr>\n",
       "      <th>291.0</th>\n",
       "      <td>101321.585903</td>\n",
       "      <td>1</td>\n",
       "      <td>101321.585903</td>\n",
       "    </tr>\n",
       "    <tr>\n",
       "      <th>318.0</th>\n",
       "      <td>417606.712763</td>\n",
       "      <td>7</td>\n",
       "      <td>440000.000000</td>\n",
       "    </tr>\n",
       "    <tr>\n",
       "      <th>329.0</th>\n",
       "      <td>100000.000000</td>\n",
       "      <td>1</td>\n",
       "      <td>100000.000000</td>\n",
       "    </tr>\n",
       "    <tr>\n",
       "      <th>376.0</th>\n",
       "      <td>137755.102041</td>\n",
       "      <td>1</td>\n",
       "      <td>137755.102041</td>\n",
       "    </tr>\n",
       "    <tr>\n",
       "      <th>387.0</th>\n",
       "      <td>139318.885449</td>\n",
       "      <td>1</td>\n",
       "      <td>139318.885449</td>\n",
       "    </tr>\n",
       "    <tr>\n",
       "      <th>392.0</th>\n",
       "      <td>200348.432056</td>\n",
       "      <td>1</td>\n",
       "      <td>200348.432056</td>\n",
       "    </tr>\n",
       "  </tbody>\n",
       "</table>\n",
       "</div>"
      ],
      "text/plain": [
       "                              mean  count         median\n",
       "cityCenters_nearest                                     \n",
       "181.0                195591.194969      1  195591.194969\n",
       "208.0                172619.047619      1  172619.047619\n",
       "215.0                109900.000000      1  109900.000000\n",
       "287.0                 88796.296296      1   88796.296296\n",
       "291.0                101321.585903      1  101321.585903\n",
       "318.0                417606.712763      7  440000.000000\n",
       "329.0                100000.000000      1  100000.000000\n",
       "376.0                137755.102041      1  137755.102041\n",
       "387.0                139318.885449      1  139318.885449\n",
       "392.0                200348.432056      1  200348.432056"
      ]
     },
     "execution_count": 49,
     "metadata": {},
     "output_type": "execute_result"
    }
   ],
   "source": [
    "center_spb_center = center_spb.pivot_table(index = 'cityCenters_nearest', values = 'price_kv', aggfunc = ['mean', 'count', 'median'])\n",
    "center_spb_center.columns = ['mean', 'count', 'median']\n",
    "center_spb_center.head(10)"
   ]
  },
  {
   "cell_type": "markdown",
   "metadata": {},
   "source": [
    "Построим график"
   ]
  },
  {
   "cell_type": "code",
   "execution_count": 50,
   "metadata": {},
   "outputs": [
    {
     "data": {
      "image/png": "[encoded data removed]",
      "text/plain": [
       "<Figure size 432x288 with 1 Axes>"
      ]
     },
     "metadata": {
      "needs_background": "light"
     },
     "output_type": "display_data"
    }
   ],
   "source": [
    "center_spb.plot(kind = 'scatter', y = 'price_kv', x = 'cityCenters_nearest', alpha = 0.3);\n",
    "plt.title('Зависимость цены от удаленности от центра',fontsize='xx-large');"
   ]
  },
  {
   "cell_type": "markdown",
   "metadata": {},
   "source": [
    "#### Зависимость от даты размещения объявления"
   ]
  },
  {
   "cell_type": "code",
   "execution_count": 51,
   "metadata": {},
   "outputs": [
    {
     "data": {
      "text/html": [
       "<div>\n",
       "<style scoped>\n",
       "    .dataframe tbody tr th:only-of-type {\n",
       "        vertical-align: middle;\n",
       "    }\n",
       "\n",
       "    .dataframe tbody tr th {\n",
       "        vertical-align: top;\n",
       "    }\n",
       "\n",
       "    .dataframe thead th {\n",
       "        text-align: right;\n",
       "    }\n",
       "</style>\n",
       "<table border=\"1\" class=\"dataframe\">\n",
       "  <thead>\n",
       "    <tr style=\"text-align: right;\">\n",
       "      <th></th>\n",
       "      <th>mean</th>\n",
       "      <th>count</th>\n",
       "      <th>median</th>\n",
       "    </tr>\n",
       "    <tr>\n",
       "      <th>day_of_week_name</th>\n",
       "      <th></th>\n",
       "      <th></th>\n",
       "      <th></th>\n",
       "    </tr>\n",
       "  </thead>\n",
       "  <tbody>\n",
       "    <tr>\n",
       "      <th>Sunday</th>\n",
       "      <td>135795.270353</td>\n",
       "      <td>274</td>\n",
       "      <td>120802.844957</td>\n",
       "    </tr>\n",
       "    <tr>\n",
       "      <th>Saturday</th>\n",
       "      <td>136995.238340</td>\n",
       "      <td>328</td>\n",
       "      <td>119974.747475</td>\n",
       "    </tr>\n",
       "    <tr>\n",
       "      <th>Monday</th>\n",
       "      <td>136357.539394</td>\n",
       "      <td>721</td>\n",
       "      <td>118990.384615</td>\n",
       "    </tr>\n",
       "    <tr>\n",
       "      <th>Friday</th>\n",
       "      <td>132550.457462</td>\n",
       "      <td>741</td>\n",
       "      <td>116279.069767</td>\n",
       "    </tr>\n",
       "    <tr>\n",
       "      <th>Wednesday</th>\n",
       "      <td>133388.318543</td>\n",
       "      <td>745</td>\n",
       "      <td>116279.069767</td>\n",
       "    </tr>\n",
       "    <tr>\n",
       "      <th>Thursday</th>\n",
       "      <td>136005.762564</td>\n",
       "      <td>910</td>\n",
       "      <td>116226.543375</td>\n",
       "    </tr>\n",
       "    <tr>\n",
       "      <th>Tuesday</th>\n",
       "      <td>134499.991605</td>\n",
       "      <td>786</td>\n",
       "      <td>116055.321981</td>\n",
       "    </tr>\n",
       "  </tbody>\n",
       "</table>\n",
       "</div>"
      ],
      "text/plain": [
       "                           mean  count         median\n",
       "day_of_week_name                                     \n",
       "Sunday            135795.270353    274  120802.844957\n",
       "Saturday          136995.238340    328  119974.747475\n",
       "Monday            136357.539394    721  118990.384615\n",
       "Friday            132550.457462    741  116279.069767\n",
       "Wednesday         133388.318543    745  116279.069767\n",
       "Thursday          136005.762564    910  116226.543375\n",
       "Tuesday           134499.991605    786  116055.321981"
      ]
     },
     "execution_count": 51,
     "metadata": {},
     "output_type": "execute_result"
    }
   ],
   "source": [
    "center_spb_weekday_exposition = center_spb.pivot_table(index = 'day_of_week_name', values = 'price_kv', aggfunc = ['mean', 'count', 'median'])\n",
    "center_spb_weekday_exposition.columns = ['mean', 'count', 'median']\n",
    "center_spb_weekday_exposition.sort_values('median', ascending = False)"
   ]
  },
  {
   "cell_type": "markdown",
   "metadata": {},
   "source": [
    "Построим график"
   ]
  },
  {
   "cell_type": "code",
   "execution_count": 52,
   "metadata": {},
   "outputs": [
    {
     "data": {
      "image/png": "[encoded data removed]",
      "text/plain": [
       "<Figure size 432x288 with 1 Axes>"
      ]
     },
     "metadata": {
      "needs_background": "light"
     },
     "output_type": "display_data"
    }
   ],
   "source": [
    "center_spb_weekday_exposition.plot(y = 'median');\n",
    "plt.title('Зависимость цены от даты размещения',fontsize='xx-large');"
   ]
  },
  {
   "cell_type": "markdown",
   "metadata": {},
   "source": [
    "# Промежуточный вывод"
   ]
  },
  {
   "cell_type": "markdown",
   "metadata": {},
   "source": [
    "1. 14 является слишком маленьким значением для квартиры, возможно продавцы ошиблись. 900, напротив, слишком большое. Гистограмма напоминает Пуассоновское распределение. Мы видим что основное количество объявлений находится в районе 50 кв. метров. \n",
    "2. основная масса цен находится в районе 4 миллионов рублей\n",
    "3. в основном пользуются спросом 1-2-3 комнатные квартиры\n",
    "4. Основная высота потолков около 2.6 метров, но есть и большие значения, которые мы будем учитывать\n",
    "\n",
    "Время продажи:\n",
    "42 дня является наиболее популярным количестсвом дней для продажи, достаточно быстрая продажа для недвижимости.Если продажа длится аномально долгое время, то скорее всего продавец поставил очень высокую ценую для рынка недвижимости.\n",
    "\n",
    "**Изучение зависимостей:**\n",
    "\n",
    "1. зависимость квадратного метра от площади линейная.\n",
    "2. чем ближе количество комнат к 3 тем ниже стоимость квадратного метра.\n",
    "3. как правило квартиры на первом этаже дешевле квартир на последнем этаже - в среднем на 10%.\n",
    "4. явная зависимость стоимости квадратного метра от близости к центру, чем ближе к центру, тем выше стоимость\n",
    "5. зависимость от этажа: более высокая цена у \"Другого этажа\", \"Первый этаж\" стоит намного дешевле почти на 1 млн.\n",
    "6. зависимость от даты размещения: объявления, размещенные в понедельник имеют наиболее высокую цену, декабрь - это месяц наиболее высоких цен на недвижимость, как правило, перед Новым годом идет повышение цен, на недвижимость в том числе. За последние два года наблюдается резкий рост цен на недвижимость, это связано с экономической ситуацией.\n",
    "\n",
    "При изучении предложений на недвижимость заметили, что центральная зона имеет радиус 3 км, там наблюдается резкое падение цен.Но это очень маленький радиус. Будем считать это значение аномальным и возьмем радиус центральной зоны 9 км.\n",
    "\n",
    "При нахождении зависимости цены недвижимости от определенных факторов в центре Санкт-Петербурга были сделаны следующие выводы и наблюдения:\n",
    "1. чем меньше комнат в квартире, тем больше цена за ее квадратный метр, на это может влиять более высокий спрос на такие квартиры\n",
    "2. квартиры на первом этаже имеют более низкую стоимость, чем, например, квартиры, находящиеся на последнем этаже, квартиры,располоденные в \"середине\" дома намного дороже.\n",
    "3. нет четкой зависимости стоимости квадратного метра от удаленности от центра, ведь выборка уже сделана по квартирам, находящимся в центральной зоне\n",
    "4. самые дорогие квартиры выкладывают в субботу и понедельник"
   ]
  },
  {
   "cell_type": "markdown",
   "metadata": {},
   "source": [
    "## Общий вывод"
   ]
  },
  {
   "cell_type": "markdown",
   "metadata": {},
   "source": [
    "При исследовательском анализе объявлений о продаже квартир были сделаны следующие выводы: на стоимость квадратного метра больше всего влияет количество комнат в квартире, близкое расположение к центру и этаж, на котором располагается квартира. Так мы выяснили, что большим спросом пользуются 1-2-3- комнатные квартиры, на первом этаже стоимость квадратного метра самая низкая, выяснили, что центральная зона радиуса равна 3 км. Менее значительными факторами, влияющими на стоимость недвижимости является  дата размещения объявления о продаже. Также было выяснено, что 42 дня является быстрым показателем для продажи квартиры, если это количество дней уувеличивается, то это может быть вызвано тем, что продавец поставил высокую цену, намного отличающейся от средних цен на рынке недвижимости. Для установления зависимости и вынесения итогового заключения были проделаны следующие действия: была выполнена предобработка данных, а именно определение и заполнение пропущенных значений, были выяснены причины появления пропусков и они оказались случайными, что означает, что вероятность пропуска зависит от других значений в наборе данных, но не от значений собственного столбца, такие пропуски были заменены методом fillna() на 0. Был заменен вещественный тип данных на целочисленный, для этого был применен метод astype('int'), он отлично справился со своей задачей, это было сделано для того, чтобы данные были округлены для более удобных операций вычисления. Также в таблице были посчитаны и добавлены следующие столбцы: цена квадратного метра; день недели, месяц и год публикации объявления; этаж квартиры; варианты — первый, последний, другой; соотношение жилой и общей площади, а также отношение площади кухни к общей.Были построены графики зависимостей с помощью .plot()."
   ]
  }
 ],
 "metadata": {
  "ExecuteTimeLog": [
   {
    "duration": 684,
    "start_time": "2021-11-07T21:41:37.842Z"
   },
   {
    "duration": 71,
    "start_time": "2021-11-07T21:41:51.991Z"
   },
   {
    "duration": 64,
    "start_time": "2021-11-07T21:42:07.272Z"
   },
   {
    "duration": 70,
    "start_time": "2021-11-07T21:42:41.867Z"
   },
   {
    "duration": 70,
    "start_time": "2021-11-07T21:43:16.632Z"
   },
   {
    "duration": 92,
    "start_time": "2021-11-07T21:43:58.743Z"
   },
   {
    "duration": 402,
    "start_time": "2021-11-08T18:36:32.585Z"
   },
   {
    "duration": 907,
    "start_time": "2021-11-08T18:36:42.485Z"
   },
   {
    "duration": 11,
    "start_time": "2021-11-08T18:36:46.060Z"
   },
   {
    "duration": 14,
    "start_time": "2021-11-08T20:28:40.083Z"
   },
   {
    "duration": 17,
    "start_time": "2021-11-08T20:32:17.748Z"
   },
   {
    "duration": 15,
    "start_time": "2021-11-08T20:32:32.286Z"
   },
   {
    "duration": 7072,
    "start_time": "2021-11-08T20:39:15.723Z"
   },
   {
    "duration": 6902,
    "start_time": "2021-11-08T20:39:51.111Z"
   },
   {
    "duration": 308,
    "start_time": "2021-11-08T20:41:23.044Z"
   },
   {
    "duration": 330,
    "start_time": "2021-11-08T20:41:32.088Z"
   },
   {
    "duration": 21,
    "start_time": "2021-11-08T20:41:38.596Z"
   },
   {
    "duration": 15,
    "start_time": "2021-11-08T20:42:22.118Z"
   },
   {
    "duration": 22,
    "start_time": "2021-11-08T20:43:53.578Z"
   },
   {
    "duration": 17,
    "start_time": "2021-11-08T20:44:07.806Z"
   },
   {
    "duration": 7338,
    "start_time": "2021-11-08T20:45:32.319Z"
   },
   {
    "duration": 8142,
    "start_time": "2021-11-08T20:48:21.528Z"
   },
   {
    "duration": 493,
    "start_time": "2021-11-08T20:49:36.063Z"
   },
   {
    "duration": 380,
    "start_time": "2021-11-08T20:51:13.125Z"
   },
   {
    "duration": 438,
    "start_time": "2021-11-08T20:54:00.603Z"
   },
   {
    "duration": 470,
    "start_time": "2021-11-08T21:39:37.355Z"
   },
   {
    "duration": 377,
    "start_time": "2021-11-08T21:41:24.990Z"
   },
   {
    "duration": 381,
    "start_time": "2021-11-08T21:41:31.788Z"
   },
   {
    "duration": 388,
    "start_time": "2021-11-08T21:43:26.801Z"
   },
   {
    "duration": 383,
    "start_time": "2021-11-08T21:54:30.891Z"
   },
   {
    "duration": 352,
    "start_time": "2021-11-08T21:54:54.204Z"
   },
   {
    "duration": 359,
    "start_time": "2021-11-08T21:55:08.393Z"
   },
   {
    "duration": 364,
    "start_time": "2021-11-08T21:55:33.858Z"
   },
   {
    "duration": 372,
    "start_time": "2021-11-08T21:57:13.832Z"
   },
   {
    "duration": 274,
    "start_time": "2021-11-08T21:58:13.220Z"
   },
   {
    "duration": 375,
    "start_time": "2021-11-08T21:58:23.510Z"
   },
   {
    "duration": 188,
    "start_time": "2021-11-08T21:58:41.593Z"
   },
   {
    "duration": 382,
    "start_time": "2021-11-08T21:58:44.689Z"
   },
   {
    "duration": 472,
    "start_time": "2021-11-08T22:01:41.522Z"
   },
   {
    "duration": 132,
    "start_time": "2021-11-08T22:12:26.268Z"
   },
   {
    "duration": 34,
    "start_time": "2021-11-08T22:12:29.260Z"
   },
   {
    "duration": 20,
    "start_time": "2021-11-08T22:12:37.954Z"
   },
   {
    "duration": 133,
    "start_time": "2021-11-08T22:12:44.282Z"
   },
   {
    "duration": 32,
    "start_time": "2021-11-08T22:12:49.085Z"
   },
   {
    "duration": 107,
    "start_time": "2021-11-08T22:16:36.174Z"
   },
   {
    "duration": 25,
    "start_time": "2021-11-08T22:17:03.681Z"
   },
   {
    "duration": 22,
    "start_time": "2021-11-08T22:17:12.043Z"
   },
   {
    "duration": 27,
    "start_time": "2021-11-08T22:18:41.908Z"
   },
   {
    "duration": 29,
    "start_time": "2021-11-08T22:18:49.715Z"
   },
   {
    "duration": 293,
    "start_time": "2021-11-08T22:19:24.713Z"
   },
   {
    "duration": 28,
    "start_time": "2021-11-08T22:19:50.170Z"
   },
   {
    "duration": 32,
    "start_time": "2021-11-08T22:20:24.807Z"
   },
   {
    "duration": 32,
    "start_time": "2021-11-08T22:20:53.744Z"
   },
   {
    "duration": 41,
    "start_time": "2021-11-08T22:22:17.483Z"
   },
   {
    "duration": 37,
    "start_time": "2021-11-08T22:22:21.612Z"
   },
   {
    "duration": 43,
    "start_time": "2021-11-08T22:26:43.070Z"
   },
   {
    "duration": 43,
    "start_time": "2021-11-08T22:26:47.802Z"
   },
   {
    "duration": -256,
    "start_time": "2021-11-08T22:33:29.686Z"
   },
   {
    "duration": 130,
    "start_time": "2021-11-08T22:33:33.435Z"
   },
   {
    "duration": 6863,
    "start_time": "2021-11-08T22:33:36.318Z"
   },
   {
    "duration": 130,
    "start_time": "2021-11-08T22:33:45.143Z"
   },
   {
    "duration": 7047,
    "start_time": "2021-11-08T22:33:48.389Z"
   },
   {
    "duration": 40,
    "start_time": "2021-11-08T22:34:05.334Z"
   },
   {
    "duration": 353,
    "start_time": "2021-11-08T22:35:59.951Z"
   },
   {
    "duration": 48,
    "start_time": "2021-11-08T22:36:17.531Z"
   },
   {
    "duration": 42,
    "start_time": "2021-11-08T22:36:50.963Z"
   },
   {
    "duration": 45,
    "start_time": "2021-11-08T22:37:02.238Z"
   },
   {
    "duration": 45,
    "start_time": "2021-11-08T22:39:35.951Z"
   },
   {
    "duration": 44,
    "start_time": "2021-11-08T22:39:42.777Z"
   },
   {
    "duration": 43,
    "start_time": "2021-11-08T22:44:17.866Z"
   },
   {
    "duration": 52,
    "start_time": "2021-11-08T22:45:00.778Z"
   },
   {
    "duration": 134,
    "start_time": "2021-11-08T22:45:03.035Z"
   },
   {
    "duration": 69,
    "start_time": "2021-11-08T22:45:05.357Z"
   },
   {
    "duration": 47,
    "start_time": "2021-11-08T22:45:08.923Z"
   },
   {
    "duration": 46,
    "start_time": "2021-11-08T22:54:24.019Z"
   },
   {
    "duration": 47,
    "start_time": "2021-11-08T22:57:47.516Z"
   },
   {
    "duration": 76,
    "start_time": "2021-11-08T22:58:24.873Z"
   },
   {
    "duration": 75,
    "start_time": "2021-11-08T22:58:35.922Z"
   },
   {
    "duration": 72,
    "start_time": "2021-11-08T22:59:14.244Z"
   },
   {
    "duration": 124,
    "start_time": "2021-11-08T23:00:28.379Z"
   },
   {
    "duration": 147,
    "start_time": "2021-11-08T23:01:13.766Z"
   },
   {
    "duration": 527,
    "start_time": "2021-11-08T23:01:43.009Z"
   },
   {
    "duration": 141,
    "start_time": "2021-11-08T23:01:54.058Z"
   },
   {
    "duration": 86,
    "start_time": "2021-11-08T23:03:04.247Z"
   },
   {
    "duration": 258,
    "start_time": "2021-11-08T23:03:37.412Z"
   },
   {
    "duration": 7833,
    "start_time": "2021-11-08T23:03:46.481Z"
   },
   {
    "duration": -270,
    "start_time": "2021-11-08T23:04:08.313Z"
   },
   {
    "duration": -259,
    "start_time": "2021-11-08T23:04:18.657Z"
   },
   {
    "duration": 6503,
    "start_time": "2021-11-08T23:04:20.820Z"
   },
   {
    "duration": 6504,
    "start_time": "2021-11-08T23:04:35.937Z"
   },
   {
    "duration": 95,
    "start_time": "2021-11-08T23:06:06.284Z"
   },
   {
    "duration": 1231,
    "start_time": "2021-11-08T23:08:32.844Z"
   },
   {
    "duration": 102,
    "start_time": "2021-11-08T23:08:55.982Z"
   },
   {
    "duration": 6727,
    "start_time": "2021-11-08T23:11:26.182Z"
   },
   {
    "duration": 7171,
    "start_time": "2021-11-08T23:11:35.050Z"
   },
   {
    "duration": 105,
    "start_time": "2021-11-08T23:11:57.779Z"
   },
   {
    "duration": 101,
    "start_time": "2021-11-08T23:12:12.211Z"
   },
   {
    "duration": 102,
    "start_time": "2021-11-08T23:12:22.107Z"
   },
   {
    "duration": 100,
    "start_time": "2021-11-08T23:13:24.268Z"
   },
   {
    "duration": 60,
    "start_time": "2021-11-08T23:31:05.000Z"
   },
   {
    "duration": 870,
    "start_time": "2021-11-08T23:36:46.626Z"
   },
   {
    "duration": 555,
    "start_time": "2021-11-08T23:37:08.701Z"
   },
   {
    "duration": 115,
    "start_time": "2021-11-08T23:37:15.824Z"
   },
   {
    "duration": 553,
    "start_time": "2021-11-08T23:37:19.385Z"
   },
   {
    "duration": 554,
    "start_time": "2021-11-08T23:37:50.855Z"
   },
   {
    "duration": 648,
    "start_time": "2021-11-08T23:38:00.998Z"
   },
   {
    "duration": 571,
    "start_time": "2021-11-08T23:38:08.912Z"
   },
   {
    "duration": 629,
    "start_time": "2021-11-08T23:38:44.818Z"
   },
   {
    "duration": 612,
    "start_time": "2021-11-08T23:41:11.543Z"
   },
   {
    "duration": 624,
    "start_time": "2021-11-08T23:42:47.471Z"
   },
   {
    "duration": 743,
    "start_time": "2021-11-08T23:49:57.444Z"
   },
   {
    "duration": 656,
    "start_time": "2021-11-08T23:50:08.756Z"
   },
   {
    "duration": 646,
    "start_time": "2021-11-08T23:50:15.563Z"
   },
   {
    "duration": 618,
    "start_time": "2021-11-08T23:50:44.123Z"
   },
   {
    "duration": 598,
    "start_time": "2021-11-09T00:04:49.627Z"
   },
   {
    "duration": 635,
    "start_time": "2021-11-09T00:05:25.637Z"
   },
   {
    "duration": 667,
    "start_time": "2021-11-09T00:05:54.579Z"
   },
   {
    "duration": 1210,
    "start_time": "2021-11-09T00:07:52.880Z"
   },
   {
    "duration": 1245,
    "start_time": "2021-11-09T00:08:26.773Z"
   },
   {
    "duration": 1611,
    "start_time": "2021-11-09T00:10:14.429Z"
   },
   {
    "duration": 1696,
    "start_time": "2021-11-09T00:10:38.287Z"
   },
   {
    "duration": 2054,
    "start_time": "2021-11-09T00:12:06.930Z"
   },
   {
    "duration": 1988,
    "start_time": "2021-11-09T00:12:23.736Z"
   },
   {
    "duration": 1989,
    "start_time": "2021-11-09T00:12:31.429Z"
   },
   {
    "duration": 2323,
    "start_time": "2021-11-09T00:13:04.562Z"
   },
   {
    "duration": 2152,
    "start_time": "2021-11-09T00:13:57.767Z"
   },
   {
    "duration": 1938,
    "start_time": "2021-11-09T00:16:09.960Z"
   },
   {
    "duration": 707,
    "start_time": "2021-11-09T00:33:54.365Z"
   },
   {
    "duration": 1950,
    "start_time": "2021-11-09T00:33:57.065Z"
   },
   {
    "duration": 2618,
    "start_time": "2021-11-09T00:44:11.745Z"
   },
   {
    "duration": 2598,
    "start_time": "2021-11-09T00:44:49.542Z"
   },
   {
    "duration": 2667,
    "start_time": "2021-11-09T00:50:14.658Z"
   },
   {
    "duration": 3397,
    "start_time": "2021-11-09T01:07:26.221Z"
   },
   {
    "duration": 3111,
    "start_time": "2021-11-09T01:07:54.234Z"
   },
   {
    "duration": 3258,
    "start_time": "2021-11-09T01:09:29.288Z"
   },
   {
    "duration": 3340,
    "start_time": "2021-11-09T01:10:01.524Z"
   },
   {
    "duration": 3144,
    "start_time": "2021-11-09T01:10:22.717Z"
   },
   {
    "duration": 3556,
    "start_time": "2021-11-09T01:11:54.046Z"
   },
   {
    "duration": 3601,
    "start_time": "2021-11-09T01:12:16.550Z"
   },
   {
    "duration": 3527,
    "start_time": "2021-11-09T01:13:45.562Z"
   },
   {
    "duration": 3493,
    "start_time": "2021-11-09T01:14:06.987Z"
   },
   {
    "duration": -314,
    "start_time": "2021-11-09T01:16:03.127Z"
   },
   {
    "duration": 4976,
    "start_time": "2021-11-09T01:16:36.424Z"
   },
   {
    "duration": 115,
    "start_time": "2021-11-09T01:17:59.094Z"
   },
   {
    "duration": 5133,
    "start_time": "2021-11-09T01:18:12.125Z"
   },
   {
    "duration": 4679,
    "start_time": "2021-11-09T01:27:07.854Z"
   },
   {
    "duration": 4967,
    "start_time": "2021-11-09T01:29:40.833Z"
   },
   {
    "duration": 5051,
    "start_time": "2021-11-09T01:32:04.314Z"
   },
   {
    "duration": 1019,
    "start_time": "2021-11-09T05:31:04.305Z"
   },
   {
    "duration": 120,
    "start_time": "2021-11-09T05:31:05.327Z"
   },
   {
    "duration": 652,
    "start_time": "2021-11-09T05:31:05.450Z"
   },
   {
    "duration": 4998,
    "start_time": "2021-11-09T05:31:06.105Z"
   },
   {
    "duration": 221,
    "start_time": "2021-11-09T14:50:46.856Z"
   },
   {
    "duration": 163,
    "start_time": "2021-11-09T15:01:42.728Z"
   },
   {
    "duration": 133,
    "start_time": "2021-11-09T15:12:17.418Z"
   },
   {
    "duration": 429,
    "start_time": "2021-11-09T17:15:52.977Z"
   },
   {
    "duration": 1164,
    "start_time": "2021-11-09T17:16:08.157Z"
   },
   {
    "duration": 101,
    "start_time": "2021-11-09T17:16:09.330Z"
   },
   {
    "duration": 16,
    "start_time": "2021-11-09T17:16:09.434Z"
   },
   {
    "duration": 634,
    "start_time": "2021-11-09T17:16:09.452Z"
   },
   {
    "duration": 5272,
    "start_time": "2021-11-09T17:16:10.089Z"
   },
   {
    "duration": 1239,
    "start_time": "2021-11-09T17:29:09.398Z"
   },
   {
    "duration": 99,
    "start_time": "2021-11-09T17:29:10.640Z"
   },
   {
    "duration": 15,
    "start_time": "2021-11-09T17:29:10.742Z"
   },
   {
    "duration": 620,
    "start_time": "2021-11-09T17:29:10.760Z"
   },
   {
    "duration": 2865,
    "start_time": "2021-11-09T17:29:11.382Z"
   },
   {
    "duration": 7,
    "start_time": "2021-11-09T17:29:14.250Z"
   },
   {
    "duration": 77,
    "start_time": "2021-11-09T17:29:14.260Z"
   },
   {
    "duration": 350,
    "start_time": "2021-11-09T17:29:14.342Z"
   },
   {
    "duration": 342,
    "start_time": "2021-11-09T17:29:14.695Z"
   },
   {
    "duration": 318,
    "start_time": "2021-11-09T17:29:15.040Z"
   },
   {
    "duration": 649,
    "start_time": "2021-11-09T17:29:15.362Z"
   },
   {
    "duration": 307,
    "start_time": "2021-11-09T17:29:16.014Z"
   },
   {
    "duration": 516,
    "start_time": "2021-11-09T17:29:16.323Z"
   },
   {
    "duration": 2584,
    "start_time": "2021-11-09T17:31:48.991Z"
   },
   {
    "duration": 959,
    "start_time": "2021-11-09T17:34:24.242Z"
   },
   {
    "duration": 102,
    "start_time": "2021-11-09T17:34:25.203Z"
   },
   {
    "duration": 26,
    "start_time": "2021-11-09T17:34:25.308Z"
   },
   {
    "duration": 606,
    "start_time": "2021-11-09T17:34:25.337Z"
   },
   {
    "duration": 654,
    "start_time": "2021-11-09T17:34:25.945Z"
   },
   {
    "duration": 677,
    "start_time": "2021-11-09T17:34:26.601Z"
   },
   {
    "duration": 336,
    "start_time": "2021-11-09T17:34:27.281Z"
   },
   {
    "duration": 373,
    "start_time": "2021-11-09T17:34:27.621Z"
   },
   {
    "duration": 795,
    "start_time": "2021-11-09T17:34:27.996Z"
   },
   {
    "duration": 6,
    "start_time": "2021-11-09T17:34:28.793Z"
   },
   {
    "duration": 70,
    "start_time": "2021-11-09T17:34:28.802Z"
   },
   {
    "duration": 345,
    "start_time": "2021-11-09T17:34:28.874Z"
   },
   {
    "duration": 308,
    "start_time": "2021-11-09T17:34:29.221Z"
   },
   {
    "duration": 303,
    "start_time": "2021-11-09T17:34:29.532Z"
   },
   {
    "duration": 664,
    "start_time": "2021-11-09T17:34:29.837Z"
   },
   {
    "duration": 394,
    "start_time": "2021-11-09T17:34:30.503Z"
   },
   {
    "duration": 346,
    "start_time": "2021-11-09T17:34:30.899Z"
   },
   {
    "duration": 940,
    "start_time": "2021-11-09T17:35:07.269Z"
   },
   {
    "duration": 96,
    "start_time": "2021-11-09T17:35:08.212Z"
   },
   {
    "duration": 28,
    "start_time": "2021-11-09T17:35:08.311Z"
   },
   {
    "duration": 706,
    "start_time": "2021-11-09T17:35:08.342Z"
   },
   {
    "duration": 648,
    "start_time": "2021-11-09T17:35:09.051Z"
   },
   {
    "duration": 701,
    "start_time": "2021-11-09T17:35:09.701Z"
   },
   {
    "duration": 325,
    "start_time": "2021-11-09T17:35:10.404Z"
   },
   {
    "duration": 366,
    "start_time": "2021-11-09T17:35:10.733Z"
   },
   {
    "duration": 789,
    "start_time": "2021-11-09T17:35:11.102Z"
   },
   {
    "duration": 7,
    "start_time": "2021-11-09T17:35:11.893Z"
   },
   {
    "duration": 62,
    "start_time": "2021-11-09T17:35:11.903Z"
   },
   {
    "duration": 347,
    "start_time": "2021-11-09T17:35:11.967Z"
   },
   {
    "duration": 312,
    "start_time": "2021-11-09T17:35:12.317Z"
   },
   {
    "duration": 290,
    "start_time": "2021-11-09T17:35:12.631Z"
   },
   {
    "duration": 627,
    "start_time": "2021-11-09T17:35:12.928Z"
   },
   {
    "duration": 382,
    "start_time": "2021-11-09T17:35:13.557Z"
   },
   {
    "duration": 319,
    "start_time": "2021-11-09T17:35:13.941Z"
   },
   {
    "duration": 434,
    "start_time": "2021-11-09T17:36:11.339Z"
   },
   {
    "duration": 589,
    "start_time": "2021-11-09T17:36:21.242Z"
   },
   {
    "duration": 432,
    "start_time": "2021-11-09T17:36:28.270Z"
   },
   {
    "duration": 464,
    "start_time": "2021-11-09T17:36:35.986Z"
   },
   {
    "duration": 324,
    "start_time": "2021-11-09T17:36:45.462Z"
   },
   {
    "duration": 315,
    "start_time": "2021-11-09T17:36:57.074Z"
   },
   {
    "duration": 363,
    "start_time": "2021-11-09T17:37:15.498Z"
   },
   {
    "duration": 383,
    "start_time": "2021-11-09T17:37:29.897Z"
   },
   {
    "duration": 676,
    "start_time": "2021-11-09T17:37:43.253Z"
   },
   {
    "duration": 747,
    "start_time": "2021-11-09T17:37:59.142Z"
   },
   {
    "duration": 556,
    "start_time": "2021-11-09T17:38:06.463Z"
   },
   {
    "duration": 297,
    "start_time": "2021-11-09T17:39:39.652Z"
   },
   {
    "duration": 300,
    "start_time": "2021-11-09T18:06:38.580Z"
   },
   {
    "duration": 45,
    "start_time": "2021-11-09T18:07:00.882Z"
   },
   {
    "duration": 41,
    "start_time": "2021-11-09T18:07:39.628Z"
   },
   {
    "duration": 43,
    "start_time": "2021-11-09T18:09:04.858Z"
   },
   {
    "duration": 43,
    "start_time": "2021-11-09T18:09:20.451Z"
   },
   {
    "duration": 31,
    "start_time": "2021-11-09T18:11:41.795Z"
   },
   {
    "duration": 12,
    "start_time": "2021-11-09T18:14:55.531Z"
   },
   {
    "duration": 11,
    "start_time": "2021-11-09T18:15:30.340Z"
   },
   {
    "duration": 1140,
    "start_time": "2021-11-09T18:18:05.392Z"
   },
   {
    "duration": 110,
    "start_time": "2021-11-09T18:18:06.535Z"
   },
   {
    "duration": 17,
    "start_time": "2021-11-09T18:18:06.649Z"
   },
   {
    "duration": 659,
    "start_time": "2021-11-09T18:18:06.670Z"
   },
   {
    "duration": 424,
    "start_time": "2021-11-09T18:18:07.331Z"
   },
   {
    "duration": 459,
    "start_time": "2021-11-09T18:18:07.758Z"
   },
   {
    "duration": 391,
    "start_time": "2021-11-09T18:18:08.219Z"
   },
   {
    "duration": 370,
    "start_time": "2021-11-09T18:18:08.615Z"
   },
   {
    "duration": 653,
    "start_time": "2021-11-09T18:18:08.988Z"
   },
   {
    "duration": 7,
    "start_time": "2021-11-09T18:18:09.644Z"
   },
   {
    "duration": 77,
    "start_time": "2021-11-09T18:18:09.654Z"
   },
   {
    "duration": 429,
    "start_time": "2021-11-09T18:18:09.734Z"
   },
   {
    "duration": 335,
    "start_time": "2021-11-09T18:18:10.166Z"
   },
   {
    "duration": 334,
    "start_time": "2021-11-09T18:18:10.503Z"
   },
   {
    "duration": 789,
    "start_time": "2021-11-09T18:18:10.840Z"
   },
   {
    "duration": 316,
    "start_time": "2021-11-09T18:18:11.631Z"
   },
   {
    "duration": 332,
    "start_time": "2021-11-09T18:18:11.949Z"
   },
   {
    "duration": 387,
    "start_time": "2021-11-09T18:18:12.284Z"
   },
   {
    "duration": 32,
    "start_time": "2021-11-09T18:18:12.673Z"
   },
   {
    "duration": 27,
    "start_time": "2021-11-09T18:18:12.708Z"
   },
   {
    "duration": 17,
    "start_time": "2021-11-09T18:18:12.737Z"
   },
   {
    "duration": 16,
    "start_time": "2021-11-09T18:21:24.801Z"
   },
   {
    "duration": 12,
    "start_time": "2021-11-09T18:21:34.831Z"
   },
   {
    "duration": 17,
    "start_time": "2021-11-09T18:21:35.572Z"
   },
   {
    "duration": 32,
    "start_time": "2021-11-09T18:22:24.882Z"
   },
   {
    "duration": 16,
    "start_time": "2021-11-09T18:22:26.459Z"
   },
   {
    "duration": 1106,
    "start_time": "2021-11-09T18:22:36.590Z"
   },
   {
    "duration": 98,
    "start_time": "2021-11-09T18:22:37.698Z"
   },
   {
    "duration": 15,
    "start_time": "2021-11-09T18:22:37.798Z"
   },
   {
    "duration": 619,
    "start_time": "2021-11-09T18:22:37.830Z"
   },
   {
    "duration": 418,
    "start_time": "2021-11-09T18:22:38.452Z"
   },
   {
    "duration": 424,
    "start_time": "2021-11-09T18:22:38.873Z"
   },
   {
    "duration": 338,
    "start_time": "2021-11-09T18:22:39.299Z"
   },
   {
    "duration": 380,
    "start_time": "2021-11-09T18:22:39.640Z"
   },
   {
    "duration": 556,
    "start_time": "2021-11-09T18:22:40.022Z"
   },
   {
    "duration": 6,
    "start_time": "2021-11-09T18:22:40.580Z"
   },
   {
    "duration": 68,
    "start_time": "2021-11-09T18:22:40.589Z"
   },
   {
    "duration": 338,
    "start_time": "2021-11-09T18:22:40.660Z"
   },
   {
    "duration": 320,
    "start_time": "2021-11-09T18:22:41.000Z"
   },
   {
    "duration": 297,
    "start_time": "2021-11-09T18:22:41.323Z"
   },
   {
    "duration": 623,
    "start_time": "2021-11-09T18:22:41.623Z"
   },
   {
    "duration": 309,
    "start_time": "2021-11-09T18:22:42.248Z"
   },
   {
    "duration": 323,
    "start_time": "2021-11-09T18:22:42.559Z"
   },
   {
    "duration": 378,
    "start_time": "2021-11-09T18:22:42.884Z"
   },
   {
    "duration": 32,
    "start_time": "2021-11-09T18:22:43.264Z"
   },
   {
    "duration": 35,
    "start_time": "2021-11-09T18:22:43.298Z"
   },
   {
    "duration": 15,
    "start_time": "2021-11-09T18:24:03.799Z"
   },
   {
    "duration": 14,
    "start_time": "2021-11-09T18:24:12.268Z"
   },
   {
    "duration": 14,
    "start_time": "2021-11-09T18:24:15.919Z"
   },
   {
    "duration": 14,
    "start_time": "2021-11-09T18:54:24.226Z"
   },
   {
    "duration": 1002,
    "start_time": "2021-11-09T18:54:41.228Z"
   },
   {
    "duration": 104,
    "start_time": "2021-11-09T18:54:42.233Z"
   },
   {
    "duration": 15,
    "start_time": "2021-11-09T18:54:42.340Z"
   },
   {
    "duration": 618,
    "start_time": "2021-11-09T18:54:42.357Z"
   },
   {
    "duration": 412,
    "start_time": "2021-11-09T18:54:42.977Z"
   },
   {
    "duration": 435,
    "start_time": "2021-11-09T18:54:43.392Z"
   },
   {
    "duration": 331,
    "start_time": "2021-11-09T18:54:43.830Z"
   },
   {
    "duration": 386,
    "start_time": "2021-11-09T18:54:44.164Z"
   },
   {
    "duration": 576,
    "start_time": "2021-11-09T18:54:44.553Z"
   },
   {
    "duration": 6,
    "start_time": "2021-11-09T18:54:45.132Z"
   },
   {
    "duration": 52,
    "start_time": "2021-11-09T18:54:45.140Z"
   },
   {
    "duration": 361,
    "start_time": "2021-11-09T18:54:45.195Z"
   },
   {
    "duration": 323,
    "start_time": "2021-11-09T18:54:45.559Z"
   },
   {
    "duration": 325,
    "start_time": "2021-11-09T18:54:45.885Z"
   },
   {
    "duration": 652,
    "start_time": "2021-11-09T18:54:46.212Z"
   },
   {
    "duration": 326,
    "start_time": "2021-11-09T18:54:46.866Z"
   },
   {
    "duration": 344,
    "start_time": "2021-11-09T18:54:47.196Z"
   },
   {
    "duration": 391,
    "start_time": "2021-11-09T18:54:47.543Z"
   },
   {
    "duration": 35,
    "start_time": "2021-11-09T18:54:47.937Z"
   },
   {
    "duration": 17,
    "start_time": "2021-11-09T18:54:47.975Z"
   },
   {
    "duration": 14,
    "start_time": "2021-11-09T18:55:05.947Z"
   },
   {
    "duration": 31,
    "start_time": "2021-11-09T18:55:09.086Z"
   },
   {
    "duration": 14,
    "start_time": "2021-11-09T18:55:12.030Z"
   },
   {
    "duration": 18,
    "start_time": "2021-11-09T18:55:20.811Z"
   },
   {
    "duration": 14,
    "start_time": "2021-11-09T18:56:51.921Z"
   },
   {
    "duration": 14,
    "start_time": "2021-11-09T18:56:54.350Z"
   },
   {
    "duration": 22,
    "start_time": "2021-11-09T18:57:59.303Z"
   },
   {
    "duration": 21,
    "start_time": "2021-11-09T18:58:06.000Z"
   },
   {
    "duration": 23,
    "start_time": "2021-11-09T18:59:55.013Z"
   },
   {
    "duration": 23,
    "start_time": "2021-11-09T19:00:09.699Z"
   },
   {
    "duration": 1231,
    "start_time": "2021-11-09T19:00:56.595Z"
   },
   {
    "duration": 47,
    "start_time": "2021-11-09T19:01:16.657Z"
   },
   {
    "duration": 47,
    "start_time": "2021-11-09T19:01:22.368Z"
   },
   {
    "duration": 32,
    "start_time": "2021-11-09T19:01:32.448Z"
   },
   {
    "duration": 3,
    "start_time": "2021-11-09T19:01:41.352Z"
   },
   {
    "duration": 284,
    "start_time": "2021-11-09T19:05:11.238Z"
   },
   {
    "duration": 1196,
    "start_time": "2021-11-09T19:05:42.290Z"
   },
   {
    "duration": 33,
    "start_time": "2021-11-09T19:06:18.336Z"
   },
   {
    "duration": 33,
    "start_time": "2021-11-09T19:06:23.625Z"
   },
   {
    "duration": 942,
    "start_time": "2021-11-09T19:06:33.564Z"
   },
   {
    "duration": 95,
    "start_time": "2021-11-09T19:06:34.509Z"
   },
   {
    "duration": 30,
    "start_time": "2021-11-09T19:06:34.607Z"
   },
   {
    "duration": 608,
    "start_time": "2021-11-09T19:06:34.640Z"
   },
   {
    "duration": 404,
    "start_time": "2021-11-09T19:06:35.250Z"
   },
   {
    "duration": 416,
    "start_time": "2021-11-09T19:06:35.656Z"
   },
   {
    "duration": 337,
    "start_time": "2021-11-09T19:06:36.075Z"
   },
   {
    "duration": 375,
    "start_time": "2021-11-09T19:06:36.416Z"
   },
   {
    "duration": 581,
    "start_time": "2021-11-09T19:06:36.794Z"
   },
   {
    "duration": 7,
    "start_time": "2021-11-09T19:06:37.377Z"
   },
   {
    "duration": 81,
    "start_time": "2021-11-09T19:06:37.386Z"
   },
   {
    "duration": 338,
    "start_time": "2021-11-09T19:06:37.469Z"
   },
   {
    "duration": 315,
    "start_time": "2021-11-09T19:06:37.809Z"
   },
   {
    "duration": 322,
    "start_time": "2021-11-09T19:06:38.126Z"
   },
   {
    "duration": 652,
    "start_time": "2021-11-09T19:06:38.451Z"
   },
   {
    "duration": 305,
    "start_time": "2021-11-09T19:06:39.106Z"
   },
   {
    "duration": 328,
    "start_time": "2021-11-09T19:06:39.413Z"
   },
   {
    "duration": 386,
    "start_time": "2021-11-09T19:06:39.745Z"
   },
   {
    "duration": 31,
    "start_time": "2021-11-09T19:06:40.133Z"
   },
   {
    "duration": 23,
    "start_time": "2021-11-09T19:06:40.167Z"
   },
   {
    "duration": 33,
    "start_time": "2021-11-09T19:07:02.722Z"
   },
   {
    "duration": 25,
    "start_time": "2021-11-09T19:07:04.680Z"
   },
   {
    "duration": 36,
    "start_time": "2021-11-09T19:07:17.457Z"
   },
   {
    "duration": 177,
    "start_time": "2021-11-09T19:07:24.609Z"
   },
   {
    "duration": 147,
    "start_time": "2021-11-09T19:07:25.810Z"
   },
   {
    "duration": 21,
    "start_time": "2021-11-09T19:07:25.968Z"
   },
   {
    "duration": 987,
    "start_time": "2021-11-09T19:07:27.024Z"
   },
   {
    "duration": 465,
    "start_time": "2021-11-09T19:07:28.015Z"
   },
   {
    "duration": 372,
    "start_time": "2021-11-09T19:07:28.483Z"
   },
   {
    "duration": 338,
    "start_time": "2021-11-09T19:07:28.857Z"
   },
   {
    "duration": 374,
    "start_time": "2021-11-09T19:07:29.197Z"
   },
   {
    "duration": 601,
    "start_time": "2021-11-09T19:07:29.574Z"
   },
   {
    "duration": 9,
    "start_time": "2021-11-09T19:07:30.179Z"
   },
   {
    "duration": 66,
    "start_time": "2021-11-09T19:07:30.191Z"
   },
   {
    "duration": 352,
    "start_time": "2021-11-09T19:07:30.259Z"
   },
   {
    "duration": 356,
    "start_time": "2021-11-09T19:07:30.614Z"
   },
   {
    "duration": 389,
    "start_time": "2021-11-09T19:07:30.973Z"
   },
   {
    "duration": 640,
    "start_time": "2021-11-09T19:07:31.364Z"
   },
   {
    "duration": 323,
    "start_time": "2021-11-09T19:07:32.007Z"
   },
   {
    "duration": 332,
    "start_time": "2021-11-09T19:07:32.333Z"
   },
   {
    "duration": 318,
    "start_time": "2021-11-09T19:07:32.667Z"
   },
   {
    "duration": 43,
    "start_time": "2021-11-09T19:07:32.987Z"
   },
   {
    "duration": 22,
    "start_time": "2021-11-09T19:07:33.033Z"
   },
   {
    "duration": 27,
    "start_time": "2021-11-09T19:08:04.528Z"
   },
   {
    "duration": 24,
    "start_time": "2021-11-09T19:08:33.232Z"
   },
   {
    "duration": 32,
    "start_time": "2021-11-09T19:09:15.739Z"
   },
   {
    "duration": 24,
    "start_time": "2021-11-09T19:09:17.566Z"
   },
   {
    "duration": 1149,
    "start_time": "2021-11-09T19:11:21.704Z"
   },
   {
    "duration": 290,
    "start_time": "2021-11-09T19:11:40.016Z"
   },
   {
    "duration": 277,
    "start_time": "2021-11-09T19:12:15.541Z"
   },
   {
    "duration": 289,
    "start_time": "2021-11-09T19:12:36.502Z"
   },
   {
    "duration": 307,
    "start_time": "2021-11-09T19:12:46.658Z"
   },
   {
    "duration": 23,
    "start_time": "2021-11-09T19:12:57.979Z"
   },
   {
    "duration": 22,
    "start_time": "2021-11-09T19:13:08.833Z"
   },
   {
    "duration": 318,
    "start_time": "2021-11-09T19:13:16.932Z"
   },
   {
    "duration": 33,
    "start_time": "2021-11-09T19:13:17.907Z"
   },
   {
    "duration": 23,
    "start_time": "2021-11-09T19:13:24.095Z"
   },
   {
    "duration": 287,
    "start_time": "2021-11-09T19:18:19.117Z"
   },
   {
    "duration": 293,
    "start_time": "2021-11-09T19:18:27.286Z"
   },
   {
    "duration": 267,
    "start_time": "2021-11-09T19:19:47.628Z"
   },
   {
    "duration": 11,
    "start_time": "2021-11-09T19:20:41.030Z"
   },
   {
    "duration": 13,
    "start_time": "2021-11-09T19:20:59.093Z"
   },
   {
    "duration": 14,
    "start_time": "2021-11-09T19:22:25.650Z"
   },
   {
    "duration": 13,
    "start_time": "2021-11-09T19:22:32.976Z"
   },
   {
    "duration": 12,
    "start_time": "2021-11-09T19:22:36.695Z"
   },
   {
    "duration": 105,
    "start_time": "2021-11-09T19:22:57.114Z"
   },
   {
    "duration": 12,
    "start_time": "2021-11-09T19:23:00.936Z"
   },
   {
    "duration": 112,
    "start_time": "2021-11-09T19:23:01.776Z"
   },
   {
    "duration": 12,
    "start_time": "2021-11-09T19:23:07.668Z"
   },
   {
    "duration": 13,
    "start_time": "2021-11-09T19:25:00.888Z"
   },
   {
    "duration": 298,
    "start_time": "2021-11-09T19:26:51.435Z"
   },
   {
    "duration": 16,
    "start_time": "2021-11-09T19:27:06.067Z"
   },
   {
    "duration": 14,
    "start_time": "2021-11-09T19:27:16.610Z"
   },
   {
    "duration": 285,
    "start_time": "2021-11-09T19:28:02.929Z"
   },
   {
    "duration": 12,
    "start_time": "2021-11-09T19:28:26.414Z"
   },
   {
    "duration": 12,
    "start_time": "2021-11-09T19:28:41.961Z"
   },
   {
    "duration": 11,
    "start_time": "2021-11-09T19:28:58.343Z"
   },
   {
    "duration": 11,
    "start_time": "2021-11-09T19:29:54.340Z"
   },
   {
    "duration": 104,
    "start_time": "2021-11-09T19:43:03.767Z"
   },
   {
    "duration": 104,
    "start_time": "2021-11-09T19:43:12.430Z"
   },
   {
    "duration": 26,
    "start_time": "2021-11-09T19:43:26.523Z"
   },
   {
    "duration": 28,
    "start_time": "2021-11-09T19:43:42.889Z"
   },
   {
    "duration": 956,
    "start_time": "2021-11-09T19:43:51.665Z"
   },
   {
    "duration": 100,
    "start_time": "2021-11-09T19:43:52.629Z"
   },
   {
    "duration": 15,
    "start_time": "2021-11-09T19:43:52.732Z"
   },
   {
    "duration": 613,
    "start_time": "2021-11-09T19:43:52.750Z"
   },
   {
    "duration": 481,
    "start_time": "2021-11-09T19:43:53.365Z"
   },
   {
    "duration": 420,
    "start_time": "2021-11-09T19:43:53.848Z"
   },
   {
    "duration": 331,
    "start_time": "2021-11-09T19:43:54.270Z"
   },
   {
    "duration": 368,
    "start_time": "2021-11-09T19:43:54.605Z"
   },
   {
    "duration": 674,
    "start_time": "2021-11-09T19:43:54.976Z"
   },
   {
    "duration": 6,
    "start_time": "2021-11-09T19:43:55.653Z"
   },
   {
    "duration": 70,
    "start_time": "2021-11-09T19:43:55.662Z"
   },
   {
    "duration": 332,
    "start_time": "2021-11-09T19:43:55.735Z"
   },
   {
    "duration": 318,
    "start_time": "2021-11-09T19:43:56.069Z"
   },
   {
    "duration": 305,
    "start_time": "2021-11-09T19:43:56.390Z"
   },
   {
    "duration": 613,
    "start_time": "2021-11-09T19:43:56.697Z"
   },
   {
    "duration": 308,
    "start_time": "2021-11-09T19:43:57.313Z"
   },
   {
    "duration": 322,
    "start_time": "2021-11-09T19:43:57.623Z"
   },
   {
    "duration": 383,
    "start_time": "2021-11-09T19:43:57.948Z"
   },
   {
    "duration": 31,
    "start_time": "2021-11-09T19:43:58.334Z"
   },
   {
    "duration": 10,
    "start_time": "2021-11-09T19:43:58.368Z"
   },
   {
    "duration": 13,
    "start_time": "2021-11-09T19:43:58.380Z"
   },
   {
    "duration": 59,
    "start_time": "2021-11-09T19:43:58.395Z"
   },
   {
    "duration": 121,
    "start_time": "2021-11-09T19:44:12.989Z"
   },
   {
    "duration": 105,
    "start_time": "2021-11-09T19:45:47.447Z"
   },
   {
    "duration": 159,
    "start_time": "2021-11-09T19:46:27.353Z"
   },
   {
    "duration": 25,
    "start_time": "2021-11-09T19:47:17.468Z"
   },
   {
    "duration": 28,
    "start_time": "2021-11-09T19:47:21.123Z"
   },
   {
    "duration": 1041,
    "start_time": "2021-11-09T19:47:28.016Z"
   },
   {
    "duration": 134,
    "start_time": "2021-11-09T19:47:29.061Z"
   },
   {
    "duration": 35,
    "start_time": "2021-11-09T19:47:29.200Z"
   },
   {
    "duration": 626,
    "start_time": "2021-11-09T19:47:29.239Z"
   },
   {
    "duration": 400,
    "start_time": "2021-11-09T19:47:29.867Z"
   },
   {
    "duration": 447,
    "start_time": "2021-11-09T19:47:30.270Z"
   },
   {
    "duration": 367,
    "start_time": "2021-11-09T19:47:30.720Z"
   },
   {
    "duration": 407,
    "start_time": "2021-11-09T19:47:31.091Z"
   },
   {
    "duration": 594,
    "start_time": "2021-11-09T19:47:31.501Z"
   },
   {
    "duration": 7,
    "start_time": "2021-11-09T19:47:32.098Z"
   },
   {
    "duration": 66,
    "start_time": "2021-11-09T19:47:32.107Z"
   },
   {
    "duration": 356,
    "start_time": "2021-11-09T19:47:32.175Z"
   },
   {
    "duration": 315,
    "start_time": "2021-11-09T19:47:32.534Z"
   },
   {
    "duration": 321,
    "start_time": "2021-11-09T19:47:32.852Z"
   },
   {
    "duration": 666,
    "start_time": "2021-11-09T19:47:33.176Z"
   },
   {
    "duration": 323,
    "start_time": "2021-11-09T19:47:33.844Z"
   },
   {
    "duration": 325,
    "start_time": "2021-11-09T19:47:34.170Z"
   },
   {
    "duration": 374,
    "start_time": "2021-11-09T19:47:34.497Z"
   },
   {
    "duration": 32,
    "start_time": "2021-11-09T19:47:34.874Z"
   },
   {
    "duration": 27,
    "start_time": "2021-11-09T19:47:34.908Z"
   },
   {
    "duration": 19,
    "start_time": "2021-11-09T19:47:34.938Z"
   },
   {
    "duration": 31,
    "start_time": "2021-11-09T19:47:34.959Z"
   },
   {
    "duration": 28,
    "start_time": "2021-11-09T19:47:39.797Z"
   },
   {
    "duration": 23,
    "start_time": "2021-11-09T19:48:10.871Z"
   },
   {
    "duration": 25,
    "start_time": "2021-11-09T19:48:15.255Z"
   },
   {
    "duration": 1006,
    "start_time": "2021-11-09T19:48:21.939Z"
   },
   {
    "duration": 151,
    "start_time": "2021-11-09T19:48:22.954Z"
   },
   {
    "duration": 29,
    "start_time": "2021-11-09T19:48:23.109Z"
   },
   {
    "duration": 824,
    "start_time": "2021-11-09T19:48:23.141Z"
   },
   {
    "duration": 414,
    "start_time": "2021-11-09T19:48:23.968Z"
   },
   {
    "duration": 422,
    "start_time": "2021-11-09T19:48:24.385Z"
   },
   {
    "duration": 330,
    "start_time": "2021-11-09T19:48:24.812Z"
   },
   {
    "duration": 407,
    "start_time": "2021-11-09T19:48:25.145Z"
   },
   {
    "duration": 583,
    "start_time": "2021-11-09T19:48:25.555Z"
   },
   {
    "duration": 7,
    "start_time": "2021-11-09T19:48:26.141Z"
   },
   {
    "duration": 68,
    "start_time": "2021-11-09T19:48:26.150Z"
   },
   {
    "duration": 354,
    "start_time": "2021-11-09T19:48:26.221Z"
   },
   {
    "duration": 315,
    "start_time": "2021-11-09T19:48:26.578Z"
   },
   {
    "duration": 479,
    "start_time": "2021-11-09T19:48:26.896Z"
   },
   {
    "duration": 988,
    "start_time": "2021-11-09T19:48:27.378Z"
   },
   {
    "duration": 481,
    "start_time": "2021-11-09T19:48:28.369Z"
   },
   {
    "duration": 510,
    "start_time": "2021-11-09T19:48:28.854Z"
   },
   {
    "duration": 583,
    "start_time": "2021-11-09T19:48:29.368Z"
   },
   {
    "duration": 31,
    "start_time": "2021-11-09T19:48:29.954Z"
   },
   {
    "duration": 10,
    "start_time": "2021-11-09T19:48:29.987Z"
   },
   {
    "duration": 40,
    "start_time": "2021-11-09T19:48:29.999Z"
   },
   {
    "duration": 46,
    "start_time": "2021-11-09T19:48:30.043Z"
   },
   {
    "duration": 138,
    "start_time": "2021-11-09T19:48:30.091Z"
   },
   {
    "duration": 101,
    "start_time": "2021-11-09T19:48:32.377Z"
   },
   {
    "duration": 15,
    "start_time": "2021-11-09T19:48:32.574Z"
   },
   {
    "duration": 1202,
    "start_time": "2021-11-09T19:48:34.835Z"
   },
   {
    "duration": 388,
    "start_time": "2021-11-09T19:48:36.601Z"
   },
   {
    "duration": 364,
    "start_time": "2021-11-09T19:48:37.065Z"
   },
   {
    "duration": 317,
    "start_time": "2021-11-09T19:48:37.582Z"
   },
   {
    "duration": 385,
    "start_time": "2021-11-09T19:48:37.902Z"
   },
   {
    "duration": 620,
    "start_time": "2021-11-09T19:48:38.290Z"
   },
   {
    "duration": 7,
    "start_time": "2021-11-09T19:48:38.913Z"
   },
   {
    "duration": 47,
    "start_time": "2021-11-09T19:48:38.945Z"
   },
   {
    "duration": 327,
    "start_time": "2021-11-09T19:48:39.167Z"
   },
   {
    "duration": 296,
    "start_time": "2021-11-09T19:48:39.653Z"
   },
   {
    "duration": 354,
    "start_time": "2021-11-09T19:48:40.160Z"
   },
   {
    "duration": 615,
    "start_time": "2021-11-09T19:48:40.518Z"
   },
   {
    "duration": 329,
    "start_time": "2021-11-09T19:48:41.136Z"
   },
   {
    "duration": 352,
    "start_time": "2021-11-09T19:48:41.468Z"
   },
   {
    "duration": 323,
    "start_time": "2021-11-09T19:48:41.824Z"
   },
   {
    "duration": 31,
    "start_time": "2021-11-09T19:48:42.150Z"
   },
   {
    "duration": 11,
    "start_time": "2021-11-09T19:48:42.704Z"
   },
   {
    "duration": 12,
    "start_time": "2021-11-09T19:48:43.086Z"
   },
   {
    "duration": 25,
    "start_time": "2021-11-09T19:48:43.720Z"
   },
   {
    "duration": 27,
    "start_time": "2021-11-09T19:49:27.561Z"
   },
   {
    "duration": 25,
    "start_time": "2021-11-09T19:52:54.950Z"
   },
   {
    "duration": 446,
    "start_time": "2021-11-09T19:54:17.843Z"
   },
   {
    "duration": 11,
    "start_time": "2021-11-09T19:56:34.630Z"
   },
   {
    "duration": 983,
    "start_time": "2021-11-09T19:58:06.051Z"
   },
   {
    "duration": 104,
    "start_time": "2021-11-09T19:58:07.037Z"
   },
   {
    "duration": 15,
    "start_time": "2021-11-09T19:58:07.147Z"
   },
   {
    "duration": 631,
    "start_time": "2021-11-09T19:58:07.165Z"
   },
   {
    "duration": 403,
    "start_time": "2021-11-09T19:58:07.798Z"
   },
   {
    "duration": 496,
    "start_time": "2021-11-09T19:58:08.203Z"
   },
   {
    "duration": 336,
    "start_time": "2021-11-09T19:58:08.703Z"
   },
   {
    "duration": 477,
    "start_time": "2021-11-09T19:58:09.042Z"
   },
   {
    "duration": 596,
    "start_time": "2021-11-09T19:58:09.521Z"
   },
   {
    "duration": 8,
    "start_time": "2021-11-09T19:58:10.128Z"
   },
   {
    "duration": 49,
    "start_time": "2021-11-09T19:58:10.139Z"
   },
   {
    "duration": 375,
    "start_time": "2021-11-09T19:58:10.191Z"
   },
   {
    "duration": 327,
    "start_time": "2021-11-09T19:58:10.570Z"
   },
   {
    "duration": 306,
    "start_time": "2021-11-09T19:58:10.900Z"
   },
   {
    "duration": 629,
    "start_time": "2021-11-09T19:58:11.209Z"
   },
   {
    "duration": 331,
    "start_time": "2021-11-09T19:58:11.841Z"
   },
   {
    "duration": 319,
    "start_time": "2021-11-09T19:58:12.175Z"
   },
   {
    "duration": 372,
    "start_time": "2021-11-09T19:58:12.497Z"
   },
   {
    "duration": 31,
    "start_time": "2021-11-09T19:58:12.871Z"
   },
   {
    "duration": 27,
    "start_time": "2021-11-09T19:58:12.905Z"
   },
   {
    "duration": 22,
    "start_time": "2021-11-09T19:58:12.934Z"
   },
   {
    "duration": 338,
    "start_time": "2021-11-09T20:01:48.525Z"
   },
   {
    "duration": 380,
    "start_time": "2021-11-09T20:02:48.853Z"
   },
   {
    "duration": 475,
    "start_time": "2021-11-09T20:05:14.040Z"
   },
   {
    "duration": 273,
    "start_time": "2021-11-09T22:02:56.932Z"
   },
   {
    "duration": 252,
    "start_time": "2021-11-09T22:03:16.125Z"
   },
   {
    "duration": 12,
    "start_time": "2021-11-09T22:04:12.502Z"
   },
   {
    "duration": 269,
    "start_time": "2021-11-09T22:04:14.137Z"
   },
   {
    "duration": 296,
    "start_time": "2021-11-09T22:04:23.480Z"
   },
   {
    "duration": 39,
    "start_time": "2021-11-09T22:04:35.880Z"
   },
   {
    "duration": 304,
    "start_time": "2021-11-09T22:04:38.790Z"
   },
   {
    "duration": 291,
    "start_time": "2021-11-09T22:04:57.844Z"
   },
   {
    "duration": 43,
    "start_time": "2021-11-09T22:05:00.623Z"
   },
   {
    "duration": 43,
    "start_time": "2021-11-09T22:07:41.801Z"
   },
   {
    "duration": 294,
    "start_time": "2021-11-09T22:08:44.072Z"
   },
   {
    "duration": 7054,
    "start_time": "2021-11-09T22:11:02.391Z"
   },
   {
    "duration": 258,
    "start_time": "2021-11-09T22:11:09.190Z"
   },
   {
    "duration": 276,
    "start_time": "2021-11-09T22:11:12.481Z"
   },
   {
    "duration": 43,
    "start_time": "2021-11-09T22:11:49.169Z"
   },
   {
    "duration": 1062,
    "start_time": "2021-11-09T22:11:57.423Z"
   },
   {
    "duration": 44,
    "start_time": "2021-11-09T22:12:10.691Z"
   },
   {
    "duration": 1220,
    "start_time": "2021-11-09T22:12:11.438Z"
   },
   {
    "duration": 256,
    "start_time": "2021-11-09T22:12:19.198Z"
   },
   {
    "duration": 32,
    "start_time": "2021-11-09T22:17:40.389Z"
   },
   {
    "duration": 31,
    "start_time": "2021-11-09T22:17:43.140Z"
   },
   {
    "duration": 31,
    "start_time": "2021-11-09T22:18:24.292Z"
   },
   {
    "duration": 10,
    "start_time": "2021-11-09T22:18:32.860Z"
   },
   {
    "duration": 44,
    "start_time": "2021-11-09T22:18:33.787Z"
   },
   {
    "duration": 326,
    "start_time": "2021-11-09T22:18:34.621Z"
   },
   {
    "duration": 30,
    "start_time": "2021-11-09T22:18:36.606Z"
   },
   {
    "duration": 262,
    "start_time": "2021-11-09T22:18:37.683Z"
   },
   {
    "duration": 336,
    "start_time": "2021-11-09T22:19:10.509Z"
   },
   {
    "duration": 32,
    "start_time": "2021-11-09T22:19:14.121Z"
   },
   {
    "duration": 31,
    "start_time": "2021-11-09T22:19:17.899Z"
   },
   {
    "duration": 38,
    "start_time": "2021-11-09T22:19:38.011Z"
   },
   {
    "duration": 42,
    "start_time": "2021-11-09T22:20:42.817Z"
   },
   {
    "duration": 39,
    "start_time": "2021-11-09T22:21:42.135Z"
   },
   {
    "duration": 103,
    "start_time": "2021-11-09T22:22:31.180Z"
   },
   {
    "duration": 6974,
    "start_time": "2021-11-09T22:22:39.639Z"
   },
   {
    "duration": 7879,
    "start_time": "2021-11-09T22:23:01.076Z"
   },
   {
    "duration": 7365,
    "start_time": "2021-11-09T22:24:28.066Z"
   },
   {
    "duration": 450,
    "start_time": "2021-11-09T22:25:05.133Z"
   },
   {
    "duration": 275,
    "start_time": "2021-11-09T22:28:21.940Z"
   },
   {
    "duration": 43,
    "start_time": "2021-11-09T22:29:11.652Z"
   },
   {
    "duration": 305,
    "start_time": "2021-11-09T22:29:15.118Z"
   },
   {
    "duration": 41,
    "start_time": "2021-11-09T22:29:34.534Z"
   },
   {
    "duration": 286,
    "start_time": "2021-11-09T22:29:36.803Z"
   },
   {
    "duration": 1242,
    "start_time": "2021-11-09T22:30:11.235Z"
   },
   {
    "duration": 278,
    "start_time": "2021-11-09T22:30:23.005Z"
   },
   {
    "duration": 91,
    "start_time": "2021-11-09T22:34:09.107Z"
   },
   {
    "duration": 73,
    "start_time": "2021-11-09T22:36:56.345Z"
   },
   {
    "duration": 49,
    "start_time": "2021-11-09T22:37:04.598Z"
   },
   {
    "duration": 345,
    "start_time": "2021-11-10T17:05:54.463Z"
   },
   {
    "duration": 1028,
    "start_time": "2021-11-10T17:06:36.285Z"
   },
   {
    "duration": 104,
    "start_time": "2021-11-10T17:06:37.316Z"
   },
   {
    "duration": 16,
    "start_time": "2021-11-10T17:06:37.423Z"
   },
   {
    "duration": 649,
    "start_time": "2021-11-10T17:06:37.442Z"
   },
   {
    "duration": 425,
    "start_time": "2021-11-10T17:06:38.094Z"
   },
   {
    "duration": 438,
    "start_time": "2021-11-10T17:06:38.522Z"
   },
   {
    "duration": 353,
    "start_time": "2021-11-10T17:06:38.963Z"
   },
   {
    "duration": 383,
    "start_time": "2021-11-10T17:06:39.320Z"
   },
   {
    "duration": 584,
    "start_time": "2021-11-10T17:06:39.706Z"
   },
   {
    "duration": 12,
    "start_time": "2021-11-10T17:06:40.292Z"
   },
   {
    "duration": 49,
    "start_time": "2021-11-10T17:06:40.307Z"
   },
   {
    "duration": 361,
    "start_time": "2021-11-10T17:06:40.359Z"
   },
   {
    "duration": 329,
    "start_time": "2021-11-10T17:06:40.722Z"
   },
   {
    "duration": 315,
    "start_time": "2021-11-10T17:06:41.053Z"
   },
   {
    "duration": 689,
    "start_time": "2021-11-10T17:06:41.372Z"
   },
   {
    "duration": 326,
    "start_time": "2021-11-10T17:06:42.064Z"
   },
   {
    "duration": 325,
    "start_time": "2021-11-10T17:06:42.401Z"
   },
   {
    "duration": 387,
    "start_time": "2021-11-10T17:06:42.729Z"
   },
   {
    "duration": 35,
    "start_time": "2021-11-10T17:06:43.119Z"
   },
   {
    "duration": 44,
    "start_time": "2021-11-10T17:06:43.157Z"
   },
   {
    "duration": 13,
    "start_time": "2021-11-10T17:06:43.204Z"
   },
   {
    "duration": 499,
    "start_time": "2021-11-10T17:06:43.220Z"
   },
   {
    "duration": 45,
    "start_time": "2021-11-10T17:06:43.724Z"
   },
   {
    "duration": 64,
    "start_time": "2021-11-10T17:06:43.772Z"
   },
   {
    "duration": 328,
    "start_time": "2021-11-10T17:06:43.838Z"
   },
   {
    "duration": 45,
    "start_time": "2021-11-10T17:06:44.169Z"
   },
   {
    "duration": 106,
    "start_time": "2021-11-10T17:06:44.216Z"
   },
   {
    "duration": 3,
    "start_time": "2021-11-10T17:06:44.321Z"
   },
   {
    "duration": 0,
    "start_time": "2021-11-10T17:06:44.325Z"
   },
   {
    "duration": -5,
    "start_time": "2021-11-10T17:06:44.332Z"
   },
   {
    "duration": -8,
    "start_time": "2021-11-10T17:06:44.336Z"
   },
   {
    "duration": 499,
    "start_time": "2021-11-10T17:07:26.593Z"
   },
   {
    "duration": 1082,
    "start_time": "2021-11-10T17:07:45.721Z"
   },
   {
    "duration": 95,
    "start_time": "2021-11-10T17:07:46.806Z"
   },
   {
    "duration": 15,
    "start_time": "2021-11-10T17:07:46.904Z"
   },
   {
    "duration": 656,
    "start_time": "2021-11-10T17:07:46.921Z"
   },
   {
    "duration": 512,
    "start_time": "2021-11-10T17:07:47.579Z"
   },
   {
    "duration": 531,
    "start_time": "2021-11-10T17:07:48.093Z"
   },
   {
    "duration": 374,
    "start_time": "2021-11-10T17:07:48.626Z"
   },
   {
    "duration": 729,
    "start_time": "2021-11-10T17:07:49.004Z"
   },
   {
    "duration": 596,
    "start_time": "2021-11-10T17:07:49.736Z"
   },
   {
    "duration": 6,
    "start_time": "2021-11-10T17:07:50.335Z"
   },
   {
    "duration": 71,
    "start_time": "2021-11-10T17:07:50.344Z"
   },
   {
    "duration": 354,
    "start_time": "2021-11-10T17:07:50.417Z"
   },
   {
    "duration": 332,
    "start_time": "2021-11-10T17:07:50.774Z"
   },
   {
    "duration": 312,
    "start_time": "2021-11-10T17:07:51.109Z"
   },
   {
    "duration": 776,
    "start_time": "2021-11-10T17:07:51.425Z"
   },
   {
    "duration": 311,
    "start_time": "2021-11-10T17:07:52.204Z"
   },
   {
    "duration": 338,
    "start_time": "2021-11-10T17:07:52.518Z"
   },
   {
    "duration": 382,
    "start_time": "2021-11-10T17:07:52.859Z"
   },
   {
    "duration": 32,
    "start_time": "2021-11-10T17:07:53.244Z"
   },
   {
    "duration": 26,
    "start_time": "2021-11-10T17:07:53.278Z"
   },
   {
    "duration": 15,
    "start_time": "2021-11-10T17:07:53.307Z"
   },
   {
    "duration": 600,
    "start_time": "2021-11-10T17:07:53.324Z"
   },
   {
    "duration": 46,
    "start_time": "2021-11-10T17:07:53.929Z"
   },
   {
    "duration": 62,
    "start_time": "2021-11-10T17:07:53.977Z"
   },
   {
    "duration": 424,
    "start_time": "2021-11-10T17:07:54.041Z"
   },
   {
    "duration": 47,
    "start_time": "2021-11-10T17:07:54.468Z"
   },
   {
    "duration": 93,
    "start_time": "2021-11-10T17:07:54.518Z"
   },
   {
    "duration": 7,
    "start_time": "2021-11-10T17:07:54.607Z"
   },
   {
    "duration": 4,
    "start_time": "2021-11-10T17:07:54.611Z"
   },
   {
    "duration": 4,
    "start_time": "2021-11-10T17:07:54.612Z"
   },
   {
    "duration": 1,
    "start_time": "2021-11-10T17:07:54.617Z"
   },
   {
    "duration": 362,
    "start_time": "2021-11-10T17:10:10.477Z"
   },
   {
    "duration": 1335,
    "start_time": "2021-11-10T17:14:51.020Z"
   },
   {
    "duration": 108,
    "start_time": "2021-11-10T17:14:52.359Z"
   },
   {
    "duration": 15,
    "start_time": "2021-11-10T17:14:52.470Z"
   },
   {
    "duration": 640,
    "start_time": "2021-11-10T17:14:52.502Z"
   },
   {
    "duration": 447,
    "start_time": "2021-11-10T17:14:53.145Z"
   },
   {
    "duration": 445,
    "start_time": "2021-11-10T17:14:53.599Z"
   },
   {
    "duration": 345,
    "start_time": "2021-11-10T17:14:54.046Z"
   },
   {
    "duration": 399,
    "start_time": "2021-11-10T17:14:54.403Z"
   },
   {
    "duration": 615,
    "start_time": "2021-11-10T17:14:54.805Z"
   },
   {
    "duration": 7,
    "start_time": "2021-11-10T17:14:55.422Z"
   },
   {
    "duration": 71,
    "start_time": "2021-11-10T17:14:55.431Z"
   },
   {
    "duration": 361,
    "start_time": "2021-11-10T17:14:55.504Z"
   },
   {
    "duration": 330,
    "start_time": "2021-11-10T17:14:55.867Z"
   },
   {
    "duration": 423,
    "start_time": "2021-11-10T17:14:56.199Z"
   },
   {
    "duration": 660,
    "start_time": "2021-11-10T17:14:56.625Z"
   },
   {
    "duration": 331,
    "start_time": "2021-11-10T17:14:57.288Z"
   },
   {
    "duration": 331,
    "start_time": "2021-11-10T17:14:57.622Z"
   },
   {
    "duration": 513,
    "start_time": "2021-11-10T17:14:57.956Z"
   },
   {
    "duration": 44,
    "start_time": "2021-11-10T17:14:58.471Z"
   },
   {
    "duration": 11,
    "start_time": "2021-11-10T17:14:58.518Z"
   },
   {
    "duration": 14,
    "start_time": "2021-11-10T17:14:58.531Z"
   },
   {
    "duration": 505,
    "start_time": "2021-11-10T17:14:58.548Z"
   },
   {
    "duration": 61,
    "start_time": "2021-11-10T17:14:59.057Z"
   },
   {
    "duration": 43,
    "start_time": "2021-11-10T17:14:59.120Z"
   },
   {
    "duration": 337,
    "start_time": "2021-11-10T17:14:59.166Z"
   },
   {
    "duration": 40,
    "start_time": "2021-11-10T17:14:59.506Z"
   },
   {
    "duration": 95,
    "start_time": "2021-11-10T17:14:59.549Z"
   },
   {
    "duration": 8,
    "start_time": "2021-11-10T17:14:59.638Z"
   },
   {
    "duration": 6,
    "start_time": "2021-11-10T17:14:59.641Z"
   },
   {
    "duration": 5,
    "start_time": "2021-11-10T17:14:59.644Z"
   },
   {
    "duration": 2,
    "start_time": "2021-11-10T17:14:59.648Z"
   },
   {
    "duration": 93,
    "start_time": "2021-11-10T17:23:24.619Z"
   },
   {
    "duration": 267,
    "start_time": "2021-11-10T17:23:32.362Z"
   },
   {
    "duration": 1031,
    "start_time": "2021-11-10T17:23:50.422Z"
   },
   {
    "duration": 110,
    "start_time": "2021-11-10T17:23:51.456Z"
   },
   {
    "duration": 15,
    "start_time": "2021-11-10T17:23:51.569Z"
   },
   {
    "duration": 640,
    "start_time": "2021-11-10T17:23:51.599Z"
   },
   {
    "duration": 428,
    "start_time": "2021-11-10T17:23:52.242Z"
   },
   {
    "duration": 458,
    "start_time": "2021-11-10T17:23:52.673Z"
   },
   {
    "duration": 358,
    "start_time": "2021-11-10T17:23:53.133Z"
   },
   {
    "duration": 606,
    "start_time": "2021-11-10T17:23:53.505Z"
   },
   {
    "duration": 671,
    "start_time": "2021-11-10T17:23:54.115Z"
   },
   {
    "duration": 13,
    "start_time": "2021-11-10T17:23:54.789Z"
   },
   {
    "duration": 48,
    "start_time": "2021-11-10T17:23:54.805Z"
   },
   {
    "duration": 381,
    "start_time": "2021-11-10T17:23:54.856Z"
   },
   {
    "duration": 339,
    "start_time": "2021-11-10T17:23:55.241Z"
   },
   {
    "duration": 300,
    "start_time": "2021-11-10T17:23:55.582Z"
   },
   {
    "duration": 665,
    "start_time": "2021-11-10T17:23:55.885Z"
   },
   {
    "duration": 305,
    "start_time": "2021-11-10T17:23:56.552Z"
   },
   {
    "duration": 420,
    "start_time": "2021-11-10T17:23:56.859Z"
   },
   {
    "duration": 375,
    "start_time": "2021-11-10T17:23:57.282Z"
   },
   {
    "duration": 49,
    "start_time": "2021-11-10T17:23:57.659Z"
   },
   {
    "duration": 11,
    "start_time": "2021-11-10T17:23:57.711Z"
   },
   {
    "duration": 15,
    "start_time": "2021-11-10T17:23:57.725Z"
   },
   {
    "duration": 492,
    "start_time": "2021-11-10T17:23:57.742Z"
   },
   {
    "duration": 63,
    "start_time": "2021-11-10T17:23:58.241Z"
   },
   {
    "duration": 45,
    "start_time": "2021-11-10T17:23:58.307Z"
   },
   {
    "duration": 327,
    "start_time": "2021-11-10T17:23:58.354Z"
   },
   {
    "duration": 46,
    "start_time": "2021-11-10T17:23:58.684Z"
   },
   {
    "duration": 284,
    "start_time": "2021-11-10T17:23:58.733Z"
   },
   {
    "duration": 40,
    "start_time": "2021-11-10T17:23:59.019Z"
   },
   {
    "duration": 478,
    "start_time": "2021-11-10T17:23:59.062Z"
   },
   {
    "duration": 59,
    "start_time": "2021-11-10T17:23:59.543Z"
   },
   {
    "duration": 290,
    "start_time": "2021-11-10T17:23:59.605Z"
   },
   {
    "duration": 327,
    "start_time": "2021-11-10T17:40:32.680Z"
   },
   {
    "duration": 985,
    "start_time": "2021-11-10T17:40:45.358Z"
   },
   {
    "duration": 113,
    "start_time": "2021-11-10T17:40:46.347Z"
   },
   {
    "duration": 17,
    "start_time": "2021-11-10T17:40:46.464Z"
   },
   {
    "duration": 627,
    "start_time": "2021-11-10T17:40:46.484Z"
   },
   {
    "duration": 406,
    "start_time": "2021-11-10T17:40:47.115Z"
   },
   {
    "duration": 439,
    "start_time": "2021-11-10T17:40:47.524Z"
   },
   {
    "duration": 345,
    "start_time": "2021-11-10T17:40:47.966Z"
   },
   {
    "duration": 373,
    "start_time": "2021-11-10T17:40:48.314Z"
   },
   {
    "duration": 575,
    "start_time": "2021-11-10T17:40:48.690Z"
   },
   {
    "duration": 7,
    "start_time": "2021-11-10T17:40:49.268Z"
   },
   {
    "duration": 74,
    "start_time": "2021-11-10T17:40:49.277Z"
   },
   {
    "duration": 345,
    "start_time": "2021-11-10T17:40:49.354Z"
   },
   {
    "duration": 314,
    "start_time": "2021-11-10T17:40:49.701Z"
   },
   {
    "duration": 312,
    "start_time": "2021-11-10T17:40:50.018Z"
   },
   {
    "duration": 661,
    "start_time": "2021-11-10T17:40:50.333Z"
   },
   {
    "duration": 317,
    "start_time": "2021-11-10T17:40:50.996Z"
   },
   {
    "duration": 326,
    "start_time": "2021-11-10T17:40:51.315Z"
   },
   {
    "duration": 386,
    "start_time": "2021-11-10T17:40:51.643Z"
   },
   {
    "duration": 32,
    "start_time": "2021-11-10T17:40:52.031Z"
   },
   {
    "duration": 11,
    "start_time": "2021-11-10T17:40:52.066Z"
   },
   {
    "duration": 11,
    "start_time": "2021-11-10T17:40:52.080Z"
   },
   {
    "duration": 493,
    "start_time": "2021-11-10T17:40:52.094Z"
   },
   {
    "duration": 56,
    "start_time": "2021-11-10T17:40:52.592Z"
   },
   {
    "duration": 41,
    "start_time": "2021-11-10T17:40:52.650Z"
   },
   {
    "duration": 336,
    "start_time": "2021-11-10T17:40:52.693Z"
   },
   {
    "duration": 42,
    "start_time": "2021-11-10T17:40:53.032Z"
   },
   {
    "duration": 277,
    "start_time": "2021-11-10T17:40:53.077Z"
   },
   {
    "duration": 47,
    "start_time": "2021-11-10T17:40:53.356Z"
   },
   {
    "duration": 495,
    "start_time": "2021-11-10T17:40:53.405Z"
   },
   {
    "duration": 50,
    "start_time": "2021-11-10T17:40:53.903Z"
   },
   {
    "duration": 286,
    "start_time": "2021-11-10T17:40:53.956Z"
   },
   {
    "duration": 436,
    "start_time": "2021-11-10T19:43:38.083Z"
   },
   {
    "duration": 376,
    "start_time": "2021-11-10T19:43:47.886Z"
   },
   {
    "duration": 386,
    "start_time": "2021-11-10T19:43:55.512Z"
   },
   {
    "duration": 349,
    "start_time": "2021-11-10T19:44:12.898Z"
   },
   {
    "duration": 578,
    "start_time": "2021-11-10T19:45:36.572Z"
   },
   {
    "duration": 496,
    "start_time": "2021-11-10T19:45:47.846Z"
   },
   {
    "duration": 451,
    "start_time": "2021-11-10T19:47:23.273Z"
   },
   {
    "duration": 471,
    "start_time": "2021-11-10T19:47:48.829Z"
   },
   {
    "duration": 479,
    "start_time": "2021-11-10T19:48:01.759Z"
   },
   {
    "duration": 458,
    "start_time": "2021-11-10T19:48:08.612Z"
   },
   {
    "duration": 364,
    "start_time": "2021-11-10T19:48:46.499Z"
   },
   {
    "duration": 384,
    "start_time": "2021-11-10T19:49:20.934Z"
   },
   {
    "duration": 723,
    "start_time": "2021-11-10T19:49:42.038Z"
   },
   {
    "duration": 646,
    "start_time": "2021-11-10T19:49:51.440Z"
   },
   {
    "duration": 8,
    "start_time": "2021-11-10T19:50:36.406Z"
   },
   {
    "duration": 800,
    "start_time": "2021-11-10T19:51:40.116Z"
   },
   {
    "duration": 634,
    "start_time": "2021-11-10T19:51:44.938Z"
   },
   {
    "duration": 673,
    "start_time": "2021-11-10T19:51:56.220Z"
   },
   {
    "duration": 416,
    "start_time": "2021-11-10T19:52:23.672Z"
   },
   {
    "duration": 389,
    "start_time": "2021-11-10T19:52:28.675Z"
   },
   {
    "duration": 367,
    "start_time": "2021-11-10T19:52:31.611Z"
   },
   {
    "duration": 403,
    "start_time": "2021-11-10T19:52:55.736Z"
   },
   {
    "duration": 365,
    "start_time": "2021-11-10T19:53:00.580Z"
   },
   {
    "duration": 454,
    "start_time": "2021-11-10T19:53:39.696Z"
   },
   {
    "duration": 361,
    "start_time": "2021-11-10T19:53:45.725Z"
   },
   {
    "duration": 378,
    "start_time": "2021-11-10T19:54:08.883Z"
   },
   {
    "duration": 769,
    "start_time": "2021-11-10T19:54:41.900Z"
   },
   {
    "duration": 353,
    "start_time": "2021-11-10T19:55:14.190Z"
   },
   {
    "duration": 439,
    "start_time": "2021-11-10T19:55:30.090Z"
   },
   {
    "duration": 325,
    "start_time": "2021-11-10T19:55:56.267Z"
   },
   {
    "duration": 356,
    "start_time": "2021-11-10T19:56:04.225Z"
   },
   {
    "duration": 383,
    "start_time": "2021-11-10T19:56:26.541Z"
   },
   {
    "duration": 525,
    "start_time": "2021-11-10T19:58:14.442Z"
   },
   {
    "duration": 380,
    "start_time": "2021-11-10T20:03:55.903Z"
   },
   {
    "duration": 43,
    "start_time": "2021-11-10T20:04:10.406Z"
   },
   {
    "duration": 438,
    "start_time": "2021-11-10T20:04:48.574Z"
   },
   {
    "duration": 311,
    "start_time": "2021-11-10T20:05:15.376Z"
   },
   {
    "duration": 567,
    "start_time": "2021-11-10T20:05:53.241Z"
   },
   {
    "duration": 317,
    "start_time": "2021-11-10T20:06:20.060Z"
   },
   {
    "duration": 805,
    "start_time": "2021-11-11T06:55:42.352Z"
   },
   {
    "duration": 66,
    "start_time": "2021-11-11T06:55:43.159Z"
   },
   {
    "duration": 27,
    "start_time": "2021-11-11T06:55:43.227Z"
   },
   {
    "duration": 388,
    "start_time": "2021-11-11T06:55:43.256Z"
   },
   {
    "duration": 345,
    "start_time": "2021-11-11T06:55:43.646Z"
   },
   {
    "duration": 290,
    "start_time": "2021-11-11T06:55:43.993Z"
   },
   {
    "duration": 207,
    "start_time": "2021-11-11T06:55:44.285Z"
   },
   {
    "duration": 237,
    "start_time": "2021-11-11T06:55:44.495Z"
   },
   {
    "duration": 359,
    "start_time": "2021-11-11T06:55:44.734Z"
   },
   {
    "duration": 5,
    "start_time": "2021-11-11T06:55:45.094Z"
   },
   {
    "duration": 44,
    "start_time": "2021-11-11T06:55:45.101Z"
   },
   {
    "duration": 217,
    "start_time": "2021-11-11T06:55:45.147Z"
   },
   {
    "duration": 196,
    "start_time": "2021-11-11T06:55:45.366Z"
   },
   {
    "duration": 201,
    "start_time": "2021-11-11T06:55:45.563Z"
   },
   {
    "duration": 458,
    "start_time": "2021-11-11T06:55:45.766Z"
   },
   {
    "duration": 189,
    "start_time": "2021-11-11T06:55:46.226Z"
   },
   {
    "duration": 199,
    "start_time": "2021-11-11T06:55:46.416Z"
   },
   {
    "duration": 255,
    "start_time": "2021-11-11T06:55:46.617Z"
   },
   {
    "duration": 22,
    "start_time": "2021-11-11T06:55:46.874Z"
   },
   {
    "duration": 7,
    "start_time": "2021-11-11T06:55:46.898Z"
   },
   {
    "duration": 12,
    "start_time": "2021-11-11T06:55:46.907Z"
   },
   {
    "duration": 333,
    "start_time": "2021-11-11T06:55:46.921Z"
   },
   {
    "duration": 28,
    "start_time": "2021-11-11T06:55:47.258Z"
   },
   {
    "duration": 26,
    "start_time": "2021-11-11T06:55:47.288Z"
   },
   {
    "duration": 206,
    "start_time": "2021-11-11T06:55:47.316Z"
   },
   {
    "duration": 34,
    "start_time": "2021-11-11T06:55:47.524Z"
   },
   {
    "duration": 166,
    "start_time": "2021-11-11T06:55:47.559Z"
   },
   {
    "duration": 33,
    "start_time": "2021-11-11T06:55:47.727Z"
   },
   {
    "duration": 339,
    "start_time": "2021-11-11T06:55:47.762Z"
   },
   {
    "duration": 25,
    "start_time": "2021-11-11T06:55:48.104Z"
   },
   {
    "duration": 190,
    "start_time": "2021-11-11T06:55:48.131Z"
   },
   {
    "duration": 48,
    "start_time": "2022-07-16T14:41:39.886Z"
   },
   {
    "duration": 3,
    "start_time": "2022-07-16T14:43:49.601Z"
   },
   {
    "duration": 7,
    "start_time": "2022-07-16T14:44:22.767Z"
   },
   {
    "duration": 3,
    "start_time": "2022-07-16T14:58:40.844Z"
   },
   {
    "duration": 1082,
    "start_time": "2022-07-16T15:05:18.579Z"
   },
   {
    "duration": 66,
    "start_time": "2022-07-16T15:05:19.663Z"
   },
   {
    "duration": 15,
    "start_time": "2022-07-16T15:05:19.730Z"
   },
   {
    "duration": 95,
    "start_time": "2022-07-16T15:05:19.747Z"
   },
   {
    "duration": 0,
    "start_time": "2022-07-16T15:05:19.845Z"
   },
   {
    "duration": 0,
    "start_time": "2022-07-16T15:05:19.846Z"
   },
   {
    "duration": 0,
    "start_time": "2022-07-16T15:05:19.847Z"
   },
   {
    "duration": 0,
    "start_time": "2022-07-16T15:05:19.848Z"
   },
   {
    "duration": 0,
    "start_time": "2022-07-16T15:05:19.850Z"
   },
   {
    "duration": 0,
    "start_time": "2022-07-16T15:05:19.850Z"
   },
   {
    "duration": 0,
    "start_time": "2022-07-16T15:05:19.852Z"
   },
   {
    "duration": 0,
    "start_time": "2022-07-16T15:05:19.853Z"
   },
   {
    "duration": 0,
    "start_time": "2022-07-16T15:05:19.854Z"
   },
   {
    "duration": 0,
    "start_time": "2022-07-16T15:05:19.855Z"
   },
   {
    "duration": 0,
    "start_time": "2022-07-16T15:05:19.856Z"
   },
   {
    "duration": 0,
    "start_time": "2022-07-16T15:05:19.858Z"
   },
   {
    "duration": 0,
    "start_time": "2022-07-16T15:05:19.859Z"
   },
   {
    "duration": 0,
    "start_time": "2022-07-16T15:05:19.860Z"
   },
   {
    "duration": 0,
    "start_time": "2022-07-16T15:05:19.861Z"
   },
   {
    "duration": 0,
    "start_time": "2022-07-16T15:05:19.862Z"
   },
   {
    "duration": 0,
    "start_time": "2022-07-16T15:05:19.863Z"
   },
   {
    "duration": 0,
    "start_time": "2022-07-16T15:05:19.865Z"
   },
   {
    "duration": 0,
    "start_time": "2022-07-16T15:05:19.905Z"
   },
   {
    "duration": 0,
    "start_time": "2022-07-16T15:05:19.907Z"
   },
   {
    "duration": 0,
    "start_time": "2022-07-16T15:05:19.907Z"
   },
   {
    "duration": 0,
    "start_time": "2022-07-16T15:05:19.909Z"
   },
   {
    "duration": 0,
    "start_time": "2022-07-16T15:05:19.910Z"
   },
   {
    "duration": 0,
    "start_time": "2022-07-16T15:05:19.911Z"
   },
   {
    "duration": 0,
    "start_time": "2022-07-16T15:05:19.912Z"
   },
   {
    "duration": 0,
    "start_time": "2022-07-16T15:05:19.913Z"
   },
   {
    "duration": 0,
    "start_time": "2022-07-16T15:05:19.915Z"
   },
   {
    "duration": 0,
    "start_time": "2022-07-16T15:05:19.915Z"
   },
   {
    "duration": 0,
    "start_time": "2022-07-16T15:05:19.916Z"
   },
   {
    "duration": 0,
    "start_time": "2022-07-16T15:05:19.917Z"
   },
   {
    "duration": 230,
    "start_time": "2022-07-16T15:07:49.510Z"
   },
   {
    "duration": 198,
    "start_time": "2022-07-16T15:07:51.261Z"
   },
   {
    "duration": 238,
    "start_time": "2022-07-16T15:07:52.086Z"
   },
   {
    "duration": 180,
    "start_time": "2022-07-16T15:07:52.326Z"
   },
   {
    "duration": 188,
    "start_time": "2022-07-16T15:07:52.546Z"
   },
   {
    "duration": 298,
    "start_time": "2022-07-16T15:07:53.058Z"
   },
   {
    "duration": 5,
    "start_time": "2022-07-16T15:07:53.512Z"
   },
   {
    "duration": 36,
    "start_time": "2022-07-16T15:07:53.994Z"
   },
   {
    "duration": 21,
    "start_time": "2022-07-16T15:07:54.682Z"
   },
   {
    "duration": 149,
    "start_time": "2022-07-16T15:07:55.150Z"
   },
   {
    "duration": 20,
    "start_time": "2022-07-16T15:07:55.634Z"
   },
   {
    "duration": 161,
    "start_time": "2022-07-16T15:07:56.062Z"
   },
   {
    "duration": 30,
    "start_time": "2022-07-16T15:07:56.462Z"
   },
   {
    "duration": 162,
    "start_time": "2022-07-16T15:07:56.875Z"
   },
   {
    "duration": 215,
    "start_time": "2022-07-16T15:07:57.297Z"
   },
   {
    "duration": 186,
    "start_time": "2022-07-16T15:07:57.691Z"
   },
   {
    "duration": 163,
    "start_time": "2022-07-16T15:07:58.157Z"
   },
   {
    "duration": 398,
    "start_time": "2022-07-16T15:08:46.400Z"
   },
   {
    "duration": 190,
    "start_time": "2022-07-16T15:08:48.296Z"
   },
   {
    "duration": 183,
    "start_time": "2022-07-16T15:08:48.760Z"
   },
   {
    "duration": 164,
    "start_time": "2022-07-16T15:08:49.145Z"
   },
   {
    "duration": 185,
    "start_time": "2022-07-16T15:08:49.383Z"
   },
   {
    "duration": 279,
    "start_time": "2022-07-16T15:08:49.839Z"
   },
   {
    "duration": 6,
    "start_time": "2022-07-16T15:08:51.157Z"
   },
   {
    "duration": 32,
    "start_time": "2022-07-16T15:08:51.643Z"
   },
   {
    "duration": 22,
    "start_time": "2022-07-16T15:08:52.542Z"
   },
   {
    "duration": 153,
    "start_time": "2022-07-16T15:08:53.228Z"
   },
   {
    "duration": 23,
    "start_time": "2022-07-16T15:08:54.292Z"
   },
   {
    "duration": 156,
    "start_time": "2022-07-16T15:08:54.942Z"
   },
   {
    "duration": 48,
    "start_time": "2022-07-16T15:08:55.417Z"
   },
   {
    "duration": 150,
    "start_time": "2022-07-16T15:08:56.146Z"
   },
   {
    "duration": 273,
    "start_time": "2022-07-16T15:08:57.040Z"
   },
   {
    "duration": 194,
    "start_time": "2022-07-16T15:09:03.894Z"
   },
   {
    "duration": 185,
    "start_time": "2022-07-16T15:09:07.196Z"
   },
   {
    "duration": 154,
    "start_time": "2022-07-16T15:09:08.190Z"
   },
   {
    "duration": 22,
    "start_time": "2022-07-16T15:09:08.614Z"
   },
   {
    "duration": 10,
    "start_time": "2022-07-16T15:09:09.067Z"
   },
   {
    "duration": 9,
    "start_time": "2022-07-16T15:09:10.242Z"
   },
   {
    "duration": 221,
    "start_time": "2022-07-16T15:09:11.091Z"
   },
   {
    "duration": 35,
    "start_time": "2022-07-16T15:09:12.378Z"
   },
   {
    "duration": 29,
    "start_time": "2022-07-16T15:09:12.851Z"
   },
   {
    "duration": 158,
    "start_time": "2022-07-16T15:09:13.296Z"
   },
   {
    "duration": 26,
    "start_time": "2022-07-16T15:09:13.779Z"
   },
   {
    "duration": 159,
    "start_time": "2022-07-16T15:09:14.242Z"
   },
   {
    "duration": 27,
    "start_time": "2022-07-16T15:09:14.750Z"
   },
   {
    "duration": 170,
    "start_time": "2022-07-16T15:09:15.196Z"
   },
   {
    "duration": 27,
    "start_time": "2022-07-16T15:09:15.698Z"
   },
   {
    "duration": 193,
    "start_time": "2022-07-16T15:09:16.603Z"
   }
  ],
  "kernelspec": {
   "display_name": "Python 3 (ipykernel)",
   "language": "python",
   "name": "python3"
  },
  "language_info": {
   "codemirror_mode": {
    "name": "ipython",
    "version": 3
   },
   "file_extension": ".py",
   "mimetype": "text/x-python",
   "name": "python",
   "nbconvert_exporter": "python",
   "pygments_lexer": "ipython3",
   "version": "3.9.5"
  },
  "toc": {
   "base_numbering": 1,
   "nav_menu": {},
   "number_sections": true,
   "sideBar": true,
   "skip_h1_title": true,
   "title_cell": "Содержание",
   "title_sidebar": "Contents",
   "toc_cell": true,
   "toc_position": {
    "height": "calc(100% - 180px)",
    "left": "10px",
    "top": "150px",
    "width": "165px"
   },
   "toc_section_display": true,
   "toc_window_display": true
  }
 },
 "nbformat": 4,
 "nbformat_minor": 2
}
